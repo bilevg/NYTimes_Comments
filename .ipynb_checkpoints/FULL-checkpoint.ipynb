{
 "cells": [
  {
   "cell_type": "markdown",
   "metadata": {
    "ein.tags": "worksheet-0",
    "slideshow": {
     "slide_type": "-"
    }
   },
   "source": [
    "## A Hacker's Guide to Having Your NYTimes Article Comments Noticed\n",
    "\n",
    "\n",
    "### The problem: predicting the number of upvotes ('recommendations') that a comment posted to an article on the [New York Times](www.nytimes.com) will receive. \n",
    "\n",
    "![Imgur](https://i.imgur.com/Vm9tAsj.png?1)\n",
    "\n",
    "Readers of the [Gray Lady](www.nytimes.com) are able to post comments on articles and react to the comments of others by either upvoting ('Recommend' button) or replying. For a comment-author, recommendations are desirable because they bring about more visibility - recommended comments float up to the top where they are seen by more readers and can receive even more upvotes. Once a comment 'snowballs' it can be seen by potentially millions of readers. Presumably we write comments because we want others to see them.\n",
    "\n",
    "I got curious about what makes some comments rise to the top while most others are completely ignored. [Aashita Kesarwani](https://www.kaggle.com/aashita https://www.kaggle.com/aashita) posted a cool dataset on [Kaggle](www.kaggle.com) of more than 2 million comments geared toward addressing this and similar questions. Be sure to check out the dataset [here](https://www.kaggle.com/aashita/nyt-comments) as well as her wonderful exploratory data analysis of it [here](https://www.kaggle.com/aashita/exploratory-data-analysis-of-comments-on-nyt/data). The data come from two time periods: Jan-May 2017 and Jan-April 2018 and contain features on both the comments (with the full raw text body of each comment) and the more than 9 thousand NYTimes articles the comments were responding to.\n",
    "\n",
    "I like this as a prediction task because it is challenging. Presumably what makes people upvote comments or posts, not just at the Times but also in other social media settings (Reddit, Twitter, FB, etc) is the _meaning_ of the comment - they find it helpful, or funny or simply agree with it and want others to see it too. Since we can't easily quantify 'meaning,' we'll have to rely on some feature engineering in order to get any traction with our predictions. The task is also challenging because we don't know much about the readers who are responding to comments and do not have the full text of the articles. Additionally, some comments are pretty short, so they are not easily amenable to a more complicated language model. After extracting what we can from the features already present in the dataset, we will have to wrangle useful information out of noisy and messy raw text - the body of the comments.\n",
    "\n",
    "The main point to consider here is that we need to set our expectations low, because this is no handwritten digit recognition exercise with 99%+ accuracy. Even a human scorer would probably not do well in terms of predicting upvotes. Consider these two comments, both made in responde to the same article:\n",
    "\n",
    "A. '_Everyone should have walked out.  Spicer could have talked to himself._'\n",
    "\n",
    "B. '_If people are \"alarmed\" and \"appalled\" that Trump did this, followed by his cronies justification of it, then they haven't been paying attention. I'm just surprised he took this long to do it. The story here, the one that people should actually be alarmed and appalled by is that the rest of the press stayed. Brietbart, One America, not so surprising but there is absolutely no excuse for rest to have shown so little respect for the one of the most important and defining features of America... The First Amendment, a free press. To echo Mr Kahn's question to President Trump...have you even read the constitution? Here, let me give you a head start... Amendment I: Congress shall make no law respecting an establishment of religion, or prohibiting the free exercise thereof; or abridging the freedom of speech, or of the press; or the right of the people peaceably to assemble, and to petition the Government for a redress of grievances._'\n",
    "\n",
    "Without any contextual knowledge, I would have guessed that the two comments would be roughly on par or the first one would receive fewer upvotes. They are generally similar in terms of the reaction to the article, though the second comment is longer and contains more information. The reality is quite different: comment A received over 10,000 upvotes and is the most upvoted comment in the entire dataset, while comment B got ... zero upvotes. \n",
    "\n",
    "If you are interested in the takeaways (and one very plausible explanation about the popularity of these two comments, it is not simply brevity!), skip right to the last section. In the sections that follow we will go through the traditional steps of classification, with an emphasis on feature engineering out of the numerical and text data.\n",
    "\n",
    "The original target variable here is a count variable of recommendations. For the artificial purpose of using classification algos and metrics, I will discretize it to four meaningful and roughly equal-sized categories. Since the largest of them is about 29%, this is our prediction baseline: if we simply picked that always, our classification would be accurate 29% of the time.\n",
    "\n",
    "Categories:\n",
    "1. None ~29%\n",
    "2. One or two ~29%\n",
    "3. Three to eight ~23%\n",
    "4. More than eight (up to tens of thousands) ~18%\n",
    "\n",
    "Naturally, you also choose to keep the original target variable (though cropping the right tail of the distribution might be a good idea due to how skewed it is) and rely on regression and metrics such as mean squared error. (In that case, it would probably be most appropriate to use a negative binomial model for the first simple fit, due to the count nature of the data and the fact that zero has meaning.)\n",
    "\n",
    "\n",
    "### Table of contents:\n",
    "1. [Data Loading & Preparation](#data)\n",
    "    1. [Load data files & combine](#dataloading)\n",
    "\t2. [Discretize **recommendations** (target)](#cut)\n",
    "\t3. [Turn categorical to dummies](#todummies)\n",
    "2. [Initial prediction](#initpredict)\n",
    "\t1. [Simple Multinomial Logistic](#logit)\n",
    "\t2. [A bag of classifiers](#classifiers)\n",
    "3. [Feature Engineering](#featureengineering)\n",
    "    1. [Features based on original variables](#originalvars)\n",
    "        1. [Replyupvotes](#reply)\n",
    "        2. [byline](#byline)\n",
    "        3. [Time](#time)\n",
    "    2. [Features based on raw text data](#textdata)\n",
    "        1. [A NYTimes vocabulary & IDF profile](#vocab)\n",
    "\t2. [Basic stats, sentiment analysis, spelling errors & part of speech](#kitchensink)\n",
    "\t3. [Text token features](#texttokens)\n",
    "4. [Training & Re-evaluation](#training)\n",
    "\t1. [Simple Multinomial Logistic](#finallogit)\n",
    "\t2. [A bag of classifiers](#finalclassifiers)\n",
    "5. [Takeaways](#tldr)\n"
   ]
  },
  {
   "cell_type": "markdown",
   "metadata": {
    "ein.tags": "worksheet-0",
    "slideshow": {
     "slide_type": "-"
    }
   },
   "source": [
    "Data loading <a name='dataloading'></a>\n",
    "\n",
    "First, let's prepare the data. We'll load almost all features present in the .csv files in their original shapes into a large dataframe, drop features that cannot be useful (too many missing cases) and convert the categorical features to dummies. This will enable us to do a first-cut prediction without  feature engineering - almost as if we know nothing about the dataset and are doing a blind prediction. 'Almost' because we will deliberately exclude one feature that is surely related to the target - the number of replies a comment has received (**replyCount**). We would expect this to be an effect (consequence), rather than a cause of the number of upvotes - upvoted comments are highly visible and therefore much more likely to receive replies.\n",
    "\n",
    "We will initially ignore the raw text features (body of comments and keywords of the article) but keep them for later. Finally, to speed up our work here, we will take a random sample of about 10% of the cases (sometimes called 'dev set'). \n",
    "\n",
    "Load libraries and already-downloaded data first. There are two separate sets of files, the first containing comments and comment-features and the second containing features about the articles. We read in all of the data, merge them into one Pandas Dataframe where each row is a comment and eliminate all duplicates. \n",
    "                              \n"
   ]
  },
  {
   "cell_type": "code",
   "execution_count": 2,
   "metadata": {
    "autoscroll": false,
    "collapsed": false,
    "ein.hycell": false,
    "ein.tags": "worksheet-0",
    "slideshow": {
     "slide_type": "-"
    }
   },
   "outputs": [],
   "source": [
    "import glob\n",
    "import pandas as pd\n",
    "import numpy as np\n",
    "import calendar\n",
    "import warnings\n",
    "import matplotlib as mpl\n",
    "import matplotlib.pyplot as plt\n",
    "import seaborn as sns\n",
    "from sklearn.feature_extraction.text import CountVectorizer\n",
    "from sklearn.feature_extraction.text import TfidfVectorizer\n",
    "# set a few options:\n",
    "sns.set(style='whitegrid')\n",
    "warnings.filterwarnings(\"ignore\")\n",
    "pd.options.display.max_colwidth = 100\n",
    "%matplotlib inline\n",
    "# Kernel to predict upvotes ('recommendations' as target); will cut into intervals to turn this into a classification exercise\n",
    "\n",
    "# IDEAS for features:\n",
    "# Time of approval (earlier is better)\n",
    "# sentiment (positive-negative)\n",
    "# vocabulary sophistication!\n",
    "# origin/source\n",
    "# printPage\n",
    "# comment word count\n",
    "# article word count\n",
    "# average sentence length\n",
    "# maximum sentence length\n",
    "# is a reply - using (inReplyTo) a popular comment!\n",
    "# relevance: # of words in article that are in comment\n",
    "# day of the week and hour comment was published?\n",
    "# day of the week the original article was published\n",
    "# nltk - use sentence splitter and tokenizer? (for average sentence length)\n",
    "# editorsSelection - selected by editor or not\n",
    "\n"
   ]
  },
  {
   "cell_type": "markdown",
   "metadata": {
    "ein.tags": "worksheet-0",
    "slideshow": {
     "slide_type": "-"
    }
   },
   "source": [
    "1. Load data files & combine <a name='dataloading'></a>"
   ]
  },
  {
   "cell_type": "code",
   "execution_count": 1,
   "metadata": {
    "autoscroll": false,
    "collapsed": false,
    "ein.hycell": false,
    "ein.tags": "worksheet-0",
    "slideshow": {
     "slide_type": "-"
    }
   },
   "outputs": [
    {
     "ename": "NameError",
     "evalue": "name 'glob' is not defined",
     "output_type": "error",
     "traceback": [
      "\u001b[0;31m---------------------------------------------------------------------------\u001b[0m",
      "\u001b[0;31mNameError\u001b[0m                                 Traceback (most recent call last)",
      "\u001b[0;32m<ipython-input-1-e2a9e7673299>\u001b[0m in \u001b[0;36m<module>\u001b[0;34m()\u001b[0m\n\u001b[1;32m     11\u001b[0m \u001b[0;34m\u001b[0m\u001b[0m\n\u001b[1;32m     12\u001b[0m \u001b[0;31m# read in the articles files\u001b[0m\u001b[0;34m\u001b[0m\u001b[0;34m\u001b[0m\u001b[0m\n\u001b[0;32m---> 13\u001b[0;31m \u001b[0mdf_articles\u001b[0m \u001b[0;34m=\u001b[0m \u001b[0mread_files\u001b[0m\u001b[0;34m(\u001b[0m\u001b[0;34m'Articles'\u001b[0m\u001b[0;34m)\u001b[0m\u001b[0;34m\u001b[0m\u001b[0m\n\u001b[0m\u001b[1;32m     14\u001b[0m \u001b[0;34m\u001b[0m\u001b[0m\n\u001b[1;32m     15\u001b[0m \u001b[0;31m# brief look inside:\u001b[0m\u001b[0;34m\u001b[0m\u001b[0;34m\u001b[0m\u001b[0m\n",
      "\u001b[0;32m<ipython-input-1-e2a9e7673299>\u001b[0m in \u001b[0;36mread_files\u001b[0;34m(string, path)\u001b[0m\n\u001b[1;32m      2\u001b[0m \u001b[0;32mdef\u001b[0m \u001b[0mread_files\u001b[0m\u001b[0;34m(\u001b[0m\u001b[0mstring\u001b[0m\u001b[0;34m=\u001b[0m\u001b[0;34m'Articles'\u001b[0m\u001b[0;34m,\u001b[0m \u001b[0mpath\u001b[0m\u001b[0;34m=\u001b[0m\u001b[0;34m'./Data/'\u001b[0m\u001b[0;34m)\u001b[0m\u001b[0;34m:\u001b[0m\u001b[0;34m\u001b[0m\u001b[0m\n\u001b[1;32m      3\u001b[0m     \u001b[0;34m'''Read .csv files starting with string and concat them into a pd.DataFrame'''\u001b[0m\u001b[0;34m\u001b[0m\u001b[0m\n\u001b[0;32m----> 4\u001b[0;31m     \u001b[0mfiles\u001b[0m \u001b[0;34m=\u001b[0m \u001b[0mglob\u001b[0m\u001b[0;34m.\u001b[0m\u001b[0mglob\u001b[0m\u001b[0;34m(\u001b[0m\u001b[0mpath\u001b[0m \u001b[0;34m+\u001b[0m \u001b[0mstring\u001b[0m \u001b[0;34m+\u001b[0m \u001b[0;34m'*.csv'\u001b[0m\u001b[0;34m)\u001b[0m\u001b[0;34m\u001b[0m\u001b[0m\n\u001b[0m\u001b[1;32m      5\u001b[0m     \u001b[0mlist_dfs\u001b[0m \u001b[0;34m=\u001b[0m \u001b[0;34m[\u001b[0m\u001b[0;34m]\u001b[0m\u001b[0;34m\u001b[0m\u001b[0m\n\u001b[1;32m      6\u001b[0m     \u001b[0;32mfor\u001b[0m \u001b[0mcsv\u001b[0m \u001b[0;32min\u001b[0m \u001b[0mfiles\u001b[0m\u001b[0;34m:\u001b[0m\u001b[0;34m\u001b[0m\u001b[0m\n",
      "\u001b[0;31mNameError\u001b[0m: name 'glob' is not defined"
     ]
    }
   ],
   "source": [
    "# small function to read all .csv files containing a string\n",
    "def read_files(string='Articles', path='./Data/'):\n",
    "    '''Read .csv files starting with string and concat them into a pd.DataFrame'''\n",
    "    files = glob.glob(path + string + '*.csv')\n",
    "    list_dfs = []\n",
    "    for csv in files:\n",
    "        df_ = pd.read_csv(csv)\n",
    "        list_dfs.append(df_)\n",
    "    return pd.concat(list_dfs)\n",
    "\n",
    "\n",
    "# read in the articles files\n",
    "df_articles = read_files('Articles')\n",
    "\n",
    "# brief look inside:\n",
    "print(df_articles.info())\n",
    "\n",
    "# Leave only features which are not already present in the comments data, do not have too many missing values and could potentially be useful (poked around a bit)\n",
    "useful_columns = ['articleID',\n",
    "                  'byline',\n",
    "                  'headline',\n",
    "                  'keywords',\n",
    "                  'pubDate',\n",
    "                  'snippet',\n",
    "                  'documentType'\n",
    "                  ]\n",
    "\n",
    "df_articles = df_articles[useful_columns]\n",
    "print(df_articles.info())"
   ]
  },
  {
   "cell_type": "markdown",
   "metadata": {
    "ein.tags": "worksheet-0",
    "slideshow": {
     "slide_type": "-"
    }
   },
   "source": [
    "Do the same for the comments files, merge the two into one DataFrame and drop all duplicates:\n"
   ]
  },
  {
   "cell_type": "code",
   "execution_count": 3,
   "metadata": {
    "autoscroll": false,
    "collapsed": false,
    "ein.hycell": false,
    "ein.tags": "worksheet-0",
    "slideshow": {
     "slide_type": "-"
    }
   },
   "outputs": [
    {
     "name": "stdout",
     "output_type": "stream",
     "text": [
      "<class 'pandas.core.frame.DataFrame'>\n",
      "Int64Index: 2176364 entries, 0 to 264923\n",
      "Data columns (total 34 columns):\n",
      "approveDate              int64\n",
      "articleID                object\n",
      "articleWordCount         float64\n",
      "commentBody              object\n",
      "commentID                float64\n",
      "commentSequence          float64\n",
      "commentTitle             object\n",
      "commentType              object\n",
      "createDate               float64\n",
      "depth                    float64\n",
      "editorsSelection         int64\n",
      "inReplyTo                float64\n",
      "newDesk                  object\n",
      "parentID                 float64\n",
      "parentUserDisplayName    object\n",
      "permID                   object\n",
      "picURL                   object\n",
      "printPage                float64\n",
      "recommendations          float64\n",
      "recommendedFlag          float64\n",
      "replyCount               float64\n",
      "reportAbuseFlag          float64\n",
      "sectionName              object\n",
      "sharing                  int64\n",
      "status                   object\n",
      "timespeople              float64\n",
      "trusted                  float64\n",
      "typeOfMaterial           object\n",
      "updateDate               int64\n",
      "userDisplayName          object\n",
      "userID                   float64\n",
      "userLocation             object\n",
      "userTitle                object\n",
      "userURL                  object\n",
      "dtypes: float64(15), int64(4), object(15)\n",
      "memory usage: 581.2+ MB\n",
      "None\n"
     ]
    },
    {
     "name": "stdout",
     "output_type": "stream",
     "text": [
      "(2086862, 40)\n"
     ]
    }
   ],
   "source": [
    "# read in the Comments files (large-ish, 500M+)\n",
    "df_comments = read_files('Comments')\n",
    "print(df_comments.info())\n",
    "# join the two by articleID; drop the comments that are not associated with articles\n",
    "df = pd.merge(df_comments, df_articles, how='inner',\n",
    "              on='articleID')\n",
    "# drop duplicate comments\n",
    "df.drop_duplicates(subset='commentID', inplace=True)\n",
    "print(df.shape)\n",
    "df.reset_index(drop=True, inplace=True)\n"
   ]
  },
  {
   "cell_type": "markdown",
   "metadata": {
    "ein.tags": "worksheet-0",
    "slideshow": {
     "slide_type": "-"
    }
   },
   "source": [
    "Count missing values and drop the features if there are too many (> 1 mln) missing. We can come back later and try to extract useful information from them."
   ]
  },
  {
   "cell_type": "code",
   "execution_count": 4,
   "metadata": {
    "autoscroll": false,
    "collapsed": false,
    "ein.hycell": false,
    "ein.tags": "worksheet-0",
    "slideshow": {
     "slide_type": "-"
    }
   },
   "outputs": [
    {
     "name": "stdout",
     "output_type": "stream",
     "text": [
      "approveDate                    0\n",
      "articleID                      0\n",
      "articleWordCount               0\n",
      "commentBody                    0\n",
      "commentID                      0\n",
      "commentSequence                0\n",
      "commentTitle               73979\n",
      "commentType                    0\n",
      "createDate                     0\n",
      "depth                          0\n",
      "editorsSelection               0\n",
      "inReplyTo                      0\n",
      "newDesk                        0\n",
      "parentID                       0\n",
      "parentUserDisplayName    1528830\n",
      "permID                        22\n",
      "picURL                         0\n",
      "printPage                      0\n",
      "recommendations                0\n",
      "recommendedFlag          2086862\n",
      "replyCount                     0\n",
      "reportAbuseFlag          2086862\n",
      "sectionName               149613\n",
      "sharing                        0\n",
      "status                         0\n",
      "timespeople                    0\n",
      "trusted                        0\n",
      "typeOfMaterial                 0\n",
      "updateDate                     0\n",
      "userDisplayName              641\n",
      "userID                         0\n",
      "userLocation                 480\n",
      "userTitle                2086552\n",
      "userURL                  2086841\n",
      "byline                         0\n",
      "headline                       0\n",
      "keywords                       0\n",
      "pubDate                        0\n",
      "snippet                        0\n",
      "documentType                   0\n",
      "dtype: int64\n"
     ]
    },
    {
     "name": "stdout",
     "output_type": "stream",
     "text": [
      "(2086862, 35)\n"
     ]
    }
   ],
   "source": [
    "print(df.isnull().sum())\n",
    "\n",
    "# several features are missing for most or all cases, drop them\n",
    "df = df.loc[:, df.isnull().sum() < 10**6]\n",
    "print(df.shape)"
   ]
  },
  {
   "cell_type": "markdown",
   "metadata": {
    "ein.tags": "worksheet-0",
    "slideshow": {
     "slide_type": "-"
    }
   },
   "source": [
    "discretizing the target variable <a name='cut'></a>\n",
    "\n",
    "Next, look at the target (**Recommendations**) and turn it into four categories for classification. The original variable is a count heavily slanted toward zero:"
   ]
  },
  {
   "cell_type": "code",
   "execution_count": 5,
   "metadata": {
    "autoscroll": false,
    "collapsed": false,
    "ein.hycell": false,
    "ein.tags": "worksheet-0",
    "slideshow": {
     "slide_type": "-"
    }
   },
   "outputs": [
    {
     "data": {
      "text/plain": [
       "<matplotlib.axes._subplots.AxesSubplot at 0x7fd98a73f9b0>"
      ]
     },
     "execution_count": 5,
     "metadata": {},
     "output_type": "execute_result"
    },
    {
     "data": {
      "image/png": "[encoded data removed]",
      "text/plain": [
       "<Figure size 432x288 with 1 Axes>"
      ]
     },
     "metadata": {},
     "output_type": "display_data"
    }
   ],
   "source": [
    "# Target is recommendations, heavily slanted distribution\n",
    "sns.distplot(df.recommendations.loc[df.recommendations < 30])"
   ]
  },
  {
   "cell_type": "markdown",
   "metadata": {
    "ein.tags": "worksheet-0",
    "slideshow": {
     "slide_type": "-"
    }
   },
   "source": [
    "Take a look at the bottom of the distribution, dominated by zeros:"
   ]
  },
  {
   "cell_type": "code",
   "execution_count": 6,
   "metadata": {
    "autoscroll": false,
    "collapsed": false,
    "ein.hycell": false,
    "ein.tags": "worksheet-0",
    "slideshow": {
     "slide_type": "-"
    }
   },
   "outputs": [
    {
     "name": "stdout",
     "output_type": "stream",
     "text": [
      "0.0    385013\n",
      "1.0    278544\n",
      "2.0    209162\n",
      "3.0    162014\n",
      "4.0    127792\n",
      "5.0    103044\n",
      "6.0     84626\n",
      "7.0     71178\n",
      "8.0     60258\n",
      "9.0     51066\n",
      "Name: recommendations, dtype: int64\n"
     ]
    }
   ],
   "source": [
    "print(df.recommendations.value_counts().head(10))"
   ]
  },
  {
   "cell_type": "markdown",
   "metadata": {
    "ein.tags": "worksheet-0",
    "slideshow": {
     "slide_type": "-"
    }
   },
   "source": [
    "and the top:"
   ]
  },
  {
   "cell_type": "code",
   "execution_count": 7,
   "metadata": {
    "autoscroll": false,
    "collapsed": false,
    "ein.hycell": false,
    "ein.tags": "worksheet-0",
    "slideshow": {
     "slide_type": "-"
    }
   },
   "outputs": [
    {
     "data": {
      "text/plain": [
       "1144824     7709.0\n1689041     7938.0\n1336725     8124.0\n492845      8125.0\n100287      8160.0\n1336745     8514.0\n174774      8639.0\n1936249     8713.0\n1095256     9279.0\n174791     10472.0\nName: recommendations, dtype: float64"
      ]
     },
     "execution_count": 7,
     "metadata": {},
     "output_type": "execute_result"
    }
   ],
   "source": [
    "df.recommendations.sort_values().tail(10)"
   ]
  },
  {
   "cell_type": "markdown",
   "metadata": {
    "ein.tags": "worksheet-0",
    "slideshow": {
     "slide_type": "-"
    }
   },
   "source": [
    "So the vast majority have fewer than 15 upvotes and there are only a handful with over 6000. Let's slice the variable into four roughly equal sized categories, and rename it to **recs**. We also change it to an _int_ that ranges 1 to 4 in order to make throwing it into a variety of models a bit easier (including multinomial logistic regression). (The alternative is a labeled categorical variable)"
   ]
  },
  {
   "cell_type": "code",
   "execution_count": 8,
   "metadata": {
    "autoscroll": false,
    "collapsed": false,
    "ein.hycell": false,
    "ein.tags": "worksheet-0",
    "slideshow": {
     "slide_type": "-"
    }
   },
   "outputs": [
    {
     "name": "stdout",
     "output_type": "stream",
     "text": [
      "[3, 9)         0.292\n",
      "[9, 100000)    0.290\n",
      "[1, 3)         0.234\n",
      "[0, 1)         0.184\n",
      "Name: reclabels, dtype: float64\n"
     ]
    }
   ],
   "source": [
    "# cut the interval into 4 bins\n",
    "df['reclabels'] = pd.cut(df.recommendations, bins=(0, 1, 3, 9, 100000),\n",
    "                    include_lowest=True, right=False)\n",
    "print(df.reclabels.value_counts(normalize=True).round(3))\n",
    "# change it to int\n",
    "df['recs'] = df.reclabels.cat.codes\n"
   ]
  },
  {
   "cell_type": "markdown",
   "metadata": {
    "ein.tags": "worksheet-0",
    "slideshow": {
     "slide_type": "-"
    }
   },
   "source": [
    "The distribution of the new categorical variable looks much more balanced:"
   ]
  },
  {
   "cell_type": "code",
   "execution_count": 9,
   "metadata": {
    "autoscroll": false,
    "collapsed": false,
    "ein.hycell": false,
    "ein.tags": "worksheet-0",
    "slideshow": {
     "slide_type": "-"
    }
   },
   "outputs": [
    {
     "data": {
      "text/plain": [
       "<matplotlib.axes._subplots.AxesSubplot at 0x7fd980acac18>"
      ]
     },
     "execution_count": 9,
     "metadata": {},
     "output_type": "execute_result"
    },
    {
     "data": {
      "image/png": "[encoded data removed]",
      "text/plain": [
       "<Figure size 432x288 with 1 Axes>"
      ]
     },
     "metadata": {},
     "output_type": "display_data"
    }
   ],
   "source": [
    "sns.countplot(df.recs)\n",
    "\n"
   ]
  },
  {
   "cell_type": "markdown",
   "metadata": {
    "ein.tags": "worksheet-0",
    "slideshow": {
     "slide_type": "-"
    }
   },
   "source": [
    "Turn categorical to dummies <a name='todummies'></a>\n",
    "\n",
    "We'll do it using a wrapper around the useful Pandas function **get_dummies**. (There is an analogous function in Sklearn.) Note the fact that we drop one (usually the first) category in order to prevent colinearity issues (at least in the case of Logistic Regression for example). Look at non-numeric features:"
   ]
  },
  {
   "cell_type": "code",
   "execution_count": 10,
   "metadata": {
    "autoscroll": false,
    "collapsed": false,
    "ein.hycell": false,
    "ein.tags": "worksheet-0",
    "slideshow": {
     "slide_type": "-"
    }
   },
   "outputs": [
    {
     "name": "stdout",
     "output_type": "stream",
     "text": [
      "<class 'pandas.core.frame.DataFrame'>\n",
      "RangeIndex: 2086862 entries, 0 to 2086861\n",
      "Data columns (total 18 columns):\n",
      "articleID          object\n",
      "commentBody        object\n",
      "commentTitle       object\n",
      "commentType        object\n",
      "newDesk            object\n",
      "permID             object\n",
      "picURL             object\n",
      "sectionName        object\n",
      "status             object\n",
      "typeOfMaterial     object\n",
      "userDisplayName    object\n",
      "userLocation       object\n",
      "byline             object\n",
      "headline           object\n",
      "keywords           object\n",
      "pubDate            object\n",
      "snippet            object\n",
      "documentType       object\n",
      "dtypes: object(18)\n",
      "memory usage: 286.6+ MB\n"
     ]
    }
   ],
   "source": [
    "df.select_dtypes(include='object').info()"
   ]
  },
  {
   "cell_type": "markdown",
   "metadata": {
    "ein.tags": "worksheet-0",
    "slideshow": {
     "slide_type": "-"
    }
   },
   "source": [
    "Of these we'll pick the potentially useful ones and leave the raw text features (**byline**, **headline**, **keywords**, and **commentBody**) for now. One of the categorical variables in the dataset (whether or not the comment has been recommended by the NYTimes staff, **editorsSelection**) is really coded as _int_, so we include it here. We'll also ignore several features (such as **userLocation** and **userDisplayName**) for now, which contain quite a bit of noise, though they could be utilized later."
   ]
  },
  {
   "cell_type": "code",
   "execution_count": 11,
   "metadata": {
    "autoscroll": false,
    "collapsed": false,
    "ein.hycell": false,
    "ein.tags": "worksheet-0",
    "slideshow": {
     "slide_type": "-"
    }
   },
   "outputs": [
    {
     "name": "stdout",
     "output_type": "stream",
     "text": [
      "(2086862, 121)\n",
      "<class 'pandas.core.frame.DataFrame'>\n",
      "RangeIndex: 2086862 entries, 0 to 2086861\n",
      "Columns: 121 entries, editorsSelection_1 to documentType_blogpost\n",
      "dtypes: uint8(121)\n",
      "memory usage: 240.8 MB\n",
      "None\n"
     ]
    }
   ],
   "source": [
    "# one hot encoding function for categorical\n",
    "def OneHotEncoding(list_of_variables, data=df):\n",
    "    '''One-hot-encodes a list of string (categorical) variables from a dataframe\n",
    "    into binary features for modeling. It drops the last category to prevent colinearity problems (reference category).\n",
    "    Outputs a dataframe the same number of rows as original df.'''\n",
    "    new_df = []\n",
    "    for var in list_of_variables:\n",
    "        new_df.append(pd.get_dummies(\n",
    "            data[var],\n",
    "            drop_first=True,\n",
    "            prefix=(var)))\n",
    "    return pd.concat(new_df, axis=1)\n",
    "\n",
    "# \n",
    "list_of_categorical = ['editorsSelection',\n",
    "                       'newDesk',\n",
    "                       'sectionName',\n",
    "                       'typeOfMaterial',\n",
    "                       'commentType',\n",
    "                       'documentType'\n",
    "]\n",
    "\n",
    "\n",
    "df_temp = OneHotEncoding(list_of_categorical, data=df)\n",
    "print(df_temp.shape)\n",
    "print(df_temp.info())\n"
   ]
  },
  {
   "cell_type": "markdown",
   "metadata": {
    "ein.tags": "worksheet-0",
    "slideshow": {
     "slide_type": "-"
    }
   },
   "source": [
    "And let's grab the numeric features which could be meaningful and combine into a new dataframe. These are most if not all of the numerical features which could be related to the target: length measured in words of the article, page of the newspaper it appeared on, whether the author of the comments is a member of the NYTimes staff and so on. Again, we will not include the number of responses a comment has received as that should be a consequence, rather than a predictor of upvotes."
   ]
  },
  {
   "cell_type": "code",
   "execution_count": 12,
   "metadata": {
    "autoscroll": false,
    "collapsed": false,
    "ein.hycell": false,
    "ein.tags": "worksheet-0",
    "slideshow": {
     "slide_type": "-"
    }
   },
   "outputs": [
    {
     "name": "stdout",
     "output_type": "stream",
     "text": [
      "(2086862, 129)\n"
     ]
    }
   ],
   "source": [
    "list_of_numeric = ['approveDate',\n",
    "                   'articleWordCount',\n",
    "                   'depth',\n",
    "                   'printPage',\n",
    "                   'timespeople',\n",
    "                   'trusted',\n",
    "                   'sharing',\n",
    "                   'recs'\n",
    "]\n",
    "# combine the two types of features\n",
    "X_full = pd.concat([df_temp, df[list_of_numeric]], axis=1)\n",
    "X_full.reset_index(drop=True, inplace=True)\n",
    "del df_temp\n",
    "print(X_full.shape)\n",
    "\n"
   ]
  },
  {
   "cell_type": "markdown",
   "metadata": {
    "ein.tags": "worksheet-0",
    "slideshow": {
     "slide_type": "-"
    }
   },
   "source": [
    "One last housekeeping chore: the raw text of the comment bodies, which we will use later, contain some html markup which we should remove (as suggested by the original author of the dataset). We do that with a simple wrapper:"
   ]
  },
  {
   "cell_type": "code",
   "execution_count": 13,
   "metadata": {
    "autoscroll": false,
    "collapsed": false,
    "ein.hycell": false,
    "ein.tags": "worksheet-0",
    "slideshow": {
     "slide_type": "-"
    }
   },
   "outputs": [],
   "source": [
    "# This list of artfects to remove is from the original dataset exploration post by Aashita Kesarwani https://www.kaggle.com/aashita/exploratory-data-analysis-of-comments-on-nyt/code\n",
    "replacements = {\"(<br/>)\": \"\",\n",
    "                \"(<br/>)\": \"\",\n",
    "                '(<a).*(>).*(</a>)': '',\n",
    "                '(&amp)': '',\n",
    "                '(&gt)': '',\n",
    "                '(&gt)': '',\n",
    "                '(&lt)': '',\n",
    "                '(\\xa0)': ' ',\n",
    "                }\n",
    "\n",
    "\n",
    "def preprocess(commentBody):\n",
    "    '''Function to clean up the body of comments by removing artefacts'''\n",
    "    for pattern, replacement in replacements.items():\n",
    "        commentBody = commentBody.str.replace(pattern, replacement)\n",
    "    return commentBody\n",
    "\n",
    "\n",
    "# clean up the comments\n",
    "df['commentBody'] = preprocess(df.commentBody)\n"
   ]
  },
  {
   "cell_type": "markdown",
   "metadata": {
    "ein.tags": "worksheet-0",
    "slideshow": {
     "slide_type": "-"
    }
   },
   "source": [
    "To wrap up the data loading, let's create a smaller dev set (only 5% or about 100K comments) that we can play with without waiting for long executions. We'll keep the index so that we may pull more features from the full dataset later."
   ]
  },
  {
   "cell_type": "code",
   "execution_count": 14,
   "metadata": {
    "autoscroll": false,
    "collapsed": false,
    "ein.hycell": false,
    "ein.tags": "worksheet-0",
    "slideshow": {
     "slide_type": "-"
    }
   },
   "outputs": [
    {
     "name": "stdout",
     "output_type": "stream",
     "text": [
      "<class 'pandas.core.frame.DataFrame'>\n",
      "RangeIndex: 2086862 entries, 0 to 2086861\n",
      "Columns: 129 entries, editorsSelection_1 to recs\n",
      "dtypes: float64(5), int64(2), int8(1), uint8(121)\n",
      "memory usage: 354.3 MB\n",
      "None\n",
      "(2086862, 129)\n"
     ]
    }
   ],
   "source": [
    "# dev_set_size = .05\n",
    "# dev_set_index = X_full.sample(frac=dev_set_size, random_state=12).index\n",
    "# X = X_full.loc[dev_set_index, :]\n",
    "X = X_full\n",
    "print(X.info())\n",
    "print(X.shape)\n"
   ]
  },
  {
   "cell_type": "markdown",
   "metadata": {
    "ein.tags": "worksheet-0",
    "slideshow": {
     "slide_type": "-"
    }
   },
   "source": [
    "Initial prediction <a name='initpredict'></a>\n",
    "\n",
    "First, let's load the libraries we will use for this and try to fit a simple multinomial logistic model. To fit the logistic regression we will need to remove features that have no variance (rare categories that end up with no examples because of our reduced sample, for example) or are extremely highly correlated with other features. Both of these pose problems for the simple logistic model (extreme or perfect multicolinearity) and are generally not going to contribute much to the prediction anyway.\n"
   ]
  },
  {
   "cell_type": "code",
   "execution_count": 3,
   "metadata": {
    "autoscroll": false,
    "collapsed": false,
    "ein.hycell": false,
    "ein.tags": "worksheet-0",
    "slideshow": {
     "slide_type": "-"
    }
   },
   "outputs": [],
   "source": [
    "from scipy import stats\n",
    "from sklearn.linear_model import LogisticRegression, RidgeClassifier\n",
    "from sklearn.ensemble import RandomForestClassifier\n",
    "from sklearn.neighbors import KNeighborsClassifier\n",
    "from sklearn.preprocessing import StandardScaler, label_binarize\n",
    "from sklearn.preprocessing import PolynomialFeatures\n",
    "from sklearn.pipeline import Pipeline, make_pipeline, FeatureUnion\n",
    "from sklearn.decomposition import PCA\n",
    "from sklearn.model_selection import cross_val_score, GridSearchCV, train_test_split\n",
    "from sklearn.feature_selection import RFECV\n",
    "from sklearn.metrics import accuracy_score, classification_report, confusion_matrix, roc_auc_score\n",
    "import statsmodels.api as st\n",
    "from xgboost.sklearn import XGBClassifier\n",
    "import xgboost\n",
    "scaler_standard = StandardScaler()\n",
    "################################################################################\n",
    "\n"
   ]
  },
  {
   "cell_type": "markdown",
   "metadata": {
    "ein.tags": "worksheet-0",
    "slideshow": {
     "slide_type": "-"
    }
   },
   "source": [
    "Next, let's create a simple function that reports the highest correlations within a dataset. We need it in order to eliminate features that are highly correlated and we'll be using it during the feature creation phase."
   ]
  },
  {
   "cell_type": "code",
   "execution_count": 4,
   "metadata": {
    "autoscroll": false,
    "collapsed": false,
    "ein.hycell": false,
    "ein.tags": "worksheet-0",
    "slideshow": {
     "slide_type": "-"
    }
   },
   "outputs": [],
   "source": [
    "def top_correlations(df, n=20, abbreviate=True):\n",
    "    '''Display top n correlations less than 1 from a pd.DataFrame'''\n",
    "    original_names = df.columns\n",
    "    if abbreviate:\n",
    "        df.columns = [str(x)[:25] + '...' if len(x) >\n",
    "                      25 else x for x in original_names]\n",
    "    corrs = df.corr().unstack()\n",
    "    corrs = corrs.reindex(corrs.abs().sort_values(ascending=False).index)\n",
    "    corrs = corrs[corrs != 1]\n",
    "    df.columns = original_names\n",
    "    return corrs.iloc[::2].head(n)\n",
    "\n",
    "# top_correlations(X)"
   ]
  },
  {
   "cell_type": "markdown",
   "metadata": {
    "ein.tags": "worksheet-0",
    "slideshow": {
     "slide_type": "-"
    }
   },
   "source": [
    "Evidently many of the section and news desk categories largely overlap. Also, the feature **depth** which measures whether a comment is a reply to another comment or a reply to a reply, etc (level 1 is an original comment, level 2 is a response and so on) unsurprisingly overlaps with the 'userReply' value of **commentType**. For now we'll solve this be eliminating one of each pair, preferring to keep the more informative feature **depth** and eliminating all **newDesk** features, as the original variable has more missing values."
   ]
  },
  {
   "cell_type": "code",
   "execution_count": 10,
   "metadata": {
    "autoscroll": false,
    "collapsed": false,
    "ein.hycell": false,
    "ein.tags": "worksheet-0",
    "slideshow": {
     "slide_type": "-"
    }
   },
   "outputs": [
    {
     "ename": "KeyError",
     "evalue": "\"labels ['commentType_userReply' 'typeOfMaterial_Op-Ed'] not contained in axis\"",
     "output_type": "error",
     "traceback": [
      "\u001b[0;31m---------------------------------------------------------------------------\u001b[0m",
      "\u001b[0;31mKeyError\u001b[0m                                  Traceback (most recent call last)",
      "\u001b[0;32m<ipython-input-10-e658da6ef829>\u001b[0m in \u001b[0;36m<module>\u001b[0;34m()\u001b[0m\n\u001b[1;32m      1\u001b[0m X = X.drop(['commentType_userReply',\n\u001b[1;32m      2\u001b[0m             'typeOfMaterial_Op-Ed'],        \n\u001b[0;32m----> 3\u001b[0;31m            axis=1)\n\u001b[0m\u001b[1;32m      4\u001b[0m \u001b[0mX\u001b[0m \u001b[0;34m=\u001b[0m \u001b[0mX\u001b[0m\u001b[0;34m.\u001b[0m\u001b[0mdrop\u001b[0m\u001b[0;34m(\u001b[0m\u001b[0mlist\u001b[0m\u001b[0;34m(\u001b[0m\u001b[0mX\u001b[0m\u001b[0;34m.\u001b[0m\u001b[0mfilter\u001b[0m\u001b[0;34m(\u001b[0m\u001b[0mregex\u001b[0m\u001b[0;34m=\u001b[0m\u001b[0;34m'newDesk'\u001b[0m\u001b[0;34m)\u001b[0m\u001b[0;34m)\u001b[0m\u001b[0;34m,\u001b[0m \u001b[0maxis\u001b[0m\u001b[0;34m=\u001b[0m\u001b[0;36m1\u001b[0m\u001b[0;34m)\u001b[0m\u001b[0;34m\u001b[0m\u001b[0m\n\u001b[1;32m      5\u001b[0m \u001b[0;34m\u001b[0m\u001b[0m\n",
      "\u001b[0;32m/usr/local/lib/python3.6/dist-packages/pandas/core/frame.py\u001b[0m in \u001b[0;36mdrop\u001b[0;34m(self, labels, axis, index, columns, level, inplace, errors)\u001b[0m\n\u001b[1;32m   3692\u001b[0m                                            \u001b[0mindex\u001b[0m\u001b[0;34m=\u001b[0m\u001b[0mindex\u001b[0m\u001b[0;34m,\u001b[0m \u001b[0mcolumns\u001b[0m\u001b[0;34m=\u001b[0m\u001b[0mcolumns\u001b[0m\u001b[0;34m,\u001b[0m\u001b[0;34m\u001b[0m\u001b[0m\n\u001b[1;32m   3693\u001b[0m                                            \u001b[0mlevel\u001b[0m\u001b[0;34m=\u001b[0m\u001b[0mlevel\u001b[0m\u001b[0;34m,\u001b[0m \u001b[0minplace\u001b[0m\u001b[0;34m=\u001b[0m\u001b[0minplace\u001b[0m\u001b[0;34m,\u001b[0m\u001b[0;34m\u001b[0m\u001b[0m\n\u001b[0;32m-> 3694\u001b[0;31m                                            errors=errors)\n\u001b[0m\u001b[1;32m   3695\u001b[0m \u001b[0;34m\u001b[0m\u001b[0m\n\u001b[1;32m   3696\u001b[0m     @rewrite_axis_style_signature('mapper', [('copy', True),\n",
      "\u001b[0;32m/usr/local/lib/python3.6/dist-packages/pandas/core/generic.py\u001b[0m in \u001b[0;36mdrop\u001b[0;34m(self, labels, axis, index, columns, level, inplace, errors)\u001b[0m\n\u001b[1;32m   3106\u001b[0m         \u001b[0;32mfor\u001b[0m \u001b[0maxis\u001b[0m\u001b[0;34m,\u001b[0m \u001b[0mlabels\u001b[0m \u001b[0;32min\u001b[0m \u001b[0maxes\u001b[0m\u001b[0;34m.\u001b[0m\u001b[0mitems\u001b[0m\u001b[0;34m(\u001b[0m\u001b[0;34m)\u001b[0m\u001b[0;34m:\u001b[0m\u001b[0;34m\u001b[0m\u001b[0m\n\u001b[1;32m   3107\u001b[0m             \u001b[0;32mif\u001b[0m \u001b[0mlabels\u001b[0m \u001b[0;32mis\u001b[0m \u001b[0;32mnot\u001b[0m \u001b[0;32mNone\u001b[0m\u001b[0;34m:\u001b[0m\u001b[0;34m\u001b[0m\u001b[0m\n\u001b[0;32m-> 3108\u001b[0;31m                 \u001b[0mobj\u001b[0m \u001b[0;34m=\u001b[0m \u001b[0mobj\u001b[0m\u001b[0;34m.\u001b[0m\u001b[0m_drop_axis\u001b[0m\u001b[0;34m(\u001b[0m\u001b[0mlabels\u001b[0m\u001b[0;34m,\u001b[0m \u001b[0maxis\u001b[0m\u001b[0;34m,\u001b[0m \u001b[0mlevel\u001b[0m\u001b[0;34m=\u001b[0m\u001b[0mlevel\u001b[0m\u001b[0;34m,\u001b[0m \u001b[0merrors\u001b[0m\u001b[0;34m=\u001b[0m\u001b[0merrors\u001b[0m\u001b[0;34m)\u001b[0m\u001b[0;34m\u001b[0m\u001b[0m\n\u001b[0m\u001b[1;32m   3109\u001b[0m \u001b[0;34m\u001b[0m\u001b[0m\n\u001b[1;32m   3110\u001b[0m         \u001b[0;32mif\u001b[0m \u001b[0minplace\u001b[0m\u001b[0;34m:\u001b[0m\u001b[0;34m\u001b[0m\u001b[0m\n",
      "\u001b[0;32m/usr/local/lib/python3.6/dist-packages/pandas/core/generic.py\u001b[0m in \u001b[0;36m_drop_axis\u001b[0;34m(self, labels, axis, level, errors)\u001b[0m\n\u001b[1;32m   3138\u001b[0m                 \u001b[0mnew_axis\u001b[0m \u001b[0;34m=\u001b[0m \u001b[0maxis\u001b[0m\u001b[0;34m.\u001b[0m\u001b[0mdrop\u001b[0m\u001b[0;34m(\u001b[0m\u001b[0mlabels\u001b[0m\u001b[0;34m,\u001b[0m \u001b[0mlevel\u001b[0m\u001b[0;34m=\u001b[0m\u001b[0mlevel\u001b[0m\u001b[0;34m,\u001b[0m \u001b[0merrors\u001b[0m\u001b[0;34m=\u001b[0m\u001b[0merrors\u001b[0m\u001b[0;34m)\u001b[0m\u001b[0;34m\u001b[0m\u001b[0m\n\u001b[1;32m   3139\u001b[0m             \u001b[0;32melse\u001b[0m\u001b[0;34m:\u001b[0m\u001b[0;34m\u001b[0m\u001b[0m\n\u001b[0;32m-> 3140\u001b[0;31m                 \u001b[0mnew_axis\u001b[0m \u001b[0;34m=\u001b[0m \u001b[0maxis\u001b[0m\u001b[0;34m.\u001b[0m\u001b[0mdrop\u001b[0m\u001b[0;34m(\u001b[0m\u001b[0mlabels\u001b[0m\u001b[0;34m,\u001b[0m \u001b[0merrors\u001b[0m\u001b[0;34m=\u001b[0m\u001b[0merrors\u001b[0m\u001b[0;34m)\u001b[0m\u001b[0;34m\u001b[0m\u001b[0m\n\u001b[0m\u001b[1;32m   3141\u001b[0m             \u001b[0mdropped\u001b[0m \u001b[0;34m=\u001b[0m \u001b[0mself\u001b[0m\u001b[0;34m.\u001b[0m\u001b[0mreindex\u001b[0m\u001b[0;34m(\u001b[0m\u001b[0;34m**\u001b[0m\u001b[0;34m{\u001b[0m\u001b[0maxis_name\u001b[0m\u001b[0;34m:\u001b[0m \u001b[0mnew_axis\u001b[0m\u001b[0;34m}\u001b[0m\u001b[0;34m)\u001b[0m\u001b[0;34m\u001b[0m\u001b[0m\n\u001b[1;32m   3142\u001b[0m             \u001b[0;32mtry\u001b[0m\u001b[0;34m:\u001b[0m\u001b[0;34m\u001b[0m\u001b[0m\n",
      "\u001b[0;32m/usr/local/lib/python3.6/dist-packages/pandas/core/indexes/base.py\u001b[0m in \u001b[0;36mdrop\u001b[0;34m(self, labels, errors)\u001b[0m\n\u001b[1;32m   4385\u001b[0m             \u001b[0;32mif\u001b[0m \u001b[0merrors\u001b[0m \u001b[0;34m!=\u001b[0m \u001b[0;34m'ignore'\u001b[0m\u001b[0;34m:\u001b[0m\u001b[0;34m\u001b[0m\u001b[0m\n\u001b[1;32m   4386\u001b[0m                 raise KeyError(\n\u001b[0;32m-> 4387\u001b[0;31m                     'labels %s not contained in axis' % labels[mask])\n\u001b[0m\u001b[1;32m   4388\u001b[0m             \u001b[0mindexer\u001b[0m \u001b[0;34m=\u001b[0m \u001b[0mindexer\u001b[0m\u001b[0;34m[\u001b[0m\u001b[0;34m~\u001b[0m\u001b[0mmask\u001b[0m\u001b[0;34m]\u001b[0m\u001b[0;34m\u001b[0m\u001b[0m\n\u001b[1;32m   4389\u001b[0m         \u001b[0;32mreturn\u001b[0m \u001b[0mself\u001b[0m\u001b[0;34m.\u001b[0m\u001b[0mdelete\u001b[0m\u001b[0;34m(\u001b[0m\u001b[0mindexer\u001b[0m\u001b[0;34m)\u001b[0m\u001b[0;34m\u001b[0m\u001b[0m\n",
      "\u001b[0;31mKeyError\u001b[0m: \"labels ['commentType_userReply' 'typeOfMaterial_Op-Ed'] not contained in axis\""
     ]
    }
   ],
   "source": [
    "X = X.drop(['commentType_userReply',\n",
    "            'typeOfMaterial_Op-Ed'],        \n",
    "           axis=1)\n",
    "X = X.drop(list(X.filter(regex='newDesk')), axis=1)\n",
    "\n",
    "top_correlations(X)"
   ]
  },
  {
   "cell_type": "markdown",
   "metadata": {
    "ein.tags": "worksheet-0",
    "slideshow": {
     "slide_type": "-"
    }
   },
   "source": [
    "First fit, Multinomial Logistic: <a name='logit'></a>"
   ]
  },
  {
   "cell_type": "markdown",
   "metadata": {
    "ein.tags": "worksheet-0",
    "slideshow": {
     "slide_type": "-"
    }
   },
   "source": [
    "We separate the target and predictors, split into a train and test set, which we'll consider a hold-out set and not train on, and remove all features with zero variance within a category (otherwise our logistic regression optimization will not converge with the default settings)."
   ]
  },
  {
   "cell_type": "code",
   "execution_count": 18,
   "metadata": {
    "autoscroll": false,
    "collapsed": false,
    "ein.hycell": false,
    "ein.tags": "worksheet-0",
    "slideshow": {
     "slide_type": "-"
    }
   },
   "outputs": [],
   "source": [
    "# separate out the target\n",
    "predictors = X.columns[X.columns != 'recs']\n",
    "\n",
    "X_train, X_test, y_train, y_test = train_test_split(\n",
    "    X[predictors], X['recs'], test_size=0.25, random_state=12)\n",
    "\n",
    "# check for no variance within category of the target (problem for fitting regression)\n",
    "variance_per_category = X_train.groupby(y_train).var() == 0\n",
    "novariance = variance_per_category.sum() > 0\n",
    "X_train.drop(X_train.columns[novariance],\n",
    "             axis=1,\n",
    "             inplace=True)\n",
    "X_test.drop(X_test.columns[novariance],\n",
    "             axis=1,\n",
    "             inplace=True)\n",
    "\n"
   ]
  },
  {
   "cell_type": "code",
   "execution_count": 19,
   "metadata": {
    "autoscroll": false,
    "collapsed": false,
    "ein.hycell": false,
    "ein.tags": "worksheet-0",
    "slideshow": {
     "slide_type": "-"
    }
   },
   "outputs": [
    {
     "name": "stdout",
     "output_type": "stream",
     "text": [
      "Optimization terminated successfully.\n",
      "         Current function value: 1.261535\n",
      "         Iterations 8\n"
     ]
    },
    {
     "name": "stdout",
     "output_type": "stream",
     "text": [
      "                          MNLogit Regression Results                          \n",
      "==============================================================================\n",
      "Dep. Variable:                   recs   No. Observations:              1565146\n",
      "Model:                        MNLogit   Df Residuals:                  1565134\n",
      "Method:                           MLE   Df Model:                            9\n",
      "Date:                Thu, 14 Jun 2018   Pseudo R-squ.:                 0.07912\n",
      "Time:                        11:29:54   Log-Likelihood:            -1.9745e+06\n",
      "converged:                       True   LL-Null:                   -2.1441e+06\n",
      "                                        LLR p-value:                     0.000\n",
      "======================================================================================================\n",
      "                            recs=1       coef    std err          z      P>|z|      [0.025      0.975]\n",
      "------------------------------------------------------------------------------------------------------\n",
      "editorsSelection_1                     0.5997      0.096      6.222      0.000       0.411       0.789\n",
      "sectionName_Africa                     0.5662      0.034     16.861      0.000       0.500       0.632\n",
      "sectionName_Americas                   0.5721      0.013     43.283      0.000       0.546       0.598\n",
      "sectionName_Art                        0.0611      0.812      0.075      0.940      -1.531       1.653\n",
      "sectionName_Art & Design               0.4563      0.056      8.166      0.000       0.347       0.566\n",
      "sectionName_Asia Pacific               0.2280      0.020     11.229      0.000       0.188       0.268\n",
      "sectionName_Australia                  0.4058      0.189      2.147      0.032       0.035       0.776\n",
      "sectionName_Auto Racing               -0.1736      0.324     -0.535      0.593      -0.809       0.462\n",
      "sectionName_Automobiles                1.2531      0.624      2.007      0.045       0.030       2.477\n",
      "sectionName_Baseball                   0.0060      0.059      0.102      0.918      -0.109       0.121\n",
      "sectionName_Book Review                0.0568      0.083      0.686      0.492      -0.105       0.219\n",
      "sectionName_Canada                     0.5033      0.087      5.790      0.000       0.333       0.674\n",
      "sectionName_College Basketball         0.2828      0.094      3.017      0.003       0.099       0.466\n",
      "sectionName_College Football          -0.0195      0.176     -0.111      0.912      -0.364       0.325\n",
      "sectionName_Cycling                    0.4567      0.284      1.606      0.108      -0.101       1.014\n",
      "sectionName_Dance                      1.3915      0.652      2.134      0.033       0.113       2.670\n",
      "sectionName_DealBook                   0.3433      0.048      7.093      0.000       0.248       0.438\n",
      "sectionName_Eat                        0.3850      0.052      7.363      0.000       0.282       0.487\n",
      "sectionName_Economy                    0.5159      0.040     12.861      0.000       0.437       0.595\n",
      "sectionName_Editorials                 0.1324      0.098      1.348      0.178      -0.060       0.325\n",
      "sectionName_Education Life             0.6639      0.097      6.870      0.000       0.474       0.853\n",
      "sectionName_Energy & Environment       0.3051      0.091      3.356      0.001       0.127       0.483\n",
      "sectionName_Entrepreneurship           0.0332      1.415      0.023      0.981      -2.740       2.807\n",
      "sectionName_Europe                     0.2432      0.019     12.512      0.000       0.205       0.281\n",
      "sectionName_Family                     0.4959      0.035     14.348      0.000       0.428       0.564\n",
      "sectionName_Golf                       0.2629      0.169      1.552      0.121      -0.069       0.595\n",
      "sectionName_Hockey                    -0.1506      0.169     -0.891      0.373      -0.482       0.181\n",
      "sectionName_Insider Events             0.6465      0.475      1.360      0.174      -0.285       1.578\n",
      "sectionName_Learning                   0.9621      0.522      1.843      0.065      -0.061       1.986\n",
      "sectionName_Lesson Plans              -2.1138      0.248     -8.524      0.000      -2.600      -1.628\n",
      "sectionName_Live                       0.4213      0.039     10.690      0.000       0.344       0.498\n",
      "sectionName_Media                      0.3926      0.032     12.438      0.000       0.331       0.454\n",
      "sectionName_Middle East                0.0827      0.022      3.799      0.000       0.040       0.125\n",
      "sectionName_Mind                       0.6172      0.090      6.836      0.000       0.440       0.794\n",
      "sectionName_Move                       0.3293      0.045      7.240      0.000       0.240       0.418\n",
      "sectionName_Music                      0.3794      0.083      4.560      0.000       0.216       0.543\n",
      "sectionName_Neighborhoods              0.6563      1.227      0.535      0.593      -1.749       3.062\n",
      "sectionName_Olympics                   0.5807      0.071      8.165      0.000       0.441       0.720\n",
      "sectionName_Opinion | Politics        -0.5911      0.107     -5.515      0.000      -0.801      -0.381\n",
      "sectionName_Paying for College        -0.7957      0.376     -2.117      0.034      -1.532      -0.059\n",
      "sectionName_Personal Tech              0.4365      0.137      3.195      0.001       0.169       0.704\n",
      "sectionName_Politics                   0.1740      0.011     15.787      0.000       0.152       0.196\n",
      "sectionName_Pro Basketball             0.1544      0.093      1.656      0.098      -0.028       0.337\n",
      "sectionName_Pro Football               0.4053      0.065      6.200      0.000       0.277       0.533\n",
      "sectionName_Retirement                 0.3625      0.178      2.034      0.042       0.013       0.712\n",
      "sectionName_Room For Debate            0.4959      0.114      4.362      0.000       0.273       0.719\n",
      "sectionName_Rugby                     -0.3047      0.258     -1.180      0.238      -0.811       0.202\n",
      "sectionName_Soccer                     0.0964      0.094      1.030      0.303      -0.087       0.280\n",
      "sectionName_Student Loans              0.4871      0.195      2.497      0.013       0.105       0.869\n",
      "sectionName_Sunday Review              0.2099      0.015     13.925      0.000       0.180       0.239\n",
      "sectionName_Television                 0.4255      0.034     12.635      0.000       0.359       0.491\n",
      "sectionName_Tennis                     0.6057      0.146      4.160      0.000       0.320       0.891\n",
      "sectionName_The Daily                 -0.9310      0.219     -4.256      0.000      -1.360      -0.502\n",
      "sectionName_Unknown                   -0.0627      0.010     -6.201      0.000      -0.082      -0.043\n",
      "sectionName_Weddings                   2.5353      1.039      2.440      0.015       0.499       4.572\n",
      "sectionName_Wine, Beer & Cocktails    -0.0715      0.103     -0.694      0.488      -0.273       0.130\n",
      "typeOfMaterial_Biography              -0.2819      0.786     -0.359      0.720      -1.823       1.259\n",
      "typeOfMaterial_Blog                   -0.2081        nan        nan        nan         nan         nan\n",
      "typeOfMaterial_Brief                   1.0549      0.282      3.743      0.000       0.502       1.607\n",
      "typeOfMaterial_Editorial               0.0111      0.010      1.077      0.281      -0.009       0.031\n",
      "typeOfMaterial_Interview              -0.0669      0.352     -0.190      0.849      -0.757       0.624\n",
      "typeOfMaterial_Letter                 -0.0616      0.105     -0.585      0.559      -0.268       0.145\n",
      "typeOfMaterial_News                   -0.2766      0.008    -35.632      0.000      -0.292      -0.261\n",
      "typeOfMaterial_News Analysis          -0.0699      0.027     -2.564      0.010      -0.123      -0.016\n",
      "typeOfMaterial_Obituary (Obit)         0.1959      0.071      2.766      0.006       0.057       0.335\n",
      "typeOfMaterial_Question                0.2792      0.143      1.947      0.052      -0.002       0.560\n",
      "typeOfMaterial_Review                 -0.0484      0.033     -1.478      0.139      -0.113       0.016\n",
      "typeOfMaterial_briefing                0.5017      0.052      9.655      0.000       0.400       0.604\n",
      "commentType_reporterReply             -0.4699      0.209     -2.246      0.025      -0.880      -0.060\n",
      "documentType_blogpost                 -0.2081        nan        nan        nan         nan         nan\n",
      "approveDate                          5.72e-09   1.29e-10     44.326      0.000    5.47e-09    5.97e-09\n",
      "articleWordCount                       0.0002   3.77e-06     42.065      0.000       0.000       0.000\n",
      "depth                                 -0.5769      0.005   -115.909      0.000      -0.587      -0.567\n",
      "printPage                              0.0052      0.000     17.841      0.000       0.005       0.006\n",
      "timespeople                            0.6677      0.013     52.888      0.000       0.643       0.692\n",
      "trusted                                0.4286      0.018     23.838      0.000       0.393       0.464\n",
      "sharing                                0.0508      0.009      5.445      0.000       0.032       0.069\n",
      "const                                 -8.3042      0.194    -42.829      0.000      -8.684      -7.924\n",
      "------------------------------------------------------------------------------------------------------\n",
      "                            recs=2       coef    std err          z      P>|z|      [0.025      0.975]\n",
      "------------------------------------------------------------------------------------------------------\n",
      "editorsSelection_1                     1.7044      0.087     19.480      0.000       1.533       1.876\n",
      "sectionName_Africa                     0.5751      0.106      5.401      0.000       0.366       0.784\n",
      "sectionName_Americas                   0.7397      0.049     15.154      0.000       0.644       0.835\n",
      "sectionName_Art                        0.0728      0.785      0.093      0.926      -1.466       1.611\n",
      "sectionName_Art & Design               0.7439      0.057     13.058      0.000       0.632       0.856\n",
      "sectionName_Asia Pacific               0.0966      0.024      4.103      0.000       0.050       0.143\n",
      "sectionName_Australia                  0.3671      0.158      2.317      0.020       0.057       0.678\n",
      "sectionName_Auto Racing               -0.8692      0.392     -2.216      0.027      -1.638      -0.100\n",
      "sectionName_Automobiles               -0.3862      0.776     -0.498      0.619      -1.907       1.135\n",
      "sectionName_Baseball                  -0.6352      0.062    -10.195      0.000      -0.757      -0.513\n",
      "sectionName_Book Review               -0.1629      0.076     -2.134      0.033      -0.313      -0.013\n",
      "sectionName_Canada                     0.8763      0.083     10.505      0.000       0.713       1.040\n",
      "sectionName_College Basketball         0.2878      0.092      3.130      0.002       0.108       0.468\n",
      "sectionName_College Football           0.2665      0.162      1.641      0.101      -0.052       0.585\n",
      "sectionName_Cycling                    0.6798      0.281      2.422      0.015       0.130       1.230\n",
      "sectionName_Dance                      2.7986      0.604      4.635      0.000       1.615       3.982\n",
      "sectionName_DealBook                   0.3642      0.048      7.560      0.000       0.270       0.459\n",
      "sectionName_Eat                        0.5361      0.052     10.274      0.000       0.434       0.638\n",
      "sectionName_Economy                    0.8215      0.039     21.258      0.000       0.746       0.897\n",
      "sectionName_Editorials                 0.5297      0.098      5.379      0.000       0.337       0.723\n",
      "sectionName_Education Life             1.1790      0.091     12.933      0.000       1.000       1.358\n",
      "sectionName_Energy & Environment       0.4730      0.087      5.445      0.000       0.303       0.643\n",
      "sectionName_Entrepreneurship           2.1171      1.071      1.977      0.048       0.019       4.216\n",
      "sectionName_Europe                     0.2719      0.020     13.876      0.000       0.234       0.310\n",
      "sectionName_Family                     0.9590      0.033     28.756      0.000       0.894       1.024\n",
      "sectionName_Golf                       0.0679      0.167      0.407      0.684      -0.259       0.395\n",
      "sectionName_Hockey                    -0.5280      0.176     -2.999      0.003      -0.873      -0.183\n",
      "sectionName_Insider Events            -0.5945      0.645     -0.922      0.357      -1.859       0.670\n",
      "sectionName_Learning                   1.8868      0.485      3.891      0.000       0.936       2.837\n",
      "sectionName_Lesson Plans              -3.8045      0.421     -9.032      0.000      -4.630      -2.979\n",
      "sectionName_Live                       0.7123      0.038     18.774      0.000       0.638       0.787\n",
      "sectionName_Media                      0.5394      0.031     17.338      0.000       0.478       0.600\n",
      "sectionName_Middle East                0.0039      0.022      0.178      0.859      -0.039       0.047\n",
      "sectionName_Mind                       0.8868      0.087     10.207      0.000       0.716       1.057\n",
      "sectionName_Move                       0.5304      0.044     11.974      0.000       0.444       0.617\n",
      "sectionName_Music                      0.6801      0.079      8.572      0.000       0.525       0.836\n",
      "sectionName_Neighborhoods              1.4343      1.114      1.287      0.198      -0.750       3.619\n",
      "sectionName_Olympics                   0.7567      0.069     10.906      0.000       0.621       0.893\n",
      "sectionName_Opinion | Politics        -0.8684      0.112     -7.737      0.000      -1.088      -0.648\n",
      "sectionName_Paying for College        -0.1839      0.311     -0.592      0.554      -0.793       0.425\n",
      "sectionName_Personal Tech              0.3693      0.137      2.705      0.007       0.102       0.637\n",
      "sectionName_Politics                   0.2029      0.012     17.509      0.000       0.180       0.226\n",
      "sectionName_Pro Basketball            -0.3016      0.096     -3.147      0.002      -0.489      -0.114\n",
      "sectionName_Pro Football               0.2986      0.065      4.591      0.000       0.171       0.426\n",
      "sectionName_Retirement                 1.1128      0.159      7.018      0.000       0.802       1.424\n",
      "sectionName_Room For Debate            1.4207      0.090     15.860      0.000       1.245       1.596\n",
      "sectionName_Rugby                     -0.5482      0.265     -2.070      0.038      -1.067      -0.029\n",
      "sectionName_Soccer                    -0.5553      0.103     -5.414      0.000      -0.756      -0.354\n",
      "sectionName_Student Loans              0.8294      0.187      4.424      0.000       0.462       1.197\n",
      "sectionName_Sunday Review              0.4435      0.015     30.032      0.000       0.415       0.472\n",
      "sectionName_Television                 0.5246      0.034     15.576      0.000       0.459       0.591\n",
      "sectionName_Tennis                     0.2934      0.151      1.948      0.051      -0.002       0.589\n",
      "sectionName_The Daily                 -1.8223      0.265     -6.879      0.000      -2.342      -1.303\n",
      "sectionName_Unknown                   -0.0281      0.010     -2.725      0.006      -0.048      -0.008\n",
      "sectionName_Weddings                   3.0610      1.028      2.977      0.003       1.046       5.076\n",
      "sectionName_Wine, Beer & Cocktails    -0.3953      0.108     -3.677      0.000      -0.606      -0.185\n",
      "typeOfMaterial_Biography               0.8328      0.710      1.173      0.241      -0.559       2.225\n",
      "typeOfMaterial_Blog                   -0.4873        nan        nan        nan         nan         nan\n",
      "typeOfMaterial_Brief                   1.7140      0.269      6.366      0.000       1.186       2.242\n",
      "typeOfMaterial_Editorial              -0.0750      0.010     -7.189      0.000      -0.095      -0.055\n",
      "typeOfMaterial_Interview               0.9614      0.322      2.981      0.003       0.329       1.593\n",
      "typeOfMaterial_Letter                  0.1667      0.103      1.621      0.105      -0.035       0.368\n",
      "typeOfMaterial_News                   -0.0470      0.008     -6.093      0.000      -0.062      -0.032\n",
      "typeOfMaterial_News Analysis           0.1059      0.027      3.965      0.000       0.054       0.158\n",
      "typeOfMaterial_Obituary (Obit)         0.6892      0.067     10.239      0.000       0.557       0.821\n",
      "typeOfMaterial_Question                0.5060      0.141      3.582      0.000       0.229       0.783\n",
      "typeOfMaterial_Review                  0.1917      0.032      6.001      0.000       0.129       0.254\n",
      "typeOfMaterial_briefing                0.6129      0.052     11.766      0.000       0.511       0.715\n",
      "commentType_reporterReply              0.4167      0.186      2.244      0.025       0.053       0.781\n",
      "documentType_blogpost                 -0.4873        nan        nan        nan         nan         nan\n",
      "approveDate                         5.146e-09   1.31e-10     39.189      0.000    4.89e-09     5.4e-09\n",
      "articleWordCount                       0.0002   3.68e-06     55.727      0.000       0.000       0.000\n",
      "depth                                 -1.5224      0.005   -288.872      0.000      -1.533      -1.512\n",
      "printPage                              0.0058      0.000     19.889      0.000       0.005       0.006\n",
      "timespeople                            0.8421      0.012     67.474      0.000       0.818       0.867\n",
      "trusted                                0.7980      0.017     46.119      0.000       0.764       0.832\n",
      "sharing                                0.0613      0.009      6.722      0.000       0.043       0.079\n",
      "const                                 -6.4087      0.201    -31.873      0.000      -6.803      -6.015\n",
      "------------------------------------------------------------------------------------------------------\n",
      "                            recs=3       coef    std err          z      P>|z|      [0.025      0.975]\n",
      "------------------------------------------------------------------------------------------------------\n",
      "editorsSelection_1                     4.5669      0.084     54.203      0.000       4.402       4.732\n",
      "sectionName_Africa                     0.7196      0.111      6.505      0.000       0.503       0.936\n",
      "sectionName_Americas                   0.9862      0.050     19.618      0.000       0.888       1.085\n",
      "sectionName_Art                        0.3559      0.757      0.470      0.638      -1.127       1.839\n",
      "sectionName_Art & Design               0.8981      0.060     15.063      0.000       0.781       1.015\n",
      "sectionName_Asia Pacific              -0.1950      0.025     -7.719      0.000      -0.245      -0.145\n",
      "sectionName_Australia                  0.5219      0.166      3.145      0.002       0.197       0.847\n",
      "sectionName_Auto Racing               -3.8236      1.114     -3.434      0.001      -6.006      -1.641\n",
      "sectionName_Automobiles               -0.4166      0.780     -0.534      0.593      -1.945       1.111\n",
      "sectionName_Baseball                  -1.4555      0.077    -18.814      0.000      -1.607      -1.304\n",
      "sectionName_Book Review               -0.0794      0.080     -0.996      0.319      -0.236       0.077\n",
      "sectionName_Canada                     1.0615      0.087     12.145      0.000       0.890       1.233\n",
      "sectionName_College Basketball         0.1035      0.101      1.021      0.307      -0.095       0.302\n",
      "sectionName_College Football           0.5762      0.165      3.485      0.000       0.252       0.900\n",
      "sectionName_Cycling                    0.7831      0.295      2.658      0.008       0.206       1.361\n",
      "sectionName_Dance                      3.1947      0.610      5.235      0.000       1.999       4.391\n",
      "sectionName_DealBook                   0.1726      0.052      3.334      0.001       0.071       0.274\n",
      "sectionName_Eat                        0.5672      0.057      9.969      0.000       0.456       0.679\n",
      "sectionName_Economy                    0.8546      0.041     20.945      0.000       0.775       0.935\n",
      "sectionName_Editorials                 0.5604      0.109      5.152      0.000       0.347       0.774\n",
      "sectionName_Education Life             1.4037      0.095     14.745      0.000       1.217       1.590\n",
      "sectionName_Energy & Environment       0.1374      0.096      1.436      0.151      -0.050       0.325\n",
      "sectionName_Entrepreneurship           2.8381      1.074      2.642      0.008       0.733       4.943\n",
      "sectionName_Europe                     0.2452      0.020     12.009      0.000       0.205       0.285\n",
      "sectionName_Family                     1.4658      0.034     43.396      0.000       1.400       1.532\n",
      "sectionName_Golf                      -0.7157      0.200     -3.574      0.000      -1.108      -0.323\n",
      "sectionName_Hockey                    -0.5674      0.185     -3.069      0.002      -0.930      -0.205\n",
      "sectionName_Insider Events            -1.8348      1.090     -1.684      0.092      -3.971       0.301\n",
      "sectionName_Learning                   2.4814      0.492      5.045      0.000       1.517       3.445\n",
      "sectionName_Lesson Plans              -5.6805      1.006     -5.646      0.000      -7.653      -3.708\n",
      "sectionName_Live                       1.0798      0.039     27.769      0.000       1.004       1.156\n",
      "sectionName_Media                      0.7976      0.032     25.204      0.000       0.736       0.860\n",
      "sectionName_Middle East               -0.2524      0.024    -10.643      0.000      -0.299      -0.206\n",
      "sectionName_Mind                       1.1010      0.090     12.239      0.000       0.925       1.277\n",
      "sectionName_Move                       0.5429      0.048     11.405      0.000       0.450       0.636\n",
      "sectionName_Music                      1.2935      0.079     16.363      0.000       1.139       1.448\n",
      "sectionName_Neighborhoods              2.7650      1.074      2.573      0.010       0.659       4.871\n",
      "sectionName_Olympics                   0.8650      0.072     12.014      0.000       0.724       1.006\n",
      "sectionName_Opinion | Politics        -0.9329      0.121     -7.691      0.000      -1.171      -0.695\n",
      "sectionName_Paying for College         0.0256      0.332      0.077      0.939      -0.626       0.677\n",
      "sectionName_Personal Tech             -0.0732      0.155     -0.472      0.637      -0.377       0.231\n",
      "sectionName_Politics                   0.2218      0.012     19.115      0.000       0.199       0.245\n",
      "sectionName_Pro Basketball            -0.7285      0.107     -6.801      0.000      -0.938      -0.519\n",
      "sectionName_Pro Football               0.3570      0.067      5.331      0.000       0.226       0.488\n",
      "sectionName_Retirement                 1.9156      0.158     12.132      0.000       1.606       2.225\n",
      "sectionName_Room For Debate            2.2579      0.007    301.936      0.000       2.243       2.273\n",
      "sectionName_Rugby                     -0.8071      0.299     -2.696      0.007      -1.394      -0.220\n",
      "sectionName_Soccer                    -1.6796      0.147    -11.393      0.000      -1.969      -1.391\n",
      "sectionName_Student Loans              1.1301      0.201      5.629      0.000       0.737       1.524\n",
      "sectionName_Sunday Review              0.7163      0.015     47.962      0.000       0.687       0.746\n",
      "sectionName_Television                 0.4777      0.036     13.233      0.000       0.407       0.548\n",
      "sectionName_Tennis                     0.3147      0.157      2.005      0.045       0.007       0.622\n",
      "sectionName_The Daily                 -2.0370      0.318     -6.404      0.000      -2.660      -1.414\n",
      "sectionName_Unknown                    0.0375      0.010      3.669      0.000       0.017       0.057\n",
      "sectionName_Weddings                   4.3392      1.021      4.250      0.000       2.338       6.341\n",
      "sectionName_Wine, Beer & Cocktails    -1.2177      0.142     -8.556      0.000      -1.497      -0.939\n",
      "typeOfMaterial_Biography               1.7123      0.705      2.429      0.015       0.331       3.094\n",
      "typeOfMaterial_Blog                   -0.7712   2.51e+06  -3.07e-07      1.000   -4.92e+06    4.92e+06\n",
      "typeOfMaterial_Brief                   2.2611      0.270      8.370      0.000       1.732       2.791\n",
      "typeOfMaterial_Editorial              -0.1916      0.011    -17.291      0.000      -0.213      -0.170\n",
      "typeOfMaterial_Interview               1.3061      0.330      3.962      0.000       0.660       1.952\n",
      "typeOfMaterial_Letter                  0.4295      0.104      4.115      0.000       0.225       0.634\n",
      "typeOfMaterial_News                    0.1217      0.008     15.027      0.000       0.106       0.138\n",
      "typeOfMaterial_News Analysis           0.1274      0.028      4.513      0.000       0.072       0.183\n",
      "typeOfMaterial_Obituary (Obit)         1.1294      0.067     16.774      0.000       0.997       1.261\n",
      "typeOfMaterial_Question                0.7196      0.148      4.855      0.000       0.429       1.010\n",
      "typeOfMaterial_Review                  0.1453      0.035      4.168      0.000       0.077       0.214\n",
      "typeOfMaterial_briefing                0.3711      0.058      6.436      0.000       0.258       0.484\n",
      "commentType_reporterReply              1.5057      0.188      8.006      0.000       1.137       1.874\n",
      "documentType_blogpost                 -0.7712   2.52e+06  -3.06e-07      1.000   -4.95e+06    4.95e+06\n",
      "approveDate                         6.002e-09   1.98e-11    302.812      0.000    5.96e-09    6.04e-09\n",
      "articleWordCount                       0.0002   3.78e-06     62.546      0.000       0.000       0.000\n",
      "depth                                 -2.7564      0.007   -388.846      0.000      -2.770      -2.742\n",
      "printPage                              0.0085      0.000     28.280      0.000       0.008       0.009\n",
      "timespeople                            0.9642      0.013     73.964      0.000       0.939       0.990\n",
      "trusted                                1.7705      0.017    105.122      0.000       1.737       1.803\n",
      "sharing                                0.0678      0.009      7.156      0.000       0.049       0.086\n",
      "const                                 -6.7408      0.015   -450.347      0.000      -6.770      -6.711\n",
      "======================================================================================================\n"
     ]
    },
    {
     "name": "stdout",
     "output_type": "stream",
     "text": [
      "             precision    recall  f1-score   support\n",
      "\n",
      "          0       0.40      0.38      0.39     96247\n",
      "          1       0.35      0.14      0.20    122120\n",
      "          2       0.33      0.28      0.30    152416\n",
      "          3       0.40      0.68      0.51    150933\n",
      "\n",
      "avg / total       0.37      0.38      0.35    521716\n",
      "\n",
      "MLogit accuracy is about 0.38\n"
     ]
    }
   ],
   "source": [
    "# fit \n",
    "# This is equivalent to using SKlearn's MLogit with 'newton-cg' solver\n",
    "# LogisticRegression(multi_class='multinomial', solver='newton-cg'),\n",
    "X_logit = st.add_constant(X_train, prepend=False)\n",
    "MLogit = st.MNLogit(y_train, X_logit)\n",
    "logit_fit = MLogit.fit()\n",
    "# this is necessary for the summary:\n",
    "stats.chisqprob = lambda chisq, df: stats.chi2.sf(chisq, df)\n",
    "print(logit_fit.summary())\n",
    "logit_y_hat = logit_fit.predict(exog=st.add_constant(X_test, prepend=False))\n",
    "# need to convert it to actual predictions as these are probabilities\n",
    "logit_y_hat = logit_y_hat.idxmax(axis=1)\n",
    "print(classification_report(y_test, logit_y_hat))\n",
    "print('MLogit accuracy is about %.2f' % accuracy_score(y_test, logit_y_hat))\n",
    "\n",
    "\n"
   ]
  },
  {
   "cell_type": "markdown",
   "metadata": {
    "ein.tags": "worksheet-0",
    "slideshow": {
     "slide_type": "-"
    }
   },
   "source": [
    "OK, now we have our first (simple) fit and the first accuracy score - the model classified about 38% of cases correctly, which is an improvement of about 9% over the baseline (constant) model. The classification report shows that the model has the greatest amount of trouble guessing the second category (One or two upvotes), and is considerably better at guessing the fourth (most popular) category (recall column reports the share of cases of each category the classifier was able to correctly identify). Of all of the comments which received between one and two upvotes, our logistic regression classifier was able to recall only about 15%, in contrast to almost 70% for the fourth category (more than eight upvotes).\n",
    " \n",
    "Without delving too deeply in the interpretation of the coefficients, it seems like the numeric features generally had the greatest impact. We'll say more about them in the next section, but these are features such as the length of the original article, the **depth** of the comment, whether the comment was recommended by the NYTimes staff (**editorSelection**), posted by NYTimes staff members or trusted users. While the various categories derived from the **sectionName** variable generally weren't that important, there were a few very popular categories there - for example 'Family' and 'Sunday Review.' Of course, all of the coefficients here are to be interpreted relative to the omitted reference category, but our focus here is on prediction so we won't dwell on the coefficients."
   ]
  },
  {
   "cell_type": "markdown",
   "metadata": {
    "ein.tags": "worksheet-0",
    "slideshow": {
     "slide_type": "-"
    }
   },
   "source": [
    "A bag of classifiers <a name='classifiers'></a>\n",
    "\n",
    "Next, let's create a bag of classifiers. We are somewhat agnostic as to the most appropriate one at this stage, so we'll include several. In addition to logistic regression, we'll do Ridge regression (essentially a penalized regression), nearest neighbors and two ensemble models (Random Forest and Extreme Gradient Boost). Feel free to drop in your favorite classifier in the mix. I like XGB both for speed (run on a GPU it is quite fast), which allows more experiments, and for the fact that it can report feature importance - which features were present in more trees and how much gain in coverage did each provide. We won't do much model tuning at this stage, relying on the rather conservative default parameter values baked into Scikit-learn."
   ]
  },
  {
   "cell_type": "code",
   "execution_count": 20,
   "metadata": {
    "autoscroll": false,
    "collapsed": false,
    "ein.hycell": false,
    "ein.tags": "worksheet-0",
    "slideshow": {
     "slide_type": "-"
    }
   },
   "outputs": [],
   "source": [
    "models = [('MLogit', LogisticRegression(n_jobs=-1)),\n",
    "          ('Ridge', RidgeClassifier()),\n",
    "          # ('KNN', KNeighborsClassifier(n_jobs=-1)),\n",
    "          ('RandomForest', RandomForestClassifier(n_jobs=-1)),\n",
    "          ('XGB', XGBClassifier(tree_method='gpu_hist',\n",
    "                                n_estimators=50)),\n",
    "          ]"
   ]
  },
  {
   "cell_type": "markdown",
   "metadata": {
    "ein.tags": "worksheet-0",
    "slideshow": {
     "slide_type": "-"
    }
   },
   "source": [
    "And let's put together a pipeline to report the scores on each of our these classifiers. It will allow us to compare classification performance after the feature engineering stage. To be on the safe side, we rescale the data with scikit-learn's standard scaler (center at zero and divide by standard deviation), although given the classifier families we chose this is not strictly necessary."
   ]
  },
  {
   "cell_type": "code",
   "execution_count": 7,
   "metadata": {
    "autoscroll": false,
    "collapsed": false,
    "ein.hycell": false,
    "ein.tags": "worksheet-0",
    "slideshow": {
     "slide_type": "-"
    }
   },
   "outputs": [
    {
     "ename": "NameError",
     "evalue": "name 'X_train' is not defined",
     "output_type": "error",
     "traceback": [
      "\u001b[0;31m---------------------------------------------------------------------------\u001b[0m",
      "\u001b[0;31mNameError\u001b[0m                                 Traceback (most recent call last)",
      "\u001b[0;32m<ipython-input-7-50a3c361f1c5>\u001b[0m in \u001b[0;36m<module>\u001b[0;34m()\u001b[0m\n\u001b[0;32m----> 1\u001b[0;31m def predict_recs(X_train=X_train, \n\u001b[0m\u001b[1;32m      2\u001b[0m                  \u001b[0my_train\u001b[0m\u001b[0;34m=\u001b[0m\u001b[0my_train\u001b[0m\u001b[0;34m,\u001b[0m\u001b[0;34m\u001b[0m\u001b[0m\n\u001b[1;32m      3\u001b[0m                  \u001b[0mX_test\u001b[0m\u001b[0;34m=\u001b[0m\u001b[0mX_test\u001b[0m\u001b[0;34m,\u001b[0m\u001b[0;34m\u001b[0m\u001b[0m\n\u001b[1;32m      4\u001b[0m                  \u001b[0my_test\u001b[0m\u001b[0;34m=\u001b[0m\u001b[0my_test\u001b[0m\u001b[0;34m,\u001b[0m\u001b[0;34m\u001b[0m\u001b[0m\n\u001b[1;32m      5\u001b[0m                  \u001b[0mmodels\u001b[0m\u001b[0;34m=\u001b[0m\u001b[0mmodels\u001b[0m\u001b[0;34m,\u001b[0m\u001b[0;34m\u001b[0m\u001b[0m\n",
      "\u001b[0;31mNameError\u001b[0m: name 'X_train' is not defined"
     ]
    }
   ],
   "source": [
    "def predict_recs(X_train, \n",
    "                 y_train,\n",
    "                 X_test,\n",
    "                 y_test,\n",
    "                 models=models,\n",
    "          target_names=['None', '1 or 2', '3 to 8', '9 or more']):\n",
    "    '''Fits and scores models'''\n",
    "    Accuracy = {}\n",
    "    for name, model in models:\n",
    "        pipe = make_pipeline(scaler_standard, model)\n",
    "        print()\n",
    "        print('\\nFitting ' + name)\n",
    "        pipe.fit(X_train, y_train)\n",
    "        y_hat = pipe.predict(X_test)\n",
    "        Accuracy[name] = np.round(accuracy_score(\n",
    "            y_test, y_hat), 4)\n",
    "        print('Accuracy of %s: %.4f' % (name, Accuracy[name]))\n",
    "        print('\\nClassification report:\\n')\n",
    "        print(classification_report(\n",
    "            y_test, y_hat, target_names=target_names))\n",
    "        y_hat_bin = label_binarize(y_hat, range(3))\n",
    "        y_true_bin = label_binarize(y_test, range(3))\n",
    "        ROC_AUC_score = roc_auc_score(y_true_bin, y_hat_bin)\n",
    "        print('ROC_AUC_score: %.4f' % ROC_AUC_score)\n",
    "        # print(confusion_matrix(\n",
    "        #     y_test, y_hat))\n",
    "    return Accuracy\n",
    "\n",
    "\n",
    "# predict with only existing features\n",
    "# minimal_features = predict_recs(X_train, y_train)\n"
   ]
  },
  {
   "cell_type": "markdown",
   "metadata": {
    "ein.tags": "worksheet-0",
    "slideshow": {
     "slide_type": "-"
    }
   },
   "source": [
    "Some of our models did a little better than others, notably Random Forest seems to give the best predictions, at least at this stage. All of them had trouble with the second category, perhaps because it is difficult in principle to identify comments which received one-to-two upvotes as opposed to zero or more than two. "
   ]
  },
  {
   "cell_type": "markdown",
   "metadata": {
    "ein.tags": "worksheet-0",
    "slideshow": {
     "slide_type": "-"
    }
   },
   "source": [
    "Feature Engineering <a name='featureengineering'></a>\n",
    "\n",
    "Time to create some meaningful features! We'll start with the numeric features that are already in the dataset and which showed much promise in the simple logistic model.\n",
    "\n",
    "We wil create features only on the dev set for now, which would take quite a bit less time. Eventually we would like to utilize the full data that we have. In order to speed things up a bit, let's use some multiprocessing (ie all of the cores we have available). I wrote a little function wrapper that spreads the task over as many cores as the system makes available and displays a nice progress bar so we know how long it will take. The overhead involved with multiprocessing usually makes it less time efficient to bother, but with a dataset of 2 million rows, it will tend to be faster. (We won't run it )\n"
   ]
  },
  {
   "cell_type": "code",
   "execution_count": 22,
   "metadata": {
    "autoscroll": false,
    "collapsed": false,
    "ein.hycell": false,
    "ein.tags": "worksheet-0",
    "slideshow": {
     "slide_type": "-"
    }
   },
   "outputs": [],
   "source": [
    "from multiprocessing import cpu_count, Pool\n",
    "from tqdm import tqdm_notebook\n",
    "\n",
    "def multip(func, iterable):\n",
    "    '''Simple wrapper for multiprocessing a function over an iterable. Preserves order.'''\n",
    "    with Pool(cpu_count()) as pool:\n",
    "        out = list(tqdm_notebook(pool.imap(func, iterable),\n",
    "                        total=len(iterable),\n",
    "                        mininterval=1))\n",
    "    return out\n"
   ]
  },
  {
   "cell_type": "markdown",
   "metadata": {
    "ein.tags": "worksheet-0",
    "slideshow": {
     "slide_type": "-"
    }
   },
   "source": [
    "Features based on the original variables <a name='originalvars'></a>\n",
    "\n",
    "The original numeric features in the data contain information on some potentially important attributes of both comments and articles. We care about the article features simply because some articles are much more likely to garner more attention. Consequently, the comments on these articles will tend to get more upvotes.\n"
   ]
  },
  {
   "cell_type": "markdown",
   "metadata": {
    "ein.tags": "worksheet-0",
    "slideshow": {
     "slide_type": "-"
    }
   },
   "source": [
    "reply <a name='originalvars'></a>\n",
    "\n",
    "**inReplyTo** - an original variable which simply tells us which comment the current comment is responding to (based on the ID of the comment) or holds a value of zero if it is not a response.\n",
    "One way to extract a useful feature from this would be to create a variable which takes a value of the number of recommendations/upvotes which the original comments obtained and a value of zero if this is not a reply at all. The expectation is responding to a popular comment should get you more visibility and, by extention, more upvotes. We can think of this as the Reddit top-comment hijacking strategy, which will be familiar to anyone who has used Reddit, though the visibility of the responses is nowhere near as prominent as it is on Reddit."
   ]
  },
  {
   "cell_type": "code",
   "execution_count": 23,
   "metadata": {
    "autoscroll": false,
    "collapsed": false,
    "ein.hycell": false,
    "ein.tags": "worksheet-0",
    "slideshow": {
     "slide_type": "-"
    }
   },
   "outputs": [
    {
     "data": {
      "text/plain": [
       "HBox(children=(IntProgress(value=0, max=2086862), HTML(value='')))"
      ]
     },
     "metadata": {},
     "output_type": "display_data"
    },
    {
     "name": "stdout",
     "output_type": "stream",
     "text": [
      "\n"
     ]
    },
    {
     "name": "stdout",
     "output_type": "stream",
     "text": [
      "count    2.086862e+06\n",
      "mean     2.918994e+01\n",
      "std      1.712484e+02\n",
      "min      0.000000e+00\n",
      "25%      0.000000e+00\n",
      "50%      0.000000e+00\n",
      "75%      1.000000e+00\n",
      "max      1.047200e+04\n",
      "Name: reply, dtype: float64\n"
     ]
    }
   ],
   "source": [
    "# feature is zero if not a reply and number of upvotes of original comment if it is a reply\n",
    "def replycounter(x):\n",
    "    if x == 0:\n",
    "        return 0\n",
    "    elif x != 0:\n",
    "        return df.recommendations.at[int(np.where(df.commentID == x)[0])]\n",
    "    else:\n",
    "        return np.nan\n",
    "\n",
    "# run only on the dev set for speed\n",
    "X['reply'] = multip(replycounter, df.inReplyTo)\n",
    "\n",
    "# uncomment this for full set\n",
    "# X_full['reply'] = multip(replycounter, df.inReplyTo)\n",
    "\n",
    "print(X.reply.describe())\n"
   ]
  },
  {
   "cell_type": "markdown",
   "metadata": {
    "ein.tags": "worksheet-0",
    "slideshow": {
     "slide_type": "-"
    }
   },
   "source": [
    "Another 'object'-type variable which we could utilize is **byline**, which reports the authors of an article. <a name='byline'></a>\n",
    "Here's a quick look:"
   ]
  },
  {
   "cell_type": "code",
   "execution_count": 24,
   "metadata": {
    "autoscroll": false,
    "collapsed": false,
    "ein.hycell": false,
    "ein.tags": "worksheet-0",
    "slideshow": {
     "slide_type": "-"
    }
   },
   "outputs": [
    {
     "data": {
      "text/plain": [
       "By THE EDITORIAL BOARD       140540\nBy PAUL KRUGMAN               66631\nBy DAVID BROOKS               55968\nBy CHARLES M. BLOW            50041\nBy FRANK BRUNI                44710\nBy NICHOLAS KRISTOF           40030\nBy ROSS DOUTHAT               36244\nBy GAIL COLLINS               32452\nBy DAVID LEONHARDT            25004\nBy ROGER COHEN                23732\nBy THE LEARNING NETWORK       20692\nBy THOMAS L. FRIEDMAN         20481\nBy PETER BAKER                19019\nBy DEB AMLEN                  18411\nBy JULIE HIRSCHFELD DAVIS     17310\nBy MICHELLE GOLDBERG          17250\nBy MAUREEN DOWD               17225\nBy BRET STEPHENS              16457\nBy THOMAS B. EDSALL           15487\nBy MICHAEL D. SHEAR           14170\nName: byline, dtype: int64"
      ]
     },
     "execution_count": 24,
     "metadata": {},
     "output_type": "execute_result"
    }
   ],
   "source": [
    "df.byline.value_counts().head(20)"
   ]
  },
  {
   "cell_type": "markdown",
   "metadata": {
    "ein.tags": "worksheet-0",
    "slideshow": {
     "slide_type": "-"
    }
   },
   "source": [
    "Unsurprisingly, some authors tend to generate many more comments than others (the top being the Editorial Board of course, followed by many of the op-ed contributors). One quick and easy way to make use of this is to simply get dummies for each of the top authors, in our case we can do it for the top 20, although obviously one could go for more."
   ]
  },
  {
   "cell_type": "code",
   "execution_count": 25,
   "metadata": {
    "autoscroll": false,
    "collapsed": false,
    "ein.hycell": false,
    "ein.tags": "worksheet-0",
    "slideshow": {
     "slide_type": "-"
    }
   },
   "outputs": [
    {
     "data": {
      "text/plain": [
       "HBox(children=(IntProgress(value=0, max=2086862), HTML(value='')))"
      ]
     },
     "metadata": {},
     "output_type": "display_data"
    },
    {
     "name": "stdout",
     "output_type": "stream",
     "text": [
      "\n"
     ]
    }
   ],
   "source": [
    "# get column names of top 20 authors\n",
    "top_authors = list(df.byline.value_counts().head(20).index)\n",
    "\n",
    "# deliberately picked 'Another Author' as the replacement string as it should en up being removed as the first category\n",
    "def author_pick(x):\n",
    "    if x in top_authors:\n",
    "        return x\n",
    "    else:\n",
    "        return 'Another Author'\n",
    "\n",
    "\n",
    "series_temp = multip(author_pick, df.byline)\n",
    "df_temp = OneHotEncoding(['author'], pd.DataFrame(\n",
    "    series_temp, columns=['author']))\n",
    "\n",
    "# add them to the full set\n",
    "# X_full = pd.concat([X_full, df_temp], axis=1)\n",
    "# and place them in the dev set \n",
    "X = pd.concat([X, df_temp], axis=1)\n",
    "del df_temp\n",
    "\n"
   ]
  },
  {
   "cell_type": "markdown",
   "metadata": {
    "ein.tags": "worksheet-0",
    "slideshow": {
     "slide_type": "-"
    }
   },
   "source": [
    "Next, I noticed in the MLogit output that one of the time variables seemed to have a large impact - **approveDate**. This variable effectively report the exact timing of a comment being approved, and therefore appearing online - kind of like the publication time of a comment. Let's take a peek at what it looks like:"
   ]
  },
  {
   "cell_type": "code",
   "execution_count": 27,
   "metadata": {
    "autoscroll": false,
    "collapsed": false,
    "ein.hycell": false,
    "ein.tags": "worksheet-0",
    "slideshow": {
     "slide_type": "-"
    }
   },
   "outputs": [
    {
     "data": {
      "text/plain": [
       "0    1486065741\n1    1486055271\n2    1486055240\n3    1486055221\n4    1486055214\nName: approveDate, dtype: int64"
      ]
     },
     "execution_count": 27,
     "metadata": {},
     "output_type": "execute_result"
    }
   ],
   "source": [
    "df.approveDate.head()"
   ]
  },
  {
   "cell_type": "markdown",
   "metadata": {
    "ein.tags": "worksheet-0",
    "slideshow": {
     "slide_type": "-"
    }
   },
   "source": [
    "Ooh, that's ugly - and meaningless at first glance. After some digging around we figure out that this variable is in Posix format: it reports seconds since 1970-01-01. Let's create a few features that can be meangingful for us: \n",
    "\n",
    "1. **approveHour** - Hour of the day in which a comment was published. We expect, for example, that people are reading and responding to online content more during the day than at night. Categorical.\n",
    "\n",
    "2. **approveDay**  - Same for day of the week, perhaps weekends are more procrastination-prone than weekdays. Categorical.\n",
    "\n",
    "2. **hoursAfterArticle** - The number of hours elapsed between an article's publication and the corresponding comments' approval (and therefore publication). We can use the **pubDate** original variable from the articles dataset for the former. That one is coded as a string, so we'll have to convert it to a time format as well. We expect that if too much time passes after an article is published, it will simply get too few eyeballs. Continuous.\n",
    " "
   ]
  },
  {
   "cell_type": "code",
   "execution_count": 28,
   "metadata": {
    "autoscroll": false,
    "collapsed": false,
    "ein.hycell": false,
    "ein.tags": "worksheet-0",
    "slideshow": {
     "slide_type": "-"
    }
   },
   "outputs": [
    {
     "name": "stdout",
     "output_type": "stream",
     "text": [
      "0    2017-02-02 00:26:16\n",
      "1    2017-02-02 00:26:16\n",
      "2    2017-02-02 00:26:16\n",
      "3    2017-02-02 00:26:16\n",
      "4    2017-02-02 00:26:16\n",
      "Name: pubDate, dtype: object\n"
     ]
    },
    {
     "name": "stdout",
     "output_type": "stream",
     "text": [
      "0   2017-02-02 00:26:16\n",
      "1   2017-02-02 00:26:16\n",
      "2   2017-02-02 00:26:16\n",
      "3   2017-02-02 00:26:16\n",
      "4   2017-02-02 00:26:16\n",
      "Name: pubDate, dtype: datetime64[ns]\n"
     ]
    }
   ],
   "source": [
    "# fix article publication date\n",
    "print(df.pubDate.head())\n",
    "df.pubDate = pd.to_datetime(df.pubDate)\n",
    "print(df.pubDate.head())"
   ]
  },
  {
   "cell_type": "code",
   "execution_count": 29,
   "metadata": {
    "autoscroll": false,
    "collapsed": false,
    "ein.hycell": false,
    "ein.tags": "worksheet-0",
    "slideshow": {
     "slide_type": "-"
    }
   },
   "outputs": [
    {
     "name": "stdout",
     "output_type": "stream",
     "text": [
      "0    1486065741\n",
      "1    1486055271\n",
      "2    1486055240\n",
      "3    1486055221\n",
      "4    1486055214\n",
      "Name: approveDate, dtype: int64\n"
     ]
    },
    {
     "name": "stdout",
     "output_type": "stream",
     "text": [
      "0   2017-02-02 20:02:21\n",
      "1   2017-02-02 17:07:51\n",
      "2   2017-02-02 17:07:20\n",
      "3   2017-02-02 17:07:01\n",
      "4   2017-02-02 17:06:54\n",
      "Name: approveTime, dtype: datetime64[ns]\n",
      "count                 2086862\n",
      "unique                1233915\n",
      "top       2017-04-26 15:53:49\n",
      "freq                       42\n",
      "first     2017-01-02 00:51:07\n",
      "last      2018-05-02 03:50:35\n",
      "Name: approveTime, dtype: object\n"
     ]
    }
   ],
   "source": [
    "# convert all time columns from posix to regular format (we'll only use one of them)\n",
    "print(df.approveDate.head())\n",
    "timecolumns = ['approveDate', 'createDate', 'updateDate']\n",
    "df[['approveTime', 'createTime', 'updateTime']] = df[timecolumns].apply(\n",
    "    lambda t: pd.to_datetime(t, unit='s'))\n",
    "print(df.approveTime.head())\n",
    "print(df.approveTime.describe())"
   ]
  },
  {
   "cell_type": "code",
   "execution_count": 30,
   "metadata": {
    "autoscroll": false,
    "collapsed": false,
    "ein.hycell": false,
    "ein.tags": "worksheet-0",
    "slideshow": {
     "slide_type": "-"
    }
   },
   "outputs": [
    {
     "name": "stdout",
     "output_type": "stream",
     "text": [
      "0    8PM\n",
      "1    5PM\n",
      "2    5PM\n",
      "3    5PM\n",
      "4    5PM\n",
      "Name: approveHour, dtype: object\n"
     ]
    },
    {
     "name": "stdout",
     "output_type": "stream",
     "text": [
      "(2086862, 133)\n"
     ]
    }
   ],
   "source": [
    "# change the index to approveTime\n",
    "df.index = df.approveTime\n",
    "# sample by hour, (to the next hour)\n",
    "df['approveHour'] = [\n",
    "    str(x) + 'AM' if x < 12 else str(x - 12) + 'PM' for x in df.index.hour]\n",
    "# sample by day\n",
    "df['approveDay'] = df.index.weekday_name\n",
    "df.reset_index(drop=True, inplace=True)\n",
    "print(df.approveHour.head())\n",
    "# add dummies for both to df using the function we built earlier\n",
    "df_temp = OneHotEncoding(['approveHour',\n",
    "                          'approveDay'])\n",
    "# combine the two types of features and remove the old one\n",
    "# X_full = pd.concat([X_full, df_temp], axis=1)\n",
    "# del X_full['approveDate']\n",
    "# and place them in the dev set as well\n",
    "X = pd.concat([X, df_temp], axis=1)\n",
    "del X['approveDate']\n",
    "print(X.shape)\n",
    "del df_temp\n"
   ]
  },
  {
   "cell_type": "code",
   "execution_count": 31,
   "metadata": {
    "autoscroll": false,
    "collapsed": false,
    "ein.hycell": false,
    "ein.tags": "worksheet-0",
    "slideshow": {
     "slide_type": "-"
    }
   },
   "outputs": [
    {
     "name": "stdout",
     "output_type": "stream",
     "text": [
      "0    19.0\n",
      "1    16.0\n",
      "2    16.0\n",
      "3    16.0\n",
      "4    16.0\n",
      "Name: hoursAfterArticle, dtype: float64\n",
      "count    2.086862e+06\n",
      "mean     2.956882e+01\n",
      "std      2.166681e+02\n",
      "min     -8.000000e+00\n",
      "25%      7.000000e+00\n",
      "50%      1.300000e+01\n",
      "75%      2.000000e+01\n",
      "max      1.030800e+04\n",
      "Name: hoursAfterArticle, dtype: float64\n"
     ]
    }
   ],
   "source": [
    "# create a feature for time of posting of comment since article published\n",
    "df['timeDelta'] = df.approveTime - df.pubDate\n",
    "# convert this timedelta object to hours (downsample)\n",
    "df['hoursAfterArticle'] = df.timeDelta.astype(\n",
    "    'timedelta64[h]')\n",
    "\n",
    "print(df.hoursAfterArticle.head())\n",
    "print(df.hoursAfterArticle.describe())"
   ]
  },
  {
   "cell_type": "markdown",
   "metadata": {
    "ein.tags": "worksheet-0",
    "slideshow": {
     "slide_type": "-"
    }
   },
   "source": [
    "Ooops! Negative hours... Hmm, the minimum value of the new variable is -8. Since we haven't yet discovered time travel, this means that either we are experiencing issues with time zones or there's simply some errors in the data - some articles appeared before their publication time or some comments' approval time was misrecorded. Either way, the issue affects very few cases, so we'll simply set all of the negative values to zero, noting the fact that we may be introducing some noise and even bias here. \n"
   ]
  },
  {
   "cell_type": "code",
   "execution_count": 35,
   "metadata": {
    "autoscroll": false,
    "collapsed": false,
    "ein.hycell": false,
    "ein.tags": "worksheet-0",
    "slideshow": {
     "slide_type": "-"
    }
   },
   "outputs": [
    {
     "name": "stdout",
     "output_type": "stream",
     "text": [
      "0\n",
      "count    2.086862e+06\n",
      "mean     2.957044e+01\n",
      "std      2.166679e+02\n",
      "min      0.000000e+00\n",
      "25%      7.000000e+00\n",
      "50%      1.300000e+01\n",
      "75%      2.000000e+01\n",
      "max      1.030800e+04\n",
      "Name: hoursAfterArticle, dtype: float64\n"
     ]
    }
   ],
   "source": [
    "print(df[df.hoursAfterArticle < 0].shape[0])\n",
    "df.loc[df.hoursAfterArticle < 0, 'hoursAfterArticle'] = 0\n",
    "# And assign to the large DataFrame:\n",
    "# X_full['hoursAfterArticle'] = df['hoursAfterArticle']\n",
    "# and the small dev set\n",
    "X['hoursAfterArticle'] = df['hoursAfterArticle']\n",
    "print(X.hoursAfterArticle.describe())"
   ]
  },
  {
   "cell_type": "markdown",
   "metadata": {
    "ein.tags": "worksheet-0",
    "slideshow": {
     "slide_type": "-"
    }
   },
   "source": [
    "Features based on raw text data  <a name='textdata'></a>"
   ]
  },
  {
   "cell_type": "markdown",
   "metadata": {
    "ein.tags": "worksheet-0",
    "slideshow": {
     "slide_type": "-"
    }
   },
   "source": [
    "OK, here comes the messy raw text manipulation. We have so far not utilized the actual body of comments as well as some of the raw text data we possess about the articles. So let's do that.\n",
    "My intuition about comment upvotes is that generally comments will be more popular when they read like their author put in time and effort to write them, made them more informative, polished and balanced. This could mean quite a few different things, but here's one way to approach the quantification problem. We expect that popular comments will not be too short (low effort!), will use more sophisticated language (ie more rare words, longer words, longer sentences, etc.), will have no or few spelling mistakes (no excuses now that most browsers offer spellcheck out of the box), and will not be too negative-sounding (positive or neutral sentiment). These are of course little more than hunches at this stage.\n"
   ]
  },
  {
   "cell_type": "markdown",
   "metadata": {
    "ein.tags": "worksheet-0",
    "slideshow": {
     "slide_type": "-"
    }
   },
   "source": [
    "A NYTimes vocabulary <a name='vocab'></a>\n",
    "\n",
    "To get measures of all of these, we'll use a few external libraries and one more dataset. I would like to measure the extent to which comments use _the language of the NYTimes_. To that effect, it makes sense to create a vocabulary based on the text of NYTimes articles. I found another wonderful dataset on Kaggle - available \n",
    "[here](https://www.kaggle.com/nzalake52/new-york-times-articles/data). It contains over 8,000 articles, and while not very well documented, should more than suffice for our purposes here.\n",
    "\n",
    "For both speed and ease of use, we can use the built-in tokenizer in Scikit-learn, tuning it a bit in order to get only words. We tokenize the raw text files of the articles' bodies immediately upon reading them, append them to a list and transform it into a Pandas Series (for convenience). Then, we fit the tokenizer to them to learn the frequency of each word's usage. Frequency is important here, as we want to get a sense whether a comment uses rare english words."
   ]
  },
  {
   "cell_type": "code",
   "execution_count": 36,
   "metadata": {
    "autoscroll": false,
    "collapsed": false,
    "ein.hycell": false,
    "ein.tags": "worksheet-0",
    "slideshow": {
     "slide_type": "-"
    }
   },
   "outputs": [
    {
     "name": "stdout",
     "output_type": "stream",
     "text": [
      "4164    san francisco long running scholastic science math competition new champion money splashy kickof...\n",
      "dtype: object\n"
     ]
    },
    {
     "data": {
      "text/plain": [
       "CountVectorizer(analyzer='word', binary=False, decode_error='strict',\n        dtype=<class 'numpy.int64'>, encoding='utf-8', input='content',\n        lowercase=True, max_df=1.0, max_features=None, min_df=1,\n        ngram_range=(1, 1), preprocessor=None, stop_words='english',\n        strip_accents='unicode', token_pattern='(?u)\\\\b\\\\w\\\\w+\\\\b',\n        tokenizer=None, vocabulary=None)"
      ]
     },
     "execution_count": 36,
     "metadata": {},
     "output_type": "execute_result"
    }
   ],
   "source": [
    "# Get some NYTimes articles to train on\n",
    "counter = CountVectorizer(stop_words='english',\n",
    "                          strip_accents='unicode',\n",
    "                          analyzer='word',\n",
    "                          min_df=1)\n",
    "# first get the tokenizer tool from CountVectorizer\n",
    "tokenize = counter.build_analyzer()\n",
    "docs = []\n",
    "doc = ''\n",
    "\n",
    "with open('./Data/nytimes_news_articles.txt', encoding='utf-8') as file:\n",
    "    for line in file:\n",
    "        if line.startswith('URL'):\n",
    "            if doc != '':\n",
    "                docs.append(' '.join(tokenize(doc)))\n",
    "            doc = ''\n",
    "        else:\n",
    "            doc += line\n",
    "\n",
    "docs = pd.Series(docs)\n",
    "print(docs.sample())\n",
    "# fit the CountVectorizer to the data\n",
    "counter.fit(docs)\n"
   ]
  },
  {
   "cell_type": "markdown",
   "metadata": {
    "ein.tags": "worksheet-0",
    "slideshow": {
     "slide_type": "-"
    }
   },
   "source": [
    "Whenever we tokenize it is a good idea to take a look at the beginning and end of the token lists, remembering that raw text is messy business. A useful little built-in function allows us to explore the dictionary we are building:"
   ]
  },
  {
   "cell_type": "code",
   "execution_count": 37,
   "metadata": {
    "autoscroll": false,
    "collapsed": false,
    "ein.hycell": false,
    "ein.tags": "worksheet-0",
    "slideshow": {
     "slide_type": "-"
    }
   },
   "outputs": [
    {
     "name": "stdout",
     "output_type": "stream",
     "text": [
      "['힘들어지고', '힘을', '힘이', '发烧一次', '富二代', '百毒', '素质', '聪明一次', '贤二机器僧', '高洪波']\n"
     ]
    }
   ],
   "source": [
    "token_names = counter.get_feature_names()\n",
    "# last 10 tokens\n",
    "print(token_names[-10:])\n"
   ]
  },
  {
   "cell_type": "markdown",
   "metadata": {
    "ein.tags": "worksheet-0",
    "slideshow": {
     "slide_type": "-"
    }
   },
   "source": [
    "Uh-oh! This doesn't look like english!\n",
    "After some digging around, the culprit is several articles in Asian characters. \n",
    "Let's identify and remove all of the articles in which a large portion of the words are not in English:"
   ]
  },
  {
   "cell_type": "code",
   "execution_count": 38,
   "metadata": {
    "autoscroll": false,
    "collapsed": false,
    "ein.hycell": false,
    "ein.tags": "worksheet-0",
    "slideshow": {
     "slide_type": "-"
    }
   },
   "outputs": [
    {
     "name": "stdout",
     "output_type": "stream",
     "text": [
      "6109    12.66\n",
      "8606    13.01\n",
      "3632    13.01\n",
      "4550    13.17\n",
      "2671    13.53\n",
      "7998    13.62\n",
      "1097    13.84\n",
      "7590    14.94\n",
      "8506    99.68\n",
      "7693    99.85\n",
      "dtype: float64\n"
     ]
    }
   ],
   "source": [
    "def score_English(article):\n",
    "    '''Report the percent of words in a document which are not English (ASCI)'''\n",
    "    if not article:\n",
    "        return np.nan\n",
    "    else:\n",
    "        n_english = 0\n",
    "        for token in article:\n",
    "            try:\n",
    "                token.encode('ascii')\n",
    "            except UnicodeEncodeError:\n",
    "                continue\n",
    "            else:\n",
    "                n_english += 1\n",
    "        return np.round(n_english / len(article) * 100, 2)\n",
    "\n",
    "\n",
    "percent_english = docs.apply(score_English)\n",
    "print(percent_english.sort_values().head(10))"
   ]
  },
  {
   "cell_type": "markdown",
   "metadata": {
    "ein.tags": "worksheet-0",
    "slideshow": {
     "slide_type": "-"
    }
   },
   "source": [
    "We remove the non-English articles and refit:"
   ]
  },
  {
   "cell_type": "code",
   "execution_count": 39,
   "metadata": {
    "autoscroll": false,
    "collapsed": false,
    "ein.hycell": false,
    "ein.tags": "worksheet-0",
    "slideshow": {
     "slide_type": "-"
    }
   },
   "outputs": [
    {
     "name": "stdout",
     "output_type": "stream",
     "text": [
      "['zuther', 'zuwarah', 'zuyu', 'zuyus', 'zverev', 'zvi', 'zvolen', 'zwd', 'zweden', 'zweibel', 'zweig', 'zwick', 'zwicker', 'zwilling', 'zwirner', 'zwolski', 'zyaratgah', 'zych', 'zydeco', 'zyklon', 'zylinski', 'zynga', 'zytiga', 'zytkow', 'zywicki', 'zz', '发烧一次', '百毒', '聪明一次', '贤二机器僧']\n"
     ]
    }
   ],
   "source": [
    "# remove them:\n",
    "docs = docs[percent_english > 20]\n",
    "# and try again:\n",
    "counter.fit(docs)\n",
    "# get the token names again\n",
    "feature_names = counter.get_feature_names()\n",
    "# the end looks good now:\n",
    "print(feature_names[-30:])\n"
   ]
  },
  {
   "cell_type": "markdown",
   "metadata": {
    "ein.tags": "worksheet-0",
    "slideshow": {
     "slide_type": "-"
    }
   },
   "source": [
    "And the beginning of the list is full of numbers, let's get rid of those as well:"
   ]
  },
  {
   "cell_type": "code",
   "execution_count": 40,
   "metadata": {
    "autoscroll": false,
    "collapsed": false,
    "ein.hycell": false,
    "ein.tags": "worksheet-0",
    "slideshow": {
     "slide_type": "-"
    }
   },
   "outputs": [
    {
     "name": "stdout",
     "output_type": "stream",
     "text": [
      "['00', '000', '0000', '0000364334', '0001', '000s', '000th', '001', '0017', '002']\n",
      "['____________________________________________________', '_idkmatilda', 'a1', 'a10', 'a16', 'a1c', 'a2', 'a20', 'a24', 'a2z']\n"
     ]
    }
   ],
   "source": [
    "print(feature_names[:10])\n",
    "vocab = feature_names[2330:]\n",
    "print(vocab[:10])"
   ]
  },
  {
   "cell_type": "markdown",
   "metadata": {
    "ein.tags": "worksheet-0",
    "slideshow": {
     "slide_type": "-"
    }
   },
   "source": [
    "Obviously we are not quite done yet - the tokenizer picked up quite a few non-words, let's run each by a proper English dictionary and eliminate the non-words."
   ]
  },
  {
   "cell_type": "code",
   "execution_count": 41,
   "metadata": {
    "autoscroll": false,
    "collapsed": false,
    "ein.hycell": false,
    "ein.tags": "worksheet-0",
    "slideshow": {
     "slide_type": "-"
    }
   },
   "outputs": [
    {
     "name": "stdout",
     "output_type": "stream",
     "text": [
      "['ab', 'aback', 'abacus', 'abandon', 'abandoned', 'abandoning', 'abandonment', 'abandons', 'abasement', 'abashed'] ['zoological', 'zoologist', 'zoology', 'zoom', 'zoomed', 'zooming', 'zooms', 'zoos', 'zucchini', 'zydeco']\n"
     ]
    }
   ],
   "source": [
    "import enchant\n",
    "us_english = enchant.Dict(\"en_US\")\n",
    "# create a clean copy of the dictionary only with recognized English words\n",
    "\n",
    "vocab = [word for word in vocab if us_english.check(word)]\n",
    "print(vocab[:10], vocab[-10:])"
   ]
  },
  {
   "cell_type": "markdown",
   "metadata": {
    "ein.tags": "worksheet-0",
    "slideshow": {
     "slide_type": "-"
    }
   },
   "source": [
    "OK, this looks much better, we have a proper english vocabulary based on the NYTimes. This is why did all of the work: using an IDF counter we can get the frequency of each recognized word and use that to build several features based on the diversity of a comment's vocabulary.\n",
    "\n",
    "All of this will be built on a measure commonly used in document classification in Natural Language Processing tasks called 'IDF' or 'inverse document frequency.' It measures how infrequently a word is used in a body of documents (how rare the word is), which is quite usefull for the typical document classification task, usually normalized by multiplying by term frequency, get 'TFIDF.' This is not what we need here though - we simply want IDF, so here's what it looks like and how to get it.\n",
    "First, we train a a tokenizer to the docs using only our cleaned up vocabulary:"
   ]
  },
  {
   "cell_type": "code",
   "execution_count": 42,
   "metadata": {
    "autoscroll": false,
    "collapsed": false,
    "ein.hycell": false,
    "ein.tags": "worksheet-0",
    "slideshow": {
     "slide_type": "-"
    }
   },
   "outputs": [
    {
     "data": {
      "text/plain": [
       "TfidfVectorizer(analyzer='word', binary=False, decode_error='strict',\n        dtype=<class 'numpy.int64'>, encoding='utf-8', input='content',\n        lowercase=True, max_df=1.0, max_features=None, min_df=1,\n        ngram_range=(1, 1), norm=None, preprocessor=None, smooth_idf=True,\n        stop_words=None, strip_accents=None, sublinear_tf=False,\n        token_pattern='(?u)\\\\b\\\\w\\\\w+\\\\b', tokenizer=None, use_idf=True,\n        vocabulary=['ab', 'aback', 'abacus', 'abandon', 'abandoned', 'abandoning', 'abandonment', 'abandons', 'abasement', 'abashed', 'abate', 'abated', 'abatement', 'abatements', 'abating', 'abbey', 'abbot', 'abbreviated', 'abbreviation', 'abbreviations', 'abdicate', 'abdicated', 'abdicating', 'abdication'...ogical', 'zoologist', 'zoology', 'zoom', 'zoomed', 'zooming', 'zooms', 'zoos', 'zucchini', 'zydeco'])"
      ]
     },
     "execution_count": 42,
     "metadata": {},
     "output_type": "execute_result"
    }
   ],
   "source": [
    "tfidf = TfidfVectorizer(norm=None,\n",
    "                        vocabulary=vocab,\n",
    "                        min_df=1,\n",
    "                        )\n",
    "\n",
    "tfidf.fit(docs)\n"
   ]
  },
  {
   "cell_type": "markdown",
   "metadata": {
    "ein.tags": "worksheet-0",
    "slideshow": {
     "slide_type": "-"
    }
   },
   "source": [
    "Now, let's see if it is behaving as expected. Here's a very simple example that shows us the IDF value for a word that appears in a given percentage of documents, using the conventional formula for IDF ([wiki](https://en.wikipedia.org/wiki/Tf-idf)):"
   ]
  },
  {
   "cell_type": "code",
   "execution_count": 43,
   "metadata": {
    "autoscroll": false,
    "collapsed": false,
    "ein.hycell": false,
    "ein.tags": "worksheet-0",
    "slideshow": {
     "slide_type": "-"
    }
   },
   "outputs": [
    {
     "name": "stdout",
     "output_type": "stream",
     "text": [
      "\n",
      "A term which appears in 0.01% of documents has an IDF of 9.52.\n",
      "\n",
      "A term which appears in 0.05% of documents has an IDF of 8.42.\n",
      "\n",
      "A term which appears in 0.10% of documents has an IDF of 7.81.\n",
      "\n",
      "A term which appears in 0.50% of documents has an IDF of 6.28.\n",
      "\n",
      "A term which appears in 1.00% of documents has an IDF of 5.60.\n",
      "\n",
      "A term which appears in 5.00% of documents has an IDF of 3.99.\n",
      "\n",
      "A term which appears in 10.00% of documents has an IDF of 3.30.\n",
      "\n",
      "A term which appears in 50.00% of documents has an IDF of 1.69.\n",
      "\n",
      "A term which appears in 100.00% of documents has an IDF of 1.00.\n"
     ]
    }
   ],
   "source": [
    "# check an individual word's idf:\n",
    "num_docs = 10000\n",
    "doc_freq = [1, 5, 10, 50, 100, 500, 1000, 5000, 10000]\n",
    "idf = [np.log((1 + num_docs)/(1 + x)) + 1 for x in doc_freq]\n",
    "for x, y in zip(doc_freq, idf):\n",
    "    print('\\nA term which appears in %.2f%% of documents has an IDF of %.2f.' %\n",
    "          (x/num_docs*100, y))"
   ]
  },
  {
   "cell_type": "markdown",
   "metadata": {
    "ein.tags": "worksheet-0",
    "slideshow": {
     "slide_type": "-"
    }
   },
   "source": [
    "OK, now let's see run some English words, in decreasing order of frequency, by our trained vocabulary:"
   ]
  },
  {
   "cell_type": "code",
   "execution_count": 44,
   "metadata": {
    "autoscroll": false,
    "collapsed": false,
    "ein.hycell": false,
    "ein.tags": "worksheet-0",
    "slideshow": {
     "slide_type": "-"
    }
   },
   "outputs": [
    {
     "name": "stdout",
     "output_type": "stream",
     "text": [
      "\n",
      "'zealot' has an IDF of 8.70.\n",
      "\n",
      "'edifice' has an IDF of 7.89.\n",
      "\n",
      "'prolific' has an IDF of 5.86.\n",
      "\n",
      "'simple' has an IDF of 3.87.\n",
      "\n",
      "'good' has an IDF of 2.23.\n",
      "\n",
      "'like' has an IDF of 1.53.\n"
     ]
    }
   ],
   "source": [
    "def word_idf(word, tfidf=tfidf):\n",
    "    idf = np.round(tfidf.idf_[tfidf.vocabulary_[word]], 2)\n",
    "    print('\\n\\'' + word + '\\' has an IDF of %.2f.' % idf)\n",
    "\n",
    "\n",
    "word_idf('zealot')\n",
    "word_idf('edifice')\n",
    "word_idf('prolific')\n",
    "word_idf('simple')\n",
    "word_idf('good')\n",
    "word_idf('like')\n"
   ]
  },
  {
   "cell_type": "markdown",
   "metadata": {
    "ein.tags": "worksheet-0",
    "slideshow": {
     "slide_type": "-"
    }
   },
   "source": [
    "That will do. \n",
    "Let's get back to the feature engineering. <a name='dataloading'></a> \n",
    "Using our trained IDF counter, we can transform all comments into a matrix of IDF scores (each row is an array of the IDF scores of the the tokens present in a comment). Then we can use that matrix (and some additional wizardry) to create a bincount - a count of each IDF integer. Think about this as the vocabulary rarity profile of a comment. While we could just rely on the mean IDF (or one of the other basic stats), doing a bincount allows us to probe a little deeper - two comments might have a very different IDF profile yet have the same mean IDF.\n",
    "For additional convenience, we create a simple summarizer function which reports a count, minimum, mean, standard deviation and maximum value given an array. In case a comment contains no recognizable words, we simply assign a value of zero to all measurables. A safer choice here would be to exclude the comment altogether - but very few comments fall in this category so are are not worried about bias too much (especially given the size of the full dataset)."
   ]
  },
  {
   "cell_type": "code",
   "execution_count": 45,
   "metadata": {
    "autoscroll": false,
    "collapsed": false,
    "ein.hycell": false,
    "ein.tags": "worksheet-0",
    "slideshow": {
     "slide_type": "-"
    }
   },
   "outputs": [],
   "source": [
    "# grab only the dev set comments:\n",
    "# comments = df.commentBody[dev_set_index]\n",
    "# uncomment next line for full set:\n",
    "comments = df.commentBody\n",
    "\n",
    "def summarizer(array):\n",
    "    '''Simple summary from an array: count, min, mean, stand dev, max'''\n",
    "    return np.array([array.size,\n",
    "                     np.min(array),\n",
    "                     np.mean(array),\n",
    "                     np.std(array),\n",
    "                     np.max(array)])\n",
    "\n",
    "\n",
    "def comment_idf_profile(row):\n",
    "    '''Summarize idf scores for each recognized token in a comment and provide a bincount percent of idf scores.'''\n",
    "    tokens = comment_tf[row, :].data\n",
    "    if tokens.size != 0:\n",
    "        idfs = comment_matrix[row, :].data / tokens\n",
    "        out_summary = summarizer(idfs)\n",
    "        out_bin = np.bincount(idfs.astype(int), minlength=10)[1:]\n",
    "        out_bin_percent = out_bin / len(tokens)\n",
    "        output = np.hstack([out_summary, out_bin_percent])\n",
    "    else:\n",
    "        output = np.zeros(14)\n",
    "    return output\n",
    "\n",
    "comment_matrix = tfidf.transform(comments)\n",
    "comment_matrix.sort_indices()  # it's inplace\n",
    "counter = CountVectorizer(vocabulary=vocab,\n",
    "                          min_df=1)\n",
    "comment_tf = counter.transform(comments)\n",
    "# comment_tokens = list(map(tokenize, comments))\n"
   ]
  },
  {
   "cell_type": "code",
   "execution_count": 46,
   "metadata": {
    "autoscroll": false,
    "collapsed": false,
    "ein.hycell": false,
    "ein.tags": "worksheet-0",
    "slideshow": {
     "slide_type": "-"
    }
   },
   "outputs": [
    {
     "data": {
      "text/plain": [
       "HBox(children=(IntProgress(value=0, max=2086862), HTML(value='')))"
      ]
     },
     "metadata": {},
     "output_type": "display_data"
    },
    {
     "name": "stdout",
     "output_type": "stream",
     "text": [
      "\n"
     ]
    },
    {
     "name": "stdout",
     "output_type": "stream",
     "text": [
      "<class 'pandas.core.frame.DataFrame'>\n",
      "RangeIndex: 2086862 entries, 0 to 2086861\n",
      "Data columns (total 14 columns):\n",
      "recognizedWordCount    float64\n",
      "MinIdf                 float64\n",
      "MeanIdf                float64\n",
      "StdDevIdf              float64\n",
      "MaxIdf                 float64\n",
      "Idf1Percent            float64\n",
      "Idf2Percent            float64\n",
      "Idf3Percent            float64\n",
      "Idf4Percent            float64\n",
      "Idf5Percent            float64\n",
      "Idf6Percent            float64\n",
      "Idf7Percent            float64\n",
      "Idf8Percent            float64\n",
      "Idf9Percent            float64\n",
      "dtypes: float64(14)\n",
      "memory usage: 222.9 MB\n",
      "None\n"
     ]
    },
    {
     "name": "stdout",
     "output_type": "stream",
     "text": [
      "       recognizedWordCount        MinIdf       MeanIdf     StdDevIdf  \\\n",
      "count         2.086862e+06  2.086862e+06  2.086862e+06  2.086862e+06   \n",
      "mean          2.659667e+01  2.037792e+00  4.320667e+00  1.525492e+00   \n",
      "std           2.231559e+01  7.355468e-01  6.411120e-01  4.230774e-01   \n",
      "min           0.000000e+00  0.000000e+00  0.000000e+00  0.000000e+00   \n",
      "25%           1.000000e+01  1.572314e+00  3.994302e+00  1.337919e+00   \n",
      "50%           2.000000e+01  1.861595e+00  4.312277e+00  1.575643e+00   \n",
      "75%           3.700000e+01  2.278323e+00  4.635627e+00  1.778732e+00   \n",
      "max           1.350000e+02  9.397959e+00  9.397959e+00  4.083889e+00   \n",
      "\n",
      "             MaxIdf   Idf1Percent   Idf2Percent   Idf3Percent   Idf4Percent  \\\n",
      "count  2.086862e+06  2.086862e+06  2.086862e+06  2.086862e+06  2.086862e+06   \n",
      "mean   7.647019e+00  4.340887e-02  1.802234e-01  2.688308e-01  1.993718e-01   \n",
      "std    1.479154e+00  6.441874e-02  1.221941e-01  1.376868e-01  1.227811e-01   \n",
      "min    0.000000e+00  0.000000e+00  0.000000e+00  0.000000e+00  0.000000e+00   \n",
      "25%    6.833010e+00  0.000000e+00  1.111111e-01  2.000000e-01  1.320755e-01   \n",
      "50%    7.893882e+00  2.777778e-02  1.666667e-01  2.631579e-01  2.000000e-01   \n",
      "75%    8.704812e+00  6.315789e-02  2.380952e-01  3.333333e-01  2.558140e-01   \n",
      "max    9.397959e+00  1.000000e+00  1.000000e+00  1.000000e+00  1.000000e+00   \n",
      "\n",
      "        Idf5Percent   Idf6Percent   Idf7Percent   Idf8Percent   Idf9Percent  \n",
      "count  2.086862e+06  2.086862e+06  2.086862e+06  2.086862e+06  2.086862e+06  \n",
      "mean   1.349866e-01  8.240932e-02  5.068460e-02  3.075329e-02  6.298503e-03  \n",
      "std    1.072303e-01  8.620036e-02  7.164216e-02  5.878346e-02  2.576581e-02  \n",
      "min    0.000000e+00  0.000000e+00  0.000000e+00  0.000000e+00  0.000000e+00  \n",
      "25%    7.142857e-02  0.000000e+00  0.000000e+00  0.000000e+00  0.000000e+00  \n",
      "50%    1.250000e-01  7.142857e-02  3.448276e-02  0.000000e+00  0.000000e+00  \n",
      "75%    1.818182e-01  1.190476e-01  7.692308e-02  4.545455e-02  0.000000e+00  \n",
      "max    1.000000e+00  1.000000e+00  1.000000e+00  1.000000e+00  1.000000e+00  \n"
     ]
    }
   ],
   "source": [
    "scored_df = multip(comment_idf_profile, range(comment_matrix.shape[0]))\n",
    "scored_df = pd.DataFrame(scored_df)\n",
    "idf_labs_percent = ['Idf' + str(x) + 'Percent' for x in range(1, 10)]\n",
    "scored_df.columns = ['recognizedWordCount',\n",
    "                     'MinIdf',\n",
    "                     'MeanIdf',\n",
    "                     'StdDevIdf',\n",
    "                     'MaxIdf'] + idf_labs_percent\n",
    "# quick sanity check\n",
    "print(scored_df.info())\n",
    "print(scored_df.describe())"
   ]
  },
  {
   "cell_type": "markdown",
   "metadata": {
    "ein.tags": "worksheet-0",
    "slideshow": {
     "slide_type": "-"
    }
   },
   "source": [
    "All in all, we ended up creating 14 new features, we won't worry about the correlations between them just yet, but we'll take a look at those before prediction. "
   ]
  },
  {
   "cell_type": "markdown",
   "metadata": {
    "ein.tags": "worksheet-0",
    "slideshow": {
     "slide_type": "-"
    }
   },
   "source": [
    "Time to throw in the kitchen sink! <a name='kitchensink'></a>\n",
    "\n",
    "Let's create more features based on more of the indicators we are looking for. Relying on two NLP libraries (TextBlob and the conventional NLTK), we obtain a host of features: basic stats on words and word length, basic stats on sentences and sentence length, sentiment polarity (positive-negative) and subjectivity (subjective-objective) scores, spelling (percent of correctly spelled words), and even part-of-speech breakdown (how many nouns, adjectives, adverbs and so on as a percentage of all words.) The full list of parts-of-speech tags is available \n",
    "[here](https://www.clips.uantwerpen.be/pages/mbsp-tags).\n",
    "\n",
    "For most of these features, our expectation is that generally comments should fall in an ideal range - not too short, nor too long in terms of sentence length and comment length; not too many adjectives but also not too few and so on. Of course, in terms of spelling we expect lower error rate to be better.\n",
    "\n",
    "A few additional small considerations. We put all of these indicators in one large function simply to economize on the overhead associated with multiprocessing. Also, there is a little regular expression magic at the beginning of the function to fix a very common error - no space after end of sentence punctuation (.?!). We fix that because it leads to more noise in all of our features. We spell-check all words which are not 'proper nouns', meaning names, as that should generate more accurate counts. Finally, comments shorter that three characters are coded as all zeros - they are simply too short to get much information. Again, one could also eliminate them out of the sample if worried about bias."
   ]
  },
  {
   "cell_type": "code",
   "execution_count": 47,
   "metadata": {
    "autoscroll": false,
    "collapsed": false,
    "ein.hycell": false,
    "ein.tags": "worksheet-0",
    "slideshow": {
     "slide_type": "-"
    }
   },
   "outputs": [
    {
     "data": {
      "text/plain": [
       "HBox(children=(IntProgress(value=0, max=2086862), HTML(value='')))"
      ]
     },
     "metadata": {},
     "output_type": "display_data"
    },
    {
     "name": "stdout",
     "output_type": "stream",
     "text": [
      "\n"
     ]
    }
   ],
   "source": [
    "# get all the POS tags to create an array\n",
    "from nltk.data import load\n",
    "from nltk import FreqDist\n",
    "from nltk.tokenize import WhitespaceTokenizer\n",
    "from enchant.checker import SpellChecker\n",
    "import re\n",
    "from textblob import TextBlob\n",
    "spell_checker = SpellChecker(us_english)\n",
    "universal_tags = load('help/tagsets/upenn_tagset.pickle')\n",
    "tags = universal_tags.keys()\n",
    "tag_labels_percent = [label + '_Percent' for label in tags]\n",
    "\n",
    "\n",
    "def comment_stats(comment):\n",
    "    '''Report stats for a comment. Stats on sentences, words, part-of-speech tags as portion of the total, spelling and sentiment scores. Comments shorter than 3 characters output zeroes.'''\n",
    "    if len(comment) < 3:\n",
    "        return np.zeros(58)\n",
    "    ################################################################################\n",
    "    # insert space after period or comma if there isn't one already (common error)\n",
    "    comment = re.sub(r'(?<=[.,?!])(?=[^\\s])', r' ', comment)\n",
    "    ################################################################################\n",
    "    # sentence stats\n",
    "    blob = TextBlob(comment)\n",
    "    sentences = blob.sentences\n",
    "    tokenized_sents = [sentence.words for sentence in sentences]\n",
    "    sent_lengths = np.array([len(sentence)\n",
    "                             for sentence in tokenized_sents])\n",
    "    out_sent = summarizer(sent_lengths)\n",
    "    ################################################################################\n",
    "    # word stats\n",
    "    word_lengths = np.array([len(word) for word in blob.words])\n",
    "    if word_lengths.size == 0:\n",
    "        return np.zeros(58)\n",
    "    out_word = summarizer(word_lengths)\n",
    "    ################################################################################\n",
    "    # sentiment analysis: polarity and objectivity\n",
    "    out_polarity = list(blob.sentiment)\n",
    "    ################################################################################\n",
    "    # spellcheck stats\n",
    "    # replace most punctuation by space for whitespacetokenizer, leave apostrophes for contractions\n",
    "    comment_nopunct = re.sub(r'[,.?!#():-=\"“”%$]', ' ', comment)\n",
    "    blob_nopunct = TextBlob(comment_nopunct, tokenizer=WhitespaceTokenizer())\n",
    "    non_NNP = [word for word, tag in blob_nopunct.tags if tag !=\n",
    "               'NNP']\n",
    "    if not non_NNP:\n",
    "        out_spell = np.zeros(1)\n",
    "    else:\n",
    "        spell_errors = 0\n",
    "        for word in non_NNP:\n",
    "            try:\n",
    "                spell_errors += not spell_checker.check(word.strip('\\'\\`'))\n",
    "            except:\n",
    "                spell_errors += 1\n",
    "        out_spell = np.array(spell_errors / len(non_NNP))\n",
    "    ################################################################################\n",
    "    # part of speech stats\n",
    "    fd = FreqDist(tag for (word, tag) in blob.tags)\n",
    "    ordered_freqs = np.array(\n",
    "        [fd[key] if key in fd.keys() else 0 for key in tags])\n",
    "    out_pos_percent = np.squeeze(ordered_freqs / len(word_lengths))\n",
    "    ################################################################################\n",
    "    return np.hstack([out_word, out_sent, out_polarity, out_spell,\n",
    "                      out_pos_percent])\n",
    "\n",
    "\n",
    "comment_stats_df = multip(comment_stats, comments)\n"
   ]
  },
  {
   "cell_type": "code",
   "execution_count": 48,
   "metadata": {
    "autoscroll": false,
    "collapsed": false,
    "ein.hycell": false,
    "ein.tags": "worksheet-0",
    "slideshow": {
     "slide_type": "-"
    }
   },
   "outputs": [
    {
     "name": "stdout",
     "output_type": "stream",
     "text": [
      "<class 'pandas.core.frame.DataFrame'>\n",
      "RangeIndex: 2086862 entries, 0 to 2086861\n",
      "Data columns (total 58 columns):\n",
      "WordCount                    float64\n",
      "minWordLength                float64\n",
      "meanWordLength               float64\n",
      "stdDevWordLength             float64\n",
      "maxWordLength                float64\n",
      "SentCount                    float64\n",
      "minSentLength                float64\n",
      "meanSentLength               float64\n",
      "stdDevSentLength             float64\n",
      "maxSentLength                float64\n",
      "commentPolarity              float64\n",
      "commentObjectivity           float64\n",
      "commentSpellErrorsPercent    float64\n",
      "LS_Percent                   float64\n",
      "TO_Percent                   float64\n",
      "VBN_Percent                  float64\n",
      "''_Percent                   float64\n",
      "WP_Percent                   float64\n",
      "UH_Percent                   float64\n",
      "VBG_Percent                  float64\n",
      "JJ_Percent                   float64\n",
      "VBZ_Percent                  float64\n",
      "--_Percent                   float64\n",
      "VBP_Percent                  float64\n",
      "NN_Percent                   float64\n",
      "DT_Percent                   float64\n",
      "PRP_Percent                  float64\n",
      ":_Percent                    float64\n",
      "WP$_Percent                  float64\n",
      "NNPS_Percent                 float64\n",
      "PRP$_Percent                 float64\n",
      "WDT_Percent                  float64\n",
      "(_Percent                    float64\n",
      ")_Percent                    float64\n",
      "._Percent                    float64\n",
      ",_Percent                    float64\n",
      "``_Percent                   float64\n",
      "$_Percent                    float64\n",
      "RB_Percent                   float64\n",
      "RBR_Percent                  float64\n",
      "RBS_Percent                  float64\n",
      "VBD_Percent                  float64\n",
      "IN_Percent                   float64\n",
      "FW_Percent                   float64\n",
      "RP_Percent                   float64\n",
      "JJR_Percent                  float64\n",
      "JJS_Percent                  float64\n",
      "PDT_Percent                  float64\n",
      "MD_Percent                   float64\n",
      "VB_Percent                   float64\n",
      "WRB_Percent                  float64\n",
      "NNP_Percent                  float64\n",
      "EX_Percent                   float64\n",
      "NNS_Percent                  float64\n",
      "SYM_Percent                  float64\n",
      "CC_Percent                   float64\n",
      "CD_Percent                   float64\n",
      "POS_Percent                  float64\n",
      "dtypes: float64(58)\n",
      "memory usage: 923.4 MB\n"
     ]
    }
   ],
   "source": [
    "comment_stats_df = pd.DataFrame(comment_stats_df)\n",
    "comment_stats_df.columns = ['WordCount',\n",
    "                            'minWordLength',\n",
    "                            'meanWordLength',\n",
    "                            'stdDevWordLength',\n",
    "                            'maxWordLength',\n",
    "                            'SentCount',\n",
    "                            'minSentLength',\n",
    "                            'meanSentLength',\n",
    "                            'stdDevSentLength',\n",
    "                            'maxSentLength',\n",
    "                            'commentPolarity',\n",
    "                            'commentObjectivity',\n",
    "                            'commentSpellErrorsPercent'] + tag_labels_percent\n",
    "# quick sanity check\n",
    "comment_stats_df.describe()\n",
    "comment_stats_df.info()\n"
   ]
  },
  {
   "cell_type": "code",
   "execution_count": 49,
   "metadata": {
    "autoscroll": false,
    "collapsed": false,
    "ein.hycell": false,
    "ein.tags": "worksheet-0",
    "slideshow": {
     "slide_type": "-"
    }
   },
   "outputs": [],
   "source": [
    "# add the both sets of new features to the dev set\n",
    "X = pd.concat([X.reset_index(drop=True),\n",
    "               scored_df,\n",
    "               comment_stats_df], axis=1)\n",
    "\n",
    "# uncomment for full set\n",
    "# X_full = pd.concat([X_full,\n",
    "#                scored_df,\n",
    "#                comment_stats_df], axis=1)\n"
   ]
  },
  {
   "cell_type": "markdown",
   "metadata": {
    "ein.tags": "worksheet-0",
    "slideshow": {
     "slide_type": "-"
    }
   },
   "source": [
    "OK, before we continue with the feature engineering, let's do a small unit test: let's look at the body of a comment and see if the features we just created match."
   ]
  },
  {
   "cell_type": "code",
   "execution_count": 50,
   "metadata": {
    "autoscroll": false,
    "collapsed": false,
    "ein.hycell": false,
    "ein.tags": "worksheet-0",
    "slideshow": {
     "slide_type": "-"
    }
   },
   "outputs": [
    {
     "name": "stdout",
     "output_type": "stream",
     "text": [
      "Let's hope not. I rely on the Times, the WaPo and the WSJ for my daily news consumption. (Although I avoid the Journal's op-Ed pages.)I found it a bit disturbing to see Baker on a Sunday show several weeks ago tap dancing around the issue of calling Trump Administration lies what they are (his rationale being that calling an untruth a lie ascribes a motive). If untruths were a rare occurrence, I might accept his point. But when they are an hourly event, it should make one suspicious that the point is dissemination of propaganda.  So I will continue to read the Journal and will continue to hope that the credible journalists there win the argument. We need all the credible sources we can get.\n",
      "\n",
      "reply                                0.000000\n",
      "author_By BRET STEPHENS              0.000000\n",
      "author_By CHARLES M. BLOW            0.000000\n",
      "author_By DAVID BROOKS               0.000000\n",
      "author_By DAVID LEONHARDT            1.000000\n",
      "author_By DEB AMLEN                  0.000000\n",
      "author_By FRANK BRUNI                0.000000\n",
      "author_By GAIL COLLINS               0.000000\n",
      "author_By JULIE HIRSCHFELD DAVIS     0.000000\n",
      "author_By MAUREEN DOWD               0.000000\n",
      "author_By MICHAEL D. SHEAR           0.000000\n",
      "author_By MICHELLE GOLDBERG          0.000000\n",
      "author_By NICHOLAS KRISTOF           0.000000\n",
      "author_By PAUL KRUGMAN               0.000000\n",
      "author_By PETER BAKER                0.000000\n",
      "author_By ROGER COHEN                0.000000\n",
      "author_By ROSS DOUTHAT               0.000000\n",
      "author_By THE EDITORIAL BOARD        0.000000\n",
      "author_By THE LEARNING NETWORK       0.000000\n",
      "author_By THOMAS B. EDSALL           0.000000\n",
      "author_By THOMAS L. FRIEDMAN         0.000000\n",
      "approveHour_0PM                      0.000000\n",
      "approveHour_10AM                     0.000000\n",
      "approveHour_10PM                     0.000000\n",
      "approveHour_11AM                     0.000000\n",
      "approveHour_11PM                     0.000000\n",
      "approveHour_1AM                      0.000000\n",
      "approveHour_1PM                      0.000000\n",
      "approveHour_2AM                      0.000000\n",
      "approveHour_2PM                      1.000000\n",
      "approveHour_3AM                      0.000000\n",
      "approveHour_3PM                      0.000000\n",
      "approveHour_4AM                      0.000000\n",
      "approveHour_4PM                      0.000000\n",
      "approveHour_5AM                      0.000000\n",
      "approveHour_5PM                      0.000000\n",
      "approveHour_6AM                      0.000000\n",
      "approveHour_6PM                      0.000000\n",
      "approveHour_7AM                      0.000000\n",
      "approveHour_7PM                      0.000000\n",
      "approveHour_8AM                      0.000000\n",
      "approveHour_8PM                      0.000000\n",
      "approveHour_9AM                      0.000000\n",
      "approveHour_9PM                      0.000000\n",
      "approveDay_Monday                    0.000000\n",
      "approveDay_Saturday                  0.000000\n",
      "approveDay_Sunday                    0.000000\n",
      "approveDay_Thursday                  0.000000\n",
      "approveDay_Tuesday                   1.000000\n",
      "approveDay_Wednesday                 0.000000\n",
      "hoursAfterArticle                    5.000000\n",
      "recognizedWordCount                 48.000000\n",
      "MinIdf                               1.929160\n",
      "MeanIdf                              4.647464\n",
      "StdDevIdf                            1.816698\n",
      "MaxIdf                               9.397959\n",
      "Idf1Percent                          0.020833\n",
      "Idf2Percent                          0.166667\n",
      "Idf3Percent                          0.250000\n",
      "Idf4Percent                          0.166667\n",
      "Name: 88888, dtype: float64\n",
      "Idf5Percent                    0.229167\n",
      "Idf6Percent                    0.062500\n",
      "Idf7Percent                    0.020833\n",
      "Idf8Percent                    0.041667\n",
      "Idf9Percent                    0.041667\n",
      "WordCount                    128.000000\n",
      "minWordLength                  1.000000\n",
      "meanWordLength                 4.367188\n",
      "stdDevWordLength               2.603697\n",
      "maxWordLength                 14.000000\n",
      "SentCount                      8.000000\n",
      "minSentLength                  4.000000\n",
      "meanSentLength                16.000000\n",
      "stdDevSentLength              10.851267\n",
      "maxSentLength                 41.000000\n",
      "commentPolarity                0.162500\n",
      "commentObjectivity             0.450000\n",
      "commentSpellErrorsPercent      0.000000\n",
      "LS_Percent                     0.000000\n",
      "TO_Percent                     0.023438\n",
      "VBN_Percent                    0.000000\n",
      "''_Percent                     0.000000\n",
      "WP_Percent                     0.007812\n",
      "UH_Percent                     0.000000\n",
      "VBG_Percent                    0.039062\n",
      "JJ_Percent                     0.062500\n",
      "VBZ_Percent                    0.023438\n",
      "--_Percent                     0.000000\n",
      "VBP_Percent                    0.046875\n",
      "NN_Percent                     0.125000\n",
      "                                ...    \n",
      "WP$_Percent                    0.000000\n",
      "NNPS_Percent                   0.000000\n",
      "PRP$_Percent                   0.023438\n",
      "WDT_Percent                    0.000000\n",
      "(_Percent                      0.000000\n",
      ")_Percent                      0.000000\n",
      "._Percent                      0.000000\n",
      ",_Percent                      0.000000\n",
      "``_Percent                     0.000000\n",
      "$_Percent                      0.000000\n",
      "RB_Percent                     0.031250\n",
      "RBR_Percent                    0.000000\n",
      "RBS_Percent                    0.000000\n",
      "VBD_Percent                    0.015625\n",
      "IN_Percent                     0.093750\n",
      "FW_Percent                     0.000000\n",
      "RP_Percent                     0.000000\n",
      "JJR_Percent                    0.000000\n",
      "JJS_Percent                    0.000000\n",
      "PDT_Percent                    0.007812\n",
      "MD_Percent                     0.039062\n",
      "VB_Percent                     0.078125\n",
      "WRB_Percent                    0.007812\n",
      "NNP_Percent                    0.070312\n",
      "EX_Percent                     0.000000\n",
      "NNS_Percent                    0.039062\n",
      "SYM_Percent                    0.000000\n",
      "CC_Percent                     0.023438\n",
      "CD_Percent                     0.007812\n",
      "POS_Percent                    0.015625\n",
      "Name: 88888, Length: 63, dtype: float64\n"
     ]
    }
   ],
   "source": [
    "print(comments.iloc[88888])\n",
    "print()\n",
    "print(X.iloc[88888, 83:143])\n",
    "print(X.iloc[88888, 143:])\n"
   ]
  },
  {
   "cell_type": "markdown",
   "metadata": {
    "ein.tags": "worksheet-0",
    "slideshow": {
     "slide_type": "-"
    }
   },
   "source": [
    "Great, it's a match: number of words, sentences, spelling, etc.\n",
    "Final step in the feature engineering: Token features <a name='articletextdata'></a>\n",
    "Basically, these are simply binary features of whether a certain token (usually word) is included or not. To economize on time and memory, we'll limit ourselves to the top (most frequent) 50 tokens. Obviously, we could easily increase the count or eliminate the limitation altogether, but we would end up with many more features.\n",
    "The first one will be based on the list of keywords that came with each article, **keywords**. Quite simply, our expectation here is that some keywords describing articles may be associated with more comments and upvotes in general (hot topics).\n",
    "This is what they look like:"
   ]
  },
  {
   "cell_type": "code",
   "execution_count": null,
   "metadata": {
    "autoscroll": false,
    "collapsed": false,
    "ein.hycell": false,
    "ein.tags": "worksheet-0",
    "slideshow": {
     "slide_type": "-"
    }
   },
   "outputs": [],
   "source": [
    "df.keywords.sample(5)"
   ]
  },
  {
   "cell_type": "markdown",
   "metadata": {
    "ein.tags": "worksheet-0",
    "slideshow": {
     "slide_type": "-"
    }
   },
   "source": [
    "We simply tokenize the keyword lists, this time tuning the tokenizer to remove the artefacts of the lists and split on commas. Essentially, we are building a word list of the most commonly occuring keywords and record whether an article (and therefore all the comments attached to it) contains them in the description or not. We fit (train) on the full set but transform (count) only the dev set. The result is a sparse matrix, which we will convert to dense before the prediction. "
   ]
  },
  {
   "cell_type": "code",
   "execution_count": 51,
   "metadata": {
    "autoscroll": false,
    "collapsed": false,
    "ein.hycell": false,
    "ein.tags": "worksheet-0",
    "slideshow": {
     "slide_type": "-"
    }
   },
   "outputs": [
    {
     "name": "stdout",
     "output_type": "stream",
     "text": [
      "['Keyword:\"\"', 'Keyword:\"appointments and executive changes\"', 'Keyword:\"blacks\"', 'Keyword:\"china\"', 'Keyword:\"classified information and state secrets\"', 'Keyword:\"clinton, hillary rodham\"', 'Keyword:\"comey, james b\"', 'Keyword:\"cyberwarfare and defense\"', 'Keyword:\"democratic party\"', 'Keyword:\"demonstrations, protests and riots\"', 'Keyword:\"discrimination\"', 'Keyword:\"espionage and intelligence services\"', 'Keyword:\"executive orders and memorandums\"', 'Keyword:\"federal budget (us)\"', 'Keyword:\"federal bureau of investigation\"', 'Keyword:\"global warming\"', 'Keyword:\"gun control\"', 'Keyword:\"health insurance and managed care\"', 'Keyword:\"house of representatives\"', 'Keyword:\"illegal immigration\"', 'Keyword:\"immigration and emigration\"', 'Keyword:\"international trade and world market\"', 'Keyword:\"justice department\"', 'Keyword:\"labor and jobs\"', 'Keyword:\"law and legislation\"', 'Keyword:\"mueller, robert s iii\"', 'Keyword:\"news and news media\"', 'Keyword:\"obama, barack\"', 'Keyword:\"parkland, fla, shooting (2018)\"', 'Keyword:\"patient protection and affordable care act (2010)\"', 'Keyword:\"politics and government\"', 'Keyword:\"presidential election of 2016\"', 'Keyword:\"putin, vladimir v\"', 'Keyword:\"refugees and displaced persons\"', 'Keyword:\"republican party\"', 'Keyword:\"russia\"', 'Keyword:\"russian interference in 2016 us elections and ties to trump associates\"', 'Keyword:\"ryan, paul d jr\"', 'Keyword:\"school shootings and armed attacks\"', 'Keyword:\"senate\"', 'Keyword:\"special prosecutors (independent counsel)\"', 'Keyword:\"supreme court (us)\"', 'Keyword:\"syria\"', 'Keyword:\"trump, donald j\"', 'Keyword:\"united states\"', 'Keyword:\"united states defense and military forces\"', 'Keyword:\"united states economy\"', 'Keyword:\"united states international relations\"', 'Keyword:\"united states politics and government\"', 'Keyword:\"women and girls\"']\n"
     ]
    }
   ],
   "source": [
    "keywords = df.keywords\n",
    "\n",
    "# # uncomment for full set\n",
    "# keywords = df.keywords\n",
    "\n",
    "def keyword_tokenizer(keyword):\n",
    "    '''Split into keywords (phrases and remove all quotes and brackets)'''\n",
    "    return [phrase.strip('\\'\\[\\] ') for phrase in keyword.split('\\',')]\n",
    "\n",
    "\n",
    "counter_keywords = CountVectorizer(stop_words='english',\n",
    "                                   analyzer='word',\n",
    "                                   tokenizer=keyword_tokenizer,\n",
    "                                   max_features=50)\n",
    "counter_keywords.fit(df.keywords)\n",
    "common_keywords = counter_keywords.transform(keywords)\n",
    "keyword_features = counter_keywords.get_feature_names()\n",
    "keyword_features = ['Keyword:\"' + feature +\n",
    "                    '\"' for feature in keyword_features]\n",
    "print(keyword_features)\n"
   ]
  },
  {
   "cell_type": "markdown",
   "metadata": {
    "ein.tags": "worksheet-0",
    "slideshow": {
     "slide_type": "-"
    }
   },
   "source": [
    "Yep, this does seem like a list of hot topics in the news for the two periods the articles covered."
   ]
  },
  {
   "cell_type": "markdown",
   "metadata": {
    "ein.tags": "worksheet-0",
    "slideshow": {
     "slide_type": "-"
    }
   },
   "source": [
    "Finally, the last feature to be engineered is the same counter for most commonly occuring words, but this time applied to the comments themselves. We'll be a little more generous and allow the top 100 such tokens to be counted (and again you could easily increase the number of tokens here). We will also exclude extremely common tokens - ones that appear in more than 30% of the comments and look for either single tokens or bigrams of tokens. Warning: this will take a few minutes..."
   ]
  },
  {
   "cell_type": "code",
   "execution_count": 52,
   "metadata": {
    "autoscroll": false,
    "collapsed": false,
    "ein.hycell": false,
    "ein.tags": "worksheet-0",
    "slideshow": {
     "slide_type": "-"
    }
   },
   "outputs": [
    {
     "name": "stdout",
     "output_type": "stream",
     "text": [
      "['CommentWord:\"actually\"', 'CommentWord:\"administration\"', 'CommentWord:\"america\"', 'CommentWord:\"american\"', 'CommentWord:\"americans\"', 'CommentWord:\"article\"', 'CommentWord:\"believe\"', 'CommentWord:\"best\"', 'CommentWord:\"better\"', 'CommentWord:\"care\"', 'CommentWord:\"change\"', 'CommentWord:\"children\"', 'CommentWord:\"come\"', 'CommentWord:\"congress\"', 'CommentWord:\"country\"', 'CommentWord:\"day\"', 'CommentWord:\"democrats\"', 'CommentWord:\"did\"', 'CommentWord:\"didn\"', 'CommentWord:\"does\"', 'CommentWord:\"doesn\"', 'CommentWord:\"doing\"', 'CommentWord:\"don\"', 'CommentWord:\"donald\"', 'CommentWord:\"election\"', 'CommentWord:\"fact\"', 'CommentWord:\"far\"', 'CommentWord:\"going\"', 'CommentWord:\"good\"', 'CommentWord:\"gop\"', 'CommentWord:\"government\"', 'CommentWord:\"great\"', 'CommentWord:\"health\"', 'CommentWord:\"help\"', 'CommentWord:\"hope\"', 'CommentWord:\"house\"', 'CommentWord:\"just\"', 'CommentWord:\"know\"', 'CommentWord:\"law\"', 'CommentWord:\"left\"', 'CommentWord:\"let\"', 'CommentWord:\"life\"', 'CommentWord:\"like\"', 'CommentWord:\"little\"', 'CommentWord:\"long\"', 'CommentWord:\"look\"', 'CommentWord:\"make\"', 'CommentWord:\"man\"', 'CommentWord:\"maybe\"', 'CommentWord:\"media\"', 'CommentWord:\"money\"', 'CommentWord:\"mr\"', 'CommentWord:\"need\"', 'CommentWord:\"new\"', 'CommentWord:\"news\"', 'CommentWord:\"obama\"', 'CommentWord:\"office\"', 'CommentWord:\"party\"', 'CommentWord:\"pay\"', 'CommentWord:\"people\"', 'CommentWord:\"person\"', 'CommentWord:\"point\"', 'CommentWord:\"political\"', 'CommentWord:\"power\"', 'CommentWord:\"president\"', 'CommentWord:\"problem\"', 'CommentWord:\"public\"', 'CommentWord:\"read\"', 'CommentWord:\"real\"', 'CommentWord:\"really\"', 'CommentWord:\"republican\"', 'CommentWord:\"republicans\"', 'CommentWord:\"right\"', 'CommentWord:\"russia\"', 'CommentWord:\"said\"', 'CommentWord:\"say\"', 'CommentWord:\"school\"', 'CommentWord:\"state\"', 'CommentWord:\"states\"', 'CommentWord:\"support\"', 'CommentWord:\"tax\"', 'CommentWord:\"thing\"', 'CommentWord:\"things\"', 'CommentWord:\"think\"', 'CommentWord:\"time\"', 'CommentWord:\"times\"', 'CommentWord:\"trump\"', 'CommentWord:\"use\"', 'CommentWord:\"ve\"', 'CommentWord:\"vote\"', 'CommentWord:\"want\"', 'CommentWord:\"war\"', 'CommentWord:\"way\"', 'CommentWord:\"white\"', 'CommentWord:\"women\"', 'CommentWord:\"won\"', 'CommentWord:\"work\"', 'CommentWord:\"world\"', 'CommentWord:\"year\"', 'CommentWord:\"years\"']\n"
     ]
    }
   ],
   "source": [
    "\n",
    "# exclude very common words (appear in more than half the comments)\n",
    "counter = CountVectorizer(stop_words='english',\n",
    "                          analyzer='word',\n",
    "                          ngram_range=(1, 2),\n",
    "                          max_df=.3,\n",
    "                          max_features=100,\n",
    "                          )\n",
    "\n",
    "counter.fit(df.commentBody)\n",
    "common_tokens = counter.transform(comments)\n",
    "token_names = counter.get_feature_names()\n",
    "token_names = ['CommentWord:\"' + feature + '\"' for feature in token_names]\n",
    "print(token_names)\n"
   ]
  },
  {
   "cell_type": "markdown",
   "metadata": {
    "ein.tags": "worksheet-0",
    "slideshow": {
     "slide_type": "-"
    }
   },
   "source": [
    "Add them to the dev set. We also downgrade a few of the data types to save on memory (this is not strictly necessary, but it is useful with the full set which easily runs over memory limits)."
   ]
  },
  {
   "cell_type": "code",
   "execution_count": null,
   "metadata": {
    "autoscroll": false,
    "collapsed": false,
    "ein.hycell": false,
    "ein.tags": "worksheet-0",
    "slideshow": {
     "slide_type": "-"
    }
   },
   "outputs": [],
   "source": [
    "X = pd.concat([X,\n",
    "               pd.DataFrame(common_keywords.toarray(),\n",
    "                            columns=keyword_features),\n",
    "               pd.DataFrame(common_tokens.toarray(),\n",
    "                            columns=token_names)],\n",
    "              axis=1)\n",
    "# # uncomment for full set\n",
    "# X_full = pd.concat([X_full.reset_index(drop=True),\n",
    "#                     pd.DataFrame(common_keywords.toarray(),\n",
    "#                                  columns=keyword_features),\n",
    "#                     pd.DataFrame(comment_tokens.toarray(),\n",
    "#                                  columns=token_names)],\n",
    "#                    axis=1)\n",
    "\n",
    "# Memory saving type conversion\n",
    "# this is dangerous when storing very large numbers to store, but we don't have those here\n",
    "print(X.info())\n",
    "# ints\n",
    "for column in X.columns[X.dtypes.eq('int')]:\n",
    "    X[column] = X[column].astype('int8')\n",
    "# floats \n",
    "for column in X.columns[X.dtypes.eq('float')]:\n",
    "    X[column] = X[column].astype('float32')\n",
    "print(X.info())\n",
    "# save data so we don't have to wait again\n",
    "# X.to_pickle('./Data/X_full.pkl')\n"
   ]
  },
  {
   "cell_type": "code",
   "execution_count": 5,
   "metadata": {
    "autoscroll": false,
    "collapsed": false,
    "ein.hycell": false,
    "ein.tags": "worksheet-0",
    "slideshow": {
     "slide_type": "-"
    }
   },
   "outputs": [],
   "source": [
    "X = pd.read_pickle('./Data/X_full.pkl')"
   ]
  },
  {
   "cell_type": "code",
   "execution_count": 8,
   "metadata": {
    "autoscroll": false,
    "collapsed": false,
    "ein.hycell": false,
    "ein.tags": "worksheet-0",
    "slideshow": {
     "slide_type": "-"
    }
   },
   "outputs": [
    {
     "ename": "NameError",
     "evalue": "name 'top_correlations' is not defined",
     "output_type": "error",
     "traceback": [
      "\u001b[0;31m---------------------------------------------------------------------------\u001b[0m",
      "\u001b[0;31mNameError\u001b[0m                                 Traceback (most recent call last)",
      "\u001b[0;32m<ipython-input-8-1bbf19ec1676>\u001b[0m in \u001b[0;36m<module>\u001b[0;34m()\u001b[0m\n\u001b[0;32m----> 1\u001b[0;31m \u001b[0mtop_correlations\u001b[0m\u001b[0;34m(\u001b[0m\u001b[0mX\u001b[0m\u001b[0;34m)\u001b[0m\u001b[0;34m\u001b[0m\u001b[0m\n\u001b[0m",
      "\u001b[0;31mNameError\u001b[0m: name 'top_correlations' is not defined"
     ]
    }
   ],
   "source": [
    "top_correlations(X)"
   ]
  },
  {
   "cell_type": "markdown",
   "metadata": {
    "ein.tags": "worksheet-0",
    "slideshow": {
     "slide_type": "-"
    }
   },
   "source": [
    "OK, several issues here. It seems our two number-of-word counters basically report the same measure, even though they use different tokenizers. We remove WordCount and take a quick look at the correlations with the target, just to get an idea.\n",
    "Same for editorials - we can remove the typeOfMaterial dummy for that.\n",
    "In general, too many of our standard deviation and maximum features are highly correlated (which makes a lot of sense given how standard deviation is calculated.) Let's remove the worst offenders for now."
   ]
  },
  {
   "cell_type": "code",
   "execution_count": 6,
   "metadata": {
    "autoscroll": false,
    "collapsed": false,
    "ein.hycell": false,
    "ein.tags": "worksheet-0",
    "slideshow": {
     "slide_type": "-"
    }
   },
   "outputs": [
    {
     "name": "stdout",
     "output_type": "stream",
     "text": [
      "List of dropped: \n",
      "['WordCount', 'author_By THE EDITORIAL BOARD', 'stdDevSentLength', 'StdDevIdf', 'Keyword:\"patient protection and affordable care act (2010)\"', 'minSentLength', 'meanSentLength', 'stdDevWordLength', 'SentCount']\n"
     ]
    },
    {
     "name": "stdout",
     "output_type": "stream",
     "text": [
      "(2086862, 347)\n"
     ]
    }
   ],
   "source": [
    "def feature_pruner(df=X, y='recs', max_corr=.7):\n",
    "    '''Removes features with higher corrcoef than max_corr. Picks based on corr with y (higher absolute is better). Returns DataFrame'''\n",
    "    top = top_correlations(df, n=df.shape[1] ** 2,  abbreviate=False)\n",
    "    top = top[np.abs(top) >= max_corr]\n",
    "    if top.size == 0:\n",
    "        return df\n",
    "    left = top.index.get_level_values(0)\n",
    "    right = top.index.get_level_values(1)\n",
    "    pairs = [[left, right] for left, right in zip(left, right)]\n",
    "    to_drop = []\n",
    "    for a, b in pairs:\n",
    "        if a in to_drop or b in to_drop:\n",
    "            continue\n",
    "        if np.abs(df[y].corr(df[a])) >= np.abs(df[y].corr(df[b])):\n",
    "            to_drop.append(b)\n",
    "        else:\n",
    "            to_drop.append(a)\n",
    "    print('List of dropped: ')\n",
    "    print(to_drop)\n",
    "    df = df.drop(columns=to_drop)\n",
    "    return df\n",
    "\n",
    "\n",
    "X_pruned = feature_pruner(X)\n",
    "print(X_pruned.shape)\n",
    "#top_correlations(X_pruned)\n"
   ]
  },
  {
   "cell_type": "code",
   "execution_count": 59,
   "metadata": {
    "autoscroll": false,
    "collapsed": false,
    "ein.hycell": false,
    "ein.tags": "worksheet-0",
    "slideshow": {
     "slide_type": "-"
    }
   },
   "outputs": [
    {
     "data": {
      "text/plain": [
       "recs                              1.000000\ndepth                            -0.377905\nKeyword:\"\"                       -0.181425\neditorsSelection_1                0.157871\nauthor_By THE LEARNING NETWORK   -0.153053\nrecognizedWordCount               0.130511\nMaxIdf                            0.115448\nreply                            -0.107478\nmaxSentLength                     0.102902\nmaxWordLength                     0.098216\nMinIdf                           -0.081819\ntrusted                           0.081797\nCommentWord:\"trump\"               0.080894\nminWordLength                    -0.077385\nhoursAfterArticle                -0.075761\nauthor_By DEB AMLEN              -0.055309\ntimespeople                       0.051604\narticleWordCount                  0.051184\nsectionName_Unknown              -0.049466\ncommentObjectivity                0.048394\ndtype: float64"
      ]
     },
     "execution_count": 59,
     "metadata": {},
     "output_type": "execute_result"
    }
   ],
   "source": [
    "# X.drop(['WordCount',\n",
    "#         'typeOfMaterial_Editorial',\n",
    "#         'stdDevSentLength',\n",
    "#         'StdDevIdf',\n",
    "#         'stdDevWordLength'],        \n",
    "#         inplace=True, axis=1)\n",
    "\n",
    "# # uncomment for full set\n",
    "# X_full.drop('WordCount', inplace=True, axis=1)\n",
    "\n",
    "correlations = X_pruned.corrwith(X_pruned.recs)\n",
    "correlations.reindex(correlations.abs().sort_values(\n",
    "    ascending=False).index).head(20)\n"
   ]
  },
  {
   "cell_type": "markdown",
   "metadata": {
    "ein.tags": "worksheet-0",
    "slideshow": {
     "slide_type": "-"
    }
   },
   "source": [
    "Training & Re-evaluation <a name='training'></a>\n",
    "At last, time to see whether the feature engineering paid off. \n",
    "As usual, we split the dev set into training and test and remove zero-variance features within a category of the target."
   ]
  },
  {
   "cell_type": "code",
   "execution_count": 8,
   "metadata": {
    "autoscroll": false,
    "collapsed": false,
    "ein.hycell": false,
    "ein.tags": "worksheet-0",
    "slideshow": {
     "slide_type": "-"
    }
   },
   "outputs": [],
   "source": [
    "# separate out the target\n",
    "predictors = X_pruned.columns[X_pruned.columns != 'recs']\n",
    "\n",
    "X_train, X_test, y_train, y_test = train_test_split(\n",
    "    X_pruned[predictors], X_pruned['recs'], test_size=0.25, random_state=12)\n",
    "\n",
    "# check for no variance within category of the target (problem for fitting regression)\n",
    "variance_per_category = X_train.groupby(y_train).var() == 0\n",
    "novariance = variance_per_category.sum() > 0\n",
    "X_train.drop(X_train.columns[novariance],\n",
    "             axis=1,\n",
    "             inplace=True)\n",
    "X_test.drop(X_test.columns[novariance],\n",
    "             axis=1,\n",
    "             inplace=True)\n",
    "\n"
   ]
  },
  {
   "cell_type": "markdown",
   "metadata": {
    "ein.tags": "worksheet-0",
    "slideshow": {
     "slide_type": "-"
    }
   },
   "source": [
    "And fit the logistic regression classifier again: <a name='finallogit'></a>"
   ]
  },
  {
   "cell_type": "code",
   "execution_count": 61,
   "metadata": {
    "autoscroll": false,
    "collapsed": false,
    "ein.hycell": false,
    "ein.tags": "worksheet-0",
    "slideshow": {
     "slide_type": "-"
    }
   },
   "outputs": [
    {
     "name": "stdout",
     "output_type": "stream",
     "text": [
      "Optimization terminated successfully.\n",
      "         Current function value: 1.201916\n",
      "         Iterations 10\n"
     ]
    },
    {
     "name": "stdout",
     "output_type": "stream",
     "text": [
      "\n",
      "             precision    recall  f1-score   support\n",
      "\n",
      "          0       0.48      0.40      0.44     96247\n",
      "          1       0.35      0.22      0.27    122120\n",
      "          2       0.36      0.41      0.38    152416\n",
      "          3       0.50      0.64      0.56    150933\n",
      "\n",
      "avg / total       0.42      0.43      0.42    521716\n",
      "\n",
      "MLogit accuracy is about 0.43\n"
     ]
    }
   ],
   "source": [
    "# MLogit fit\n",
    "X_logit = st.add_constant(X_train, prepend=False)\n",
    "MLogit = st.MNLogit(y_train, X_logit)\n",
    "logit_fit = MLogit.fit()\n",
    "# print(logit_fit.summary())\n",
    "logit_y_hat = logit_fit.predict(exog=st.add_constant(X_test, prepend=False))\n",
    "# need to convert it to actual predictions as these are probabilities\n",
    "logit_y_hat = logit_y_hat.idxmax(axis=1)\n",
    "print()\n",
    "print(classification_report(y_test, logit_y_hat))\n",
    "print('MLogit accuracy is about %.2f' % accuracy_score(y_test, logit_y_hat))\n"
   ]
  },
  {
   "cell_type": "code",
   "execution_count": 62,
   "metadata": {
    "autoscroll": false,
    "collapsed": false,
    "ein.hycell": false,
    "ein.tags": "worksheet-0",
    "slideshow": {
     "slide_type": "-"
    }
   },
   "outputs": [
    {
     "name": "stdout",
     "output_type": "stream",
     "text": [
      "                          MNLogit Regression Results                          \n",
      "==============================================================================\n",
      "Dep. Variable:                   recs   No. Observations:              1565146\n",
      "Model:                        MNLogit   Df Residuals:                  1564153\n",
      "Method:                           MLE   Df Model:                          990\n",
      "Date:                Thu, 14 Jun 2018   Pseudo R-squ.:                  0.1226\n",
      "Time:                        13:47:54   Log-Likelihood:            -1.8812e+06\n",
      "converged:                       True   LL-Null:                   -2.1441e+06\n",
      "                                        LLR p-value:                     0.000\n",
      "====================================================================================================================================================\n",
      "                                                                          recs=1       coef    std err          z      P>|z|      [0.025      0.975]\n",
      "----------------------------------------------------------------------------------------------------------------------------------------------------\n",
      "editorsSelection_1                                                                   0.5234      0.098      5.323      0.000       0.331       0.716\n",
      "sectionName_Africa                                                                   0.1707      0.106      1.616      0.106      -0.036       0.378\n",
      "sectionName_Americas                                                                 0.0707      0.056      1.268      0.205      -0.039       0.180\n",
      "sectionName_Art                                                                      0.0569      0.844      0.067      0.946      -1.597       1.711\n",
      "sectionName_Art & Design                                                             0.1209      0.053      2.266      0.023       0.016       0.225\n",
      "sectionName_Asia Pacific                                                            -0.2276      0.029     -7.867      0.000      -0.284      -0.171\n",
      "sectionName_Australia                                                               -0.0593      0.171     -0.348      0.728      -0.394       0.275\n",
      "sectionName_Auto Racing                                                             -0.7365      0.377     -1.954      0.051      -1.475       0.002\n",
      "sectionName_Automobiles                                                              0.7606      0.631      1.205      0.228      -0.477       1.998\n",
      "sectionName_Baseball                                                                -0.4185      0.060     -6.950      0.000      -0.536      -0.300\n",
      "sectionName_Book Review                                                             -0.0725      0.078     -0.935      0.350      -0.225       0.079\n",
      "sectionName_Canada                                                                   0.2635      0.101      2.605      0.009       0.065       0.462\n",
      "sectionName_College Basketball                                                      -0.2460      0.093     -2.648      0.008      -0.428      -0.064\n",
      "sectionName_College Football                                                        -0.2998      0.163     -1.836      0.066      -0.620       0.020\n",
      "sectionName_Cycling                                                                 -0.0590      0.265     -0.223      0.824      -0.578       0.460\n",
      "sectionName_Dance                                                                    0.9813      0.642      1.528      0.127      -0.278       2.240\n",
      "sectionName_DealBook                                                                -0.0468      0.050     -0.940      0.347      -0.144       0.051\n",
      "sectionName_Eat                                                                      0.0070      0.051      0.140      0.889      -0.092       0.106\n",
      "sectionName_Economy                                                                  0.0781      0.038      2.076      0.038       0.004       0.152\n",
      "sectionName_Editorials                                                               0.2158      0.103      2.103      0.035       0.015       0.417\n",
      "sectionName_Education Life                                                           0.2755      0.075      3.694      0.000       0.129       0.422\n",
      "sectionName_Energy & Environment                                                     0.0364      0.099      0.367      0.714      -0.158       0.231\n",
      "sectionName_Entrepreneurship                                                        -0.1992      1.374     -0.145      0.885      -2.893       2.494\n",
      "sectionName_Europe                                                                  -0.1445      0.020     -7.177      0.000      -0.184      -0.105\n",
      "sectionName_Family                                                                   0.1120      0.034      3.264      0.001       0.045       0.179\n",
      "sectionName_Golf                                                                    -0.1967      0.168     -1.172      0.241      -0.525       0.132\n",
      "sectionName_Hockey                                                                  -0.6803      0.170     -4.012      0.000      -1.013      -0.348\n",
      "sectionName_Insider Events                                                           0.1441      0.481      0.299      0.765      -0.800       1.088\n",
      "sectionName_Learning                                                                 0.7076      0.522      1.356      0.175      -0.316       1.731\n",
      "sectionName_Lesson Plans                                                            -0.6863      0.267     -2.571      0.010      -1.210      -0.163\n",
      "sectionName_Live                                                                     0.1359      0.041      3.327      0.001       0.056       0.216\n",
      "sectionName_Media                                                                    0.0144      0.034      0.428      0.669      -0.051       0.080\n",
      "sectionName_Middle East                                                             -0.1398      0.025     -5.565      0.000      -0.189      -0.091\n",
      "sectionName_Mind                                                                     0.1902      0.092      2.076      0.038       0.011       0.370\n",
      "sectionName_Move                                                                     0.0910      0.048      1.906      0.057      -0.003       0.185\n",
      "sectionName_Music                                                                    0.0453      0.083      0.544      0.586      -0.118       0.209\n",
      "sectionName_Neighborhoods                                                            0.2826      1.226      0.230      0.818      -2.121       2.686\n",
      "sectionName_Olympics                                                                 0.1482      0.071      2.078      0.038       0.008       0.288\n",
      "sectionName_Opinion | Politics                                                      -0.5922      0.114     -5.178      0.000      -0.816      -0.368\n",
      "sectionName_Paying for College                                                      -1.3249      0.378     -3.508      0.000      -2.065      -0.585\n",
      "sectionName_Personal Tech                                                            0.0211      0.137      0.154      0.878      -0.248       0.290\n",
      "sectionName_Politics                                                                -0.1492      0.013    -11.931      0.000      -0.174      -0.125\n",
      "sectionName_Pro Basketball                                                          -0.4374      0.094     -4.658      0.000      -0.621      -0.253\n",
      "sectionName_Pro Football                                                            -0.1456      0.066     -2.209      0.027      -0.275      -0.016\n",
      "sectionName_Retirement                                                              -0.1378      0.173     -0.794      0.427      -0.478       0.202\n",
      "sectionName_Room For Debate                                                         -0.5030      0.123     -4.084      0.000      -0.744      -0.262\n",
      "sectionName_Rugby                                                                   -0.9992      0.262     -3.815      0.000      -1.513      -0.486\n",
      "sectionName_Soccer                                                                  -0.4926      0.094     -5.231      0.000      -0.677      -0.308\n",
      "sectionName_Student Loans                                                            0.1091      0.197      0.553      0.580      -0.278       0.496\n",
      "sectionName_Sunday Review                                                            0.1071      0.017      6.289      0.000       0.074       0.140\n",
      "sectionName_Television                                                               0.1152      0.034      3.388      0.001       0.049       0.182\n",
      "sectionName_Tennis                                                                   0.1189      0.146      0.813      0.416      -0.168       0.405\n",
      "sectionName_The Daily                                                               -2.1044      0.224     -9.375      0.000      -2.544      -1.664\n",
      "sectionName_Unknown                                                                 -0.1025      0.009    -11.023      0.000      -0.121      -0.084\n",
      "sectionName_Weddings                                                                 2.2877      1.048      2.182      0.029       0.233       4.342\n",
      "sectionName_Wine, Beer & Cocktails                                                  -0.4365      0.104     -4.216      0.000      -0.639      -0.234\n",
      "typeOfMaterial_Biography                                                             0.0827      0.787      0.105      0.916      -1.460       1.625\n",
      "typeOfMaterial_Blog                                                                  0.1856   1.28e+12   1.45e-13      1.000   -2.51e+12    2.51e+12\n",
      "typeOfMaterial_Brief                                                                 0.8319      0.287      2.899      0.004       0.270       1.394\n",
      "typeOfMaterial_Editorial                                                            -0.0305      0.013     -2.420      0.016      -0.055      -0.006\n",
      "typeOfMaterial_Interview                                                             0.2070      0.354      0.585      0.559      -0.487       0.901\n",
      "typeOfMaterial_Letter                                                                0.2439      0.111      2.201      0.028       0.027       0.461\n",
      "typeOfMaterial_News                                                                  0.0808      0.011      7.378      0.000       0.059       0.102\n",
      "typeOfMaterial_News Analysis                                                         0.1124      0.030      3.805      0.000       0.055       0.170\n",
      "typeOfMaterial_Obituary (Obit)                                                       0.3744      0.072      5.217      0.000       0.234       0.515\n",
      "typeOfMaterial_Question                                                              0.4961      0.148      3.363      0.001       0.207       0.785\n",
      "typeOfMaterial_Review                                                                0.0712      0.035      2.024      0.043       0.002       0.140\n",
      "typeOfMaterial_briefing                                                              1.4985      0.057     26.070      0.000       1.386       1.611\n",
      "commentType_reporterReply                                                           -0.1634      0.227     -0.719      0.472      -0.609       0.282\n",
      "documentType_blogpost                                                                0.1928   1.28e+12   1.51e-13      1.000   -2.51e+12    2.51e+12\n",
      "articleWordCount                                                                 -5.064e-06   3.58e-06     -1.413      0.158   -1.21e-05    1.96e-06\n",
      "depth                                                                               -0.6976      0.006   -125.250      0.000      -0.709      -0.687\n",
      "printPage                                                                            0.0019      0.000      5.863      0.000       0.001       0.003\n",
      "timespeople                                                                          0.1808      0.014     12.831      0.000       0.153       0.208\n",
      "trusted                                                                              0.3702      0.019     19.955      0.000       0.334       0.407\n",
      "sharing                                                                             -0.0075      0.009     -0.795      0.427      -0.026       0.011\n",
      "reply                                                                            -6.498e-05   1.19e-05     -5.457      0.000   -8.83e-05   -4.16e-05\n",
      "author_By BRET STEPHENS                                                             -0.1206      0.031     -3.936      0.000      -0.181      -0.061\n",
      "author_By CHARLES M. BLOW                                                           -0.0220      0.019     -1.171      0.242      -0.059       0.015\n",
      "author_By DAVID BROOKS                                                              -0.2791      0.017    -16.490      0.000      -0.312      -0.246\n",
      "author_By DAVID LEONHARDT                                                            0.0442      0.023      1.905      0.057      -0.001       0.090\n",
      "author_By DEB AMLEN                                                                 -0.0078      0.024     -0.330      0.741      -0.054       0.039\n",
      "author_By FRANK BRUNI                                                                0.0635      0.020      3.099      0.002       0.023       0.104\n",
      "author_By GAIL COLLINS                                                               0.4126      0.028     14.720      0.000       0.358       0.468\n",
      "author_By JULIE HIRSCHFELD DAVIS                                                    -0.1331      0.029     -4.541      0.000      -0.191      -0.076\n",
      "author_By MAUREEN DOWD                                                               0.2993      0.039      7.638      0.000       0.223       0.376\n",
      "author_By MICHAEL D. SHEAR                                                          -0.0603      0.031     -1.921      0.055      -0.122       0.001\n",
      "author_By MICHELLE GOLDBERG                                                          0.1337      0.031      4.296      0.000       0.073       0.195\n",
      "author_By NICHOLAS KRISTOF                                                          -0.3132      0.021    -14.918      0.000      -0.354      -0.272\n",
      "author_By PAUL KRUGMAN                                                              -0.0889      0.017     -5.283      0.000      -0.122      -0.056\n",
      "author_By PETER BAKER                                                                0.0272      0.029      0.940      0.347      -0.030       0.084\n",
      "author_By ROGER COHEN                                                                0.0906      0.026      3.443      0.001       0.039       0.142\n",
      "author_By ROSS DOUTHAT                                                              -0.2207      0.021    -10.758      0.000      -0.261      -0.180\n",
      "author_By THE LEARNING NETWORK                                                      -2.1002      0.052    -40.508      0.000      -2.202      -1.999\n",
      "author_By THOMAS B. EDSALL                                                           0.0668      0.031      2.142      0.032       0.006       0.128\n",
      "author_By THOMAS L. FRIEDMAN                                                        -0.2689      0.025    -10.557      0.000      -0.319      -0.219\n",
      "approveHour_0PM                                                                     -0.1706      0.020     -8.567      0.000      -0.210      -0.132\n",
      "approveHour_10AM                                                                     0.1460      0.035      4.150      0.000       0.077       0.215\n",
      "approveHour_10PM                                                                     0.0061      0.020      0.300      0.764      -0.034       0.046\n",
      "approveHour_11AM                                                                    -0.1004      0.024     -4.140      0.000      -0.148      -0.053\n",
      "approveHour_11PM                                                                    -0.0396      0.022     -1.826      0.068      -0.082       0.003\n",
      "approveHour_1AM                                                                     -0.0293      0.022     -1.348      0.178      -0.072       0.013\n",
      "approveHour_1PM                                                                     -0.1683      0.018     -9.124      0.000      -0.204      -0.132\n",
      "approveHour_2AM                                                                     -0.0160      0.024     -0.675      0.500      -0.063       0.031\n",
      "approveHour_2PM                                                                     -0.1074      0.018     -6.013      0.000      -0.142      -0.072\n",
      "approveHour_3AM                                                                      0.0150      0.025      0.592      0.554      -0.035       0.064\n",
      "approveHour_3PM                                                                     -0.0919      0.017     -5.342      0.000      -0.126      -0.058\n",
      "approveHour_4AM                                                                      0.0185      0.030      0.626      0.532      -0.039       0.076\n",
      "approveHour_4PM                                                                     -0.0685      0.018     -3.851      0.000      -0.103      -0.034\n",
      "approveHour_5AM                                                                      0.0631      0.033      1.887      0.059      -0.002       0.129\n",
      "approveHour_5PM                                                                     -0.0595      0.018     -3.351      0.001      -0.094      -0.025\n",
      "approveHour_6AM                                                                     -0.0535      0.041     -1.293      0.196      -0.135       0.028\n",
      "approveHour_6PM                                                                     -0.0335      0.018     -1.823      0.068      -0.070       0.003\n",
      "approveHour_7AM                                                                      0.1810      0.053      3.430      0.001       0.078       0.284\n",
      "approveHour_7PM                                                                     -0.0171      0.018     -0.932      0.351      -0.053       0.019\n",
      "approveHour_8AM                                                                      0.2347      0.049      4.789      0.000       0.139       0.331\n",
      "approveHour_8PM                                                                     -0.0401      0.018     -2.217      0.027      -0.075      -0.005\n",
      "approveHour_9AM                                                                      0.2137      0.045      4.698      0.000       0.125       0.303\n",
      "approveHour_9PM                                                                      0.0066      0.019      0.341      0.733      -0.032       0.045\n",
      "approveDay_Monday                                                                    0.0237      0.010      2.382      0.017       0.004       0.043\n",
      "approveDay_Saturday                                                                  0.1018      0.011      9.123      0.000       0.080       0.124\n",
      "approveDay_Sunday                                                                    0.0712      0.012      5.937      0.000       0.048       0.095\n",
      "approveDay_Thursday                                                                  0.0653      0.010      6.826      0.000       0.047       0.084\n",
      "approveDay_Tuesday                                                                  -0.0165      0.009     -1.838      0.066      -0.034       0.001\n",
      "approveDay_Wednesday                                                                 0.0165      0.010      1.721      0.085      -0.002       0.035\n",
      "hoursAfterArticle                                                                   -0.0004    1.2e-05    -31.214      0.000      -0.000      -0.000\n",
      "recognizedWordCount                                                                  0.0018      0.000      6.219      0.000       0.001       0.002\n",
      "MinIdf                                                                              -0.0433      0.006     -7.050      0.000      -0.055      -0.031\n",
      "MeanIdf                                                                              0.0360        nan        nan        nan         nan         nan\n",
      "MaxIdf                                                                               0.0210      0.003      6.608      0.000       0.015       0.027\n",
      "Idf1Percent                                                                         -0.0603      0.046     -1.299      0.194      -0.151       0.031\n",
      "Idf2Percent                                                                         -0.0370      0.071     -0.521      0.602      -0.176       0.102\n",
      "Idf3Percent                                                                          0.0017      0.047      0.036      0.971      -0.091       0.095\n",
      "Idf4Percent                                                                         -0.0706        nan        nan        nan         nan         nan\n",
      "Idf5Percent                                                                         -0.0965        nan        nan        nan         nan         nan\n",
      "Idf6Percent                                                                         -0.1412        nan        nan        nan         nan         nan\n",
      "Idf7Percent                                                                         -0.1238        nan        nan        nan         nan         nan\n",
      "Idf8Percent                                                                         -0.2532        nan        nan        nan         nan         nan\n",
      "Idf9Percent                                                                         -0.5082        nan        nan        nan         nan         nan\n",
      "minWordLength                                                                       -0.0202      0.005     -3.834      0.000      -0.031      -0.010\n",
      "meanWordLength                                                                       0.0250      0.006      3.913      0.000       0.012       0.037\n",
      "maxWordLength                                                                        0.0036      0.001      3.048      0.002       0.001       0.006\n",
      "maxSentLength                                                                        0.0003      0.000      1.179      0.239      -0.000       0.001\n",
      "commentPolarity                                                                     -0.0066      0.012     -0.544      0.586      -0.030       0.017\n",
      "commentObjectivity                                                                   0.0694      0.012      5.911      0.000       0.046       0.092\n",
      "commentSpellErrorsPercent                                                           -0.5473      0.064     -8.563      0.000      -0.673      -0.422\n",
      "LS_Percent                                                                          -3.0767        nan        nan        nan         nan         nan\n",
      "TO_Percent                                                                           0.8018      0.179      4.486      0.000       0.451       1.152\n",
      "VBN_Percent                                                                          0.5755      0.264      2.178      0.029       0.058       1.093\n",
      "WP_Percent                                                                           0.8172      0.119      6.857      0.000       0.584       1.051\n",
      "UH_Percent                                                                           0.4774      0.117      4.093      0.000       0.249       0.706\n",
      "VBG_Percent                                                                          0.5082      0.282      1.801      0.072      -0.045       1.061\n",
      "JJ_Percent                                                                           0.5018      0.221      2.273      0.023       0.069       0.934\n",
      "VBZ_Percent                                                                          0.7278      0.193      3.778      0.000       0.350       1.105\n",
      "VBP_Percent                                                                          0.2807      0.123      2.283      0.022       0.040       0.522\n",
      "NN_Percent                                                                           0.5186      0.211      2.453      0.014       0.104       0.933\n",
      "DT_Percent                                                                           0.6529      0.096      6.767      0.000       0.464       0.842\n",
      "PRP_Percent                                                                          0.6701      0.204      3.284      0.001       0.270       1.070\n",
      "WP$_Percent                                                                          2.0443      1.156      1.769      0.077      -0.221       4.310\n",
      "NNPS_Percent                                                                         1.0580      0.312      3.391      0.001       0.446       1.670\n",
      "PRP$_Percent                                                                         0.7393      0.244      3.027      0.002       0.261       1.218\n",
      "WDT_Percent                                                                          0.1076      0.290      0.371      0.711      -0.461       0.676\n",
      "RB_Percent                                                                           0.5209      0.162      3.225      0.001       0.204       0.837\n",
      "RBR_Percent                                                                          0.6486      0.342      1.895      0.058      -0.022       1.320\n",
      "RBS_Percent                                                                          0.6678      0.527      1.268      0.205      -0.365       1.700\n",
      "VBD_Percent                                                                          0.5742      0.328      1.753      0.080      -0.068       1.216\n",
      "IN_Percent                                                                           0.6240      0.165      3.778      0.000       0.300       0.948\n",
      "FW_Percent                                                                           0.2359      0.665      0.355      0.723      -1.068       1.540\n",
      "RP_Percent                                                                           0.3243      0.345      0.940      0.347      -0.352       1.001\n",
      "JJR_Percent                                                                          0.5717      0.348      1.644      0.100      -0.110       1.253\n",
      "JJS_Percent                                                                          1.4892      0.333      4.474      0.000       0.837       2.142\n",
      "PDT_Percent                                                                          0.8940      0.461      1.939      0.053      -0.010       1.798\n",
      "MD_Percent                                                                           0.2424      0.292      0.831      0.406      -0.329       0.814\n",
      "VB_Percent                                                                           0.4308      0.265      1.628      0.103      -0.088       0.949\n",
      "WRB_Percent                                                                          0.5032      0.229      2.202      0.028       0.055       0.951\n",
      "NNP_Percent                                                                          0.6428      0.237      2.718      0.007       0.179       1.106\n",
      "EX_Percent                                                                           0.3336      0.392      0.851      0.395      -0.435       1.102\n",
      "NNS_Percent                                                                          0.6601      0.225      2.928      0.003       0.218       1.102\n",
      "SYM_Percent                                                                          1.3550      1.448      0.936      0.349      -1.482       4.192\n",
      "CC_Percent                                                                           0.8277      0.213      3.895      0.000       0.411       1.244\n",
      "CD_Percent                                                                           0.2238      0.216      1.036      0.300      -0.200       0.647\n",
      "POS_Percent                                                                          0.7942      0.145      5.490      0.000       0.511       1.078\n",
      "Keyword:\"\"                                                                          -2.1864      0.027    -80.019      0.000      -2.240      -2.133\n",
      "Keyword:\"appointments and executive changes\"                                         0.1533      0.017      9.026      0.000       0.120       0.187\n",
      "Keyword:\"blacks\"                                                                     0.2136      0.022      9.578      0.000       0.170       0.257\n",
      "Keyword:\"china\"                                                                      0.1092      0.021      5.163      0.000       0.068       0.151\n",
      "Keyword:\"classified information and state secrets\"                                  -0.1337      0.018     -7.408      0.000      -0.169      -0.098\n",
      "Keyword:\"clinton, hillary rodham\"                                                   -0.0529      0.021     -2.515      0.012      -0.094      -0.012\n",
      "Keyword:\"comey, james b\"                                                            -0.2727      0.018    -15.118      0.000      -0.308      -0.237\n",
      "Keyword:\"cyberwarfare and defense\"                                                  -0.0927      0.018     -5.165      0.000      -0.128      -0.058\n",
      "Keyword:\"democratic party\"                                                          -0.0677      0.013     -5.264      0.000      -0.093      -0.043\n",
      "Keyword:\"demonstrations, protests and riots\"                                         0.1396      0.019      7.186      0.000       0.102       0.178\n",
      "Keyword:\"discrimination\"                                                            -0.0190      0.019     -0.987      0.323      -0.057       0.019\n",
      "Keyword:\"espionage and intelligence services\"                                       -0.0480      0.017     -2.841      0.004      -0.081      -0.015\n",
      "Keyword:\"executive orders and memorandums\"                                          -0.1056      0.025     -4.213      0.000      -0.155      -0.056\n",
      "Keyword:\"federal budget (us)\"                                                        0.0444      0.018      2.514      0.012       0.010       0.079\n",
      "Keyword:\"federal bureau of investigation\"                                           -0.0081      0.016     -0.516      0.606      -0.039       0.023\n",
      "Keyword:\"global warming\"                                                            -0.1618      0.019     -8.645      0.000      -0.198      -0.125\n",
      "Keyword:\"gun control\"                                                               -0.0741      0.023     -3.292      0.001      -0.118      -0.030\n",
      "Keyword:\"health insurance and managed care\"                                         -0.1089      0.014     -7.967      0.000      -0.136      -0.082\n",
      "Keyword:\"house of representatives\"                                                  -0.0599      0.014     -4.328      0.000      -0.087      -0.033\n",
      "Keyword:\"illegal immigration\"                                                        0.2061      0.020     10.309      0.000       0.167       0.245\n",
      "Keyword:\"immigration and emigration\"                                                 0.0232      0.016      1.421      0.155      -0.009       0.055\n",
      "Keyword:\"international trade and world market\"                                      -0.0247      0.018     -1.348      0.178      -0.061       0.011\n",
      "Keyword:\"justice department\"                                                         0.0237      0.015      1.549      0.121      -0.006       0.054\n",
      "Keyword:\"labor and jobs\"                                                             0.1485      0.019      7.758      0.000       0.111       0.186\n",
      "Keyword:\"law and legislation\"                                                       -0.1237      0.015     -7.982      0.000      -0.154      -0.093\n",
      "Keyword:\"mueller, robert s iii\"                                                      0.1218      0.023      5.218      0.000       0.076       0.168\n",
      "Keyword:\"news and news media\"                                                        0.0102      0.016      0.633      0.527      -0.021       0.042\n",
      "Keyword:\"obama, barack\"                                                             -0.0575      0.015     -3.724      0.000      -0.088      -0.027\n",
      "Keyword:\"parkland, fla, shooting (2018)\"                                             0.0968      0.025      3.798      0.000       0.047       0.147\n",
      "Keyword:\"politics and government\"                                                    0.0861      0.016      5.276      0.000       0.054       0.118\n",
      "Keyword:\"presidential election of 2016\"                                              0.0326      0.012      2.637      0.008       0.008       0.057\n",
      "Keyword:\"putin, vladimir v\"                                                          0.0422      0.019      2.223      0.026       0.005       0.079\n",
      "Keyword:\"refugees and displaced persons\"                                             0.1586      0.028      5.636      0.000       0.103       0.214\n",
      "Keyword:\"republican party\"                                                          -0.0245      0.010     -2.362      0.018      -0.045      -0.004\n",
      "Keyword:\"russia\"                                                                    -0.0595      0.013     -4.554      0.000      -0.085      -0.034\n",
      "Keyword:\"russian interference in 2016 us elections and ties to trump associates\"     0.1388      0.015      9.465      0.000       0.110       0.168\n",
      "Keyword:\"ryan, paul d jr\"                                                           -0.0803      0.018     -4.411      0.000      -0.116      -0.045\n",
      "Keyword:\"school shootings and armed attacks\"                                        -0.2581      0.026     -9.856      0.000      -0.309      -0.207\n",
      "Keyword:\"senate\"                                                                     0.0571      0.014      3.998      0.000       0.029       0.085\n",
      "Keyword:\"special prosecutors (independent counsel)\"                                 -0.1182      0.022     -5.393      0.000      -0.161      -0.075\n",
      "Keyword:\"supreme court (us)\"                                                        -0.1056      0.019     -5.453      0.000      -0.144      -0.068\n",
      "Keyword:\"syria\"                                                                     -0.2577      0.019    -13.244      0.000      -0.296      -0.220\n",
      "Keyword:\"trump, donald j\"                                                           -0.0394      0.008     -5.015      0.000      -0.055      -0.024\n",
      "Keyword:\"united states\"                                                             -0.0084      0.016     -0.545      0.586      -0.039       0.022\n",
      "Keyword:\"united states defense and military forces\"                                 -0.0345      0.016     -2.133      0.033      -0.066      -0.003\n",
      "Keyword:\"united states economy\"                                                     -0.0759      0.018     -4.277      0.000      -0.111      -0.041\n",
      "Keyword:\"united states international relations\"                                      0.0021      0.011      0.188      0.851      -0.019       0.024\n",
      "Keyword:\"united states politics and government\"                                     -0.0307      0.008     -4.051      0.000      -0.045      -0.016\n",
      "Keyword:\"women and girls\"                                                            0.1341      0.017      7.885      0.000       0.101       0.167\n",
      "CommentWord:\"actually\"                                                               0.0291      0.013      2.212      0.027       0.003       0.055\n",
      "CommentWord:\"administration\"                                                         0.0078      0.014      0.554      0.579      -0.020       0.036\n",
      "CommentWord:\"america\"                                                                0.0062      0.010      0.645      0.519      -0.013       0.025\n",
      "CommentWord:\"american\"                                                               0.0279      0.009      2.997      0.003       0.010       0.046\n",
      "CommentWord:\"americans\"                                                              0.0245      0.012      2.105      0.035       0.002       0.047\n",
      "CommentWord:\"article\"                                                               -0.0324      0.013     -2.531      0.011      -0.058      -0.007\n",
      "CommentWord:\"believe\"                                                               -0.0085      0.011     -0.777      0.437      -0.030       0.013\n",
      "CommentWord:\"best\"                                                                  -0.0178      0.014     -1.267      0.205      -0.045       0.010\n",
      "CommentWord:\"better\"                                                                -0.0319      0.011     -2.915      0.004      -0.053      -0.010\n",
      "CommentWord:\"care\"                                                                   0.0135      0.010      1.308      0.191      -0.007       0.034\n",
      "CommentWord:\"change\"                                                                -0.0213      0.012     -1.810      0.070      -0.044       0.002\n",
      "CommentWord:\"children\"                                                               0.0235      0.012      1.934      0.053      -0.000       0.047\n",
      "CommentWord:\"come\"                                                                  -0.0083      0.013     -0.630      0.528      -0.034       0.018\n",
      "CommentWord:\"congress\"                                                              -0.0003      0.012     -0.022      0.982      -0.023       0.023\n",
      "CommentWord:\"country\"                                                                0.0218      0.008      2.673      0.008       0.006       0.038\n",
      "CommentWord:\"day\"                                                                    0.0038      0.012      0.325      0.745      -0.019       0.026\n",
      "CommentWord:\"democrats\"                                                             -0.0412      0.010     -4.167      0.000      -0.061      -0.022\n",
      "CommentWord:\"did\"                                                                   -0.0043      0.008     -0.512      0.608      -0.021       0.012\n",
      "CommentWord:\"didn\"                                                                   0.0286      0.013      2.250      0.024       0.004       0.053\n",
      "CommentWord:\"does\"                                                                  -0.0190      0.009     -2.062      0.039      -0.037      -0.001\n",
      "CommentWord:\"doesn\"                                                                  0.0190      0.012      1.571      0.116      -0.005       0.043\n",
      "CommentWord:\"doing\"                                                                 -0.0115      0.014     -0.843      0.399      -0.038       0.015\n",
      "CommentWord:\"don\"                                                                    0.0205      0.007      2.906      0.004       0.007       0.034\n",
      "CommentWord:\"donald\"                                                                 0.0417      0.014      2.892      0.004       0.013       0.070\n",
      "CommentWord:\"election\"                                                               0.0134      0.012      1.152      0.249      -0.009       0.036\n",
      "CommentWord:\"fact\"                                                                   0.0271      0.013      2.128      0.033       0.002       0.052\n",
      "CommentWord:\"far\"                                                                    0.0082      0.013      0.629      0.530      -0.017       0.034\n",
      "CommentWord:\"going\"                                                                 -0.0228      0.010     -2.302      0.021      -0.042      -0.003\n",
      "CommentWord:\"good\"                                                                  -0.0191      0.008     -2.304      0.021      -0.035      -0.003\n",
      "CommentWord:\"gop\"                                                                    0.0237      0.011      2.122      0.034       0.002       0.046\n",
      "CommentWord:\"government\"                                                            -0.0172      0.008     -2.031      0.042      -0.034      -0.001\n",
      "CommentWord:\"great\"                                                                 -0.0056      0.011     -0.495      0.621      -0.028       0.017\n",
      "CommentWord:\"health\"                                                                 0.0161      0.011      1.429      0.153      -0.006       0.038\n",
      "CommentWord:\"help\"                                                                  -0.0173      0.013     -1.307      0.191      -0.043       0.009\n",
      "CommentWord:\"hope\"                                                                  -0.0007      0.014     -0.053      0.957      -0.028       0.026\n",
      "CommentWord:\"house\"                                                                 -0.0023      0.013     -0.175      0.861      -0.028       0.023\n",
      "CommentWord:\"just\"                                                                  -0.0070      0.007     -1.067      0.286      -0.020       0.006\n",
      "CommentWord:\"know\"                                                                  -0.0148      0.008     -1.827      0.068      -0.031       0.001\n",
      "CommentWord:\"law\"                                                                    0.0209      0.012      1.752      0.080      -0.002       0.044\n",
      "CommentWord:\"left\"                                                                  -0.0111      0.012     -0.891      0.373      -0.035       0.013\n",
      "CommentWord:\"let\"                                                                    0.0046      0.011      0.429      0.668      -0.016       0.026\n",
      "CommentWord:\"life\"                                                                  -0.0398      0.011     -3.737      0.000      -0.061      -0.019\n",
      "CommentWord:\"like\"                                                                  -0.0295      0.006     -4.748      0.000      -0.042      -0.017\n",
      "CommentWord:\"little\"                                                                 0.0238      0.014      1.720      0.085      -0.003       0.051\n",
      "CommentWord:\"long\"                                                                   0.0220      0.011      1.942      0.052      -0.000       0.044\n",
      "CommentWord:\"look\"                                                                  -0.0100      0.013     -0.778      0.436      -0.035       0.015\n",
      "CommentWord:\"make\"                                                                  -0.0479      0.009     -5.402      0.000      -0.065      -0.031\n",
      "CommentWord:\"man\"                                                                   -0.0049      0.011     -0.438      0.661      -0.027       0.017\n",
      "CommentWord:\"maybe\"                                                                 -0.0283      0.012     -2.291      0.022      -0.052      -0.004\n",
      "CommentWord:\"media\"                                                                 -0.0469      0.011     -4.213      0.000      -0.069      -0.025\n",
      "CommentWord:\"money\"                                                                  0.0289      0.009      3.175      0.002       0.011       0.047\n",
      "CommentWord:\"mr\"                                                                    -0.0044      0.008     -0.532      0.594      -0.021       0.012\n",
      "CommentWord:\"need\"                                                                   0.0167      0.008      2.007      0.045       0.000       0.033\n",
      "CommentWord:\"new\"                                                                   -0.0261      0.009     -2.748      0.006      -0.045      -0.007\n",
      "CommentWord:\"news\"                                                                   0.0274      0.011      2.511      0.012       0.006       0.049\n",
      "CommentWord:\"obama\"                                                                  0.0031      0.009      0.344      0.731      -0.014       0.021\n",
      "CommentWord:\"office\"                                                                -0.0180      0.014     -1.279      0.201      -0.046       0.010\n",
      "CommentWord:\"party\"                                                                 -0.0174      0.009     -1.887      0.059      -0.036       0.001\n",
      "CommentWord:\"pay\"                                                                    0.0286      0.012      2.474      0.013       0.006       0.051\n",
      "CommentWord:\"people\"                                                                -0.0178      0.005     -3.712      0.000      -0.027      -0.008\n",
      "CommentWord:\"person\"                                                                -0.0280      0.013     -2.201      0.028      -0.053      -0.003\n",
      "CommentWord:\"point\"                                                                 -0.0073      0.013     -0.581      0.562      -0.032       0.017\n",
      "CommentWord:\"political\"                                                             -0.0134      0.011     -1.199      0.231      -0.035       0.008\n",
      "CommentWord:\"power\"                                                                 -0.0205      0.011     -1.856      0.064      -0.042       0.001\n",
      "CommentWord:\"president\"                                                             -0.0150      0.007     -2.184      0.029      -0.029      -0.002\n",
      "CommentWord:\"problem\"                                                               -0.0079      0.012     -0.667      0.505      -0.031       0.015\n",
      "CommentWord:\"public\"                                                                 0.0201      0.011      1.876      0.061      -0.001       0.041\n",
      "CommentWord:\"read\"                                                                  -0.0037      0.013     -0.295      0.768      -0.029       0.021\n",
      "CommentWord:\"real\"                                                                   0.0117      0.012      1.003      0.316      -0.011       0.035\n",
      "CommentWord:\"really\"                                                                -0.0164      0.010     -1.616      0.106      -0.036       0.003\n",
      "CommentWord:\"republican\"                                                             0.0301      0.011      2.782      0.005       0.009       0.051\n",
      "CommentWord:\"republicans\"                                                            0.0264      0.010      2.643      0.008       0.007       0.046\n",
      "CommentWord:\"right\"                                                                  0.0080      0.008      1.011      0.312      -0.008       0.024\n",
      "CommentWord:\"russia\"                                                                -0.0009      0.011     -0.080      0.936      -0.022       0.021\n",
      "CommentWord:\"said\"                                                                  -0.0269      0.012     -2.326      0.020      -0.050      -0.004\n",
      "CommentWord:\"say\"                                                                   -0.0161      0.010     -1.561      0.118      -0.036       0.004\n",
      "CommentWord:\"school\"                                                                -0.0588      0.011     -5.507      0.000      -0.080      -0.038\n",
      "CommentWord:\"state\"                                                                  0.0242      0.010      2.358      0.018       0.004       0.044\n",
      "CommentWord:\"states\"                                                                -0.0302      0.011     -2.714      0.007      -0.052      -0.008\n",
      "CommentWord:\"support\"                                                                0.0200      0.013      1.527      0.127      -0.006       0.046\n",
      "CommentWord:\"tax\"                                                                   -0.0211      0.009     -2.428      0.015      -0.038      -0.004\n",
      "CommentWord:\"thing\"                                                                 -0.0245      0.012     -1.973      0.048      -0.049      -0.000\n",
      "CommentWord:\"things\"                                                                -0.0150      0.012     -1.273      0.203      -0.038       0.008\n",
      "CommentWord:\"think\"                                                                 -0.0533      0.008     -7.047      0.000      -0.068      -0.038\n",
      "CommentWord:\"time\"                                                                  -0.0091      0.008     -1.186      0.236      -0.024       0.006\n",
      "CommentWord:\"times\"                                                                  0.0024      0.011      0.214      0.831      -0.020       0.025\n",
      "CommentWord:\"trump\"                                                                  0.0245      0.004      6.762      0.000       0.017       0.032\n",
      "CommentWord:\"use\"                                                                   -0.0340      0.012     -2.788      0.005      -0.058      -0.010\n",
      "CommentWord:\"ve\"                                                                     0.0257      0.013      2.032      0.042       0.001       0.050\n",
      "CommentWord:\"vote\"                                                                   0.0010      0.010      0.099      0.921      -0.019       0.021\n",
      "CommentWord:\"want\"                                                                  -0.0291      0.009     -3.253      0.001      -0.047      -0.012\n",
      "CommentWord:\"war\"                                                                    0.0066      0.010      0.671      0.502      -0.013       0.026\n",
      "CommentWord:\"way\"                                                                   -0.0202      0.009     -2.320      0.020      -0.037      -0.003\n",
      "CommentWord:\"white\"                                                                  0.0156      0.011      1.436      0.151      -0.006       0.037\n",
      "CommentWord:\"women\"                                                                  0.0398      0.010      3.982      0.000       0.020       0.059\n",
      "CommentWord:\"won\"                                                                   -0.0082      0.013     -0.617      0.537      -0.034       0.018\n",
      "CommentWord:\"work\"                                                                   0.0168      0.010      1.692      0.091      -0.003       0.036\n",
      "CommentWord:\"world\"                                                                 -0.0300      0.008     -3.555      0.000      -0.047      -0.013\n",
      "CommentWord:\"year\"                                                                   0.0025      0.012      0.200      0.842      -0.022       0.027\n",
      "CommentWord:\"years\"                                                                  0.0189      0.009      2.079      0.038       0.001       0.037\n",
      "const                                                                                0.4240      0.257      1.653      0.098      -0.079       0.927\n",
      "----------------------------------------------------------------------------------------------------------------------------------------------------\n",
      "                                                                          recs=2       coef    std err          z      P>|z|      [0.025      0.975]\n",
      "----------------------------------------------------------------------------------------------------------------------------------------------------\n",
      "editorsSelection_1                                                                   1.6785      0.088     19.034      0.000       1.506       1.851\n",
      "sectionName_Africa                                                                   0.0803      0.107      0.747      0.455      -0.130       0.291\n",
      "sectionName_Americas                                                                 0.1607      0.050      3.222      0.001       0.063       0.258\n",
      "sectionName_Art                                                                     -0.0024      0.799     -0.003      0.998      -1.568       1.563\n",
      "sectionName_Art & Design                                                             0.2606      0.057      4.589      0.000       0.149       0.372\n",
      "sectionName_Asia Pacific                                                            -0.4244      0.026    -16.338      0.000      -0.475      -0.373\n",
      "sectionName_Australia                                                               -0.1951      0.163     -1.196      0.232      -0.515       0.125\n",
      "sectionName_Auto Racing                                                             -1.4623      0.402     -3.638      0.000      -2.250      -0.675\n",
      "sectionName_Automobiles                                                             -0.8912      0.771     -1.156      0.248      -2.402       0.620\n",
      "sectionName_Baseball                                                                -1.1382      0.062    -18.503      0.000      -1.259      -1.018\n",
      "sectionName_Book Review                                                             -0.3870      0.077     -4.998      0.000      -0.539      -0.235\n",
      "sectionName_Canada                                                                   0.5908      0.082      7.209      0.000       0.430       0.751\n",
      "sectionName_College Basketball                                                      -0.3608      0.093     -3.887      0.000      -0.543      -0.179\n",
      "sectionName_College Football                                                        -0.0325      0.164     -0.197      0.843      -0.355       0.290\n",
      "sectionName_Cycling                                                                  0.0120      0.275      0.044      0.965      -0.526       0.550\n",
      "sectionName_Dance                                                                    2.1921      0.612      3.580      0.000       0.992       3.392\n",
      "sectionName_DealBook                                                                -0.0862      0.049     -1.762      0.078      -0.182       0.010\n",
      "sectionName_Eat                                                                      0.1108      0.053      2.083      0.037       0.007       0.215\n",
      "sectionName_Economy                                                                  0.2803      0.041      6.897      0.000       0.201       0.360\n",
      "sectionName_Editorials                                                               0.6324      0.100      6.347      0.000       0.437       0.828\n",
      "sectionName_Education Life                                                           0.6639      0.091      7.285      0.000       0.485       0.843\n",
      "sectionName_Energy & Environment                                                     0.2404      0.084      2.850      0.004       0.075       0.406\n",
      "sectionName_Entrepreneurship                                                         1.8998      1.062      1.789      0.074      -0.181       3.981\n",
      "sectionName_Europe                                                                  -0.1310      0.020     -6.431      0.000      -0.171      -0.091\n",
      "sectionName_Family                                                                   0.5107      0.035     14.690      0.000       0.443       0.579\n",
      "sectionName_Golf                                                                    -0.4984      0.168     -2.964      0.003      -0.828      -0.169\n",
      "sectionName_Hockey                                                                  -1.1722      0.177     -6.632      0.000      -1.519      -0.826\n",
      "sectionName_Insider Events                                                          -0.8611      0.652     -1.320      0.187      -2.139       0.417\n",
      "sectionName_Learning                                                                 1.5433      0.486      3.177      0.001       0.591       2.495\n",
      "sectionName_Lesson Plans                                                            -1.8796      0.450     -4.174      0.000      -2.762      -0.997\n",
      "sectionName_Live                                                                     0.4089      0.040     10.118      0.000       0.330       0.488\n",
      "sectionName_Media                                                                    0.1051      0.032      3.296      0.001       0.043       0.168\n",
      "sectionName_Middle East                                                             -0.1038      0.025     -4.082      0.000      -0.154      -0.054\n",
      "sectionName_Mind                                                                     0.4602      0.090      5.130      0.000       0.284       0.636\n",
      "sectionName_Move                                                                     0.3133      0.048      6.581      0.000       0.220       0.407\n",
      "sectionName_Music                                                                    0.2409      0.080      3.006      0.003       0.084       0.398\n",
      "sectionName_Neighborhoods                                                            0.9197      1.125      0.817      0.414      -1.285       3.125\n",
      "sectionName_Olympics                                                                 0.1865      0.070      2.663      0.008       0.049       0.324\n",
      "sectionName_Opinion | Politics                                                      -0.9274      0.115     -8.051      0.000      -1.153      -0.702\n",
      "sectionName_Paying for College                                                      -0.7982      0.318     -2.514      0.012      -1.421      -0.176\n",
      "sectionName_Personal Tech                                                           -0.1187      0.138     -0.860      0.390      -0.389       0.152\n",
      "sectionName_Politics                                                                -0.1462      0.013    -11.673      0.000      -0.171      -0.122\n",
      "sectionName_Pro Basketball                                                          -1.0091      0.097    -10.430      0.000      -1.199      -0.819\n",
      "sectionName_Pro Football                                                            -0.3906      0.066     -5.939      0.000      -0.520      -0.262\n",
      "sectionName_Retirement                                                               0.5145      0.160      3.221      0.001       0.201       0.827\n",
      "sectionName_Room For Debate                                                          0.2575      0.122      2.114      0.035       0.019       0.496\n",
      "sectionName_Rugby                                                                   -1.5835      0.271     -5.847      0.000      -2.114      -1.053\n",
      "sectionName_Soccer                                                                  -1.2633      0.103    -12.211      0.000      -1.466      -1.061\n",
      "sectionName_Student Loans                                                            0.3388      0.193      1.756      0.079      -0.039       0.717\n",
      "sectionName_Sunday Review                                                            0.2478      0.017     14.624      0.000       0.215       0.281\n",
      "sectionName_Television                                                               0.1085      0.034      3.214      0.001       0.042       0.175\n",
      "sectionName_Tennis                                                                  -0.3201      0.152     -2.108      0.035      -0.618      -0.023\n",
      "sectionName_The Daily                                                               -3.3108      0.272    -12.183      0.000      -3.843      -2.778\n",
      "sectionName_Unknown                                                                 -0.0599      0.009     -6.614      0.000      -0.078      -0.042\n",
      "sectionName_Weddings                                                                 2.6461      1.035      2.557      0.011       0.618       4.674\n",
      "sectionName_Wine, Beer & Cocktails                                                  -0.8347      0.109     -7.629      0.000      -1.049      -0.620\n",
      "typeOfMaterial_Biography                                                             0.9855      0.715      1.378      0.168      -0.416       2.387\n",
      "typeOfMaterial_Blog                                                                 -0.0654        nan        nan        nan         nan         nan\n",
      "typeOfMaterial_Brief                                                                 1.3729      0.271      5.060      0.000       0.841       1.905\n",
      "typeOfMaterial_Editorial                                                            -0.1860      0.013    -14.481      0.000      -0.211      -0.161\n",
      "typeOfMaterial_Interview                                                             1.2401      0.327      3.797      0.000       0.600       1.880\n",
      "typeOfMaterial_Letter                                                                0.3599      0.111      3.246      0.001       0.143       0.577\n",
      "typeOfMaterial_News                                                                  0.3058      0.011     27.818      0.000       0.284       0.327\n",
      "typeOfMaterial_News Analysis                                                         0.3021      0.029     10.357      0.000       0.245       0.359\n",
      "typeOfMaterial_Obituary (Obit)                                                       0.7952      0.068     11.618      0.000       0.661       0.929\n",
      "typeOfMaterial_Question                                                              0.7393      0.149      4.947      0.000       0.446       1.032\n",
      "typeOfMaterial_Review                                                                0.3034      0.035      8.629      0.000       0.234       0.372\n",
      "typeOfMaterial_briefing                                                              1.7737      0.059     29.952      0.000       1.658       1.890\n",
      "commentType_reporterReply                                                            0.9350      0.212      4.412      0.000       0.520       1.350\n",
      "documentType_blogpost                                                               -0.0653        nan        nan        nan         nan         nan\n",
      "articleWordCount                                                                  4.959e-06    3.5e-06      1.415      0.157   -1.91e-06    1.18e-05\n",
      "depth                                                                               -1.6960      0.006   -281.170      0.000      -1.708      -1.684\n",
      "printPage                                                                            0.0025      0.000      7.582      0.000       0.002       0.003\n",
      "timespeople                                                                          0.3064      0.014     21.358      0.000       0.278       0.334\n",
      "trusted                                                                              0.8230      0.018     45.400      0.000       0.787       0.858\n",
      "sharing                                                                             -0.0043      0.009     -0.465      0.642      -0.023       0.014\n",
      "reply                                                                            -4.757e-05   1.38e-05     -3.457      0.001   -7.45e-05   -2.06e-05\n",
      "author_By BRET STEPHENS                                                             -0.1196      0.031     -3.920      0.000      -0.179      -0.060\n",
      "author_By CHARLES M. BLOW                                                           -0.1516      0.019     -7.935      0.000      -0.189      -0.114\n",
      "author_By DAVID BROOKS                                                              -0.7522      0.018    -42.826      0.000      -0.787      -0.718\n",
      "author_By DAVID LEONHARDT                                                           -0.1711      0.024     -7.102      0.000      -0.218      -0.124\n",
      "author_By DEB AMLEN                                                                 -0.8921      0.026    -34.104      0.000      -0.943      -0.841\n",
      "author_By FRANK BRUNI                                                                0.0633      0.020      3.109      0.002       0.023       0.103\n",
      "author_By GAIL COLLINS                                                               0.8043      0.027     29.487      0.000       0.751       0.858\n",
      "author_By JULIE HIRSCHFELD DAVIS                                                    -0.1503      0.029     -5.249      0.000      -0.206      -0.094\n",
      "author_By MAUREEN DOWD                                                               0.4996      0.038     13.032      0.000       0.424       0.575\n",
      "author_By MICHAEL D. SHEAR                                                          -0.0993      0.031     -3.174      0.002      -0.161      -0.038\n",
      "author_By MICHELLE GOLDBERG                                                          0.1940      0.031      6.248      0.000       0.133       0.255\n",
      "author_By NICHOLAS KRISTOF                                                          -0.3004      0.021    -14.342      0.000      -0.341      -0.259\n",
      "author_By PAUL KRUGMAN                                                              -0.2531      0.017    -14.680      0.000      -0.287      -0.219\n",
      "author_By PETER BAKER                                                               -0.0571      0.029     -1.988      0.047      -0.113      -0.001\n",
      "author_By ROGER COHEN                                                                0.1988      0.026      7.593      0.000       0.147       0.250\n",
      "author_By ROSS DOUTHAT                                                              -0.5508      0.021    -26.272      0.000      -0.592      -0.510\n",
      "author_By THE LEARNING NETWORK                                                      -3.9383      0.132    -29.893      0.000      -4.196      -3.680\n",
      "author_By THOMAS B. EDSALL                                                          -0.0831      0.032     -2.609      0.009      -0.146      -0.021\n",
      "author_By THOMAS L. FRIEDMAN                                                        -0.5650      0.026    -21.360      0.000      -0.617      -0.513\n",
      "approveHour_0PM                                                                     -0.4309      0.020    -21.776      0.000      -0.470      -0.392\n",
      "approveHour_10AM                                                                     0.3104      0.034      9.211      0.000       0.244       0.376\n",
      "approveHour_10PM                                                                    -0.0767      0.020     -3.778      0.000      -0.117      -0.037\n",
      "approveHour_11AM                                                                    -0.1936      0.024     -7.987      0.000      -0.241      -0.146\n",
      "approveHour_11PM                                                                    -0.1130      0.022     -5.253      0.000      -0.155      -0.071\n",
      "approveHour_1AM                                                                     -0.0607      0.021     -2.827      0.005      -0.103      -0.019\n",
      "approveHour_1PM                                                                     -0.5214      0.018    -28.662      0.000      -0.557      -0.486\n",
      "approveHour_2AM                                                                      0.0826      0.023      3.657      0.000       0.038       0.127\n",
      "approveHour_2PM                                                                     -0.4525      0.018    -25.665      0.000      -0.487      -0.418\n",
      "approveHour_3AM                                                                      0.1101      0.025      4.455      0.000       0.062       0.159\n",
      "approveHour_3PM                                                                     -0.4548      0.017    -26.185      0.000      -0.489      -0.421\n",
      "approveHour_4AM                                                                      0.0468      0.029      1.619      0.106      -0.010       0.103\n",
      "approveHour_4PM                                                                     -0.3860      0.018    -22.038      0.000      -0.420      -0.352\n",
      "approveHour_5AM                                                                      0.0666      0.033      2.025      0.043       0.002       0.131\n",
      "approveHour_5PM                                                                     -0.3470      0.018    -19.506      0.000      -0.382      -0.312\n",
      "approveHour_6AM                                                                     -0.1004      0.041     -2.471      0.013      -0.180      -0.021\n",
      "approveHour_6PM                                                                     -0.2602      0.018    -14.294      0.000      -0.296      -0.225\n",
      "approveHour_7AM                                                                      0.1677      0.051      3.263      0.001       0.067       0.268\n",
      "approveHour_7PM                                                                     -0.2307      0.019    -12.442      0.000      -0.267      -0.194\n",
      "approveHour_8AM                                                                      0.2824      0.047      5.955      0.000       0.189       0.375\n",
      "approveHour_8PM                                                                     -0.2283      0.018    -12.349      0.000      -0.265      -0.192\n",
      "approveHour_9AM                                                                      0.3636      0.043      8.377      0.000       0.279       0.449\n",
      "approveHour_9PM                                                                     -0.1494      0.019     -7.846      0.000      -0.187      -0.112\n",
      "approveDay_Monday                                                                    0.0532      0.010      5.341      0.000       0.034       0.073\n",
      "approveDay_Saturday                                                                  0.1300      0.011     11.726      0.000       0.108       0.152\n",
      "approveDay_Sunday                                                                    0.0869      0.012      7.291      0.000       0.064       0.110\n",
      "approveDay_Thursday                                                                  0.0646      0.010      6.752      0.000       0.046       0.083\n",
      "approveDay_Tuesday                                                                  -0.0209      0.009     -2.333      0.020      -0.039      -0.003\n",
      "approveDay_Wednesday                                                                 0.0108      0.010      1.134      0.257      -0.008       0.030\n",
      "hoursAfterArticle                                                                   -0.0010   2.63e-05    -38.827      0.000      -0.001      -0.001\n",
      "recognizedWordCount                                                                  0.0010      0.000      3.528      0.000       0.000       0.002\n",
      "MinIdf                                                                              -0.0758      0.006    -13.032      0.000      -0.087      -0.064\n",
      "MeanIdf                                                                              0.0217        nan        nan        nan         nan         nan\n",
      "MaxIdf                                                                               0.0328      0.003     10.986      0.000       0.027       0.039\n",
      "Idf1Percent                                                                         -0.1025        nan        nan        nan         nan         nan\n",
      "Idf2Percent                                                                          0.0788        nan        nan        nan         nan         nan\n",
      "Idf3Percent                                                                          0.1427        nan        nan        nan         nan         nan\n",
      "Idf4Percent                                                                          0.0805        nan        nan        nan         nan         nan\n",
      "Idf5Percent                                                                          0.0629        nan        nan        nan         nan         nan\n",
      "Idf6Percent                                                                          0.0564        nan        nan        nan         nan         nan\n",
      "Idf7Percent                                                                          0.1434        nan        nan        nan         nan         nan\n",
      "Idf8Percent                                                                         -0.1153        nan        nan        nan         nan         nan\n",
      "Idf9Percent                                                                         -0.2554        nan        nan        nan         nan         nan\n",
      "minWordLength                                                                       -0.0316      0.005     -5.879      0.000      -0.042      -0.021\n",
      "meanWordLength                                                                       0.0567      0.007      8.622      0.000       0.044       0.070\n",
      "maxWordLength                                                                        0.0051      0.001      4.276      0.000       0.003       0.007\n",
      "maxSentLength                                                                        0.0007      0.000      2.265      0.023    8.84e-05       0.001\n",
      "commentPolarity                                                                     -0.0677      0.012     -5.557      0.000      -0.092      -0.044\n",
      "commentObjectivity                                                                   0.0856      0.012      7.199      0.000       0.062       0.109\n",
      "commentSpellErrorsPercent                                                           -1.0707      0.072    -14.939      0.000      -1.211      -0.930\n",
      "LS_Percent                                                                           0.3431      1.850      0.186      0.853      -3.282       3.968\n",
      "TO_Percent                                                                           0.7107      0.303      2.345      0.019       0.117       1.305\n",
      "VBN_Percent                                                                          0.3621      0.301      1.202      0.229      -0.228       0.953\n",
      "WP_Percent                                                                           0.6236      0.313      1.991      0.047       0.010       1.238\n",
      "UH_Percent                                                                           0.0657      0.327      0.201      0.841      -0.575       0.706\n",
      "VBG_Percent                                                                          0.5153      0.297      1.736      0.083      -0.067       1.097\n",
      "JJ_Percent                                                                           0.0435      0.287      0.152      0.880      -0.519       0.606\n",
      "VBZ_Percent                                                                          0.6136      0.299      2.049      0.040       0.027       1.200\n",
      "VBP_Percent                                                                         -0.1768      0.304     -0.582      0.560      -0.772       0.418\n",
      "NN_Percent                                                                           0.1309      0.288      0.455      0.649      -0.433       0.695\n",
      "DT_Percent                                                                           0.4960      0.291      1.703      0.089      -0.075       1.067\n",
      "PRP_Percent                                                                          0.6767      0.293      2.306      0.021       0.102       1.252\n",
      "WP$_Percent                                                                          2.2288      0.758      2.938      0.003       0.742       3.715\n",
      "NNPS_Percent                                                                         1.1162      0.405      2.759      0.006       0.323       1.909\n",
      "PRP$_Percent                                                                         1.3955      0.305      4.570      0.000       0.797       1.994\n",
      "WDT_Percent                                                                         -0.4653      0.362     -1.285      0.199      -1.175       0.244\n",
      "RB_Percent                                                                          -0.0385      0.290     -0.133      0.894      -0.607       0.530\n",
      "RBR_Percent                                                                         -0.0392      0.406     -0.096      0.923      -0.835       0.757\n",
      "RBS_Percent                                                                          1.6582      0.632      2.624      0.009       0.420       2.897\n",
      "VBD_Percent                                                                          0.1659      0.304      0.545      0.585      -0.430       0.762\n",
      "IN_Percent                                                                           0.3174      0.287      1.106      0.269      -0.245       0.880\n",
      "FW_Percent                                                                           0.0360      0.710      0.051      0.960      -1.356       1.428\n",
      "RP_Percent                                                                           0.5895      0.346      1.704      0.088      -0.089       1.268\n",
      "JJR_Percent                                                                          0.5205      0.355      1.465      0.143      -0.176       1.217\n",
      "JJS_Percent                                                                          1.2732      0.406      3.135      0.002       0.477       2.069\n",
      "PDT_Percent                                                                          1.1832      0.517      2.290      0.022       0.170       2.196\n",
      "MD_Percent                                                                          -0.7540      0.313     -2.408      0.016      -1.368      -0.140\n",
      "VB_Percent                                                                           0.1066      0.301      0.354      0.723      -0.484       0.697\n",
      "WRB_Percent                                                                          0.4831      0.314      1.538      0.124      -0.133       1.099\n",
      "NNP_Percent                                                                          0.2105      0.287      0.734      0.463      -0.351       0.772\n",
      "EX_Percent                                                                          -0.5658      0.399     -1.418      0.156      -1.348       0.216\n",
      "NNS_Percent                                                                          0.3067      0.292      1.051      0.293      -0.265       0.879\n",
      "SYM_Percent                                                                         -1.5387      1.772     -0.868      0.385      -5.012       1.935\n",
      "CC_Percent                                                                           0.6516      0.296      2.198      0.028       0.070       1.233\n",
      "CD_Percent                                                                          -0.0934      0.282     -0.331      0.741      -0.647       0.460\n",
      "POS_Percent                                                                          0.9944      0.278      3.574      0.000       0.449       1.540\n",
      "Keyword:\"\"                                                                          -3.1365      0.034    -93.203      0.000      -3.202      -3.071\n",
      "Keyword:\"appointments and executive changes\"                                         0.2430      0.017     14.580      0.000       0.210       0.276\n",
      "Keyword:\"blacks\"                                                                     0.4112      0.022     18.807      0.000       0.368       0.454\n",
      "Keyword:\"china\"                                                                      0.0862      0.021      4.037      0.000       0.044       0.128\n",
      "Keyword:\"classified information and state secrets\"                                  -0.1649      0.018     -9.144      0.000      -0.200      -0.130\n",
      "Keyword:\"clinton, hillary rodham\"                                                    0.0302      0.021      1.452      0.146      -0.011       0.071\n",
      "Keyword:\"comey, james b\"                                                            -0.4389      0.018    -24.370      0.000      -0.474      -0.404\n",
      "Keyword:\"cyberwarfare and defense\"                                                  -0.1536      0.018     -8.495      0.000      -0.189      -0.118\n",
      "Keyword:\"democratic party\"                                                          -0.1854      0.013    -14.263      0.000      -0.211      -0.160\n",
      "Keyword:\"demonstrations, protests and riots\"                                         0.2554      0.019     13.258      0.000       0.218       0.293\n",
      "Keyword:\"discrimination\"                                                            -0.1858      0.019     -9.605      0.000      -0.224      -0.148\n",
      "Keyword:\"espionage and intelligence services\"                                       -0.1123      0.017     -6.669      0.000      -0.145      -0.079\n",
      "Keyword:\"executive orders and memorandums\"                                          -0.0740      0.025     -2.972      0.003      -0.123      -0.025\n",
      "Keyword:\"federal budget (us)\"                                                        0.0606      0.018      3.457      0.001       0.026       0.095\n",
      "Keyword:\"federal bureau of investigation\"                                            0.0046      0.016      0.294      0.769      -0.026       0.035\n",
      "Keyword:\"global warming\"                                                            -0.3709      0.019    -19.569      0.000      -0.408      -0.334\n",
      "Keyword:\"gun control\"                                                               -0.1504      0.023     -6.601      0.000      -0.195      -0.106\n",
      "Keyword:\"health insurance and managed care\"                                         -0.1311      0.014     -9.585      0.000      -0.158      -0.104\n",
      "Keyword:\"house of representatives\"                                                  -0.0945      0.014     -6.830      0.000      -0.122      -0.067\n",
      "Keyword:\"illegal immigration\"                                                        0.2924      0.020     14.745      0.000       0.254       0.331\n",
      "Keyword:\"immigration and emigration\"                                                 0.0472      0.016      2.893      0.004       0.015       0.079\n",
      "Keyword:\"international trade and world market\"                                      -0.1633      0.018     -8.843      0.000      -0.199      -0.127\n",
      "Keyword:\"justice department\"                                                         0.0209      0.015      1.374      0.169      -0.009       0.051\n",
      "Keyword:\"labor and jobs\"                                                             0.1942      0.019     10.145      0.000       0.157       0.232\n",
      "Keyword:\"law and legislation\"                                                       -0.1962      0.015    -12.725      0.000      -0.226      -0.166\n",
      "Keyword:\"mueller, robert s iii\"                                                      0.1665      0.023      7.125      0.000       0.121       0.212\n",
      "Keyword:\"news and news media\"                                                       -0.0767      0.016     -4.771      0.000      -0.108      -0.045\n",
      "Keyword:\"obama, barack\"                                                             -0.0860      0.015     -5.567      0.000      -0.116      -0.056\n",
      "Keyword:\"parkland, fla, shooting (2018)\"                                             0.0409      0.026      1.575      0.115      -0.010       0.092\n",
      "Keyword:\"politics and government\"                                                    0.1187      0.016      7.285      0.000       0.087       0.151\n",
      "Keyword:\"presidential election of 2016\"                                              0.0315      0.012      2.555      0.011       0.007       0.056\n",
      "Keyword:\"putin, vladimir v\"                                                          0.0472      0.019      2.459      0.014       0.010       0.085\n",
      "Keyword:\"refugees and displaced persons\"                                             0.1483      0.028      5.281      0.000       0.093       0.203\n",
      "Keyword:\"republican party\"                                                          -0.0258      0.010     -2.477      0.013      -0.046      -0.005\n",
      "Keyword:\"russia\"                                                                    -0.1059      0.013     -8.093      0.000      -0.132      -0.080\n",
      "Keyword:\"russian interference in 2016 us elections and ties to trump associates\"     0.1247      0.015      8.528      0.000       0.096       0.153\n",
      "Keyword:\"ryan, paul d jr\"                                                           -0.1554      0.018     -8.498      0.000      -0.191      -0.120\n",
      "Keyword:\"school shootings and armed attacks\"                                        -0.5211      0.027    -19.607      0.000      -0.573      -0.469\n",
      "Keyword:\"senate\"                                                                     0.0094      0.014      0.656      0.512      -0.019       0.037\n",
      "Keyword:\"special prosecutors (independent counsel)\"                                 -0.1490      0.022     -6.715      0.000      -0.192      -0.106\n",
      "Keyword:\"supreme court (us)\"                                                        -0.2242      0.020    -11.428      0.000      -0.263      -0.186\n",
      "Keyword:\"syria\"                                                                     -0.5374      0.020    -26.975      0.000      -0.576      -0.498\n",
      "Keyword:\"trump, donald j\"                                                           -0.0739      0.008     -9.418      0.000      -0.089      -0.059\n",
      "Keyword:\"united states\"                                                             -0.0596      0.016     -3.815      0.000      -0.090      -0.029\n",
      "Keyword:\"united states defense and military forces\"                                 -0.0490      0.016     -3.011      0.003      -0.081      -0.017\n",
      "Keyword:\"united states economy\"                                                     -0.0619      0.018     -3.503      0.000      -0.096      -0.027\n",
      "Keyword:\"united states international relations\"                                     -0.0626      0.011     -5.703      0.000      -0.084      -0.041\n",
      "Keyword:\"united states politics and government\"                                     -0.0385      0.008     -5.084      0.000      -0.053      -0.024\n",
      "Keyword:\"women and girls\"                                                            0.2585      0.017     15.461      0.000       0.226       0.291\n",
      "CommentWord:\"actually\"                                                               0.0236      0.013      1.795      0.073      -0.002       0.049\n",
      "CommentWord:\"administration\"                                                         0.0502      0.014      3.694      0.000       0.024       0.077\n",
      "CommentWord:\"america\"                                                                0.0239      0.009      2.558      0.011       0.006       0.042\n",
      "CommentWord:\"american\"                                                               0.0365      0.009      4.005      0.000       0.019       0.054\n",
      "CommentWord:\"americans\"                                                              0.0437      0.011      3.851      0.000       0.021       0.066\n",
      "CommentWord:\"article\"                                                               -0.0262      0.013     -2.091      0.037      -0.051      -0.002\n",
      "CommentWord:\"believe\"                                                               -0.0063      0.011     -0.582      0.560      -0.027       0.015\n",
      "CommentWord:\"best\"                                                                  -0.0307      0.014     -2.228      0.026      -0.058      -0.004\n",
      "CommentWord:\"better\"                                                                -0.0329      0.011     -3.055      0.002      -0.054      -0.012\n",
      "CommentWord:\"care\"                                                                   0.0486      0.010      4.877      0.000       0.029       0.068\n",
      "CommentWord:\"change\"                                                                -0.0390      0.012     -3.346      0.001      -0.062      -0.016\n",
      "CommentWord:\"children\"                                                               0.0780      0.012      6.629      0.000       0.055       0.101\n",
      "CommentWord:\"come\"                                                                  -0.0058      0.013     -0.450      0.652      -0.031       0.019\n",
      "CommentWord:\"congress\"                                                              -0.0292      0.012     -2.530      0.011      -0.052      -0.007\n",
      "CommentWord:\"country\"                                                                0.0531      0.008      6.688      0.000       0.038       0.069\n",
      "CommentWord:\"day\"                                                                    0.0285      0.011      2.536      0.011       0.006       0.051\n",
      "CommentWord:\"democrats\"                                                             -0.1140      0.010    -11.544      0.000      -0.133      -0.095\n",
      "CommentWord:\"did\"                                                                    0.0072      0.008      0.862      0.389      -0.009       0.024\n",
      "CommentWord:\"didn\"                                                                   0.0323      0.013      2.557      0.011       0.008       0.057\n",
      "CommentWord:\"does\"                                                                  -0.0350      0.009     -3.858      0.000      -0.053      -0.017\n",
      "CommentWord:\"doesn\"                                                                  0.0304      0.012      2.553      0.011       0.007       0.054\n",
      "CommentWord:\"doing\"                                                                 -0.0182      0.013     -1.357      0.175      -0.044       0.008\n",
      "CommentWord:\"don\"                                                                    0.0215      0.007      3.072      0.002       0.008       0.035\n",
      "CommentWord:\"donald\"                                                                 0.0733      0.014      5.300      0.000       0.046       0.100\n",
      "CommentWord:\"election\"                                                               0.0111      0.011      0.974      0.330      -0.011       0.033\n",
      "CommentWord:\"fact\"                                                                   0.0315      0.013      2.497      0.013       0.007       0.056\n",
      "CommentWord:\"far\"                                                                   -0.0068      0.013     -0.526      0.599      -0.032       0.018\n",
      "CommentWord:\"going\"                                                                 -0.0111      0.010     -1.158      0.247      -0.030       0.008\n",
      "CommentWord:\"good\"                                                                  -0.0315      0.008     -3.847      0.000      -0.048      -0.015\n",
      "CommentWord:\"gop\"                                                                    0.0840      0.011      7.831      0.000       0.063       0.105\n",
      "CommentWord:\"government\"                                                            -0.0261      0.008     -3.142      0.002      -0.042      -0.010\n",
      "CommentWord:\"great\"                                                                 -0.0030      0.011     -0.271      0.787      -0.025       0.019\n",
      "CommentWord:\"health\"                                                                 0.0415      0.011      3.818      0.000       0.020       0.063\n",
      "CommentWord:\"help\"                                                                  -0.0016      0.013     -0.126      0.900      -0.027       0.024\n",
      "CommentWord:\"hope\"                                                                  -0.0050      0.013     -0.373      0.709      -0.031       0.021\n",
      "CommentWord:\"house\"                                                                  0.0303      0.012      2.424      0.015       0.006       0.055\n",
      "CommentWord:\"just\"                                                                  -0.0035      0.006     -0.538      0.591      -0.016       0.009\n",
      "CommentWord:\"know\"                                                                  -0.0265      0.008     -3.315      0.001      -0.042      -0.011\n",
      "CommentWord:\"law\"                                                                    0.0376      0.012      3.210      0.001       0.015       0.061\n",
      "CommentWord:\"left\"                                                                  -0.0419      0.012     -3.397      0.001      -0.066      -0.018\n",
      "CommentWord:\"let\"                                                                   -0.0062      0.011     -0.590      0.555      -0.027       0.014\n",
      "CommentWord:\"life\"                                                                  -0.0149      0.010     -1.439      0.150      -0.035       0.005\n",
      "CommentWord:\"like\"                                                                  -0.0418      0.006     -6.822      0.000      -0.054      -0.030\n",
      "CommentWord:\"little\"                                                                 0.0039      0.014      0.288      0.773      -0.023       0.031\n",
      "CommentWord:\"long\"                                                                   0.0068      0.011      0.606      0.544      -0.015       0.029\n",
      "CommentWord:\"look\"                                                                   0.0118      0.013      0.936      0.349      -0.013       0.037\n",
      "CommentWord:\"make\"                                                                  -0.0472      0.009     -5.416      0.000      -0.064      -0.030\n",
      "CommentWord:\"man\"                                                                    0.0399      0.011      3.689      0.000       0.019       0.061\n",
      "CommentWord:\"maybe\"                                                                 -0.0781      0.012     -6.310      0.000      -0.102      -0.054\n",
      "CommentWord:\"media\"                                                                 -0.1050      0.011     -9.472      0.000      -0.127      -0.083\n",
      "CommentWord:\"money\"                                                                  0.0388      0.009      4.316      0.000       0.021       0.056\n",
      "CommentWord:\"mr\"                                                                     0.0061      0.008      0.766      0.444      -0.010       0.022\n",
      "CommentWord:\"need\"                                                                   0.0109      0.008      1.332      0.183      -0.005       0.027\n",
      "CommentWord:\"new\"                                                                   -0.0391      0.009     -4.196      0.000      -0.057      -0.021\n",
      "CommentWord:\"news\"                                                                   0.0123      0.011      1.140      0.254      -0.009       0.033\n",
      "CommentWord:\"obama\"                                                                 -0.0175      0.009     -1.971      0.049      -0.035   -9.63e-05\n",
      "CommentWord:\"office\"                                                                 0.0134      0.014      0.983      0.326      -0.013       0.040\n",
      "CommentWord:\"party\"                                                                 -0.0121      0.009     -1.336      0.182      -0.030       0.006\n",
      "CommentWord:\"pay\"                                                                    0.0310      0.011      2.717      0.007       0.009       0.053\n",
      "CommentWord:\"people\"                                                                -0.0037      0.005     -0.776      0.438      -0.013       0.006\n",
      "CommentWord:\"person\"                                                                -0.0124      0.012     -0.994      0.320      -0.037       0.012\n",
      "CommentWord:\"point\"                                                                 -0.0226      0.013     -1.803      0.071      -0.047       0.002\n",
      "CommentWord:\"political\"                                                             -0.0716      0.011     -6.486      0.000      -0.093      -0.050\n",
      "CommentWord:\"power\"                                                                 -0.0155      0.011     -1.432      0.152      -0.037       0.006\n",
      "CommentWord:\"president\"                                                             -0.0187      0.007     -2.801      0.005      -0.032      -0.006\n",
      "CommentWord:\"problem\"                                                               -0.0280      0.012     -2.378      0.017      -0.051      -0.005\n",
      "CommentWord:\"public\"                                                                 0.0572      0.010      5.497      0.000       0.037       0.078\n",
      "CommentWord:\"read\"                                                                  -0.0008      0.013     -0.063      0.949      -0.025       0.024\n",
      "CommentWord:\"real\"                                                                   0.0229      0.011      1.998      0.046       0.000       0.045\n",
      "CommentWord:\"really\"                                                                -0.0102      0.010     -1.022      0.307      -0.030       0.009\n",
      "CommentWord:\"republican\"                                                             0.0810      0.010      7.740      0.000       0.061       0.102\n",
      "CommentWord:\"republicans\"                                                            0.0673      0.010      6.933      0.000       0.048       0.086\n",
      "CommentWord:\"right\"                                                                  0.0188      0.008      2.392      0.017       0.003       0.034\n",
      "CommentWord:\"russia\"                                                                -0.0421      0.011     -3.849      0.000      -0.063      -0.021\n",
      "CommentWord:\"said\"                                                                  -0.0376      0.011     -3.305      0.001      -0.060      -0.015\n",
      "CommentWord:\"say\"                                                                   -0.0362      0.010     -3.540      0.000      -0.056      -0.016\n",
      "CommentWord:\"school\"                                                                -0.0620      0.011     -5.871      0.000      -0.083      -0.041\n",
      "CommentWord:\"state\"                                                                  0.0452      0.010      4.518      0.000       0.026       0.065\n",
      "CommentWord:\"states\"                                                                -0.0057      0.011     -0.523      0.601      -0.027       0.016\n",
      "CommentWord:\"support\"                                                                0.0411      0.013      3.207      0.001       0.016       0.066\n",
      "CommentWord:\"tax\"                                                                   -0.0310      0.008     -3.647      0.000      -0.048      -0.014\n",
      "CommentWord:\"thing\"                                                                 -0.0393      0.012     -3.207      0.001      -0.063      -0.015\n",
      "CommentWord:\"things\"                                                                -0.0467      0.012     -3.995      0.000      -0.070      -0.024\n",
      "CommentWord:\"think\"                                                                 -0.0841      0.008    -11.115      0.000      -0.099      -0.069\n",
      "CommentWord:\"time\"                                                                  -0.0135      0.007     -1.810      0.070      -0.028       0.001\n",
      "CommentWord:\"times\"                                                                  0.0031      0.011      0.283      0.777      -0.019       0.025\n",
      "CommentWord:\"trump\"                                                                  0.0373      0.004     10.655      0.000       0.030       0.044\n",
      "CommentWord:\"use\"                                                                   -0.0672      0.012     -5.554      0.000      -0.091      -0.043\n",
      "CommentWord:\"ve\"                                                                     0.0562      0.012      4.526      0.000       0.032       0.081\n",
      "CommentWord:\"vote\"                                                                  -0.0054      0.010     -0.527      0.598      -0.026       0.015\n",
      "CommentWord:\"want\"                                                                  -0.0202      0.009     -2.303      0.021      -0.037      -0.003\n",
      "CommentWord:\"war\"                                                                    0.0096      0.010      0.990      0.322      -0.009       0.029\n",
      "CommentWord:\"way\"                                                                   -0.0393      0.009     -4.576      0.000      -0.056      -0.022\n",
      "CommentWord:\"white\"                                                                  0.0256      0.011      2.422      0.015       0.005       0.046\n",
      "CommentWord:\"women\"                                                                  0.0948      0.010      9.852      0.000       0.076       0.114\n",
      "CommentWord:\"won\"                                                                   -0.0040      0.013     -0.305      0.761      -0.030       0.022\n",
      "CommentWord:\"work\"                                                                   0.0302      0.010      3.108      0.002       0.011       0.049\n",
      "CommentWord:\"world\"                                                                 -0.0270      0.008     -3.289      0.001      -0.043      -0.011\n",
      "CommentWord:\"year\"                                                                   0.0415      0.012      3.464      0.001       0.018       0.065\n",
      "CommentWord:\"years\"                                                                  0.0684      0.009      7.736      0.000       0.051       0.086\n",
      "const                                                                                2.0187      0.287      7.040      0.000       1.457       2.581\n",
      "----------------------------------------------------------------------------------------------------------------------------------------------------\n",
      "                                                                          recs=3       coef    std err          z      P>|z|      [0.025      0.975]\n",
      "----------------------------------------------------------------------------------------------------------------------------------------------------\n",
      "editorsSelection_1                                                                   4.6076      0.085     54.078      0.000       4.441       4.775\n",
      "sectionName_Africa                                                                   0.2168      0.113      1.925      0.054      -0.004       0.438\n",
      "sectionName_Americas                                                                 0.2970      0.052      5.734      0.000       0.195       0.398\n",
      "sectionName_Art                                                                      0.2659      0.774      0.344      0.731      -1.251       1.783\n",
      "sectionName_Art & Design                                                             0.2018      0.060      3.387      0.001       0.085       0.319\n",
      "sectionName_Asia Pacific                                                            -0.8555      0.029    -29.560      0.000      -0.912      -0.799\n",
      "sectionName_Australia                                                               -0.1970      0.175     -1.125      0.260      -0.540       0.146\n",
      "sectionName_Auto Racing                                                             -4.4032      1.122     -3.923      0.000      -6.603      -2.203\n",
      "sectionName_Automobiles                                                              0.1238      0.790      0.157      0.875      -1.424       1.671\n",
      "sectionName_Baseball                                                                -2.1162      0.078    -26.984      0.000      -2.270      -1.962\n",
      "sectionName_Book Review                                                             -0.4712      0.083     -5.689      0.000      -0.634      -0.309\n",
      "sectionName_Canada                                                                   0.6063      0.086      7.043      0.000       0.438       0.775\n",
      "sectionName_College Basketball                                                      -0.8056      0.104     -7.736      0.000      -1.010      -0.602\n",
      "sectionName_College Football                                                         0.2074      0.169      1.227      0.220      -0.124       0.538\n",
      "sectionName_Cycling                                                                 -0.1118      0.294     -0.380      0.704      -0.689       0.465\n",
      "sectionName_Dance                                                                    2.5483      0.620      4.109      0.000       1.333       3.764\n",
      "sectionName_DealBook                                                                -0.4017      0.053     -7.528      0.000      -0.506      -0.297\n",
      "sectionName_Eat                                                                      0.3319      0.060      5.517      0.000       0.214       0.450\n",
      "sectionName_Economy                                                                  0.1715      0.043      3.951      0.000       0.086       0.257\n",
      "sectionName_Editorials                                                               0.6449      0.112      5.751      0.000       0.425       0.865\n",
      "sectionName_Education Life                                                           0.7369      0.096      7.642      0.000       0.548       0.926\n",
      "sectionName_Energy & Environment                                                    -0.0517      0.094     -0.548      0.584      -0.237       0.133\n",
      "sectionName_Entrepreneurship                                                         2.7172      1.076      2.526      0.012       0.609       4.825\n",
      "sectionName_Europe                                                                  -0.2512      0.022    -11.412      0.000      -0.294      -0.208\n",
      "sectionName_Family                                                                   1.1504      0.037     31.477      0.000       1.079       1.222\n",
      "sectionName_Golf                                                                    -1.5172      0.204     -7.427      0.000      -1.918      -1.117\n",
      "sectionName_Hockey                                                                  -1.3666      0.189     -7.226      0.000      -1.737      -0.996\n",
      "sectionName_Insider Events                                                           0.9971      1.100      0.906      0.365      -1.160       3.154\n",
      "sectionName_Learning                                                                 2.1373      0.496      4.307      0.000       1.165       3.110\n",
      "sectionName_Lesson Plans                                                            -3.2561      1.031     -3.159      0.002      -5.276      -1.236\n",
      "sectionName_Live                                                                     0.9859      0.043     22.898      0.000       0.902       1.070\n",
      "sectionName_Media                                                                    0.2458      0.033      7.430      0.000       0.181       0.311\n",
      "sectionName_Middle East                                                             -0.3083      0.028    -10.978      0.000      -0.363      -0.253\n",
      "sectionName_Mind                                                                     1.0604      0.097     10.985      0.000       0.871       1.250\n",
      "sectionName_Move                                                                     0.6713      0.053     12.705      0.000       0.568       0.775\n",
      "sectionName_Music                                                                    0.7089      0.081      8.770      0.000       0.550       0.867\n",
      "sectionName_Neighborhoods                                                            2.6188      1.113      2.353      0.019       0.437       4.800\n",
      "sectionName_Olympics                                                                 0.1417      0.073      1.929      0.054      -0.002       0.286\n",
      "sectionName_Opinion | Politics                                                      -0.9519      0.127     -7.472      0.000      -1.202      -0.702\n",
      "sectionName_Paying for College                                                      -0.1817      0.366     -0.496      0.620      -0.900       0.536\n",
      "sectionName_Personal Tech                                                           -0.5052      0.159     -3.178      0.001      -0.817      -0.194\n",
      "sectionName_Politics                                                                -0.2812      0.014    -20.801      0.000      -0.308      -0.255\n",
      "sectionName_Pro Basketball                                                          -1.5774      0.110    -14.328      0.000      -1.793      -1.362\n",
      "sectionName_Pro Football                                                            -0.5092      0.069     -7.417      0.000      -0.644      -0.375\n",
      "sectionName_Retirement                                                               1.2652      0.163      7.769      0.000       0.946       1.584\n",
      "sectionName_Room For Debate                                                          0.8125      0.131      6.212      0.000       0.556       1.069\n",
      "sectionName_Rugby                                                                   -2.2772      0.316     -7.199      0.000      -2.897      -1.657\n",
      "sectionName_Soccer                                                                  -2.4712      0.150    -16.473      0.000      -2.765      -2.177\n",
      "sectionName_Student Loans                                                            0.8239      0.210      3.921      0.000       0.412       1.236\n",
      "sectionName_Sunday Review                                                            0.4431      0.018     24.573      0.000       0.408       0.478\n",
      "sectionName_Television                                                              -0.1029      0.037     -2.776      0.005      -0.176      -0.030\n",
      "sectionName_Tennis                                                                  -0.4553      0.160     -2.841      0.005      -0.769      -0.141\n",
      "sectionName_The Daily                                                               -3.6563      0.327    -11.179      0.000      -4.297      -3.015\n",
      "sectionName_Unknown                                                                 -0.0067      0.010     -0.674      0.500      -0.026       0.013\n",
      "sectionName_Weddings                                                                 3.9424      1.031      3.826      0.000       1.923       5.962\n",
      "sectionName_Wine, Beer & Cocktails                                                  -1.4843      0.149     -9.988      0.000      -1.776      -1.193\n",
      "typeOfMaterial_Biography                                                             1.8286      0.711      2.570      0.010       0.434       3.223\n",
      "typeOfMaterial_Blog                                                                 -0.1906        nan        nan        nan         nan         nan\n",
      "typeOfMaterial_Brief                                                                 1.9490      0.275      7.085      0.000       1.410       2.488\n",
      "typeOfMaterial_Editorial                                                            -0.3679      0.014    -26.574      0.000      -0.395      -0.341\n",
      "typeOfMaterial_Interview                                                             2.0464      0.340      6.016      0.000       1.380       2.713\n",
      "typeOfMaterial_Letter                                                                0.4714      0.115      4.087      0.000       0.245       0.697\n",
      "typeOfMaterial_News                                                                  0.5668      0.012     48.691      0.000       0.544       0.590\n",
      "typeOfMaterial_News Analysis                                                         0.4709      0.031     15.074      0.000       0.410       0.532\n",
      "typeOfMaterial_Obituary (Obit)                                                       1.0950      0.069     15.810      0.000       0.959       1.231\n",
      "typeOfMaterial_Question                                                              1.2439      0.162      7.657      0.000       0.925       1.562\n",
      "typeOfMaterial_Review                                                                0.4727      0.039     12.076      0.000       0.396       0.549\n",
      "typeOfMaterial_briefing                                                              1.5296      0.065     23.432      0.000       1.402       1.658\n",
      "commentType_reporterReply                                                            2.5447      0.221     11.511      0.000       2.111       2.978\n",
      "documentType_blogpost                                                               -0.1906        nan        nan        nan         nan         nan\n",
      "articleWordCount                                                                  2.948e-05   3.68e-06      8.019      0.000    2.23e-05    3.67e-05\n",
      "depth                                                                               -2.9723      0.008   -370.082      0.000      -2.988      -2.957\n",
      "printPage                                                                            0.0048      0.000     13.624      0.000       0.004       0.005\n",
      "timespeople                                                                          0.3682      0.016     23.363      0.000       0.337       0.399\n",
      "trusted                                                                              1.7610      0.018     97.360      0.000       1.726       1.796\n",
      "sharing                                                                              0.0015      0.010      0.156      0.876      -0.018       0.021\n",
      "reply                                                                                0.0001   1.83e-05      6.251      0.000    7.86e-05       0.000\n",
      "author_By BRET STEPHENS                                                             -0.0925      0.032     -2.852      0.004      -0.156      -0.029\n",
      "author_By CHARLES M. BLOW                                                           -0.2373      0.020    -11.702      0.000      -0.277      -0.198\n",
      "author_By DAVID BROOKS                                                              -1.1154      0.019    -58.210      0.000      -1.153      -1.078\n",
      "author_By DAVID LEONHARDT                                                           -0.4335      0.027    -16.191      0.000      -0.486      -0.381\n",
      "author_By DEB AMLEN                                                                 -3.4369      0.051    -67.566      0.000      -3.537      -3.337\n",
      "author_By FRANK BRUNI                                                               -0.0023      0.021     -0.106      0.916      -0.044       0.040\n",
      "author_By GAIL COLLINS                                                               1.1979      0.028     42.913      0.000       1.143       1.253\n",
      "author_By JULIE HIRSCHFELD DAVIS                                                    -0.2046      0.031     -6.638      0.000      -0.265      -0.144\n",
      "author_By MAUREEN DOWD                                                               0.7788      0.039     20.008      0.000       0.703       0.855\n",
      "author_By MICHAEL D. SHEAR                                                          -0.0444      0.034     -1.324      0.185      -0.110       0.021\n",
      "author_By MICHELLE GOLDBERG                                                          0.0577      0.033      1.737      0.082      -0.007       0.123\n",
      "author_By NICHOLAS KRISTOF                                                          -0.2550      0.022    -11.543      0.000      -0.298      -0.212\n",
      "author_By PAUL KRUGMAN                                                              -0.4440      0.019    -23.938      0.000      -0.480      -0.408\n",
      "author_By PETER BAKER                                                               -0.2529      0.031     -8.093      0.000      -0.314      -0.192\n",
      "author_By ROGER COHEN                                                                0.2192      0.028      7.813      0.000       0.164       0.274\n",
      "author_By ROSS DOUTHAT                                                              -0.8477      0.023    -37.137      0.000      -0.892      -0.803\n",
      "author_By THE LEARNING NETWORK                                                      -5.6276      0.356    -15.801      0.000      -6.326      -4.930\n",
      "author_By THOMAS B. EDSALL                                                          -0.4005      0.036    -11.239      0.000      -0.470      -0.331\n",
      "author_By THOMAS L. FRIEDMAN                                                        -0.7713      0.029    -26.716      0.000      -0.828      -0.715\n",
      "approveHour_0PM                                                                     -0.5234      0.020    -25.628      0.000      -0.563      -0.483\n",
      "approveHour_10AM                                                                     0.6581      0.034     19.559      0.000       0.592       0.724\n",
      "approveHour_10PM                                                                    -0.1440      0.021     -6.837      0.000      -0.185      -0.103\n",
      "approveHour_11AM                                                                    -0.0332      0.025     -1.349      0.177      -0.081       0.015\n",
      "approveHour_11PM                                                                    -0.1504      0.022     -6.739      0.000      -0.194      -0.107\n",
      "approveHour_1AM                                                                      0.0069      0.022      0.310      0.756      -0.037       0.050\n",
      "approveHour_1PM                                                                     -0.8007      0.019    -42.375      0.000      -0.838      -0.764\n",
      "approveHour_2AM                                                                      0.3508      0.023     15.198      0.000       0.306       0.396\n",
      "approveHour_2PM                                                                     -0.9518      0.019    -51.443      0.000      -0.988      -0.916\n",
      "approveHour_3AM                                                                      0.5416      0.025     21.615      0.000       0.493       0.591\n",
      "approveHour_3PM                                                                     -1.0002      0.018    -54.828      0.000      -1.036      -0.964\n",
      "approveHour_4AM                                                                      0.4754      0.029     16.322      0.000       0.418       0.532\n",
      "approveHour_4PM                                                                     -0.9132      0.018    -49.635      0.000      -0.949      -0.877\n",
      "approveHour_5AM                                                                      0.5503      0.033     16.660      0.000       0.486       0.615\n",
      "approveHour_5PM                                                                     -0.8276      0.019    -44.217      0.000      -0.864      -0.791\n",
      "approveHour_6AM                                                                      0.4672      0.040     11.601      0.000       0.388       0.546\n",
      "approveHour_6PM                                                                     -0.6155      0.019    -32.252      0.000      -0.653      -0.578\n",
      "approveHour_7AM                                                                      0.3859      0.052      7.464      0.000       0.285       0.487\n",
      "approveHour_7PM                                                                     -0.5341      0.019    -27.499      0.000      -0.572      -0.496\n",
      "approveHour_8AM                                                                      0.4335      0.048      9.065      0.000       0.340       0.527\n",
      "approveHour_8PM                                                                     -0.4231      0.019    -21.927      0.000      -0.461      -0.385\n",
      "approveHour_9AM                                                                      0.7520      0.043     17.475      0.000       0.668       0.836\n",
      "approveHour_9PM                                                                     -0.2377      0.020    -12.012      0.000      -0.276      -0.199\n",
      "approveDay_Monday                                                                    0.0976      0.011      9.212      0.000       0.077       0.118\n",
      "approveDay_Saturday                                                                  0.1059      0.012      9.013      0.000       0.083       0.129\n",
      "approveDay_Sunday                                                                    0.0221      0.013      1.707      0.088      -0.003       0.047\n",
      "approveDay_Thursday                                                                 -0.0029      0.010     -0.282      0.778      -0.023       0.017\n",
      "approveDay_Tuesday                                                                  -0.0814      0.010     -8.472      0.000      -0.100      -0.063\n",
      "approveDay_Wednesday                                                                -0.0275      0.010     -2.695      0.007      -0.048      -0.008\n",
      "hoursAfterArticle                                                                   -0.0090      0.000    -81.127      0.000      -0.009      -0.009\n",
      "recognizedWordCount                                                                  0.0014      0.000      4.417      0.000       0.001       0.002\n",
      "MinIdf                                                                              -0.1074      0.007    -15.644      0.000      -0.121      -0.094\n",
      "MeanIdf                                                                              0.0652      0.016      4.147      0.000       0.034       0.096\n",
      "MaxIdf                                                                               0.0463      0.004     13.183      0.000       0.039       0.053\n",
      "Idf1Percent                                                                         -0.2442      0.077     -3.179      0.001      -0.395      -0.094\n",
      "Idf2Percent                                                                          0.2465      0.071      3.463      0.001       0.107       0.386\n",
      "Idf3Percent                                                                          0.1454      0.085      1.713      0.087      -0.021       0.312\n",
      "Idf4Percent                                                                          0.0318      0.101      0.316      0.752      -0.165       0.229\n",
      "Idf5Percent                                                                          0.0060      0.117      0.051      0.959      -0.224       0.236\n",
      "Idf6Percent                                                                          0.0135      0.136      0.099      0.921      -0.253       0.280\n",
      "Idf7Percent                                                                          0.1267      0.158      0.804      0.422      -0.182       0.436\n",
      "Idf8Percent                                                                         -0.4539      0.185     -2.452      0.014      -0.817      -0.091\n",
      "Idf9Percent                                                                         -0.8480      0.234     -3.627      0.000      -1.306      -0.390\n",
      "minWordLength                                                                       -0.0551      0.006     -9.244      0.000      -0.067      -0.043\n",
      "meanWordLength                                                                       0.0878      0.007     12.658      0.000       0.074       0.101\n",
      "maxWordLength                                                                        0.0066      0.001      5.219      0.000       0.004       0.009\n",
      "maxSentLength                                                                        0.0007      0.000      2.409      0.016       0.000       0.001\n",
      "commentPolarity                                                                     -0.1131      0.013     -8.606      0.000      -0.139      -0.087\n",
      "commentObjectivity                                                                   0.1106      0.013      8.525      0.000       0.085       0.136\n",
      "commentSpellErrorsPercent                                                           -1.9919      0.089    -22.287      0.000      -2.167      -1.817\n",
      "LS_Percent                                                                          -0.1350      2.076     -0.065      0.948      -4.203       3.933\n",
      "TO_Percent                                                                           0.2473      0.152      1.622      0.105      -0.051       0.546\n",
      "VBN_Percent                                                                         -0.3829      0.172     -2.228      0.026      -0.720      -0.046\n",
      "WP_Percent                                                                           0.7003      0.173      4.041      0.000       0.361       1.040\n",
      "UH_Percent                                                                          -1.4027      0.236     -5.947      0.000      -1.865      -0.940\n",
      "VBG_Percent                                                                         -0.2176      0.162     -1.345      0.179      -0.535       0.100\n",
      "JJ_Percent                                                                          -0.7838      0.138     -5.694      0.000      -1.054      -0.514\n",
      "VBZ_Percent                                                                         -0.3531      0.159     -2.218      0.027      -0.665      -0.041\n",
      "VBP_Percent                                                                         -1.2374      0.169     -7.334      0.000      -1.568      -0.907\n",
      "NN_Percent                                                                          -0.5616      0.142     -3.954      0.000      -0.840      -0.283\n",
      "DT_Percent                                                                          -0.2583      0.111     -2.328      0.020      -0.476      -0.041\n",
      "PRP_Percent                                                                          0.7564      0.126      6.027      0.000       0.510       1.002\n",
      "WP$_Percent                                                                          4.0607        nan        nan        nan         nan         nan\n",
      "NNPS_Percent                                                                         1.4511      0.383      3.790      0.000       0.701       2.202\n",
      "PRP$_Percent                                                                         2.5324      0.145     17.444      0.000       2.248       2.817\n",
      "WDT_Percent                                                                         -2.5513      0.160    -15.954      0.000      -2.865      -2.238\n",
      "RB_Percent                                                                          -1.0658      0.134     -7.963      0.000      -1.328      -0.803\n",
      "RBR_Percent                                                                         -1.1040      0.348     -3.174      0.002      -1.786      -0.422\n",
      "RBS_Percent                                                                          2.6160      0.625      4.183      0.000       1.390       3.842\n",
      "VBD_Percent                                                                         -0.5042      0.177     -2.846      0.004      -0.851      -0.157\n",
      "IN_Percent                                                                          -0.5233      0.122     -4.294      0.000      -0.762      -0.284\n",
      "FW_Percent                                                                          -1.2448      0.753     -1.653      0.098      -2.721       0.231\n",
      "RP_Percent                                                                           0.1407      0.230      0.613      0.540      -0.309       0.591\n",
      "JJR_Percent                                                                         -0.4181      0.268     -1.559      0.119      -0.944       0.108\n",
      "JJS_Percent                                                                          0.6561      0.350      1.873      0.061      -0.031       1.343\n",
      "PDT_Percent                                                                         -0.3911      0.480     -0.814      0.415      -1.332       0.550\n",
      "MD_Percent                                                                          -2.5957      0.185    -14.008      0.000      -2.959      -2.233\n",
      "VB_Percent                                                                          -1.0050      0.168     -5.992      0.000      -1.334      -0.676\n",
      "WRB_Percent                                                                          0.1003      0.174      0.576      0.564      -0.241       0.441\n",
      "NNP_Percent                                                                         -0.6226      0.132     -4.710      0.000      -0.882      -0.364\n",
      "EX_Percent                                                                          -1.4278      0.323     -4.421      0.000      -2.061      -0.795\n",
      "NNS_Percent                                                                         -0.6235      0.160     -3.887      0.000      -0.938      -0.309\n",
      "SYM_Percent                                                                         -1.3446      2.167     -0.621      0.535      -5.591       2.902\n",
      "CC_Percent                                                                          -0.0184      0.135     -0.136      0.892      -0.284       0.247\n",
      "CD_Percent                                                                          -0.7816      0.136     -5.744      0.000      -1.048      -0.515\n",
      "POS_Percent                                                                          0.5075      0.091      5.553      0.000       0.328       0.687\n",
      "Keyword:\"\"                                                                          -3.4499      0.046    -74.552      0.000      -3.541      -3.359\n",
      "Keyword:\"appointments and executive changes\"                                         0.1962      0.018     11.122      0.000       0.162       0.231\n",
      "Keyword:\"blacks\"                                                                     0.4606      0.023     20.048      0.000       0.416       0.506\n",
      "Keyword:\"china\"                                                                      0.1024      0.023      4.435      0.000       0.057       0.148\n",
      "Keyword:\"classified information and state secrets\"                                  -0.1619      0.019     -8.433      0.000      -0.200      -0.124\n",
      "Keyword:\"clinton, hillary rodham\"                                                    0.0430      0.022      1.951      0.051      -0.000       0.086\n",
      "Keyword:\"comey, james b\"                                                            -0.5094      0.019    -26.893      0.000      -0.547      -0.472\n",
      "Keyword:\"cyberwarfare and defense\"                                                  -0.2170      0.019    -11.174      0.000      -0.255      -0.179\n",
      "Keyword:\"democratic party\"                                                          -0.3125      0.014    -22.140      0.000      -0.340      -0.285\n",
      "Keyword:\"demonstrations, protests and riots\"                                         0.3532      0.020     17.309      0.000       0.313       0.393\n",
      "Keyword:\"discrimination\"                                                            -0.2601      0.021    -12.675      0.000      -0.300      -0.220\n",
      "Keyword:\"espionage and intelligence services\"                                       -0.1204      0.018     -6.767      0.000      -0.155      -0.086\n",
      "Keyword:\"executive orders and memorandums\"                                          -0.1323      0.027     -4.929      0.000      -0.185      -0.080\n",
      "Keyword:\"federal budget (us)\"                                                        0.0433      0.019      2.329      0.020       0.007       0.080\n",
      "Keyword:\"federal bureau of investigation\"                                           -0.0138      0.016     -0.838      0.402      -0.046       0.018\n",
      "Keyword:\"global warming\"                                                            -0.8491      0.021    -39.831      0.000      -0.891      -0.807\n",
      "Keyword:\"gun control\"                                                               -0.3067      0.025    -12.391      0.000      -0.355      -0.258\n",
      "Keyword:\"health insurance and managed care\"                                         -0.1099      0.015     -7.568      0.000      -0.138      -0.081\n",
      "Keyword:\"house of representatives\"                                                  -0.2027      0.015    -13.719      0.000      -0.232      -0.174\n",
      "Keyword:\"illegal immigration\"                                                        0.3215      0.021     15.161      0.000       0.280       0.363\n",
      "Keyword:\"immigration and emigration\"                                                 0.0449      0.017      2.569      0.010       0.011       0.079\n",
      "Keyword:\"international trade and world market\"                                      -0.2931      0.020    -14.773      0.000      -0.332      -0.254\n",
      "Keyword:\"justice department\"                                                        -0.0680      0.016     -4.209      0.000      -0.100      -0.036\n",
      "Keyword:\"labor and jobs\"                                                             0.3221      0.020     15.943      0.000       0.282       0.362\n",
      "Keyword:\"law and legislation\"                                                       -0.2210      0.016    -13.470      0.000      -0.253      -0.189\n",
      "Keyword:\"mueller, robert s iii\"                                                      0.3310      0.024     13.555      0.000       0.283       0.379\n",
      "Keyword:\"news and news media\"                                                       -0.2130      0.017    -12.403      0.000      -0.247      -0.179\n",
      "Keyword:\"obama, barack\"                                                             -0.0813      0.017     -4.924      0.000      -0.114      -0.049\n",
      "Keyword:\"parkland, fla, shooting (2018)\"                                            -0.1390      0.028     -4.889      0.000      -0.195      -0.083\n",
      "Keyword:\"politics and government\"                                                    0.0557      0.018      3.172      0.002       0.021       0.090\n",
      "Keyword:\"presidential election of 2016\"                                              0.0395      0.013      3.024      0.002       0.014       0.065\n",
      "Keyword:\"putin, vladimir v\"                                                          0.1623      0.021      7.916      0.000       0.122       0.202\n",
      "Keyword:\"refugees and displaced persons\"                                             0.0339      0.030      1.115      0.265      -0.026       0.094\n",
      "Keyword:\"republican party\"                                                          -0.0312      0.011     -2.811      0.005      -0.053      -0.009\n",
      "Keyword:\"russia\"                                                                    -0.1798      0.014    -12.857      0.000      -0.207      -0.152\n",
      "Keyword:\"russian interference in 2016 us elections and ties to trump associates\"     0.0996      0.015      6.445      0.000       0.069       0.130\n",
      "Keyword:\"ryan, paul d jr\"                                                           -0.0961      0.019     -5.006      0.000      -0.134      -0.058\n",
      "Keyword:\"school shootings and armed attacks\"                                        -0.6149      0.029    -21.212      0.000      -0.672      -0.558\n",
      "Keyword:\"senate\"                                                                    -0.0396      0.015     -2.590      0.010      -0.070      -0.010\n",
      "Keyword:\"special prosecutors (independent counsel)\"                                 -0.0684      0.023     -2.931      0.003      -0.114      -0.023\n",
      "Keyword:\"supreme court (us)\"                                                        -0.4252      0.022    -19.431      0.000      -0.468      -0.382\n",
      "Keyword:\"syria\"                                                                     -0.8307      0.022    -37.383      0.000      -0.874      -0.787\n",
      "Keyword:\"trump, donald j\"                                                           -0.0528      0.008     -6.290      0.000      -0.069      -0.036\n",
      "Keyword:\"united states\"                                                             -0.1071      0.017     -6.375      0.000      -0.140      -0.074\n",
      "Keyword:\"united states defense and military forces\"                                 -0.1687      0.018     -9.481      0.000      -0.204      -0.134\n",
      "Keyword:\"united states economy\"                                                     -0.1272      0.019     -6.724      0.000      -0.164      -0.090\n",
      "Keyword:\"united states international relations\"                                     -0.1258      0.012    -10.685      0.000      -0.149      -0.103\n",
      "Keyword:\"united states politics and government\"                                     -0.0366      0.008     -4.516      0.000      -0.052      -0.021\n",
      "Keyword:\"women and girls\"                                                            0.4012      0.017     22.987      0.000       0.367       0.435\n",
      "CommentWord:\"actually\"                                                              -0.0184      0.014     -1.305      0.192      -0.046       0.009\n",
      "CommentWord:\"administration\"                                                         0.0927      0.014      6.658      0.000       0.065       0.120\n",
      "CommentWord:\"america\"                                                                0.0283      0.010      2.950      0.003       0.010       0.047\n",
      "CommentWord:\"american\"                                                               0.0465      0.009      4.942      0.000       0.028       0.065\n",
      "CommentWord:\"americans\"                                                              0.0583      0.012      4.983      0.000       0.035       0.081\n",
      "CommentWord:\"article\"                                                                0.0082      0.013      0.629      0.529      -0.017       0.034\n",
      "CommentWord:\"believe\"                                                               -0.0341      0.011     -3.000      0.003      -0.056      -0.012\n",
      "CommentWord:\"best\"                                                                  -0.0501      0.014     -3.478      0.001      -0.078      -0.022\n",
      "CommentWord:\"better\"                                                                -0.0879      0.011     -7.707      0.000      -0.110      -0.066\n",
      "CommentWord:\"care\"                                                                   0.0876      0.010      8.569      0.000       0.068       0.108\n",
      "CommentWord:\"change\"                                                                -0.1041      0.012     -8.343      0.000      -0.129      -0.080\n",
      "CommentWord:\"children\"                                                               0.1707      0.012     14.200      0.000       0.147       0.194\n",
      "CommentWord:\"come\"                                                                  -0.0127      0.013     -0.947      0.344      -0.039       0.014\n",
      "CommentWord:\"congress\"                                                              -0.0178      0.012     -1.485      0.138      -0.041       0.006\n",
      "CommentWord:\"country\"                                                                0.1021      0.008     12.495      0.000       0.086       0.118\n",
      "CommentWord:\"day\"                                                                    0.0744      0.012      6.423      0.000       0.052       0.097\n",
      "CommentWord:\"democrats\"                                                             -0.2460      0.011    -22.937      0.000      -0.267      -0.225\n",
      "CommentWord:\"did\"                                                                   -0.0024      0.009     -0.272      0.786      -0.020       0.015\n",
      "CommentWord:\"didn\"                                                                   0.0507      0.013      3.799      0.000       0.025       0.077\n",
      "CommentWord:\"does\"                                                                  -0.0785      0.010     -8.219      0.000      -0.097      -0.060\n",
      "CommentWord:\"doesn\"                                                                  0.0567      0.012      4.557      0.000       0.032       0.081\n",
      "CommentWord:\"doing\"                                                                 -0.0217      0.014     -1.549      0.121      -0.049       0.006\n",
      "CommentWord:\"don\"                                                                    0.0458      0.007      6.199      0.000       0.031       0.060\n",
      "CommentWord:\"donald\"                                                                 0.1374      0.014      9.864      0.000       0.110       0.165\n",
      "CommentWord:\"election\"                                                              -0.0192      0.012     -1.617      0.106      -0.043       0.004\n",
      "CommentWord:\"fact\"                                                                   0.0391      0.013      2.945      0.003       0.013       0.065\n",
      "CommentWord:\"far\"                                                                   -0.0282      0.014     -2.082      0.037      -0.055      -0.002\n",
      "CommentWord:\"going\"                                                                 -0.0356      0.010     -3.532      0.000      -0.055      -0.016\n",
      "CommentWord:\"good\"                                                                  -0.0622      0.009     -7.189      0.000      -0.079      -0.045\n",
      "CommentWord:\"gop\"                                                                    0.1549      0.011     14.191      0.000       0.134       0.176\n",
      "CommentWord:\"government\"                                                            -0.0646      0.009     -7.394      0.000      -0.082      -0.047\n",
      "CommentWord:\"great\"                                                                 -0.0132      0.012     -1.141      0.254      -0.036       0.009\n",
      "CommentWord:\"health\"                                                                 0.0664      0.011      5.953      0.000       0.045       0.088\n",
      "CommentWord:\"help\"                                                                   0.0260      0.013      1.932      0.053      -0.000       0.052\n",
      "CommentWord:\"hope\"                                                                  -0.0129      0.014     -0.937      0.349      -0.040       0.014\n",
      "CommentWord:\"house\"                                                                  0.0604      0.013      4.720      0.000       0.035       0.086\n",
      "CommentWord:\"just\"                                                                   0.0038      0.007      0.565      0.572      -0.009       0.017\n",
      "CommentWord:\"know\"                                                                  -0.0178      0.008     -2.129      0.033      -0.034      -0.001\n",
      "CommentWord:\"law\"                                                                    0.0731      0.012      6.024      0.000       0.049       0.097\n",
      "CommentWord:\"left\"                                                                  -0.1085      0.013     -8.211      0.000      -0.134      -0.083\n",
      "CommentWord:\"let\"                                                                   -0.0219      0.011     -2.001      0.045      -0.043      -0.000\n",
      "CommentWord:\"life\"                                                                   0.0684      0.011      6.500      0.000       0.048       0.089\n",
      "CommentWord:\"like\"                                                                  -0.0460      0.006     -7.169      0.000      -0.059      -0.033\n",
      "CommentWord:\"little\"                                                                 0.0028      0.014      0.196      0.845      -0.025       0.031\n",
      "CommentWord:\"long\"                                                                   0.0172      0.012      1.480      0.139      -0.006       0.040\n",
      "CommentWord:\"look\"                                                                  -0.0073      0.013     -0.550      0.582      -0.033       0.019\n",
      "CommentWord:\"make\"                                                                  -0.0528      0.009     -5.766      0.000      -0.071      -0.035\n",
      "CommentWord:\"man\"                                                                    0.1289      0.011     11.770      0.000       0.107       0.150\n",
      "CommentWord:\"maybe\"                                                                 -0.1692      0.013    -12.685      0.000      -0.195      -0.143\n",
      "CommentWord:\"media\"                                                                 -0.1737      0.012    -14.691      0.000      -0.197      -0.150\n",
      "CommentWord:\"money\"                                                                  0.0630      0.009      6.726      0.000       0.045       0.081\n",
      "CommentWord:\"mr\"                                                                     0.0301      0.008      3.687      0.000       0.014       0.046\n",
      "CommentWord:\"need\"                                                                   0.0003      0.009      0.036      0.971      -0.016       0.017\n",
      "CommentWord:\"new\"                                                                   -0.0607      0.010     -6.223      0.000      -0.080      -0.042\n",
      "CommentWord:\"news\"                                                                  -0.0070      0.011     -0.625      0.532      -0.029       0.015\n",
      "CommentWord:\"obama\"                                                                 -0.0665      0.009     -7.016      0.000      -0.085      -0.048\n",
      "CommentWord:\"office\"                                                                 0.0530      0.014      3.807      0.000       0.026       0.080\n",
      "CommentWord:\"party\"                                                                 -0.0307      0.009     -3.249      0.001      -0.049      -0.012\n",
      "CommentWord:\"pay\"                                                                    0.0330      0.012      2.755      0.006       0.010       0.056\n",
      "CommentWord:\"people\"                                                                 0.0258      0.005      5.259      0.000       0.016       0.035\n",
      "CommentWord:\"person\"                                                                 0.0404      0.013      3.145      0.002       0.015       0.066\n",
      "CommentWord:\"point\"                                                                 -0.0656      0.013     -4.888      0.000      -0.092      -0.039\n",
      "CommentWord:\"political\"                                                             -0.1519      0.012    -13.033      0.000      -0.175      -0.129\n",
      "CommentWord:\"power\"                                                                 -0.0511      0.011     -4.519      0.000      -0.073      -0.029\n",
      "CommentWord:\"president\"                                                             -0.0086      0.007     -1.252      0.210      -0.022       0.005\n",
      "CommentWord:\"problem\"                                                               -0.0731      0.012     -5.851      0.000      -0.098      -0.049\n",
      "CommentWord:\"public\"                                                                 0.0676      0.011      6.277      0.000       0.046       0.089\n",
      "CommentWord:\"read\"                                                                  -0.0046      0.013     -0.345      0.730      -0.031       0.021\n",
      "CommentWord:\"real\"                                                                   0.0138      0.012      1.159      0.247      -0.010       0.037\n",
      "CommentWord:\"really\"                                                                -0.0235      0.010     -2.247      0.025      -0.044      -0.003\n",
      "CommentWord:\"republican\"                                                             0.1419      0.011     13.220      0.000       0.121       0.163\n",
      "CommentWord:\"republicans\"                                                            0.1158      0.010     11.551      0.000       0.096       0.135\n",
      "CommentWord:\"right\"                                                                  0.0264      0.008      3.180      0.001       0.010       0.043\n",
      "CommentWord:\"russia\"                                                                -0.0963      0.012     -8.293      0.000      -0.119      -0.074\n",
      "CommentWord:\"said\"                                                                  -0.0318      0.012     -2.683      0.007      -0.055      -0.009\n",
      "CommentWord:\"say\"                                                                   -0.0644      0.011     -5.955      0.000      -0.086      -0.043\n",
      "CommentWord:\"school\"                                                                -0.0438      0.011     -3.952      0.000      -0.066      -0.022\n",
      "CommentWord:\"state\"                                                                  0.0386      0.010      3.677      0.000       0.018       0.059\n",
      "CommentWord:\"states\"                                                                 0.0069      0.011      0.612      0.540      -0.015       0.029\n",
      "CommentWord:\"support\"                                                                0.0429      0.013      3.216      0.001       0.017       0.069\n",
      "CommentWord:\"tax\"                                                                   -0.0435      0.009     -4.922      0.000      -0.061      -0.026\n",
      "CommentWord:\"thing\"                                                                 -0.0330      0.013     -2.573      0.010      -0.058      -0.008\n",
      "CommentWord:\"things\"                                                                -0.0540      0.012     -4.393      0.000      -0.078      -0.030\n",
      "CommentWord:\"think\"                                                                 -0.1292      0.008    -15.910      0.000      -0.145      -0.113\n",
      "CommentWord:\"time\"                                                                  -0.0173      0.008     -2.216      0.027      -0.033      -0.002\n",
      "CommentWord:\"times\"                                                                 -0.0243      0.012     -2.073      0.038      -0.047      -0.001\n",
      "CommentWord:\"trump\"                                                                  0.0471      0.004     13.062      0.000       0.040       0.054\n",
      "CommentWord:\"use\"                                                                   -0.1318      0.013    -10.207      0.000      -0.157      -0.106\n",
      "CommentWord:\"ve\"                                                                     0.1294      0.013     10.077      0.000       0.104       0.155\n",
      "CommentWord:\"vote\"                                                                   0.0030      0.011      0.273      0.785      -0.018       0.024\n",
      "CommentWord:\"want\"                                                                  -0.0183      0.009     -2.001      0.045      -0.036      -0.000\n",
      "CommentWord:\"war\"                                                                   -0.0249      0.010     -2.423      0.015      -0.045      -0.005\n",
      "CommentWord:\"way\"                                                                   -0.0490      0.009     -5.433      0.000      -0.067      -0.031\n",
      "CommentWord:\"white\"                                                                  0.0665      0.011      6.131      0.000       0.045       0.088\n",
      "CommentWord:\"women\"                                                                  0.1617      0.010     16.565      0.000       0.143       0.181\n",
      "CommentWord:\"won\"                                                                   -0.0239      0.014     -1.727      0.084      -0.051       0.003\n",
      "CommentWord:\"work\"                                                                   0.0594      0.010      5.890      0.000       0.040       0.079\n",
      "CommentWord:\"world\"                                                                 -0.0304      0.009     -3.547      0.000      -0.047      -0.014\n",
      "CommentWord:\"year\"                                                                   0.0673      0.012      5.392      0.000       0.043       0.092\n",
      "CommentWord:\"years\"                                                                  0.1225      0.009     13.338      0.000       0.104       0.140\n",
      "const                                                                                3.9123        nan        nan        nan         nan         nan\n",
      "====================================================================================================================================================\n"
     ]
    }
   ],
   "source": [
    "print(logit_fit.summary())"
   ]
  },
  {
   "cell_type": "markdown",
   "metadata": {
    "ein.tags": "worksheet-0",
    "slideshow": {
     "slide_type": "-"
    }
   },
   "source": [
    "Yay! Accuracy went up by four percent relative to the minimal feature set. And the classifier correctly recalls the second class 20% of the time, a 5% improvement. Uncomment the summary command to see the significance of individual features (long output...).\n",
    "\n",
    "Next, let's use our bag of classifiers: <a name='finalclassifiers'></a>\n"
   ]
  },
  {
   "cell_type": "code",
   "execution_count": null,
   "metadata": {
    "autoscroll": false,
    "collapsed": false,
    "ein.hycell": false,
    "ein.tags": "worksheet-0",
    "slideshow": {
     "slide_type": "-"
    }
   },
   "outputs": [],
   "source": [
    "# predict_recs(X_train, y_train, X_test, y_test)"
   ]
  },
  {
   "cell_type": "markdown",
   "metadata": {
    "ein.tags": "worksheet-0",
    "slideshow": {
     "slide_type": "-"
    }
   },
   "source": [
    "So increasing the number of predictors posed a problem for some of our classifiers, let's increase their capacity to handle more features by upgrading the key parameter value for each one that can be tuned quickly."
   ]
  },
  {
   "cell_type": "code",
   "execution_count": 20,
   "metadata": {
    "autoscroll": false,
    "collapsed": false,
    "ein.hycell": false,
    "ein.tags": "worksheet-0",
    "slideshow": {
     "slide_type": "-"
    }
   },
   "outputs": [
    {
     "name": "stdout",
     "output_type": "stream",
     "text": [
      "\n",
      "\n",
      "Fitting XGB\n"
     ]
    },
    {
     "name": "stdout",
     "output_type": "stream",
     "text": [
      "Accuracy of XGB: 0.4452\n",
      "\n",
      "Classification report:\n",
      "\n",
      "             precision    recall  f1-score   support\n",
      "\n",
      "       None       0.52      0.41      0.46     96247\n",
      "     1 or 2       0.36      0.23      0.28    122120\n",
      "     3 to 8       0.37      0.46      0.41    152416\n",
      "  9 or more       0.53      0.63      0.58    150933\n",
      "\n",
      "avg / total       0.44      0.45      0.44    521716\n",
      "\n"
     ]
    },
    {
     "name": "stdout",
     "output_type": "stream",
     "text": [
      "ROC_AUC_score: 0.5934\n"
     ]
    }
   ],
   "source": [
    "models = [# ('MLogit', LogisticRegression(n_jobs=-1)),\n",
    "          # ('Ridge', RidgeClassifier()),\n",
    "          # ('KNN', KNeighborsClassifier(n_neighbors=200, n_jobs=-1)),\n",
    "          # ('RandomForest', RandomForestClassifier(n_estimators=200, n_jobs=-1)),\n",
    "          ('XGB', XGBClassifier(tree_method='gpu_hist',\n",
    "                                n_estimators=300)),\n",
    "          ]\n",
    "all_features = predict_recs(X_train, y_train, X_test, y_test, models)"
   ]
  },
  {
   "cell_type": "markdown",
   "metadata": {
    "ein.tags": "worksheet-0",
    "slideshow": {
     "slide_type": "-"
    }
   },
   "source": [
    "Since some classifiers tend to do better with a reduced number of dimensions, let's try that using Principal Component Analysis. Obviously we could gridsearch the optimal number of components to reduce down to, but let's take a quick look at what happens to our predictive accuracy with 100."
   ]
  },
  {
   "cell_type": "code",
   "execution_count": null,
   "metadata": {
    "autoscroll": false,
    "collapsed": false,
    "ein.hycell": false,
    "ein.tags": "worksheet-0",
    "slideshow": {
     "slide_type": "-"
    }
   },
   "outputs": [],
   "source": [
    "# dim_reduce = PCA(n_components=100)\n",
    "# X_train_reduced = dim_reduce.fit_transform(X_train)\n",
    "# X_test_reduced = dim_reduce.transform(X_test)\n",
    "# print(X_train_reduced.shape)\n",
    "# print(X_test_reduced.shape)\n",
    "\n",
    "# reduced_features = predict_recs(X_train_reduced, y_train, X_test_reduced, y_test, models)"
   ]
  },
  {
   "cell_type": "markdown",
   "metadata": {
    "ein.tags": "worksheet-0",
    "slideshow": {
     "slide_type": "-"
    }
   },
   "source": [
    "Let's fine-tune the Extreme Gradient Boost a little bit - there is a way to find the optimal number of trees (estimators) by iteratively adding and comparing accuracy on an evaluation set. We'll allow the number to go high (up to 2000)."
   ]
  },
  {
   "cell_type": "code",
   "execution_count": null,
   "metadata": {
    "autoscroll": false,
    "collapsed": false,
    "ein.hycell": false,
    "ein.tags": "worksheet-0",
    "slideshow": {
     "slide_type": "-"
    }
   },
   "outputs": [
    {
     "name": "stdout",
     "output_type": "stream",
     "text": [
      "[0]\tvalidation_0-merror:0.574909\n"
     ]
    },
    {
     "name": "stdout",
     "output_type": "stream",
     "text": [
      "Will train until validation_0-merror hasn't improved in 200 rounds.\n"
     ]
    },
    {
     "name": "stdout",
     "output_type": "stream",
     "text": [
      "[1]\tvalidation_0-merror:0.575857\n"
     ]
    },
    {
     "name": "stdout",
     "output_type": "stream",
     "text": [
      "[2]\tvalidation_0-merror:0.573979\n"
     ]
    },
    {
     "name": "stdout",
     "output_type": "stream",
     "text": [
      "[3]\tvalidation_0-merror:0.573504\n"
     ]
    },
    {
     "name": "stdout",
     "output_type": "stream",
     "text": [
      "[4]\tvalidation_0-merror:0.571901\n"
     ]
    },
    {
     "name": "stdout",
     "output_type": "stream",
     "text": [
      "[5]\tvalidation_0-merror:0.57142\n"
     ]
    },
    {
     "name": "stdout",
     "output_type": "stream",
     "text": [
      "[6]\tvalidation_0-merror:0.571251\n"
     ]
    },
    {
     "name": "stdout",
     "output_type": "stream",
     "text": [
      "[7]\tvalidation_0-merror:0.570724\n"
     ]
    },
    {
     "name": "stdout",
     "output_type": "stream",
     "text": [
      "[8]\tvalidation_0-merror:0.570259\n"
     ]
    },
    {
     "name": "stdout",
     "output_type": "stream",
     "text": [
      "[9]\tvalidation_0-merror:0.569597\n"
     ]
    },
    {
     "name": "stdout",
     "output_type": "stream",
     "text": [
      "[10]\tvalidation_0-merror:0.568643\n"
     ]
    },
    {
     "name": "stdout",
     "output_type": "stream",
     "text": [
      "[11]\tvalidation_0-merror:0.567912\n"
     ]
    },
    {
     "name": "stdout",
     "output_type": "stream",
     "text": [
      "[12]\tvalidation_0-merror:0.567732\n"
     ]
    },
    {
     "name": "stdout",
     "output_type": "stream",
     "text": [
      "[13]\tvalidation_0-merror:0.567341\n"
     ]
    },
    {
     "name": "stdout",
     "output_type": "stream",
     "text": [
      "[14]\tvalidation_0-merror:0.567161\n"
     ]
    },
    {
     "name": "stdout",
     "output_type": "stream",
     "text": [
      "[15]\tvalidation_0-merror:0.566764\n"
     ]
    },
    {
     "name": "stdout",
     "output_type": "stream",
     "text": [
      "[16]\tvalidation_0-merror:0.566521\n"
     ]
    },
    {
     "name": "stdout",
     "output_type": "stream",
     "text": [
      "[17]\tvalidation_0-merror:0.566325\n"
     ]
    },
    {
     "name": "stdout",
     "output_type": "stream",
     "text": [
      "[18]\tvalidation_0-merror:0.566067\n"
     ]
    },
    {
     "name": "stdout",
     "output_type": "stream",
     "text": [
      "[19]\tvalidation_0-merror:0.565915\n"
     ]
    },
    {
     "name": "stdout",
     "output_type": "stream",
     "text": [
      "[20]\tvalidation_0-merror:0.565492\n"
     ]
    },
    {
     "name": "stdout",
     "output_type": "stream",
     "text": [
      "[21]\tvalidation_0-merror:0.565127\n"
     ]
    },
    {
     "name": "stdout",
     "output_type": "stream",
     "text": [
      "[22]\tvalidation_0-merror:0.564711\n"
     ]
    },
    {
     "name": "stdout",
     "output_type": "stream",
     "text": [
      "[23]\tvalidation_0-merror:0.564405\n"
     ]
    },
    {
     "name": "stdout",
     "output_type": "stream",
     "text": [
      "[24]\tvalidation_0-merror:0.563941\n"
     ]
    },
    {
     "name": "stdout",
     "output_type": "stream",
     "text": [
      "[25]\tvalidation_0-merror:0.563462\n"
     ]
    },
    {
     "name": "stdout",
     "output_type": "stream",
     "text": [
      "[26]\tvalidation_0-merror:0.563628\n"
     ]
    },
    {
     "name": "stdout",
     "output_type": "stream",
     "text": [
      "[27]\tvalidation_0-merror:0.563044\n"
     ]
    },
    {
     "name": "stdout",
     "output_type": "stream",
     "text": [
      "[28]\tvalidation_0-merror:0.562624\n"
     ]
    },
    {
     "name": "stdout",
     "output_type": "stream",
     "text": [
      "[29]\tvalidation_0-merror:0.562204\n"
     ]
    },
    {
     "name": "stdout",
     "output_type": "stream",
     "text": [
      "[30]\tvalidation_0-merror:0.56157\n"
     ]
    },
    {
     "name": "stdout",
     "output_type": "stream",
     "text": [
      "[31]\tvalidation_0-merror:0.561305\n"
     ]
    },
    {
     "name": "stdout",
     "output_type": "stream",
     "text": [
      "[32]\tvalidation_0-merror:0.561303\n"
     ]
    },
    {
     "name": "stdout",
     "output_type": "stream",
     "text": [
      "[33]\tvalidation_0-merror:0.560999\n"
     ]
    },
    {
     "name": "stdout",
     "output_type": "stream",
     "text": [
      "[34]\tvalidation_0-merror:0.560669\n"
     ]
    },
    {
     "name": "stdout",
     "output_type": "stream",
     "text": [
      "[35]\tvalidation_0-merror:0.56027\n"
     ]
    },
    {
     "name": "stdout",
     "output_type": "stream",
     "text": [
      "[36]\tvalidation_0-merror:0.56019\n"
     ]
    },
    {
     "name": "stdout",
     "output_type": "stream",
     "text": [
      "[37]\tvalidation_0-merror:0.559571\n"
     ]
    },
    {
     "name": "stdout",
     "output_type": "stream",
     "text": [
      "[38]\tvalidation_0-merror:0.559404\n"
     ]
    },
    {
     "name": "stdout",
     "output_type": "stream",
     "text": [
      "[39]\tvalidation_0-merror:0.558971\n"
     ]
    },
    {
     "name": "stdout",
     "output_type": "stream",
     "text": [
      "[40]\tvalidation_0-merror:0.558603\n"
     ]
    },
    {
     "name": "stdout",
     "output_type": "stream",
     "text": [
      "[41]\tvalidation_0-merror:0.558056\n"
     ]
    },
    {
     "name": "stdout",
     "output_type": "stream",
     "text": [
      "[42]\tvalidation_0-merror:0.557644\n"
     ]
    },
    {
     "name": "stdout",
     "output_type": "stream",
     "text": [
      "[43]\tvalidation_0-merror:0.557572\n"
     ]
    },
    {
     "name": "stdout",
     "output_type": "stream",
     "text": [
      "[44]\tvalidation_0-merror:0.557393\n"
     ]
    },
    {
     "name": "stdout",
     "output_type": "stream",
     "text": [
      "[45]\tvalidation_0-merror:0.557242\n"
     ]
    },
    {
     "name": "stdout",
     "output_type": "stream",
     "text": [
      "[46]\tvalidation_0-merror:0.556692\n"
     ]
    },
    {
     "name": "stdout",
     "output_type": "stream",
     "text": [
      "[47]\tvalidation_0-merror:0.556477\n"
     ]
    },
    {
     "name": "stdout",
     "output_type": "stream",
     "text": [
      "[48]\tvalidation_0-merror:0.556278\n"
     ]
    },
    {
     "name": "stdout",
     "output_type": "stream",
     "text": [
      "[49]\tvalidation_0-merror:0.556149\n"
     ]
    },
    {
     "name": "stdout",
     "output_type": "stream",
     "text": [
      "[50]\tvalidation_0-merror:0.555904\n"
     ]
    },
    {
     "name": "stdout",
     "output_type": "stream",
     "text": [
      "[51]\tvalidation_0-merror:0.555776\n"
     ]
    },
    {
     "name": "stdout",
     "output_type": "stream",
     "text": [
      "[52]\tvalidation_0-merror:0.555561\n"
     ]
    },
    {
     "name": "stdout",
     "output_type": "stream",
     "text": [
      "[53]\tvalidation_0-merror:0.555214\n"
     ]
    },
    {
     "name": "stdout",
     "output_type": "stream",
     "text": [
      "[54]\tvalidation_0-merror:0.555036\n"
     ]
    },
    {
     "name": "stdout",
     "output_type": "stream",
     "text": [
      "[55]\tvalidation_0-merror:0.554721\n"
     ]
    },
    {
     "name": "stdout",
     "output_type": "stream",
     "text": [
      "[56]\tvalidation_0-merror:0.554376\n"
     ]
    },
    {
     "name": "stdout",
     "output_type": "stream",
     "text": [
      "[57]\tvalidation_0-merror:0.554328\n"
     ]
    },
    {
     "name": "stdout",
     "output_type": "stream",
     "text": [
      "[58]\tvalidation_0-merror:0.554167\n"
     ]
    },
    {
     "name": "stdout",
     "output_type": "stream",
     "text": [
      "[59]\tvalidation_0-merror:0.553912\n"
     ]
    },
    {
     "name": "stdout",
     "output_type": "stream",
     "text": [
      "[60]\tvalidation_0-merror:0.553667\n"
     ]
    },
    {
     "name": "stdout",
     "output_type": "stream",
     "text": [
      "[61]\tvalidation_0-merror:0.553257\n"
     ]
    },
    {
     "name": "stdout",
     "output_type": "stream",
     "text": [
      "[62]\tvalidation_0-merror:0.553096\n"
     ]
    },
    {
     "name": "stdout",
     "output_type": "stream",
     "text": [
      "[63]\tvalidation_0-merror:0.552874\n"
     ]
    },
    {
     "name": "stdout",
     "output_type": "stream",
     "text": [
      "[64]\tvalidation_0-merror:0.552532\n"
     ]
    },
    {
     "name": "stdout",
     "output_type": "stream",
     "text": [
      "[65]\tvalidation_0-merror:0.55236\n"
     ]
    },
    {
     "name": "stdout",
     "output_type": "stream",
     "text": [
      "[66]\tvalidation_0-merror:0.552274\n"
     ]
    },
    {
     "name": "stdout",
     "output_type": "stream",
     "text": [
      "[67]\tvalidation_0-merror:0.552057\n"
     ]
    },
    {
     "name": "stdout",
     "output_type": "stream",
     "text": [
      "[68]\tvalidation_0-merror:0.551823\n"
     ]
    },
    {
     "name": "stdout",
     "output_type": "stream",
     "text": [
      "[69]\tvalidation_0-merror:0.551687\n"
     ]
    },
    {
     "name": "stdout",
     "output_type": "stream",
     "text": [
      "[70]\tvalidation_0-merror:0.551455\n"
     ]
    },
    {
     "name": "stdout",
     "output_type": "stream",
     "text": [
      "[71]\tvalidation_0-merror:0.551183\n"
     ]
    },
    {
     "name": "stdout",
     "output_type": "stream",
     "text": [
      "[72]\tvalidation_0-merror:0.551045\n"
     ]
    },
    {
     "name": "stdout",
     "output_type": "stream",
     "text": [
      "[73]\tvalidation_0-merror:0.550867\n"
     ]
    },
    {
     "name": "stdout",
     "output_type": "stream",
     "text": [
      "[74]\tvalidation_0-merror:0.550803\n"
     ]
    },
    {
     "name": "stdout",
     "output_type": "stream",
     "text": [
      "[75]\tvalidation_0-merror:0.55074\n"
     ]
    },
    {
     "name": "stdout",
     "output_type": "stream",
     "text": [
      "[76]\tvalidation_0-merror:0.550489\n"
     ]
    },
    {
     "name": "stdout",
     "output_type": "stream",
     "text": [
      "[77]\tvalidation_0-merror:0.550207\n"
     ]
    },
    {
     "name": "stdout",
     "output_type": "stream",
     "text": [
      "[78]\tvalidation_0-merror:0.550123\n"
     ]
    },
    {
     "name": "stdout",
     "output_type": "stream",
     "text": [
      "[79]\tvalidation_0-merror:0.549951\n"
     ]
    },
    {
     "name": "stdout",
     "output_type": "stream",
     "text": [
      "[80]\tvalidation_0-merror:0.549937\n"
     ]
    },
    {
     "name": "stdout",
     "output_type": "stream",
     "text": [
      "[81]\tvalidation_0-merror:0.54955\n"
     ]
    },
    {
     "name": "stdout",
     "output_type": "stream",
     "text": [
      "[82]\tvalidation_0-merror:0.549491\n"
     ]
    },
    {
     "name": "stdout",
     "output_type": "stream",
     "text": [
      "[83]\tvalidation_0-merror:0.549498\n"
     ]
    },
    {
     "name": "stdout",
     "output_type": "stream",
     "text": [
      "[84]\tvalidation_0-merror:0.549234\n"
     ]
    },
    {
     "name": "stdout",
     "output_type": "stream",
     "text": [
      "[85]\tvalidation_0-merror:0.54905\n"
     ]
    },
    {
     "name": "stdout",
     "output_type": "stream",
     "text": [
      "[86]\tvalidation_0-merror:0.5488\n"
     ]
    },
    {
     "name": "stdout",
     "output_type": "stream",
     "text": [
      "[87]\tvalidation_0-merror:0.548739\n"
     ]
    },
    {
     "name": "stdout",
     "output_type": "stream",
     "text": [
      "[88]\tvalidation_0-merror:0.54849\n"
     ]
    },
    {
     "name": "stdout",
     "output_type": "stream",
     "text": [
      "[89]\tvalidation_0-merror:0.54827\n"
     ]
    },
    {
     "name": "stdout",
     "output_type": "stream",
     "text": [
      "[90]\tvalidation_0-merror:0.548097\n"
     ]
    },
    {
     "name": "stdout",
     "output_type": "stream",
     "text": [
      "[91]\tvalidation_0-merror:0.547915\n"
     ]
    },
    {
     "name": "stdout",
     "output_type": "stream",
     "text": [
      "[92]\tvalidation_0-merror:0.547668\n"
     ]
    },
    {
     "name": "stdout",
     "output_type": "stream",
     "text": [
      "[93]\tvalidation_0-merror:0.54761\n"
     ]
    },
    {
     "name": "stdout",
     "output_type": "stream",
     "text": [
      "[94]\tvalidation_0-merror:0.547342\n"
     ]
    },
    {
     "name": "stdout",
     "output_type": "stream",
     "text": [
      "[95]\tvalidation_0-merror:0.547096\n"
     ]
    },
    {
     "name": "stdout",
     "output_type": "stream",
     "text": [
      "[96]\tvalidation_0-merror:0.547049\n"
     ]
    },
    {
     "name": "stdout",
     "output_type": "stream",
     "text": [
      "[97]\tvalidation_0-merror:0.546878\n"
     ]
    },
    {
     "name": "stdout",
     "output_type": "stream",
     "text": [
      "[98]\tvalidation_0-merror:0.546589\n"
     ]
    },
    {
     "name": "stdout",
     "output_type": "stream",
     "text": [
      "[99]\tvalidation_0-merror:0.546451\n"
     ]
    },
    {
     "name": "stdout",
     "output_type": "stream",
     "text": [
      "[100]\tvalidation_0-merror:0.546395\n"
     ]
    },
    {
     "name": "stdout",
     "output_type": "stream",
     "text": [
      "[101]\tvalidation_0-merror:0.546203\n"
     ]
    },
    {
     "name": "stdout",
     "output_type": "stream",
     "text": [
      "[102]\tvalidation_0-merror:0.546096\n"
     ]
    },
    {
     "name": "stdout",
     "output_type": "stream",
     "text": [
      "[103]\tvalidation_0-merror:0.54587\n"
     ]
    },
    {
     "name": "stdout",
     "output_type": "stream",
     "text": [
      "[104]\tvalidation_0-merror:0.545762\n"
     ]
    },
    {
     "name": "stdout",
     "output_type": "stream",
     "text": [
      "[105]\tvalidation_0-merror:0.545753\n"
     ]
    },
    {
     "name": "stdout",
     "output_type": "stream",
     "text": [
      "[106]\tvalidation_0-merror:0.54544\n"
     ]
    },
    {
     "name": "stdout",
     "output_type": "stream",
     "text": [
      "[107]\tvalidation_0-merror:0.545205\n"
     ]
    },
    {
     "name": "stdout",
     "output_type": "stream",
     "text": [
      "[108]\tvalidation_0-merror:0.54507\n"
     ]
    },
    {
     "name": "stdout",
     "output_type": "stream",
     "text": [
      "[109]\tvalidation_0-merror:0.544927\n"
     ]
    },
    {
     "name": "stdout",
     "output_type": "stream",
     "text": [
      "[110]\tvalidation_0-merror:0.544781\n"
     ]
    },
    {
     "name": "stdout",
     "output_type": "stream",
     "text": [
      "[111]\tvalidation_0-merror:0.54477\n"
     ]
    },
    {
     "name": "stdout",
     "output_type": "stream",
     "text": [
      "[112]\tvalidation_0-merror:0.544605\n"
     ]
    },
    {
     "name": "stdout",
     "output_type": "stream",
     "text": [
      "[113]\tvalidation_0-merror:0.544488\n"
     ]
    },
    {
     "name": "stdout",
     "output_type": "stream",
     "text": [
      "[114]\tvalidation_0-merror:0.544459\n"
     ]
    },
    {
     "name": "stdout",
     "output_type": "stream",
     "text": [
      "[115]\tvalidation_0-merror:0.544357\n"
     ]
    },
    {
     "name": "stdout",
     "output_type": "stream",
     "text": [
      "[116]\tvalidation_0-merror:0.544258\n"
     ]
    },
    {
     "name": "stdout",
     "output_type": "stream",
     "text": [
      "[117]\tvalidation_0-merror:0.544133\n"
     ]
    },
    {
     "name": "stdout",
     "output_type": "stream",
     "text": [
      "[118]\tvalidation_0-merror:0.543961\n"
     ]
    },
    {
     "name": "stdout",
     "output_type": "stream",
     "text": [
      "[119]\tvalidation_0-merror:0.543761\n"
     ]
    },
    {
     "name": "stdout",
     "output_type": "stream",
     "text": [
      "[120]\tvalidation_0-merror:0.543643\n"
     ]
    },
    {
     "name": "stdout",
     "output_type": "stream",
     "text": [
      "[121]\tvalidation_0-merror:0.543689\n"
     ]
    },
    {
     "name": "stdout",
     "output_type": "stream",
     "text": [
      "[122]\tvalidation_0-merror:0.543564\n"
     ]
    },
    {
     "name": "stdout",
     "output_type": "stream",
     "text": [
      "[123]\tvalidation_0-merror:0.54352\n"
     ]
    },
    {
     "name": "stdout",
     "output_type": "stream",
     "text": [
      "[124]\tvalidation_0-merror:0.543441\n"
     ]
    },
    {
     "name": "stdout",
     "output_type": "stream",
     "text": [
      "[125]\tvalidation_0-merror:0.543343\n"
     ]
    },
    {
     "name": "stdout",
     "output_type": "stream",
     "text": [
      "[126]\tvalidation_0-merror:0.543184\n"
     ]
    },
    {
     "name": "stdout",
     "output_type": "stream",
     "text": [
      "[127]\tvalidation_0-merror:0.543131\n"
     ]
    },
    {
     "name": "stdout",
     "output_type": "stream",
     "text": [
      "[128]\tvalidation_0-merror:0.543008\n"
     ]
    },
    {
     "name": "stdout",
     "output_type": "stream",
     "text": [
      "[129]\tvalidation_0-merror:0.54291\n"
     ]
    },
    {
     "name": "stdout",
     "output_type": "stream",
     "text": [
      "[130]\tvalidation_0-merror:0.542698\n"
     ]
    },
    {
     "name": "stdout",
     "output_type": "stream",
     "text": [
      "[131]\tvalidation_0-merror:0.542669\n"
     ]
    },
    {
     "name": "stdout",
     "output_type": "stream",
     "text": [
      "[132]\tvalidation_0-merror:0.542558\n"
     ]
    },
    {
     "name": "stdout",
     "output_type": "stream",
     "text": [
      "[133]\tvalidation_0-merror:0.542515\n"
     ]
    },
    {
     "name": "stdout",
     "output_type": "stream",
     "text": [
      "[134]\tvalidation_0-merror:0.542456\n"
     ]
    },
    {
     "name": "stdout",
     "output_type": "stream",
     "text": [
      "[135]\tvalidation_0-merror:0.54237\n"
     ]
    },
    {
     "name": "stdout",
     "output_type": "stream",
     "text": [
      "[136]\tvalidation_0-merror:0.542238\n"
     ]
    },
    {
     "name": "stdout",
     "output_type": "stream",
     "text": [
      "[137]\tvalidation_0-merror:0.542197\n"
     ]
    },
    {
     "name": "stdout",
     "output_type": "stream",
     "text": [
      "[138]\tvalidation_0-merror:0.542188\n"
     ]
    },
    {
     "name": "stdout",
     "output_type": "stream",
     "text": [
      "[139]\tvalidation_0-merror:0.542165\n"
     ]
    },
    {
     "name": "stdout",
     "output_type": "stream",
     "text": [
      "[140]\tvalidation_0-merror:0.541889\n"
     ]
    },
    {
     "name": "stdout",
     "output_type": "stream",
     "text": [
      "[141]\tvalidation_0-merror:0.541896\n"
     ]
    },
    {
     "name": "stdout",
     "output_type": "stream",
     "text": [
      "[142]\tvalidation_0-merror:0.541753\n"
     ]
    },
    {
     "name": "stdout",
     "output_type": "stream",
     "text": [
      "[143]\tvalidation_0-merror:0.54172\n"
     ]
    },
    {
     "name": "stdout",
     "output_type": "stream",
     "text": [
      "[144]\tvalidation_0-merror:0.541636\n"
     ]
    },
    {
     "name": "stdout",
     "output_type": "stream",
     "text": [
      "[145]\tvalidation_0-merror:0.541519\n"
     ]
    },
    {
     "name": "stdout",
     "output_type": "stream",
     "text": [
      "[146]\tvalidation_0-merror:0.541348\n"
     ]
    },
    {
     "name": "stdout",
     "output_type": "stream",
     "text": [
      "[147]\tvalidation_0-merror:0.541321\n"
     ]
    },
    {
     "name": "stdout",
     "output_type": "stream",
     "text": [
      "[148]\tvalidation_0-merror:0.541133\n"
     ]
    },
    {
     "name": "stdout",
     "output_type": "stream",
     "text": [
      "[149]\tvalidation_0-merror:0.541061\n"
     ]
    },
    {
     "name": "stdout",
     "output_type": "stream",
     "text": [
      "[150]\tvalidation_0-merror:0.540972\n"
     ]
    },
    {
     "name": "stdout",
     "output_type": "stream",
     "text": [
      "[151]\tvalidation_0-merror:0.540811\n"
     ]
    },
    {
     "name": "stdout",
     "output_type": "stream",
     "text": [
      "[152]\tvalidation_0-merror:0.540731\n"
     ]
    },
    {
     "name": "stdout",
     "output_type": "stream",
     "text": [
      "[153]\tvalidation_0-merror:0.540672\n"
     ]
    },
    {
     "name": "stdout",
     "output_type": "stream",
     "text": [
      "[154]\tvalidation_0-merror:0.540568\n"
     ]
    },
    {
     "name": "stdout",
     "output_type": "stream",
     "text": [
      "[155]\tvalidation_0-merror:0.540403\n"
     ]
    },
    {
     "name": "stdout",
     "output_type": "stream",
     "text": [
      "[156]\tvalidation_0-merror:0.54021\n"
     ]
    },
    {
     "name": "stdout",
     "output_type": "stream",
     "text": [
      "[157]\tvalidation_0-merror:0.540192\n"
     ]
    },
    {
     "name": "stdout",
     "output_type": "stream",
     "text": [
      "[158]\tvalidation_0-merror:0.540121\n"
     ]
    },
    {
     "name": "stdout",
     "output_type": "stream",
     "text": [
      "[159]\tvalidation_0-merror:0.539987\n"
     ]
    },
    {
     "name": "stdout",
     "output_type": "stream",
     "text": [
      "[160]\tvalidation_0-merror:0.539918\n"
     ]
    },
    {
     "name": "stdout",
     "output_type": "stream",
     "text": [
      "[161]\tvalidation_0-merror:0.539838\n"
     ]
    },
    {
     "name": "stdout",
     "output_type": "stream",
     "text": [
      "[162]\tvalidation_0-merror:0.539817\n"
     ]
    },
    {
     "name": "stdout",
     "output_type": "stream",
     "text": [
      "[163]\tvalidation_0-merror:0.539807\n"
     ]
    },
    {
     "name": "stdout",
     "output_type": "stream",
     "text": [
      "[164]\tvalidation_0-merror:0.53973\n"
     ]
    },
    {
     "name": "stdout",
     "output_type": "stream",
     "text": [
      "[165]\tvalidation_0-merror:0.539686\n"
     ]
    },
    {
     "name": "stdout",
     "output_type": "stream",
     "text": [
      "[166]\tvalidation_0-merror:0.539644\n"
     ]
    },
    {
     "name": "stdout",
     "output_type": "stream",
     "text": [
      "[167]\tvalidation_0-merror:0.539418\n"
     ]
    },
    {
     "name": "stdout",
     "output_type": "stream",
     "text": [
      "[168]\tvalidation_0-merror:0.539393\n"
     ]
    },
    {
     "name": "stdout",
     "output_type": "stream",
     "text": [
      "[169]\tvalidation_0-merror:0.539196\n"
     ]
    },
    {
     "name": "stdout",
     "output_type": "stream",
     "text": [
      "[170]\tvalidation_0-merror:0.539211\n"
     ]
    },
    {
     "name": "stdout",
     "output_type": "stream",
     "text": [
      "[171]\tvalidation_0-merror:0.539127\n"
     ]
    },
    {
     "name": "stdout",
     "output_type": "stream",
     "text": [
      "[172]\tvalidation_0-merror:0.53892\n"
     ]
    },
    {
     "name": "stdout",
     "output_type": "stream",
     "text": [
      "[173]\tvalidation_0-merror:0.538887\n"
     ]
    },
    {
     "name": "stdout",
     "output_type": "stream",
     "text": [
      "[174]\tvalidation_0-merror:0.538787\n"
     ]
    },
    {
     "name": "stdout",
     "output_type": "stream",
     "text": [
      "[175]\tvalidation_0-merror:0.538768\n"
     ]
    },
    {
     "name": "stdout",
     "output_type": "stream",
     "text": [
      "[176]\tvalidation_0-merror:0.538705\n"
     ]
    },
    {
     "name": "stdout",
     "output_type": "stream",
     "text": [
      "[177]\tvalidation_0-merror:0.53872\n"
     ]
    },
    {
     "name": "stdout",
     "output_type": "stream",
     "text": [
      "[178]\tvalidation_0-merror:0.538601\n"
     ]
    },
    {
     "name": "stdout",
     "output_type": "stream",
     "text": [
      "[179]\tvalidation_0-merror:0.538506\n"
     ]
    },
    {
     "name": "stdout",
     "output_type": "stream",
     "text": [
      "[180]\tvalidation_0-merror:0.538452\n"
     ]
    },
    {
     "name": "stdout",
     "output_type": "stream",
     "text": [
      "[181]\tvalidation_0-merror:0.538387\n"
     ]
    },
    {
     "name": "stdout",
     "output_type": "stream",
     "text": [
      "[182]\tvalidation_0-merror:0.538322\n"
     ]
    },
    {
     "name": "stdout",
     "output_type": "stream",
     "text": [
      "[183]\tvalidation_0-merror:0.538291\n"
     ]
    },
    {
     "name": "stdout",
     "output_type": "stream",
     "text": [
      "[184]\tvalidation_0-merror:0.538255\n"
     ]
    },
    {
     "name": "stdout",
     "output_type": "stream",
     "text": [
      "[185]\tvalidation_0-merror:0.538232\n"
     ]
    },
    {
     "name": "stdout",
     "output_type": "stream",
     "text": [
      "[186]\tvalidation_0-merror:0.538134\n"
     ]
    },
    {
     "name": "stdout",
     "output_type": "stream",
     "text": [
      "[187]\tvalidation_0-merror:0.538084\n"
     ]
    },
    {
     "name": "stdout",
     "output_type": "stream",
     "text": [
      "[188]\tvalidation_0-merror:0.538028\n"
     ]
    },
    {
     "name": "stdout",
     "output_type": "stream",
     "text": [
      "[189]\tvalidation_0-merror:0.53799\n"
     ]
    },
    {
     "name": "stdout",
     "output_type": "stream",
     "text": [
      "[190]\tvalidation_0-merror:0.537977\n"
     ]
    },
    {
     "name": "stdout",
     "output_type": "stream",
     "text": [
      "[191]\tvalidation_0-merror:0.537913\n"
     ]
    },
    {
     "name": "stdout",
     "output_type": "stream",
     "text": [
      "[192]\tvalidation_0-merror:0.537842\n"
     ]
    },
    {
     "name": "stdout",
     "output_type": "stream",
     "text": [
      "[193]\tvalidation_0-merror:0.53771\n"
     ]
    },
    {
     "name": "stdout",
     "output_type": "stream",
     "text": [
      "[194]\tvalidation_0-merror:0.537649\n"
     ]
    },
    {
     "name": "stdout",
     "output_type": "stream",
     "text": [
      "[195]\tvalidation_0-merror:0.537628\n"
     ]
    },
    {
     "name": "stdout",
     "output_type": "stream",
     "text": [
      "[196]\tvalidation_0-merror:0.537549\n"
     ]
    },
    {
     "name": "stdout",
     "output_type": "stream",
     "text": [
      "[197]\tvalidation_0-merror:0.537563\n"
     ]
    },
    {
     "name": "stdout",
     "output_type": "stream",
     "text": [
      "[198]\tvalidation_0-merror:0.537409\n"
     ]
    },
    {
     "name": "stdout",
     "output_type": "stream",
     "text": [
      "[199]\tvalidation_0-merror:0.537315\n"
     ]
    },
    {
     "name": "stdout",
     "output_type": "stream",
     "text": [
      "[200]\tvalidation_0-merror:0.537214\n"
     ]
    },
    {
     "name": "stdout",
     "output_type": "stream",
     "text": [
      "[201]\tvalidation_0-merror:0.537108\n"
     ]
    },
    {
     "name": "stdout",
     "output_type": "stream",
     "text": [
      "[202]\tvalidation_0-merror:0.536995\n"
     ]
    },
    {
     "name": "stdout",
     "output_type": "stream",
     "text": [
      "[203]\tvalidation_0-merror:0.536897\n"
     ]
    },
    {
     "name": "stdout",
     "output_type": "stream",
     "text": [
      "[204]\tvalidation_0-merror:0.536896\n"
     ]
    },
    {
     "name": "stdout",
     "output_type": "stream",
     "text": [
      "[205]\tvalidation_0-merror:0.536865\n"
     ]
    },
    {
     "name": "stdout",
     "output_type": "stream",
     "text": [
      "[206]\tvalidation_0-merror:0.536807\n"
     ]
    },
    {
     "name": "stdout",
     "output_type": "stream",
     "text": [
      "[207]\tvalidation_0-merror:0.536767\n"
     ]
    },
    {
     "name": "stdout",
     "output_type": "stream",
     "text": [
      "[208]\tvalidation_0-merror:0.536715\n"
     ]
    },
    {
     "name": "stdout",
     "output_type": "stream",
     "text": [
      "[209]\tvalidation_0-merror:0.536658\n"
     ]
    },
    {
     "name": "stdout",
     "output_type": "stream",
     "text": [
      "[210]\tvalidation_0-merror:0.536457\n"
     ]
    },
    {
     "name": "stdout",
     "output_type": "stream",
     "text": [
      "[211]\tvalidation_0-merror:0.536535\n"
     ]
    },
    {
     "name": "stdout",
     "output_type": "stream",
     "text": [
      "[212]\tvalidation_0-merror:0.536512\n"
     ]
    },
    {
     "name": "stdout",
     "output_type": "stream",
     "text": [
      "[213]\tvalidation_0-merror:0.536537\n"
     ]
    },
    {
     "name": "stdout",
     "output_type": "stream",
     "text": [
      "[214]\tvalidation_0-merror:0.536414\n"
     ]
    },
    {
     "name": "stdout",
     "output_type": "stream",
     "text": [
      "[215]\tvalidation_0-merror:0.536303\n"
     ]
    },
    {
     "name": "stdout",
     "output_type": "stream",
     "text": [
      "[216]\tvalidation_0-merror:0.536309\n"
     ]
    },
    {
     "name": "stdout",
     "output_type": "stream",
     "text": [
      "[217]\tvalidation_0-merror:0.536248\n"
     ]
    },
    {
     "name": "stdout",
     "output_type": "stream",
     "text": [
      "[218]\tvalidation_0-merror:0.536163\n"
     ]
    },
    {
     "name": "stdout",
     "output_type": "stream",
     "text": [
      "[219]\tvalidation_0-merror:0.536127\n"
     ]
    },
    {
     "name": "stdout",
     "output_type": "stream",
     "text": [
      "[220]\tvalidation_0-merror:0.536064\n"
     ]
    },
    {
     "name": "stdout",
     "output_type": "stream",
     "text": [
      "[221]\tvalidation_0-merror:0.53601\n"
     ]
    },
    {
     "name": "stdout",
     "output_type": "stream",
     "text": [
      "[222]\tvalidation_0-merror:0.535872\n"
     ]
    },
    {
     "name": "stdout",
     "output_type": "stream",
     "text": [
      "[223]\tvalidation_0-merror:0.535803\n"
     ]
    },
    {
     "name": "stdout",
     "output_type": "stream",
     "text": [
      "[224]\tvalidation_0-merror:0.535726\n"
     ]
    },
    {
     "name": "stdout",
     "output_type": "stream",
     "text": [
      "[225]\tvalidation_0-merror:0.535719\n"
     ]
    },
    {
     "name": "stdout",
     "output_type": "stream",
     "text": [
      "[226]\tvalidation_0-merror:0.535623\n"
     ]
    },
    {
     "name": "stdout",
     "output_type": "stream",
     "text": [
      "[227]\tvalidation_0-merror:0.535562\n"
     ]
    },
    {
     "name": "stdout",
     "output_type": "stream",
     "text": [
      "[228]\tvalidation_0-merror:0.535527\n"
     ]
    },
    {
     "name": "stdout",
     "output_type": "stream",
     "text": [
      "[229]\tvalidation_0-merror:0.535408\n"
     ]
    },
    {
     "name": "stdout",
     "output_type": "stream",
     "text": [
      "[230]\tvalidation_0-merror:0.53536\n"
     ]
    },
    {
     "name": "stdout",
     "output_type": "stream",
     "text": [
      "[231]\tvalidation_0-merror:0.535291\n"
     ]
    },
    {
     "name": "stdout",
     "output_type": "stream",
     "text": [
      "[232]\tvalidation_0-merror:0.535184\n"
     ]
    },
    {
     "name": "stdout",
     "output_type": "stream",
     "text": [
      "[233]\tvalidation_0-merror:0.535232\n"
     ]
    },
    {
     "name": "stdout",
     "output_type": "stream",
     "text": [
      "[234]\tvalidation_0-merror:0.535042\n"
     ]
    },
    {
     "name": "stdout",
     "output_type": "stream",
     "text": [
      "[235]\tvalidation_0-merror:0.534954\n"
     ]
    },
    {
     "name": "stdout",
     "output_type": "stream",
     "text": [
      "[236]\tvalidation_0-merror:0.534956\n"
     ]
    },
    {
     "name": "stdout",
     "output_type": "stream",
     "text": [
      "[237]\tvalidation_0-merror:0.53495\n"
     ]
    },
    {
     "name": "stdout",
     "output_type": "stream",
     "text": [
      "[238]\tvalidation_0-merror:0.534871\n"
     ]
    },
    {
     "name": "stdout",
     "output_type": "stream",
     "text": [
      "[239]\tvalidation_0-merror:0.534833\n"
     ]
    },
    {
     "name": "stdout",
     "output_type": "stream",
     "text": [
      "[240]\tvalidation_0-merror:0.534799\n"
     ]
    },
    {
     "name": "stdout",
     "output_type": "stream",
     "text": [
      "[241]\tvalidation_0-merror:0.534758\n"
     ]
    },
    {
     "name": "stdout",
     "output_type": "stream",
     "text": [
      "[242]\tvalidation_0-merror:0.534697\n"
     ]
    },
    {
     "name": "stdout",
     "output_type": "stream",
     "text": [
      "[243]\tvalidation_0-merror:0.534743\n"
     ]
    },
    {
     "name": "stdout",
     "output_type": "stream",
     "text": [
      "[244]\tvalidation_0-merror:0.534576\n"
     ]
    },
    {
     "name": "stdout",
     "output_type": "stream",
     "text": [
      "[245]\tvalidation_0-merror:0.534588\n"
     ]
    },
    {
     "name": "stdout",
     "output_type": "stream",
     "text": [
      "[246]\tvalidation_0-merror:0.534603\n"
     ]
    },
    {
     "name": "stdout",
     "output_type": "stream",
     "text": [
      "[247]\tvalidation_0-merror:0.534505\n"
     ]
    },
    {
     "name": "stdout",
     "output_type": "stream",
     "text": [
      "[248]\tvalidation_0-merror:0.534528\n"
     ]
    },
    {
     "name": "stdout",
     "output_type": "stream",
     "text": [
      "[249]\tvalidation_0-merror:0.534486\n"
     ]
    },
    {
     "name": "stdout",
     "output_type": "stream",
     "text": [
      "[250]\tvalidation_0-merror:0.534404\n"
     ]
    },
    {
     "name": "stdout",
     "output_type": "stream",
     "text": [
      "[251]\tvalidation_0-merror:0.5343\n"
     ]
    },
    {
     "name": "stdout",
     "output_type": "stream",
     "text": [
      "[252]\tvalidation_0-merror:0.534339\n"
     ]
    },
    {
     "name": "stdout",
     "output_type": "stream",
     "text": [
      "[253]\tvalidation_0-merror:0.534247\n"
     ]
    },
    {
     "name": "stdout",
     "output_type": "stream",
     "text": [
      "[254]\tvalidation_0-merror:0.534147\n"
     ]
    },
    {
     "name": "stdout",
     "output_type": "stream",
     "text": [
      "[255]\tvalidation_0-merror:0.534149\n"
     ]
    },
    {
     "name": "stdout",
     "output_type": "stream",
     "text": [
      "[256]\tvalidation_0-merror:0.534061\n"
     ]
    },
    {
     "name": "stdout",
     "output_type": "stream",
     "text": [
      "[257]\tvalidation_0-merror:0.534049\n"
     ]
    },
    {
     "name": "stdout",
     "output_type": "stream",
     "text": [
      "[258]\tvalidation_0-merror:0.534011\n"
     ]
    },
    {
     "name": "stdout",
     "output_type": "stream",
     "text": [
      "[259]\tvalidation_0-merror:0.53402\n"
     ]
    },
    {
     "name": "stdout",
     "output_type": "stream",
     "text": [
      "[260]\tvalidation_0-merror:0.534045\n"
     ]
    },
    {
     "name": "stdout",
     "output_type": "stream",
     "text": [
      "[261]\tvalidation_0-merror:0.53403\n"
     ]
    },
    {
     "name": "stdout",
     "output_type": "stream",
     "text": [
      "[262]\tvalidation_0-merror:0.534042\n"
     ]
    },
    {
     "name": "stdout",
     "output_type": "stream",
     "text": [
      "[263]\tvalidation_0-merror:0.534003\n"
     ]
    },
    {
     "name": "stdout",
     "output_type": "stream",
     "text": [
      "[264]\tvalidation_0-merror:0.53385\n"
     ]
    },
    {
     "name": "stdout",
     "output_type": "stream",
     "text": [
      "[265]\tvalidation_0-merror:0.533842\n"
     ]
    },
    {
     "name": "stdout",
     "output_type": "stream",
     "text": [
      "[266]\tvalidation_0-merror:0.533725\n"
     ]
    },
    {
     "name": "stdout",
     "output_type": "stream",
     "text": [
      "[267]\tvalidation_0-merror:0.533731\n"
     ]
    },
    {
     "name": "stdout",
     "output_type": "stream",
     "text": [
      "[268]\tvalidation_0-merror:0.533685\n"
     ]
    },
    {
     "name": "stdout",
     "output_type": "stream",
     "text": [
      "[269]\tvalidation_0-merror:0.533624\n"
     ]
    },
    {
     "name": "stdout",
     "output_type": "stream",
     "text": [
      "[270]\tvalidation_0-merror:0.533695\n"
     ]
    },
    {
     "name": "stdout",
     "output_type": "stream",
     "text": [
      "[271]\tvalidation_0-merror:0.533581\n"
     ]
    },
    {
     "name": "stdout",
     "output_type": "stream",
     "text": [
      "[272]\tvalidation_0-merror:0.533597\n"
     ]
    },
    {
     "name": "stdout",
     "output_type": "stream",
     "text": [
      "[273]\tvalidation_0-merror:0.533605\n"
     ]
    },
    {
     "name": "stdout",
     "output_type": "stream",
     "text": [
      "[274]\tvalidation_0-merror:0.533532\n"
     ]
    },
    {
     "name": "stdout",
     "output_type": "stream",
     "text": [
      "[275]\tvalidation_0-merror:0.533524\n"
     ]
    },
    {
     "name": "stdout",
     "output_type": "stream",
     "text": [
      "[276]\tvalidation_0-merror:0.533524\n"
     ]
    },
    {
     "name": "stdout",
     "output_type": "stream",
     "text": [
      "[277]\tvalidation_0-merror:0.533449\n"
     ]
    },
    {
     "name": "stdout",
     "output_type": "stream",
     "text": [
      "[278]\tvalidation_0-merror:0.533304\n"
     ]
    },
    {
     "name": "stdout",
     "output_type": "stream",
     "text": [
      "[279]\tvalidation_0-merror:0.533265\n"
     ]
    },
    {
     "name": "stdout",
     "output_type": "stream",
     "text": [
      "[280]\tvalidation_0-merror:0.533215\n"
     ]
    },
    {
     "name": "stdout",
     "output_type": "stream",
     "text": [
      "[281]\tvalidation_0-merror:0.533127\n"
     ]
    },
    {
     "name": "stdout",
     "output_type": "stream",
     "text": [
      "[282]\tvalidation_0-merror:0.533141\n"
     ]
    },
    {
     "name": "stdout",
     "output_type": "stream",
     "text": [
      "[283]\tvalidation_0-merror:0.533006\n"
     ]
    },
    {
     "name": "stdout",
     "output_type": "stream",
     "text": [
      "[284]\tvalidation_0-merror:0.532972\n"
     ]
    },
    {
     "name": "stdout",
     "output_type": "stream",
     "text": [
      "[285]\tvalidation_0-merror:0.532982\n"
     ]
    },
    {
     "name": "stdout",
     "output_type": "stream",
     "text": [
      "[286]\tvalidation_0-merror:0.532897\n"
     ]
    },
    {
     "name": "stdout",
     "output_type": "stream",
     "text": [
      "[287]\tvalidation_0-merror:0.532876\n"
     ]
    },
    {
     "name": "stdout",
     "output_type": "stream",
     "text": [
      "[288]\tvalidation_0-merror:0.532886\n"
     ]
    },
    {
     "name": "stdout",
     "output_type": "stream",
     "text": [
      "[289]\tvalidation_0-merror:0.532847\n"
     ]
    },
    {
     "name": "stdout",
     "output_type": "stream",
     "text": [
      "[290]\tvalidation_0-merror:0.532838\n"
     ]
    },
    {
     "name": "stdout",
     "output_type": "stream",
     "text": [
      "[291]\tvalidation_0-merror:0.532765\n"
     ]
    },
    {
     "name": "stdout",
     "output_type": "stream",
     "text": [
      "[292]\tvalidation_0-merror:0.532717\n"
     ]
    },
    {
     "name": "stdout",
     "output_type": "stream",
     "text": [
      "[293]\tvalidation_0-merror:0.5327\n"
     ]
    },
    {
     "name": "stdout",
     "output_type": "stream",
     "text": [
      "[294]\tvalidation_0-merror:0.532706\n"
     ]
    },
    {
     "name": "stdout",
     "output_type": "stream",
     "text": [
      "[295]\tvalidation_0-merror:0.532686\n"
     ]
    },
    {
     "name": "stdout",
     "output_type": "stream",
     "text": [
      "[296]\tvalidation_0-merror:0.532642\n"
     ]
    },
    {
     "name": "stdout",
     "output_type": "stream",
     "text": [
      "[297]\tvalidation_0-merror:0.532554\n"
     ]
    },
    {
     "name": "stdout",
     "output_type": "stream",
     "text": [
      "[298]\tvalidation_0-merror:0.532483\n"
     ]
    },
    {
     "name": "stdout",
     "output_type": "stream",
     "text": [
      "[299]\tvalidation_0-merror:0.532472\n"
     ]
    },
    {
     "name": "stdout",
     "output_type": "stream",
     "text": [
      "[300]\tvalidation_0-merror:0.53229\n"
     ]
    },
    {
     "name": "stdout",
     "output_type": "stream",
     "text": [
      "[301]\tvalidation_0-merror:0.532213\n"
     ]
    },
    {
     "name": "stdout",
     "output_type": "stream",
     "text": [
      "[302]\tvalidation_0-merror:0.532196\n"
     ]
    },
    {
     "name": "stdout",
     "output_type": "stream",
     "text": [
      "[303]\tvalidation_0-merror:0.532155\n"
     ]
    },
    {
     "name": "stdout",
     "output_type": "stream",
     "text": [
      "[304]\tvalidation_0-merror:0.532096\n"
     ]
    },
    {
     "name": "stdout",
     "output_type": "stream",
     "text": [
      "[305]\tvalidation_0-merror:0.532088\n"
     ]
    },
    {
     "name": "stdout",
     "output_type": "stream",
     "text": [
      "[306]\tvalidation_0-merror:0.532014\n"
     ]
    },
    {
     "name": "stdout",
     "output_type": "stream",
     "text": [
      "[307]\tvalidation_0-merror:0.531918\n"
     ]
    },
    {
     "name": "stdout",
     "output_type": "stream",
     "text": [
      "[308]\tvalidation_0-merror:0.531814\n"
     ]
    },
    {
     "name": "stdout",
     "output_type": "stream",
     "text": [
      "[309]\tvalidation_0-merror:0.531881\n"
     ]
    },
    {
     "name": "stdout",
     "output_type": "stream",
     "text": [
      "[310]\tvalidation_0-merror:0.531992\n"
     ]
    },
    {
     "name": "stdout",
     "output_type": "stream",
     "text": [
      "[311]\tvalidation_0-merror:0.531923\n"
     ]
    },
    {
     "name": "stdout",
     "output_type": "stream",
     "text": [
      "[312]\tvalidation_0-merror:0.531818\n"
     ]
    },
    {
     "name": "stdout",
     "output_type": "stream",
     "text": [
      "[313]\tvalidation_0-merror:0.531843\n"
     ]
    },
    {
     "name": "stdout",
     "output_type": "stream",
     "text": [
      "[314]\tvalidation_0-merror:0.531615\n"
     ]
    },
    {
     "name": "stdout",
     "output_type": "stream",
     "text": [
      "[315]\tvalidation_0-merror:0.531534\n"
     ]
    },
    {
     "name": "stdout",
     "output_type": "stream",
     "text": [
      "[316]\tvalidation_0-merror:0.531494\n"
     ]
    },
    {
     "name": "stdout",
     "output_type": "stream",
     "text": [
      "[317]\tvalidation_0-merror:0.531435\n"
     ]
    },
    {
     "name": "stdout",
     "output_type": "stream",
     "text": [
      "[318]\tvalidation_0-merror:0.531375\n"
     ]
    },
    {
     "name": "stdout",
     "output_type": "stream",
     "text": [
      "[319]\tvalidation_0-merror:0.531327\n"
     ]
    },
    {
     "name": "stdout",
     "output_type": "stream",
     "text": [
      "[320]\tvalidation_0-merror:0.531258\n"
     ]
    },
    {
     "name": "stdout",
     "output_type": "stream",
     "text": [
      "[321]\tvalidation_0-merror:0.531247\n"
     ]
    },
    {
     "name": "stdout",
     "output_type": "stream",
     "text": [
      "[322]\tvalidation_0-merror:0.531186\n"
     ]
    },
    {
     "name": "stdout",
     "output_type": "stream",
     "text": [
      "[323]\tvalidation_0-merror:0.531176\n"
     ]
    },
    {
     "name": "stdout",
     "output_type": "stream",
     "text": [
      "[324]\tvalidation_0-merror:0.531072\n"
     ]
    },
    {
     "name": "stdout",
     "output_type": "stream",
     "text": [
      "[325]\tvalidation_0-merror:0.53109\n"
     ]
    },
    {
     "name": "stdout",
     "output_type": "stream",
     "text": [
      "[326]\tvalidation_0-merror:0.53104\n"
     ]
    },
    {
     "name": "stdout",
     "output_type": "stream",
     "text": [
      "[327]\tvalidation_0-merror:0.531051\n"
     ]
    },
    {
     "name": "stdout",
     "output_type": "stream",
     "text": [
      "[328]\tvalidation_0-merror:0.530957\n"
     ]
    },
    {
     "name": "stdout",
     "output_type": "stream",
     "text": [
      "[329]\tvalidation_0-merror:0.530887\n"
     ]
    },
    {
     "name": "stdout",
     "output_type": "stream",
     "text": [
      "[330]\tvalidation_0-merror:0.530946\n"
     ]
    },
    {
     "name": "stdout",
     "output_type": "stream",
     "text": [
      "[331]\tvalidation_0-merror:0.530898\n"
     ]
    },
    {
     "name": "stdout",
     "output_type": "stream",
     "text": [
      "[332]\tvalidation_0-merror:0.530856\n"
     ]
    },
    {
     "name": "stdout",
     "output_type": "stream",
     "text": [
      "[333]\tvalidation_0-merror:0.53081\n"
     ]
    },
    {
     "name": "stdout",
     "output_type": "stream",
     "text": [
      "[334]\tvalidation_0-merror:0.530787\n"
     ]
    },
    {
     "name": "stdout",
     "output_type": "stream",
     "text": [
      "[335]\tvalidation_0-merror:0.530798\n"
     ]
    },
    {
     "name": "stdout",
     "output_type": "stream",
     "text": [
      "[336]\tvalidation_0-merror:0.530745\n"
     ]
    },
    {
     "name": "stdout",
     "output_type": "stream",
     "text": [
      "[337]\tvalidation_0-merror:0.530718\n"
     ]
    },
    {
     "name": "stdout",
     "output_type": "stream",
     "text": [
      "[338]\tvalidation_0-merror:0.530635\n"
     ]
    },
    {
     "name": "stdout",
     "output_type": "stream",
     "text": [
      "[339]\tvalidation_0-merror:0.530501\n"
     ]
    },
    {
     "name": "stdout",
     "output_type": "stream",
     "text": [
      "[340]\tvalidation_0-merror:0.530528\n"
     ]
    },
    {
     "name": "stdout",
     "output_type": "stream",
     "text": [
      "[341]\tvalidation_0-merror:0.530465\n"
     ]
    },
    {
     "name": "stdout",
     "output_type": "stream",
     "text": [
      "[342]\tvalidation_0-merror:0.530403\n"
     ]
    },
    {
     "name": "stdout",
     "output_type": "stream",
     "text": [
      "[343]\tvalidation_0-merror:0.530428\n"
     ]
    },
    {
     "name": "stdout",
     "output_type": "stream",
     "text": [
      "[344]\tvalidation_0-merror:0.530423\n"
     ]
    },
    {
     "name": "stdout",
     "output_type": "stream",
     "text": [
      "[345]\tvalidation_0-merror:0.530453\n"
     ]
    },
    {
     "name": "stdout",
     "output_type": "stream",
     "text": [
      "[346]\tvalidation_0-merror:0.530358\n"
     ]
    },
    {
     "name": "stdout",
     "output_type": "stream",
     "text": [
      "[347]\tvalidation_0-merror:0.530375\n"
     ]
    },
    {
     "name": "stdout",
     "output_type": "stream",
     "text": [
      "[348]\tvalidation_0-merror:0.530248\n"
     ]
    },
    {
     "name": "stdout",
     "output_type": "stream",
     "text": [
      "[349]\tvalidation_0-merror:0.530231\n"
     ]
    },
    {
     "name": "stdout",
     "output_type": "stream",
     "text": [
      "[350]\tvalidation_0-merror:0.530183\n"
     ]
    },
    {
     "name": "stdout",
     "output_type": "stream",
     "text": [
      "[351]\tvalidation_0-merror:0.53006\n"
     ]
    },
    {
     "name": "stdout",
     "output_type": "stream",
     "text": [
      "[352]\tvalidation_0-merror:0.530018\n"
     ]
    },
    {
     "name": "stdout",
     "output_type": "stream",
     "text": [
      "[353]\tvalidation_0-merror:0.530041\n"
     ]
    },
    {
     "name": "stdout",
     "output_type": "stream",
     "text": [
      "[354]\tvalidation_0-merror:0.530018\n"
     ]
    },
    {
     "name": "stdout",
     "output_type": "stream",
     "text": [
      "[355]\tvalidation_0-merror:0.530026\n"
     ]
    },
    {
     "name": "stdout",
     "output_type": "stream",
     "text": [
      "[356]\tvalidation_0-merror:0.529919\n"
     ]
    },
    {
     "name": "stdout",
     "output_type": "stream",
     "text": [
      "[357]\tvalidation_0-merror:0.529828\n"
     ]
    },
    {
     "name": "stdout",
     "output_type": "stream",
     "text": [
      "[358]\tvalidation_0-merror:0.529851\n"
     ]
    },
    {
     "name": "stdout",
     "output_type": "stream",
     "text": [
      "[359]\tvalidation_0-merror:0.529788\n"
     ]
    },
    {
     "name": "stdout",
     "output_type": "stream",
     "text": [
      "[360]\tvalidation_0-merror:0.529769\n"
     ]
    },
    {
     "name": "stdout",
     "output_type": "stream",
     "text": [
      "[361]\tvalidation_0-merror:0.529685\n"
     ]
    },
    {
     "name": "stdout",
     "output_type": "stream",
     "text": [
      "[362]\tvalidation_0-merror:0.529692\n"
     ]
    },
    {
     "name": "stdout",
     "output_type": "stream",
     "text": [
      "[363]\tvalidation_0-merror:0.529641\n"
     ]
    },
    {
     "name": "stdout",
     "output_type": "stream",
     "text": [
      "[364]\tvalidation_0-merror:0.52951\n"
     ]
    },
    {
     "name": "stdout",
     "output_type": "stream",
     "text": [
      "[365]\tvalidation_0-merror:0.529368\n"
     ]
    },
    {
     "name": "stdout",
     "output_type": "stream",
     "text": [
      "[366]\tvalidation_0-merror:0.529422\n"
     ]
    },
    {
     "name": "stdout",
     "output_type": "stream",
     "text": [
      "[367]\tvalidation_0-merror:0.529416\n"
     ]
    },
    {
     "name": "stdout",
     "output_type": "stream",
     "text": [
      "[368]\tvalidation_0-merror:0.529393\n"
     ]
    },
    {
     "name": "stdout",
     "output_type": "stream",
     "text": [
      "[369]\tvalidation_0-merror:0.529395\n"
     ]
    },
    {
     "name": "stdout",
     "output_type": "stream",
     "text": [
      "[370]\tvalidation_0-merror:0.529344\n"
     ]
    },
    {
     "name": "stdout",
     "output_type": "stream",
     "text": [
      "[371]\tvalidation_0-merror:0.529321\n"
     ]
    },
    {
     "name": "stdout",
     "output_type": "stream",
     "text": [
      "[372]\tvalidation_0-merror:0.529267\n"
     ]
    },
    {
     "name": "stdout",
     "output_type": "stream",
     "text": [
      "[373]\tvalidation_0-merror:0.529229\n"
     ]
    },
    {
     "name": "stdout",
     "output_type": "stream",
     "text": [
      "[374]\tvalidation_0-merror:0.529259\n"
     ]
    },
    {
     "name": "stdout",
     "output_type": "stream",
     "text": [
      "[375]\tvalidation_0-merror:0.529311\n"
     ]
    },
    {
     "name": "stdout",
     "output_type": "stream",
     "text": [
      "[376]\tvalidation_0-merror:0.529244\n"
     ]
    },
    {
     "name": "stdout",
     "output_type": "stream",
     "text": [
      "[377]\tvalidation_0-merror:0.529217\n"
     ]
    },
    {
     "name": "stdout",
     "output_type": "stream",
     "text": [
      "[378]\tvalidation_0-merror:0.52916\n"
     ]
    },
    {
     "name": "stdout",
     "output_type": "stream",
     "text": [
      "[379]\tvalidation_0-merror:0.529121\n"
     ]
    },
    {
     "name": "stdout",
     "output_type": "stream",
     "text": [
      "[380]\tvalidation_0-merror:0.529068\n"
     ]
    },
    {
     "name": "stdout",
     "output_type": "stream",
     "text": [
      "[381]\tvalidation_0-merror:0.529068\n"
     ]
    },
    {
     "name": "stdout",
     "output_type": "stream",
     "text": [
      "[382]\tvalidation_0-merror:0.529027\n"
     ]
    },
    {
     "name": "stdout",
     "output_type": "stream",
     "text": [
      "[383]\tvalidation_0-merror:0.528991\n"
     ]
    },
    {
     "name": "stdout",
     "output_type": "stream",
     "text": [
      "[384]\tvalidation_0-merror:0.528956\n"
     ]
    },
    {
     "name": "stdout",
     "output_type": "stream",
     "text": [
      "[385]\tvalidation_0-merror:0.528905\n"
     ]
    },
    {
     "name": "stdout",
     "output_type": "stream",
     "text": [
      "[386]\tvalidation_0-merror:0.528926\n"
     ]
    },
    {
     "name": "stdout",
     "output_type": "stream",
     "text": [
      "[387]\tvalidation_0-merror:0.528859\n"
     ]
    },
    {
     "name": "stdout",
     "output_type": "stream",
     "text": [
      "[388]\tvalidation_0-merror:0.528882\n"
     ]
    },
    {
     "name": "stdout",
     "output_type": "stream",
     "text": [
      "[389]\tvalidation_0-merror:0.528895\n"
     ]
    },
    {
     "name": "stdout",
     "output_type": "stream",
     "text": [
      "[390]\tvalidation_0-merror:0.528903\n"
     ]
    },
    {
     "name": "stdout",
     "output_type": "stream",
     "text": [
      "[391]\tvalidation_0-merror:0.528895\n"
     ]
    },
    {
     "name": "stdout",
     "output_type": "stream",
     "text": [
      "[392]\tvalidation_0-merror:0.528836\n"
     ]
    },
    {
     "name": "stdout",
     "output_type": "stream",
     "text": [
      "[393]\tvalidation_0-merror:0.528763\n"
     ]
    },
    {
     "name": "stdout",
     "output_type": "stream",
     "text": [
      "[394]\tvalidation_0-merror:0.528709\n"
     ]
    },
    {
     "name": "stdout",
     "output_type": "stream",
     "text": [
      "[395]\tvalidation_0-merror:0.528586\n"
     ]
    },
    {
     "name": "stdout",
     "output_type": "stream",
     "text": [
      "[396]\tvalidation_0-merror:0.528609\n"
     ]
    },
    {
     "name": "stdout",
     "output_type": "stream",
     "text": [
      "[397]\tvalidation_0-merror:0.528544\n"
     ]
    },
    {
     "name": "stdout",
     "output_type": "stream",
     "text": [
      "[398]\tvalidation_0-merror:0.528516\n"
     ]
    },
    {
     "name": "stdout",
     "output_type": "stream",
     "text": [
      "[399]\tvalidation_0-merror:0.528498\n"
     ]
    },
    {
     "name": "stdout",
     "output_type": "stream",
     "text": [
      "[400]\tvalidation_0-merror:0.528387\n"
     ]
    },
    {
     "name": "stdout",
     "output_type": "stream",
     "text": [
      "[401]\tvalidation_0-merror:0.528347\n"
     ]
    },
    {
     "name": "stdout",
     "output_type": "stream",
     "text": [
      "[402]\tvalidation_0-merror:0.52828\n"
     ]
    },
    {
     "name": "stdout",
     "output_type": "stream",
     "text": [
      "[403]\tvalidation_0-merror:0.528228\n"
     ]
    },
    {
     "name": "stdout",
     "output_type": "stream",
     "text": [
      "[404]\tvalidation_0-merror:0.528203\n"
     ]
    },
    {
     "name": "stdout",
     "output_type": "stream",
     "text": [
      "[405]\tvalidation_0-merror:0.528092\n"
     ]
    },
    {
     "name": "stdout",
     "output_type": "stream",
     "text": [
      "[406]\tvalidation_0-merror:0.528144\n"
     ]
    },
    {
     "name": "stdout",
     "output_type": "stream",
     "text": [
      "[407]\tvalidation_0-merror:0.528094\n"
     ]
    },
    {
     "name": "stdout",
     "output_type": "stream",
     "text": [
      "[408]\tvalidation_0-merror:0.528023\n"
     ]
    },
    {
     "name": "stdout",
     "output_type": "stream",
     "text": [
      "[409]\tvalidation_0-merror:0.528\n"
     ]
    },
    {
     "name": "stdout",
     "output_type": "stream",
     "text": [
      "[410]\tvalidation_0-merror:0.527956\n"
     ]
    },
    {
     "name": "stdout",
     "output_type": "stream",
     "text": [
      "[411]\tvalidation_0-merror:0.527962\n"
     ]
    },
    {
     "name": "stdout",
     "output_type": "stream",
     "text": [
      "[412]\tvalidation_0-merror:0.527933\n"
     ]
    },
    {
     "name": "stdout",
     "output_type": "stream",
     "text": [
      "[413]\tvalidation_0-merror:0.527751\n"
     ]
    },
    {
     "name": "stdout",
     "output_type": "stream",
     "text": [
      "[414]\tvalidation_0-merror:0.527802\n"
     ]
    },
    {
     "name": "stdout",
     "output_type": "stream",
     "text": [
      "[415]\tvalidation_0-merror:0.527877\n"
     ]
    },
    {
     "name": "stdout",
     "output_type": "stream",
     "text": [
      "[416]\tvalidation_0-merror:0.527822\n"
     ]
    },
    {
     "name": "stdout",
     "output_type": "stream",
     "text": [
      "[417]\tvalidation_0-merror:0.527726\n"
     ]
    },
    {
     "name": "stdout",
     "output_type": "stream",
     "text": [
      "[418]\tvalidation_0-merror:0.527613\n"
     ]
    },
    {
     "name": "stdout",
     "output_type": "stream",
     "text": [
      "[419]\tvalidation_0-merror:0.52754\n"
     ]
    },
    {
     "name": "stdout",
     "output_type": "stream",
     "text": [
      "[420]\tvalidation_0-merror:0.527482\n"
     ]
    },
    {
     "name": "stdout",
     "output_type": "stream",
     "text": [
      "[421]\tvalidation_0-merror:0.527496\n"
     ]
    },
    {
     "name": "stdout",
     "output_type": "stream",
     "text": [
      "[422]\tvalidation_0-merror:0.52758\n"
     ]
    },
    {
     "name": "stdout",
     "output_type": "stream",
     "text": [
      "[423]\tvalidation_0-merror:0.527576\n"
     ]
    },
    {
     "name": "stdout",
     "output_type": "stream",
     "text": [
      "[424]\tvalidation_0-merror:0.527546\n"
     ]
    },
    {
     "name": "stdout",
     "output_type": "stream",
     "text": [
      "[425]\tvalidation_0-merror:0.527471\n"
     ]
    },
    {
     "name": "stdout",
     "output_type": "stream",
     "text": [
      "[426]\tvalidation_0-merror:0.527421\n"
     ]
    },
    {
     "name": "stdout",
     "output_type": "stream",
     "text": [
      "[427]\tvalidation_0-merror:0.527371\n"
     ]
    },
    {
     "name": "stdout",
     "output_type": "stream",
     "text": [
      "[428]\tvalidation_0-merror:0.527377\n"
     ]
    },
    {
     "name": "stdout",
     "output_type": "stream",
     "text": [
      "[429]\tvalidation_0-merror:0.527356\n"
     ]
    },
    {
     "name": "stdout",
     "output_type": "stream",
     "text": [
      "[430]\tvalidation_0-merror:0.527289\n"
     ]
    },
    {
     "name": "stdout",
     "output_type": "stream",
     "text": [
      "[431]\tvalidation_0-merror:0.527287\n"
     ]
    },
    {
     "name": "stdout",
     "output_type": "stream",
     "text": [
      "[432]\tvalidation_0-merror:0.52725\n"
     ]
    },
    {
     "name": "stdout",
     "output_type": "stream",
     "text": [
      "[433]\tvalidation_0-merror:0.527283\n"
     ]
    },
    {
     "name": "stdout",
     "output_type": "stream",
     "text": [
      "[434]\tvalidation_0-merror:0.527116\n"
     ]
    },
    {
     "name": "stdout",
     "output_type": "stream",
     "text": [
      "[435]\tvalidation_0-merror:0.527101\n"
     ]
    },
    {
     "name": "stdout",
     "output_type": "stream",
     "text": [
      "[436]\tvalidation_0-merror:0.527007\n"
     ]
    },
    {
     "name": "stdout",
     "output_type": "stream",
     "text": [
      "[437]\tvalidation_0-merror:0.527007\n"
     ]
    },
    {
     "name": "stdout",
     "output_type": "stream",
     "text": [
      "[438]\tvalidation_0-merror:0.526865\n"
     ]
    },
    {
     "name": "stdout",
     "output_type": "stream",
     "text": [
      "[439]\tvalidation_0-merror:0.526831\n"
     ]
    },
    {
     "name": "stdout",
     "output_type": "stream",
     "text": [
      "[440]\tvalidation_0-merror:0.526731\n"
     ]
    },
    {
     "name": "stdout",
     "output_type": "stream",
     "text": [
      "[441]\tvalidation_0-merror:0.52672\n"
     ]
    },
    {
     "name": "stdout",
     "output_type": "stream",
     "text": [
      "[442]\tvalidation_0-merror:0.52672\n"
     ]
    },
    {
     "name": "stdout",
     "output_type": "stream",
     "text": [
      "[443]\tvalidation_0-merror:0.526691\n"
     ]
    },
    {
     "name": "stdout",
     "output_type": "stream",
     "text": [
      "[444]\tvalidation_0-merror:0.526664\n"
     ]
    },
    {
     "name": "stdout",
     "output_type": "stream",
     "text": [
      "[445]\tvalidation_0-merror:0.526649\n"
     ]
    },
    {
     "name": "stdout",
     "output_type": "stream",
     "text": [
      "[446]\tvalidation_0-merror:0.52662\n"
     ]
    },
    {
     "name": "stdout",
     "output_type": "stream",
     "text": [
      "[447]\tvalidation_0-merror:0.526664\n"
     ]
    },
    {
     "name": "stdout",
     "output_type": "stream",
     "text": [
      "[448]\tvalidation_0-merror:0.526578\n"
     ]
    },
    {
     "name": "stdout",
     "output_type": "stream",
     "text": [
      "[449]\tvalidation_0-merror:0.526543\n"
     ]
    },
    {
     "name": "stdout",
     "output_type": "stream",
     "text": [
      "[450]\tvalidation_0-merror:0.526536\n"
     ]
    },
    {
     "name": "stdout",
     "output_type": "stream",
     "text": [
      "[451]\tvalidation_0-merror:0.526419\n"
     ]
    },
    {
     "name": "stdout",
     "output_type": "stream",
     "text": [
      "[452]\tvalidation_0-merror:0.526409\n"
     ]
    },
    {
     "name": "stdout",
     "output_type": "stream",
     "text": [
      "[453]\tvalidation_0-merror:0.526428\n"
     ]
    },
    {
     "name": "stdout",
     "output_type": "stream",
     "text": [
      "[454]\tvalidation_0-merror:0.526367\n"
     ]
    },
    {
     "name": "stdout",
     "output_type": "stream",
     "text": [
      "[455]\tvalidation_0-merror:0.526296\n"
     ]
    },
    {
     "name": "stdout",
     "output_type": "stream",
     "text": [
      "[456]\tvalidation_0-merror:0.526275\n"
     ]
    },
    {
     "name": "stdout",
     "output_type": "stream",
     "text": [
      "[457]\tvalidation_0-merror:0.52625\n"
     ]
    },
    {
     "name": "stdout",
     "output_type": "stream",
     "text": [
      "[458]\tvalidation_0-merror:0.526259\n"
     ]
    },
    {
     "name": "stdout",
     "output_type": "stream",
     "text": [
      "[459]\tvalidation_0-merror:0.526158\n"
     ]
    },
    {
     "name": "stdout",
     "output_type": "stream",
     "text": [
      "[460]\tvalidation_0-merror:0.526246\n"
     ]
    },
    {
     "name": "stdout",
     "output_type": "stream",
     "text": [
      "[461]\tvalidation_0-merror:0.526181\n"
     ]
    },
    {
     "name": "stdout",
     "output_type": "stream",
     "text": [
      "[462]\tvalidation_0-merror:0.52607\n"
     ]
    },
    {
     "name": "stdout",
     "output_type": "stream",
     "text": [
      "[463]\tvalidation_0-merror:0.526005\n"
     ]
    },
    {
     "name": "stdout",
     "output_type": "stream",
     "text": [
      "[464]\tvalidation_0-merror:0.526026\n"
     ]
    },
    {
     "name": "stdout",
     "output_type": "stream",
     "text": [
      "[465]\tvalidation_0-merror:0.526014\n"
     ]
    },
    {
     "name": "stdout",
     "output_type": "stream",
     "text": [
      "[466]\tvalidation_0-merror:0.52598\n"
     ]
    },
    {
     "name": "stdout",
     "output_type": "stream",
     "text": [
      "[467]\tvalidation_0-merror:0.525955\n"
     ]
    },
    {
     "name": "stdout",
     "output_type": "stream",
     "text": [
      "[468]\tvalidation_0-merror:0.525928\n"
     ]
    },
    {
     "name": "stdout",
     "output_type": "stream",
     "text": [
      "[469]\tvalidation_0-merror:0.525945\n"
     ]
    },
    {
     "name": "stdout",
     "output_type": "stream",
     "text": [
      "[470]\tvalidation_0-merror:0.525907\n"
     ]
    },
    {
     "name": "stdout",
     "output_type": "stream",
     "text": [
      "[471]\tvalidation_0-merror:0.525867\n"
     ]
    },
    {
     "name": "stdout",
     "output_type": "stream",
     "text": [
      "[472]\tvalidation_0-merror:0.525865\n"
     ]
    },
    {
     "name": "stdout",
     "output_type": "stream",
     "text": [
      "[473]\tvalidation_0-merror:0.525836\n"
     ]
    },
    {
     "name": "stdout",
     "output_type": "stream",
     "text": [
      "[474]\tvalidation_0-merror:0.525891\n"
     ]
    },
    {
     "name": "stdout",
     "output_type": "stream",
     "text": [
      "[475]\tvalidation_0-merror:0.525895\n"
     ]
    },
    {
     "name": "stdout",
     "output_type": "stream",
     "text": [
      "[476]\tvalidation_0-merror:0.525976\n"
     ]
    },
    {
     "name": "stdout",
     "output_type": "stream",
     "text": [
      "[477]\tvalidation_0-merror:0.525932\n"
     ]
    },
    {
     "name": "stdout",
     "output_type": "stream",
     "text": [
      "[478]\tvalidation_0-merror:0.525966\n"
     ]
    },
    {
     "name": "stdout",
     "output_type": "stream",
     "text": [
      "[479]\tvalidation_0-merror:0.525861\n"
     ]
    },
    {
     "name": "stdout",
     "output_type": "stream",
     "text": [
      "[480]\tvalidation_0-merror:0.525853\n"
     ]
    },
    {
     "name": "stdout",
     "output_type": "stream",
     "text": [
      "[481]\tvalidation_0-merror:0.525861\n"
     ]
    },
    {
     "name": "stdout",
     "output_type": "stream",
     "text": [
      "[482]\tvalidation_0-merror:0.525863\n"
     ]
    },
    {
     "name": "stdout",
     "output_type": "stream",
     "text": [
      "[483]\tvalidation_0-merror:0.525836\n"
     ]
    },
    {
     "name": "stdout",
     "output_type": "stream",
     "text": [
      "[484]\tvalidation_0-merror:0.525844\n"
     ]
    },
    {
     "name": "stdout",
     "output_type": "stream",
     "text": [
      "[485]\tvalidation_0-merror:0.525828\n"
     ]
    },
    {
     "name": "stdout",
     "output_type": "stream",
     "text": [
      "[486]\tvalidation_0-merror:0.525755\n"
     ]
    },
    {
     "name": "stdout",
     "output_type": "stream",
     "text": [
      "[487]\tvalidation_0-merror:0.525681\n"
     ]
    },
    {
     "name": "stdout",
     "output_type": "stream",
     "text": [
      "[488]\tvalidation_0-merror:0.525619\n"
     ]
    },
    {
     "name": "stdout",
     "output_type": "stream",
     "text": [
      "[489]\tvalidation_0-merror:0.525696\n"
     ]
    },
    {
     "name": "stdout",
     "output_type": "stream",
     "text": [
      "[490]\tvalidation_0-merror:0.5257\n"
     ]
    },
    {
     "name": "stdout",
     "output_type": "stream",
     "text": [
      "[491]\tvalidation_0-merror:0.525713\n"
     ]
    },
    {
     "name": "stdout",
     "output_type": "stream",
     "text": [
      "[492]\tvalidation_0-merror:0.525546\n"
     ]
    },
    {
     "name": "stdout",
     "output_type": "stream",
     "text": [
      "[493]\tvalidation_0-merror:0.525477\n"
     ]
    },
    {
     "name": "stdout",
     "output_type": "stream",
     "text": [
      "[494]\tvalidation_0-merror:0.525462\n"
     ]
    },
    {
     "name": "stdout",
     "output_type": "stream",
     "text": [
      "[495]\tvalidation_0-merror:0.525416\n"
     ]
    },
    {
     "name": "stdout",
     "output_type": "stream",
     "text": [
      "[496]\tvalidation_0-merror:0.525462\n"
     ]
    },
    {
     "name": "stdout",
     "output_type": "stream",
     "text": [
      "[497]\tvalidation_0-merror:0.52537\n"
     ]
    },
    {
     "name": "stdout",
     "output_type": "stream",
     "text": [
      "[498]\tvalidation_0-merror:0.525359\n"
     ]
    },
    {
     "name": "stdout",
     "output_type": "stream",
     "text": [
      "[499]\tvalidation_0-merror:0.52533\n"
     ]
    },
    {
     "name": "stdout",
     "output_type": "stream",
     "text": [
      "[500]\tvalidation_0-merror:0.52533\n"
     ]
    },
    {
     "name": "stdout",
     "output_type": "stream",
     "text": [
      "[501]\tvalidation_0-merror:0.525299\n"
     ]
    },
    {
     "name": "stdout",
     "output_type": "stream",
     "text": [
      "[502]\tvalidation_0-merror:0.525226\n"
     ]
    },
    {
     "name": "stdout",
     "output_type": "stream",
     "text": [
      "[503]\tvalidation_0-merror:0.525223\n"
     ]
    },
    {
     "name": "stdout",
     "output_type": "stream",
     "text": [
      "[504]\tvalidation_0-merror:0.525226\n"
     ]
    },
    {
     "name": "stdout",
     "output_type": "stream",
     "text": [
      "[505]\tvalidation_0-merror:0.52527\n"
     ]
    },
    {
     "name": "stdout",
     "output_type": "stream",
     "text": [
      "[506]\tvalidation_0-merror:0.52523\n"
     ]
    },
    {
     "name": "stdout",
     "output_type": "stream",
     "text": [
      "[507]\tvalidation_0-merror:0.5252\n"
     ]
    },
    {
     "name": "stdout",
     "output_type": "stream",
     "text": [
      "[508]\tvalidation_0-merror:0.525194\n"
     ]
    },
    {
     "name": "stdout",
     "output_type": "stream",
     "text": [
      "[509]\tvalidation_0-merror:0.525131\n"
     ]
    },
    {
     "name": "stdout",
     "output_type": "stream",
     "text": [
      "[510]\tvalidation_0-merror:0.52514\n"
     ]
    },
    {
     "name": "stdout",
     "output_type": "stream",
     "text": [
      "[511]\tvalidation_0-merror:0.525213\n"
     ]
    },
    {
     "name": "stdout",
     "output_type": "stream",
     "text": [
      "[512]\tvalidation_0-merror:0.525132\n"
     ]
    },
    {
     "name": "stdout",
     "output_type": "stream",
     "text": [
      "[513]\tvalidation_0-merror:0.525014\n"
     ]
    },
    {
     "name": "stdout",
     "output_type": "stream",
     "text": [
      "[514]\tvalidation_0-merror:0.524991\n"
     ]
    },
    {
     "name": "stdout",
     "output_type": "stream",
     "text": [
      "[515]\tvalidation_0-merror:0.524899\n"
     ]
    },
    {
     "name": "stdout",
     "output_type": "stream",
     "text": [
      "[516]\tvalidation_0-merror:0.524925\n"
     ]
    },
    {
     "name": "stdout",
     "output_type": "stream",
     "text": [
      "[517]\tvalidation_0-merror:0.524931\n"
     ]
    },
    {
     "name": "stdout",
     "output_type": "stream",
     "text": [
      "[518]\tvalidation_0-merror:0.524937\n"
     ]
    },
    {
     "name": "stdout",
     "output_type": "stream",
     "text": [
      "[519]\tvalidation_0-merror:0.524902\n"
     ]
    },
    {
     "name": "stdout",
     "output_type": "stream",
     "text": [
      "[520]\tvalidation_0-merror:0.524787\n"
     ]
    },
    {
     "name": "stdout",
     "output_type": "stream",
     "text": [
      "[521]\tvalidation_0-merror:0.524761\n"
     ]
    },
    {
     "name": "stdout",
     "output_type": "stream",
     "text": [
      "[522]\tvalidation_0-merror:0.524759\n"
     ]
    },
    {
     "name": "stdout",
     "output_type": "stream",
     "text": [
      "[523]\tvalidation_0-merror:0.524709\n"
     ]
    },
    {
     "name": "stdout",
     "output_type": "stream",
     "text": [
      "[524]\tvalidation_0-merror:0.524688\n"
     ]
    },
    {
     "name": "stdout",
     "output_type": "stream",
     "text": [
      "[525]\tvalidation_0-merror:0.524663\n"
     ]
    },
    {
     "name": "stdout",
     "output_type": "stream",
     "text": [
      "[526]\tvalidation_0-merror:0.524603\n"
     ]
    },
    {
     "name": "stdout",
     "output_type": "stream",
     "text": [
      "[527]\tvalidation_0-merror:0.524596\n"
     ]
    },
    {
     "name": "stdout",
     "output_type": "stream",
     "text": [
      "[528]\tvalidation_0-merror:0.524546\n"
     ]
    },
    {
     "name": "stdout",
     "output_type": "stream",
     "text": [
      "[529]\tvalidation_0-merror:0.524557\n"
     ]
    },
    {
     "name": "stdout",
     "output_type": "stream",
     "text": [
      "[530]\tvalidation_0-merror:0.524517\n"
     ]
    },
    {
     "name": "stdout",
     "output_type": "stream",
     "text": [
      "[531]\tvalidation_0-merror:0.524506\n"
     ]
    },
    {
     "name": "stdout",
     "output_type": "stream",
     "text": [
      "[532]\tvalidation_0-merror:0.524506\n"
     ]
    },
    {
     "name": "stdout",
     "output_type": "stream",
     "text": [
      "[533]\tvalidation_0-merror:0.524527\n"
     ]
    },
    {
     "name": "stdout",
     "output_type": "stream",
     "text": [
      "[534]\tvalidation_0-merror:0.524467\n"
     ]
    },
    {
     "name": "stdout",
     "output_type": "stream",
     "text": [
      "[535]\tvalidation_0-merror:0.524366\n"
     ]
    },
    {
     "name": "stdout",
     "output_type": "stream",
     "text": [
      "[536]\tvalidation_0-merror:0.524335\n"
     ]
    },
    {
     "name": "stdout",
     "output_type": "stream",
     "text": [
      "[537]\tvalidation_0-merror:0.524396\n"
     ]
    },
    {
     "name": "stdout",
     "output_type": "stream",
     "text": [
      "[538]\tvalidation_0-merror:0.52432\n"
     ]
    },
    {
     "name": "stdout",
     "output_type": "stream",
     "text": [
      "[539]\tvalidation_0-merror:0.524247\n"
     ]
    },
    {
     "name": "stdout",
     "output_type": "stream",
     "text": [
      "[540]\tvalidation_0-merror:0.524128\n"
     ]
    },
    {
     "name": "stdout",
     "output_type": "stream",
     "text": [
      "[541]\tvalidation_0-merror:0.524086\n"
     ]
    },
    {
     "name": "stdout",
     "output_type": "stream",
     "text": [
      "[542]\tvalidation_0-merror:0.524023\n"
     ]
    },
    {
     "name": "stdout",
     "output_type": "stream",
     "text": [
      "[543]\tvalidation_0-merror:0.523988\n"
     ]
    },
    {
     "name": "stdout",
     "output_type": "stream",
     "text": [
      "[544]\tvalidation_0-merror:0.524026\n"
     ]
    },
    {
     "name": "stdout",
     "output_type": "stream",
     "text": [
      "[545]\tvalidation_0-merror:0.523929\n"
     ]
    },
    {
     "name": "stdout",
     "output_type": "stream",
     "text": [
      "[546]\tvalidation_0-merror:0.523881\n"
     ]
    },
    {
     "name": "stdout",
     "output_type": "stream",
     "text": [
      "[547]\tvalidation_0-merror:0.523856\n"
     ]
    },
    {
     "name": "stdout",
     "output_type": "stream",
     "text": [
      "[548]\tvalidation_0-merror:0.523842\n"
     ]
    },
    {
     "name": "stdout",
     "output_type": "stream",
     "text": [
      "[549]\tvalidation_0-merror:0.523816\n"
     ]
    },
    {
     "name": "stdout",
     "output_type": "stream",
     "text": [
      "[550]\tvalidation_0-merror:0.523749\n"
     ]
    },
    {
     "name": "stdout",
     "output_type": "stream",
     "text": [
      "[551]\tvalidation_0-merror:0.523758\n"
     ]
    },
    {
     "name": "stdout",
     "output_type": "stream",
     "text": [
      "[552]\tvalidation_0-merror:0.523752\n"
     ]
    },
    {
     "name": "stdout",
     "output_type": "stream",
     "text": [
      "[553]\tvalidation_0-merror:0.523662\n"
     ]
    },
    {
     "name": "stdout",
     "output_type": "stream",
     "text": [
      "[554]\tvalidation_0-merror:0.523712\n"
     ]
    },
    {
     "name": "stdout",
     "output_type": "stream",
     "text": [
      "[555]\tvalidation_0-merror:0.523745\n"
     ]
    },
    {
     "name": "stdout",
     "output_type": "stream",
     "text": [
      "[556]\tvalidation_0-merror:0.523726\n"
     ]
    },
    {
     "name": "stdout",
     "output_type": "stream",
     "text": [
      "[557]\tvalidation_0-merror:0.52371\n"
     ]
    },
    {
     "name": "stdout",
     "output_type": "stream",
     "text": [
      "[558]\tvalidation_0-merror:0.523716\n"
     ]
    },
    {
     "name": "stdout",
     "output_type": "stream",
     "text": [
      "[559]\tvalidation_0-merror:0.523647\n"
     ]
    },
    {
     "name": "stdout",
     "output_type": "stream",
     "text": [
      "[560]\tvalidation_0-merror:0.523593\n"
     ]
    },
    {
     "name": "stdout",
     "output_type": "stream",
     "text": [
      "[561]\tvalidation_0-merror:0.523532\n"
     ]
    },
    {
     "name": "stdout",
     "output_type": "stream",
     "text": [
      "[562]\tvalidation_0-merror:0.523515\n"
     ]
    },
    {
     "name": "stdout",
     "output_type": "stream",
     "text": [
      "[563]\tvalidation_0-merror:0.523509\n"
     ]
    },
    {
     "name": "stdout",
     "output_type": "stream",
     "text": [
      "[564]\tvalidation_0-merror:0.52343\n"
     ]
    },
    {
     "name": "stdout",
     "output_type": "stream",
     "text": [
      "[565]\tvalidation_0-merror:0.523398\n"
     ]
    },
    {
     "name": "stdout",
     "output_type": "stream",
     "text": [
      "[566]\tvalidation_0-merror:0.523398\n"
     ]
    },
    {
     "name": "stdout",
     "output_type": "stream",
     "text": [
      "[567]\tvalidation_0-merror:0.523302\n"
     ]
    },
    {
     "name": "stdout",
     "output_type": "stream",
     "text": [
      "[568]\tvalidation_0-merror:0.523273\n"
     ]
    },
    {
     "name": "stdout",
     "output_type": "stream",
     "text": [
      "[569]\tvalidation_0-merror:0.523137\n"
     ]
    },
    {
     "name": "stdout",
     "output_type": "stream",
     "text": [
      "[570]\tvalidation_0-merror:0.523124\n"
     ]
    },
    {
     "name": "stdout",
     "output_type": "stream",
     "text": [
      "[571]\tvalidation_0-merror:0.523085\n"
     ]
    },
    {
     "name": "stdout",
     "output_type": "stream",
     "text": [
      "[572]\tvalidation_0-merror:0.523082\n"
     ]
    },
    {
     "name": "stdout",
     "output_type": "stream",
     "text": [
      "[573]\tvalidation_0-merror:0.523083\n"
     ]
    },
    {
     "name": "stdout",
     "output_type": "stream",
     "text": [
      "[574]\tvalidation_0-merror:0.523018\n"
     ]
    },
    {
     "name": "stdout",
     "output_type": "stream",
     "text": [
      "[575]\tvalidation_0-merror:0.523032\n"
     ]
    },
    {
     "name": "stdout",
     "output_type": "stream",
     "text": [
      "[576]\tvalidation_0-merror:0.522884\n"
     ]
    },
    {
     "name": "stdout",
     "output_type": "stream",
     "text": [
      "[577]\tvalidation_0-merror:0.522809\n"
     ]
    },
    {
     "name": "stdout",
     "output_type": "stream",
     "text": [
      "[578]\tvalidation_0-merror:0.522859\n"
     ]
    },
    {
     "name": "stdout",
     "output_type": "stream",
     "text": [
      "[579]\tvalidation_0-merror:0.522848\n"
     ]
    },
    {
     "name": "stdout",
     "output_type": "stream",
     "text": [
      "[580]\tvalidation_0-merror:0.522779\n"
     ]
    },
    {
     "name": "stdout",
     "output_type": "stream",
     "text": [
      "[581]\tvalidation_0-merror:0.522804\n"
     ]
    },
    {
     "name": "stdout",
     "output_type": "stream",
     "text": [
      "[582]\tvalidation_0-merror:0.522792\n"
     ]
    },
    {
     "name": "stdout",
     "output_type": "stream",
     "text": [
      "[583]\tvalidation_0-merror:0.522756\n"
     ]
    },
    {
     "name": "stdout",
     "output_type": "stream",
     "text": [
      "[584]\tvalidation_0-merror:0.52274\n"
     ]
    },
    {
     "name": "stdout",
     "output_type": "stream",
     "text": [
      "[585]\tvalidation_0-merror:0.522756\n"
     ]
    },
    {
     "name": "stdout",
     "output_type": "stream",
     "text": [
      "[586]\tvalidation_0-merror:0.522761\n"
     ]
    },
    {
     "name": "stdout",
     "output_type": "stream",
     "text": [
      "[587]\tvalidation_0-merror:0.52275\n"
     ]
    },
    {
     "name": "stdout",
     "output_type": "stream",
     "text": [
      "[588]\tvalidation_0-merror:0.522775\n"
     ]
    },
    {
     "name": "stdout",
     "output_type": "stream",
     "text": [
      "[589]\tvalidation_0-merror:0.52271\n"
     ]
    },
    {
     "name": "stdout",
     "output_type": "stream",
     "text": [
      "[590]\tvalidation_0-merror:0.522641\n"
     ]
    },
    {
     "name": "stdout",
     "output_type": "stream",
     "text": [
      "[591]\tvalidation_0-merror:0.522606\n"
     ]
    },
    {
     "name": "stdout",
     "output_type": "stream",
     "text": [
      "[592]\tvalidation_0-merror:0.522518\n"
     ]
    },
    {
     "name": "stdout",
     "output_type": "stream",
     "text": [
      "[593]\tvalidation_0-merror:0.52251\n"
     ]
    },
    {
     "name": "stdout",
     "output_type": "stream",
     "text": [
      "[594]\tvalidation_0-merror:0.522503\n"
     ]
    },
    {
     "name": "stdout",
     "output_type": "stream",
     "text": [
      "[595]\tvalidation_0-merror:0.52251\n"
     ]
    },
    {
     "name": "stdout",
     "output_type": "stream",
     "text": [
      "[596]\tvalidation_0-merror:0.522476\n"
     ]
    },
    {
     "name": "stdout",
     "output_type": "stream",
     "text": [
      "[597]\tvalidation_0-merror:0.522443\n"
     ]
    },
    {
     "name": "stdout",
     "output_type": "stream",
     "text": [
      "[598]\tvalidation_0-merror:0.522462\n"
     ]
    },
    {
     "name": "stdout",
     "output_type": "stream",
     "text": [
      "[599]\tvalidation_0-merror:0.522434\n"
     ]
    },
    {
     "name": "stdout",
     "output_type": "stream",
     "text": [
      "[600]\tvalidation_0-merror:0.522397\n"
     ]
    },
    {
     "name": "stdout",
     "output_type": "stream",
     "text": [
      "[601]\tvalidation_0-merror:0.522395\n"
     ]
    },
    {
     "name": "stdout",
     "output_type": "stream",
     "text": [
      "[602]\tvalidation_0-merror:0.522349\n"
     ]
    },
    {
     "name": "stdout",
     "output_type": "stream",
     "text": [
      "[603]\tvalidation_0-merror:0.522344\n"
     ]
    },
    {
     "name": "stdout",
     "output_type": "stream",
     "text": [
      "[604]\tvalidation_0-merror:0.522301\n"
     ]
    },
    {
     "name": "stdout",
     "output_type": "stream",
     "text": [
      "[605]\tvalidation_0-merror:0.522275\n"
     ]
    },
    {
     "name": "stdout",
     "output_type": "stream",
     "text": [
      "[606]\tvalidation_0-merror:0.522292\n"
     ]
    },
    {
     "name": "stdout",
     "output_type": "stream",
     "text": [
      "[607]\tvalidation_0-merror:0.522288\n"
     ]
    },
    {
     "name": "stdout",
     "output_type": "stream",
     "text": [
      "[608]\tvalidation_0-merror:0.522152\n"
     ]
    },
    {
     "name": "stdout",
     "output_type": "stream",
     "text": [
      "[609]\tvalidation_0-merror:0.522081\n"
     ]
    },
    {
     "name": "stdout",
     "output_type": "stream",
     "text": [
      "[610]\tvalidation_0-merror:0.521916\n"
     ]
    },
    {
     "name": "stdout",
     "output_type": "stream",
     "text": [
      "[611]\tvalidation_0-merror:0.521935\n"
     ]
    },
    {
     "name": "stdout",
     "output_type": "stream",
     "text": [
      "[612]\tvalidation_0-merror:0.521939\n"
     ]
    },
    {
     "name": "stdout",
     "output_type": "stream",
     "text": [
      "[613]\tvalidation_0-merror:0.521874\n"
     ]
    },
    {
     "name": "stdout",
     "output_type": "stream",
     "text": [
      "[614]\tvalidation_0-merror:0.521826\n"
     ]
    },
    {
     "name": "stdout",
     "output_type": "stream",
     "text": [
      "[615]\tvalidation_0-merror:0.521774\n"
     ]
    },
    {
     "name": "stdout",
     "output_type": "stream",
     "text": [
      "[616]\tvalidation_0-merror:0.521705\n"
     ]
    },
    {
     "name": "stdout",
     "output_type": "stream",
     "text": [
      "[617]\tvalidation_0-merror:0.521698\n"
     ]
    },
    {
     "name": "stdout",
     "output_type": "stream",
     "text": [
      "[618]\tvalidation_0-merror:0.52173\n"
     ]
    },
    {
     "name": "stdout",
     "output_type": "stream",
     "text": [
      "[619]\tvalidation_0-merror:0.521642\n"
     ]
    },
    {
     "name": "stdout",
     "output_type": "stream",
     "text": [
      "[620]\tvalidation_0-merror:0.521678\n"
     ]
    },
    {
     "name": "stdout",
     "output_type": "stream",
     "text": [
      "[621]\tvalidation_0-merror:0.521655\n"
     ]
    },
    {
     "name": "stdout",
     "output_type": "stream",
     "text": [
      "[622]\tvalidation_0-merror:0.521621\n"
     ]
    },
    {
     "name": "stdout",
     "output_type": "stream",
     "text": [
      "[623]\tvalidation_0-merror:0.521611\n"
     ]
    },
    {
     "name": "stdout",
     "output_type": "stream",
     "text": [
      "[624]\tvalidation_0-merror:0.521594\n"
     ]
    },
    {
     "name": "stdout",
     "output_type": "stream",
     "text": [
      "[625]\tvalidation_0-merror:0.521562\n"
     ]
    },
    {
     "name": "stdout",
     "output_type": "stream",
     "text": [
      "[626]\tvalidation_0-merror:0.52155\n"
     ]
    },
    {
     "name": "stdout",
     "output_type": "stream",
     "text": [
      "[627]\tvalidation_0-merror:0.521565\n"
     ]
    },
    {
     "name": "stdout",
     "output_type": "stream",
     "text": [
      "[628]\tvalidation_0-merror:0.521592\n"
     ]
    },
    {
     "name": "stdout",
     "output_type": "stream",
     "text": [
      "[629]\tvalidation_0-merror:0.521661\n"
     ]
    },
    {
     "name": "stdout",
     "output_type": "stream",
     "text": [
      "[630]\tvalidation_0-merror:0.521604\n"
     ]
    },
    {
     "name": "stdout",
     "output_type": "stream",
     "text": [
      "[631]\tvalidation_0-merror:0.521636\n"
     ]
    },
    {
     "name": "stdout",
     "output_type": "stream",
     "text": [
      "[632]\tvalidation_0-merror:0.521631\n"
     ]
    },
    {
     "name": "stdout",
     "output_type": "stream",
     "text": [
      "[633]\tvalidation_0-merror:0.521579\n"
     ]
    },
    {
     "name": "stdout",
     "output_type": "stream",
     "text": [
      "[634]\tvalidation_0-merror:0.52155\n"
     ]
    },
    {
     "name": "stdout",
     "output_type": "stream",
     "text": [
      "[635]\tvalidation_0-merror:0.521575\n"
     ]
    },
    {
     "name": "stdout",
     "output_type": "stream",
     "text": [
      "[636]\tvalidation_0-merror:0.521546\n"
     ]
    },
    {
     "name": "stdout",
     "output_type": "stream",
     "text": [
      "[637]\tvalidation_0-merror:0.521596\n"
     ]
    },
    {
     "name": "stdout",
     "output_type": "stream",
     "text": [
      "[638]\tvalidation_0-merror:0.521535\n"
     ]
    },
    {
     "name": "stdout",
     "output_type": "stream",
     "text": [
      "[639]\tvalidation_0-merror:0.521512\n"
     ]
    },
    {
     "name": "stdout",
     "output_type": "stream",
     "text": [
      "[640]\tvalidation_0-merror:0.521483\n"
     ]
    },
    {
     "name": "stdout",
     "output_type": "stream",
     "text": [
      "[641]\tvalidation_0-merror:0.521447\n"
     ]
    },
    {
     "name": "stdout",
     "output_type": "stream",
     "text": [
      "[642]\tvalidation_0-merror:0.521424\n"
     ]
    },
    {
     "name": "stdout",
     "output_type": "stream",
     "text": [
      "[643]\tvalidation_0-merror:0.521429\n"
     ]
    },
    {
     "name": "stdout",
     "output_type": "stream",
     "text": [
      "[644]\tvalidation_0-merror:0.521458\n"
     ]
    },
    {
     "name": "stdout",
     "output_type": "stream",
     "text": [
      "[645]\tvalidation_0-merror:0.521537\n"
     ]
    },
    {
     "name": "stdout",
     "output_type": "stream",
     "text": [
      "[646]\tvalidation_0-merror:0.52154\n"
     ]
    },
    {
     "name": "stdout",
     "output_type": "stream",
     "text": [
      "[647]\tvalidation_0-merror:0.521506\n"
     ]
    },
    {
     "name": "stdout",
     "output_type": "stream",
     "text": [
      "[648]\tvalidation_0-merror:0.52147\n"
     ]
    },
    {
     "name": "stdout",
     "output_type": "stream",
     "text": [
      "[649]\tvalidation_0-merror:0.52151\n"
     ]
    },
    {
     "name": "stdout",
     "output_type": "stream",
     "text": [
      "[650]\tvalidation_0-merror:0.521523\n"
     ]
    },
    {
     "name": "stdout",
     "output_type": "stream",
     "text": [
      "[651]\tvalidation_0-merror:0.521481\n"
     ]
    },
    {
     "name": "stdout",
     "output_type": "stream",
     "text": [
      "[652]\tvalidation_0-merror:0.521481\n"
     ]
    },
    {
     "name": "stdout",
     "output_type": "stream",
     "text": [
      "[653]\tvalidation_0-merror:0.521427\n"
     ]
    },
    {
     "name": "stdout",
     "output_type": "stream",
     "text": [
      "[654]\tvalidation_0-merror:0.521416\n"
     ]
    },
    {
     "name": "stdout",
     "output_type": "stream",
     "text": [
      "[655]\tvalidation_0-merror:0.521401\n"
     ]
    },
    {
     "name": "stdout",
     "output_type": "stream",
     "text": [
      "[656]\tvalidation_0-merror:0.521418\n"
     ]
    },
    {
     "name": "stdout",
     "output_type": "stream",
     "text": [
      "[657]\tvalidation_0-merror:0.521445\n"
     ]
    },
    {
     "name": "stdout",
     "output_type": "stream",
     "text": [
      "[658]\tvalidation_0-merror:0.521491\n"
     ]
    },
    {
     "name": "stdout",
     "output_type": "stream",
     "text": [
      "[659]\tvalidation_0-merror:0.521429\n"
     ]
    },
    {
     "name": "stdout",
     "output_type": "stream",
     "text": [
      "[660]\tvalidation_0-merror:0.521448\n"
     ]
    },
    {
     "name": "stdout",
     "output_type": "stream",
     "text": [
      "[661]\tvalidation_0-merror:0.521487\n"
     ]
    },
    {
     "name": "stdout",
     "output_type": "stream",
     "text": [
      "[662]\tvalidation_0-merror:0.521383\n"
     ]
    },
    {
     "name": "stdout",
     "output_type": "stream",
     "text": [
      "[663]\tvalidation_0-merror:0.521345\n"
     ]
    },
    {
     "name": "stdout",
     "output_type": "stream",
     "text": [
      "[664]\tvalidation_0-merror:0.521326\n"
     ]
    },
    {
     "name": "stdout",
     "output_type": "stream",
     "text": [
      "[665]\tvalidation_0-merror:0.521278\n"
     ]
    },
    {
     "name": "stdout",
     "output_type": "stream",
     "text": [
      "[666]\tvalidation_0-merror:0.521218\n"
     ]
    },
    {
     "name": "stdout",
     "output_type": "stream",
     "text": [
      "[667]\tvalidation_0-merror:0.52123\n"
     ]
    },
    {
     "name": "stdout",
     "output_type": "stream",
     "text": [
      "[668]\tvalidation_0-merror:0.521157\n"
     ]
    },
    {
     "name": "stdout",
     "output_type": "stream",
     "text": [
      "[669]\tvalidation_0-merror:0.521132\n"
     ]
    },
    {
     "name": "stdout",
     "output_type": "stream",
     "text": [
      "[670]\tvalidation_0-merror:0.521123\n"
     ]
    },
    {
     "name": "stdout",
     "output_type": "stream",
     "text": [
      "[671]\tvalidation_0-merror:0.52114\n"
     ]
    },
    {
     "name": "stdout",
     "output_type": "stream",
     "text": [
      "[672]\tvalidation_0-merror:0.521205\n"
     ]
    },
    {
     "name": "stdout",
     "output_type": "stream",
     "text": [
      "[673]\tvalidation_0-merror:0.521167\n"
     ]
    },
    {
     "name": "stdout",
     "output_type": "stream",
     "text": [
      "[674]\tvalidation_0-merror:0.521119\n"
     ]
    },
    {
     "name": "stdout",
     "output_type": "stream",
     "text": [
      "[675]\tvalidation_0-merror:0.521132\n"
     ]
    },
    {
     "name": "stdout",
     "output_type": "stream",
     "text": [
      "[676]\tvalidation_0-merror:0.521142\n"
     ]
    },
    {
     "name": "stdout",
     "output_type": "stream",
     "text": [
      "[677]\tvalidation_0-merror:0.521136\n"
     ]
    },
    {
     "name": "stdout",
     "output_type": "stream",
     "text": [
      "[678]\tvalidation_0-merror:0.521159\n"
     ]
    },
    {
     "name": "stdout",
     "output_type": "stream",
     "text": [
      "[679]\tvalidation_0-merror:0.521123\n"
     ]
    },
    {
     "name": "stdout",
     "output_type": "stream",
     "text": [
      "[680]\tvalidation_0-merror:0.521186\n"
     ]
    },
    {
     "name": "stdout",
     "output_type": "stream",
     "text": [
      "[681]\tvalidation_0-merror:0.521184\n"
     ]
    },
    {
     "name": "stdout",
     "output_type": "stream",
     "text": [
      "[682]\tvalidation_0-merror:0.52118\n"
     ]
    },
    {
     "name": "stdout",
     "output_type": "stream",
     "text": [
      "[683]\tvalidation_0-merror:0.521186\n"
     ]
    },
    {
     "name": "stdout",
     "output_type": "stream",
     "text": [
      "[684]\tvalidation_0-merror:0.52118\n"
     ]
    },
    {
     "name": "stdout",
     "output_type": "stream",
     "text": [
      "[685]\tvalidation_0-merror:0.521125\n"
     ]
    },
    {
     "name": "stdout",
     "output_type": "stream",
     "text": [
      "[686]\tvalidation_0-merror:0.52108\n"
     ]
    },
    {
     "name": "stdout",
     "output_type": "stream",
     "text": [
      "[687]\tvalidation_0-merror:0.52105\n"
     ]
    },
    {
     "name": "stdout",
     "output_type": "stream",
     "text": [
      "[688]\tvalidation_0-merror:0.520985\n"
     ]
    },
    {
     "name": "stdout",
     "output_type": "stream",
     "text": [
      "[689]\tvalidation_0-merror:0.521027\n"
     ]
    },
    {
     "name": "stdout",
     "output_type": "stream",
     "text": [
      "[690]\tvalidation_0-merror:0.520927\n"
     ]
    },
    {
     "name": "stdout",
     "output_type": "stream",
     "text": [
      "[691]\tvalidation_0-merror:0.520904\n"
     ]
    },
    {
     "name": "stdout",
     "output_type": "stream",
     "text": [
      "[692]\tvalidation_0-merror:0.52091\n"
     ]
    },
    {
     "name": "stdout",
     "output_type": "stream",
     "text": [
      "[693]\tvalidation_0-merror:0.520887\n"
     ]
    },
    {
     "name": "stdout",
     "output_type": "stream",
     "text": [
      "[694]\tvalidation_0-merror:0.520891\n"
     ]
    },
    {
     "name": "stdout",
     "output_type": "stream",
     "text": [
      "[695]\tvalidation_0-merror:0.52087\n"
     ]
    },
    {
     "name": "stdout",
     "output_type": "stream",
     "text": [
      "[696]\tvalidation_0-merror:0.520893\n"
     ]
    },
    {
     "name": "stdout",
     "output_type": "stream",
     "text": [
      "[697]\tvalidation_0-merror:0.520843\n"
     ]
    },
    {
     "name": "stdout",
     "output_type": "stream",
     "text": [
      "[698]\tvalidation_0-merror:0.520831\n"
     ]
    },
    {
     "name": "stdout",
     "output_type": "stream",
     "text": [
      "[699]\tvalidation_0-merror:0.520837\n"
     ]
    },
    {
     "name": "stdout",
     "output_type": "stream",
     "text": [
      "[700]\tvalidation_0-merror:0.520866\n"
     ]
    },
    {
     "name": "stdout",
     "output_type": "stream",
     "text": [
      "[701]\tvalidation_0-merror:0.520833\n"
     ]
    },
    {
     "name": "stdout",
     "output_type": "stream",
     "text": [
      "[702]\tvalidation_0-merror:0.520864\n"
     ]
    },
    {
     "name": "stdout",
     "output_type": "stream",
     "text": [
      "[703]\tvalidation_0-merror:0.520927\n"
     ]
    },
    {
     "name": "stdout",
     "output_type": "stream",
     "text": [
      "[704]\tvalidation_0-merror:0.5209\n"
     ]
    },
    {
     "name": "stdout",
     "output_type": "stream",
     "text": [
      "[705]\tvalidation_0-merror:0.520889\n"
     ]
    },
    {
     "name": "stdout",
     "output_type": "stream",
     "text": [
      "[706]\tvalidation_0-merror:0.520879\n"
     ]
    },
    {
     "name": "stdout",
     "output_type": "stream",
     "text": [
      "[707]\tvalidation_0-merror:0.520824\n"
     ]
    },
    {
     "name": "stdout",
     "output_type": "stream",
     "text": [
      "[708]\tvalidation_0-merror:0.520808\n"
     ]
    },
    {
     "name": "stdout",
     "output_type": "stream",
     "text": [
      "[709]\tvalidation_0-merror:0.520776\n"
     ]
    },
    {
     "name": "stdout",
     "output_type": "stream",
     "text": [
      "[710]\tvalidation_0-merror:0.52077\n"
     ]
    },
    {
     "name": "stdout",
     "output_type": "stream",
     "text": [
      "[711]\tvalidation_0-merror:0.520735\n"
     ]
    },
    {
     "name": "stdout",
     "output_type": "stream",
     "text": [
      "[712]\tvalidation_0-merror:0.520705\n"
     ]
    },
    {
     "name": "stdout",
     "output_type": "stream",
     "text": [
      "[713]\tvalidation_0-merror:0.520756\n"
     ]
    },
    {
     "name": "stdout",
     "output_type": "stream",
     "text": [
      "[714]\tvalidation_0-merror:0.520755\n"
     ]
    },
    {
     "name": "stdout",
     "output_type": "stream",
     "text": [
      "[715]\tvalidation_0-merror:0.520714\n"
     ]
    },
    {
     "name": "stdout",
     "output_type": "stream",
     "text": [
      "[716]\tvalidation_0-merror:0.520701\n"
     ]
    },
    {
     "name": "stdout",
     "output_type": "stream",
     "text": [
      "[717]\tvalidation_0-merror:0.520686\n"
     ]
    },
    {
     "name": "stdout",
     "output_type": "stream",
     "text": [
      "[718]\tvalidation_0-merror:0.520622\n"
     ]
    },
    {
     "name": "stdout",
     "output_type": "stream",
     "text": [
      "[719]\tvalidation_0-merror:0.520595\n"
     ]
    },
    {
     "name": "stdout",
     "output_type": "stream",
     "text": [
      "[720]\tvalidation_0-merror:0.520551\n"
     ]
    },
    {
     "name": "stdout",
     "output_type": "stream",
     "text": [
      "[721]\tvalidation_0-merror:0.520634\n"
     ]
    },
    {
     "name": "stdout",
     "output_type": "stream",
     "text": [
      "[722]\tvalidation_0-merror:0.520594\n"
     ]
    },
    {
     "name": "stdout",
     "output_type": "stream",
     "text": [
      "[723]\tvalidation_0-merror:0.520594\n"
     ]
    },
    {
     "name": "stdout",
     "output_type": "stream",
     "text": [
      "[724]\tvalidation_0-merror:0.520615\n"
     ]
    },
    {
     "name": "stdout",
     "output_type": "stream",
     "text": [
      "[725]\tvalidation_0-merror:0.520632\n"
     ]
    },
    {
     "name": "stdout",
     "output_type": "stream",
     "text": [
      "[726]\tvalidation_0-merror:0.520592\n"
     ]
    },
    {
     "name": "stdout",
     "output_type": "stream",
     "text": [
      "[727]\tvalidation_0-merror:0.520571\n"
     ]
    },
    {
     "name": "stdout",
     "output_type": "stream",
     "text": [
      "[728]\tvalidation_0-merror:0.520605\n"
     ]
    },
    {
     "name": "stdout",
     "output_type": "stream",
     "text": [
      "[729]\tvalidation_0-merror:0.520605\n"
     ]
    },
    {
     "name": "stdout",
     "output_type": "stream",
     "text": [
      "[730]\tvalidation_0-merror:0.520542\n"
     ]
    },
    {
     "name": "stdout",
     "output_type": "stream",
     "text": [
      "[731]\tvalidation_0-merror:0.520571\n"
     ]
    },
    {
     "name": "stdout",
     "output_type": "stream",
     "text": [
      "[732]\tvalidation_0-merror:0.520505\n"
     ]
    },
    {
     "name": "stdout",
     "output_type": "stream",
     "text": [
      "[733]\tvalidation_0-merror:0.520496\n"
     ]
    },
    {
     "name": "stdout",
     "output_type": "stream",
     "text": [
      "[734]\tvalidation_0-merror:0.520488\n"
     ]
    },
    {
     "name": "stdout",
     "output_type": "stream",
     "text": [
      "[735]\tvalidation_0-merror:0.520502\n"
     ]
    },
    {
     "name": "stdout",
     "output_type": "stream",
     "text": [
      "[736]\tvalidation_0-merror:0.520431\n"
     ]
    },
    {
     "name": "stdout",
     "output_type": "stream",
     "text": [
      "[737]\tvalidation_0-merror:0.520411\n"
     ]
    },
    {
     "name": "stdout",
     "output_type": "stream",
     "text": [
      "[738]\tvalidation_0-merror:0.520477\n"
     ]
    },
    {
     "name": "stdout",
     "output_type": "stream",
     "text": [
      "[739]\tvalidation_0-merror:0.520492\n"
     ]
    },
    {
     "name": "stdout",
     "output_type": "stream",
     "text": [
      "[740]\tvalidation_0-merror:0.520477\n"
     ]
    },
    {
     "name": "stdout",
     "output_type": "stream",
     "text": [
      "[741]\tvalidation_0-merror:0.520385\n"
     ]
    },
    {
     "name": "stdout",
     "output_type": "stream",
     "text": [
      "[742]\tvalidation_0-merror:0.520319\n"
     ]
    },
    {
     "name": "stdout",
     "output_type": "stream",
     "text": [
      "[743]\tvalidation_0-merror:0.52035\n"
     ]
    },
    {
     "name": "stdout",
     "output_type": "stream",
     "text": [
      "[744]\tvalidation_0-merror:0.520352\n"
     ]
    },
    {
     "name": "stdout",
     "output_type": "stream",
     "text": [
      "[745]\tvalidation_0-merror:0.520388\n"
     ]
    },
    {
     "name": "stdout",
     "output_type": "stream",
     "text": [
      "[746]\tvalidation_0-merror:0.520298\n"
     ]
    },
    {
     "name": "stdout",
     "output_type": "stream",
     "text": [
      "[747]\tvalidation_0-merror:0.520319\n"
     ]
    },
    {
     "name": "stdout",
     "output_type": "stream",
     "text": [
      "[748]\tvalidation_0-merror:0.520316\n"
     ]
    },
    {
     "name": "stdout",
     "output_type": "stream",
     "text": [
      "[749]\tvalidation_0-merror:0.52025\n"
     ]
    },
    {
     "name": "stdout",
     "output_type": "stream",
     "text": [
      "[750]\tvalidation_0-merror:0.520279\n"
     ]
    },
    {
     "name": "stdout",
     "output_type": "stream",
     "text": [
      "[751]\tvalidation_0-merror:0.520272\n"
     ]
    },
    {
     "name": "stdout",
     "output_type": "stream",
     "text": [
      "[752]\tvalidation_0-merror:0.520277\n"
     ]
    },
    {
     "name": "stdout",
     "output_type": "stream",
     "text": [
      "[753]\tvalidation_0-merror:0.52027\n"
     ]
    },
    {
     "name": "stdout",
     "output_type": "stream",
     "text": [
      "[754]\tvalidation_0-merror:0.520252\n"
     ]
    },
    {
     "name": "stdout",
     "output_type": "stream",
     "text": [
      "[755]\tvalidation_0-merror:0.520212\n"
     ]
    },
    {
     "name": "stdout",
     "output_type": "stream",
     "text": [
      "[756]\tvalidation_0-merror:0.520216\n"
     ]
    },
    {
     "name": "stdout",
     "output_type": "stream",
     "text": [
      "[757]\tvalidation_0-merror:0.520114\n"
     ]
    },
    {
     "name": "stdout",
     "output_type": "stream",
     "text": [
      "[758]\tvalidation_0-merror:0.520112\n"
     ]
    },
    {
     "name": "stdout",
     "output_type": "stream",
     "text": [
      "[759]\tvalidation_0-merror:0.520086\n"
     ]
    },
    {
     "name": "stdout",
     "output_type": "stream",
     "text": [
      "[760]\tvalidation_0-merror:0.520078\n"
     ]
    },
    {
     "name": "stdout",
     "output_type": "stream",
     "text": [
      "[761]\tvalidation_0-merror:0.520086\n"
     ]
    },
    {
     "name": "stdout",
     "output_type": "stream",
     "text": [
      "[762]\tvalidation_0-merror:0.520109\n"
     ]
    },
    {
     "name": "stdout",
     "output_type": "stream",
     "text": [
      "[763]\tvalidation_0-merror:0.520107\n"
     ]
    },
    {
     "name": "stdout",
     "output_type": "stream",
     "text": [
      "[764]\tvalidation_0-merror:0.520089\n"
     ]
    },
    {
     "name": "stdout",
     "output_type": "stream",
     "text": [
      "[765]\tvalidation_0-merror:0.520116\n"
     ]
    },
    {
     "name": "stdout",
     "output_type": "stream",
     "text": [
      "[766]\tvalidation_0-merror:0.520111\n"
     ]
    },
    {
     "name": "stdout",
     "output_type": "stream",
     "text": [
      "[767]\tvalidation_0-merror:0.520005\n"
     ]
    },
    {
     "name": "stdout",
     "output_type": "stream",
     "text": [
      "[768]\tvalidation_0-merror:0.520066\n"
     ]
    },
    {
     "name": "stdout",
     "output_type": "stream",
     "text": [
      "[769]\tvalidation_0-merror:0.520045\n"
     ]
    },
    {
     "name": "stdout",
     "output_type": "stream",
     "text": [
      "[770]\tvalidation_0-merror:0.520043\n"
     ]
    },
    {
     "name": "stdout",
     "output_type": "stream",
     "text": [
      "[771]\tvalidation_0-merror:0.520007\n"
     ]
    },
    {
     "name": "stdout",
     "output_type": "stream",
     "text": [
      "[772]\tvalidation_0-merror:0.52003\n"
     ]
    },
    {
     "name": "stdout",
     "output_type": "stream",
     "text": [
      "[773]\tvalidation_0-merror:0.520053\n"
     ]
    },
    {
     "name": "stdout",
     "output_type": "stream",
     "text": [
      "[774]\tvalidation_0-merror:0.520045\n"
     ]
    },
    {
     "name": "stdout",
     "output_type": "stream",
     "text": [
      "[775]\tvalidation_0-merror:0.519984\n"
     ]
    },
    {
     "name": "stdout",
     "output_type": "stream",
     "text": [
      "[776]\tvalidation_0-merror:0.519859\n"
     ]
    },
    {
     "name": "stdout",
     "output_type": "stream",
     "text": [
      "[777]\tvalidation_0-merror:0.51985\n"
     ]
    },
    {
     "name": "stdout",
     "output_type": "stream",
     "text": [
      "[778]\tvalidation_0-merror:0.519767\n"
     ]
    },
    {
     "name": "stdout",
     "output_type": "stream",
     "text": [
      "[779]\tvalidation_0-merror:0.519752\n"
     ]
    },
    {
     "name": "stdout",
     "output_type": "stream",
     "text": [
      "[780]\tvalidation_0-merror:0.519766\n"
     ]
    },
    {
     "name": "stdout",
     "output_type": "stream",
     "text": [
      "[781]\tvalidation_0-merror:0.519754\n"
     ]
    },
    {
     "name": "stdout",
     "output_type": "stream",
     "text": [
      "[782]\tvalidation_0-merror:0.519629\n"
     ]
    },
    {
     "name": "stdout",
     "output_type": "stream",
     "text": [
      "[783]\tvalidation_0-merror:0.519675\n"
     ]
    },
    {
     "name": "stdout",
     "output_type": "stream",
     "text": [
      "[784]\tvalidation_0-merror:0.519629\n"
     ]
    },
    {
     "name": "stdout",
     "output_type": "stream",
     "text": [
      "[785]\tvalidation_0-merror:0.519574\n"
     ]
    },
    {
     "name": "stdout",
     "output_type": "stream",
     "text": [
      "[786]\tvalidation_0-merror:0.519608\n"
     ]
    },
    {
     "name": "stdout",
     "output_type": "stream",
     "text": [
      "[787]\tvalidation_0-merror:0.519649\n"
     ]
    },
    {
     "name": "stdout",
     "output_type": "stream",
     "text": [
      "[788]\tvalidation_0-merror:0.519637\n"
     ]
    },
    {
     "name": "stdout",
     "output_type": "stream",
     "text": [
      "[789]\tvalidation_0-merror:0.519606\n"
     ]
    },
    {
     "name": "stdout",
     "output_type": "stream",
     "text": [
      "[790]\tvalidation_0-merror:0.519568\n"
     ]
    },
    {
     "name": "stdout",
     "output_type": "stream",
     "text": [
      "[791]\tvalidation_0-merror:0.519491\n"
     ]
    },
    {
     "name": "stdout",
     "output_type": "stream",
     "text": [
      "[792]\tvalidation_0-merror:0.519474\n"
     ]
    },
    {
     "name": "stdout",
     "output_type": "stream",
     "text": [
      "[793]\tvalidation_0-merror:0.519478\n"
     ]
    },
    {
     "name": "stdout",
     "output_type": "stream",
     "text": [
      "[794]\tvalidation_0-merror:0.519455\n"
     ]
    },
    {
     "name": "stdout",
     "output_type": "stream",
     "text": [
      "[795]\tvalidation_0-merror:0.519415\n"
     ]
    },
    {
     "name": "stdout",
     "output_type": "stream",
     "text": [
      "[796]\tvalidation_0-merror:0.519365\n"
     ]
    },
    {
     "name": "stdout",
     "output_type": "stream",
     "text": [
      "[797]\tvalidation_0-merror:0.519344\n"
     ]
    },
    {
     "name": "stdout",
     "output_type": "stream",
     "text": [
      "[798]\tvalidation_0-merror:0.51934\n"
     ]
    },
    {
     "name": "stdout",
     "output_type": "stream",
     "text": [
      "[799]\tvalidation_0-merror:0.519298\n"
     ]
    },
    {
     "name": "stdout",
     "output_type": "stream",
     "text": [
      "[800]\tvalidation_0-merror:0.519271\n"
     ]
    },
    {
     "name": "stdout",
     "output_type": "stream",
     "text": [
      "[801]\tvalidation_0-merror:0.519265\n"
     ]
    },
    {
     "name": "stdout",
     "output_type": "stream",
     "text": [
      "[802]\tvalidation_0-merror:0.51933\n"
     ]
    },
    {
     "name": "stdout",
     "output_type": "stream",
     "text": [
      "[803]\tvalidation_0-merror:0.519334\n"
     ]
    },
    {
     "name": "stdout",
     "output_type": "stream",
     "text": [
      "[804]\tvalidation_0-merror:0.519344\n"
     ]
    },
    {
     "name": "stdout",
     "output_type": "stream",
     "text": [
      "[805]\tvalidation_0-merror:0.519359\n"
     ]
    },
    {
     "name": "stdout",
     "output_type": "stream",
     "text": [
      "[806]\tvalidation_0-merror:0.519336\n"
     ]
    },
    {
     "name": "stdout",
     "output_type": "stream",
     "text": [
      "[807]\tvalidation_0-merror:0.519306\n"
     ]
    },
    {
     "name": "stdout",
     "output_type": "stream",
     "text": [
      "[808]\tvalidation_0-merror:0.519352\n"
     ]
    },
    {
     "name": "stdout",
     "output_type": "stream",
     "text": [
      "[809]\tvalidation_0-merror:0.519311\n"
     ]
    },
    {
     "name": "stdout",
     "output_type": "stream",
     "text": [
      "[810]\tvalidation_0-merror:0.519319\n"
     ]
    },
    {
     "name": "stdout",
     "output_type": "stream",
     "text": [
      "[811]\tvalidation_0-merror:0.51924\n"
     ]
    },
    {
     "name": "stdout",
     "output_type": "stream",
     "text": [
      "[812]\tvalidation_0-merror:0.51929\n"
     ]
    },
    {
     "name": "stdout",
     "output_type": "stream",
     "text": [
      "[813]\tvalidation_0-merror:0.51924\n"
     ]
    },
    {
     "name": "stdout",
     "output_type": "stream",
     "text": [
      "[814]\tvalidation_0-merror:0.519173\n"
     ]
    },
    {
     "name": "stdout",
     "output_type": "stream",
     "text": [
      "[815]\tvalidation_0-merror:0.51916\n"
     ]
    },
    {
     "name": "stdout",
     "output_type": "stream",
     "text": [
      "[816]\tvalidation_0-merror:0.519122\n"
     ]
    },
    {
     "name": "stdout",
     "output_type": "stream",
     "text": [
      "[817]\tvalidation_0-merror:0.519143\n"
     ]
    },
    {
     "name": "stdout",
     "output_type": "stream",
     "text": [
      "[818]\tvalidation_0-merror:0.519137\n"
     ]
    },
    {
     "name": "stdout",
     "output_type": "stream",
     "text": [
      "[819]\tvalidation_0-merror:0.519085\n"
     ]
    },
    {
     "name": "stdout",
     "output_type": "stream",
     "text": [
      "[820]\tvalidation_0-merror:0.519077\n"
     ]
    },
    {
     "name": "stdout",
     "output_type": "stream",
     "text": [
      "[821]\tvalidation_0-merror:0.519058\n"
     ]
    },
    {
     "name": "stdout",
     "output_type": "stream",
     "text": [
      "[822]\tvalidation_0-merror:0.518978\n"
     ]
    },
    {
     "name": "stdout",
     "output_type": "stream",
     "text": [
      "[823]\tvalidation_0-merror:0.519016\n"
     ]
    },
    {
     "name": "stdout",
     "output_type": "stream",
     "text": [
      "[824]\tvalidation_0-merror:0.519008\n"
     ]
    },
    {
     "name": "stdout",
     "output_type": "stream",
     "text": [
      "[825]\tvalidation_0-merror:0.518959\n"
     ]
    },
    {
     "name": "stdout",
     "output_type": "stream",
     "text": [
      "[826]\tvalidation_0-merror:0.518867\n"
     ]
    },
    {
     "name": "stdout",
     "output_type": "stream",
     "text": [
      "[827]\tvalidation_0-merror:0.518903\n"
     ]
    },
    {
     "name": "stdout",
     "output_type": "stream",
     "text": [
      "[828]\tvalidation_0-merror:0.518888\n"
     ]
    },
    {
     "name": "stdout",
     "output_type": "stream",
     "text": [
      "[829]\tvalidation_0-merror:0.518886\n"
     ]
    },
    {
     "name": "stdout",
     "output_type": "stream",
     "text": [
      "[830]\tvalidation_0-merror:0.518913\n"
     ]
    },
    {
     "name": "stdout",
     "output_type": "stream",
     "text": [
      "[831]\tvalidation_0-merror:0.51893\n"
     ]
    },
    {
     "name": "stdout",
     "output_type": "stream",
     "text": [
      "[832]\tvalidation_0-merror:0.518947\n"
     ]
    },
    {
     "name": "stdout",
     "output_type": "stream",
     "text": [
      "[833]\tvalidation_0-merror:0.518943\n"
     ]
    },
    {
     "name": "stdout",
     "output_type": "stream",
     "text": [
      "[834]\tvalidation_0-merror:0.518947\n"
     ]
    },
    {
     "name": "stdout",
     "output_type": "stream",
     "text": [
      "[835]\tvalidation_0-merror:0.518926\n"
     ]
    },
    {
     "name": "stdout",
     "output_type": "stream",
     "text": [
      "[836]\tvalidation_0-merror:0.51893\n"
     ]
    },
    {
     "name": "stdout",
     "output_type": "stream",
     "text": [
      "[837]\tvalidation_0-merror:0.518926\n"
     ]
    },
    {
     "name": "stdout",
     "output_type": "stream",
     "text": [
      "[838]\tvalidation_0-merror:0.518844\n"
     ]
    },
    {
     "name": "stdout",
     "output_type": "stream",
     "text": [
      "[839]\tvalidation_0-merror:0.51887\n"
     ]
    },
    {
     "name": "stdout",
     "output_type": "stream",
     "text": [
      "[840]\tvalidation_0-merror:0.518799\n"
     ]
    },
    {
     "name": "stdout",
     "output_type": "stream",
     "text": [
      "[841]\tvalidation_0-merror:0.518826\n"
     ]
    },
    {
     "name": "stdout",
     "output_type": "stream",
     "text": [
      "[842]\tvalidation_0-merror:0.518811\n"
     ]
    },
    {
     "name": "stdout",
     "output_type": "stream",
     "text": [
      "[843]\tvalidation_0-merror:0.518794\n"
     ]
    },
    {
     "name": "stdout",
     "output_type": "stream",
     "text": [
      "[844]\tvalidation_0-merror:0.51874\n"
     ]
    },
    {
     "name": "stdout",
     "output_type": "stream",
     "text": [
      "[845]\tvalidation_0-merror:0.518667\n"
     ]
    },
    {
     "name": "stdout",
     "output_type": "stream",
     "text": [
      "[846]\tvalidation_0-merror:0.518708\n"
     ]
    },
    {
     "name": "stdout",
     "output_type": "stream",
     "text": [
      "[847]\tvalidation_0-merror:0.518686\n"
     ]
    },
    {
     "name": "stdout",
     "output_type": "stream",
     "text": [
      "[848]\tvalidation_0-merror:0.518658\n"
     ]
    },
    {
     "name": "stdout",
     "output_type": "stream",
     "text": [
      "[849]\tvalidation_0-merror:0.518619\n"
     ]
    },
    {
     "name": "stdout",
     "output_type": "stream",
     "text": [
      "[850]\tvalidation_0-merror:0.518581\n"
     ]
    },
    {
     "name": "stdout",
     "output_type": "stream",
     "text": [
      "[851]\tvalidation_0-merror:0.518596\n"
     ]
    },
    {
     "name": "stdout",
     "output_type": "stream",
     "text": [
      "[852]\tvalidation_0-merror:0.518581\n"
     ]
    },
    {
     "name": "stdout",
     "output_type": "stream",
     "text": [
      "[853]\tvalidation_0-merror:0.518638\n"
     ]
    },
    {
     "name": "stdout",
     "output_type": "stream",
     "text": [
      "[854]\tvalidation_0-merror:0.518548\n"
     ]
    },
    {
     "name": "stdout",
     "output_type": "stream",
     "text": [
      "[855]\tvalidation_0-merror:0.518546\n"
     ]
    },
    {
     "name": "stdout",
     "output_type": "stream",
     "text": [
      "[856]\tvalidation_0-merror:0.518441\n"
     ]
    },
    {
     "name": "stdout",
     "output_type": "stream",
     "text": [
      "[857]\tvalidation_0-merror:0.518449\n"
     ]
    },
    {
     "name": "stdout",
     "output_type": "stream",
     "text": [
      "[858]\tvalidation_0-merror:0.518472\n"
     ]
    },
    {
     "name": "stdout",
     "output_type": "stream",
     "text": [
      "[859]\tvalidation_0-merror:0.518462\n"
     ]
    },
    {
     "name": "stdout",
     "output_type": "stream",
     "text": [
      "[860]\tvalidation_0-merror:0.518443\n"
     ]
    },
    {
     "name": "stdout",
     "output_type": "stream",
     "text": [
      "[861]\tvalidation_0-merror:0.51843\n"
     ]
    },
    {
     "name": "stdout",
     "output_type": "stream",
     "text": [
      "[862]\tvalidation_0-merror:0.518347\n"
     ]
    },
    {
     "name": "stdout",
     "output_type": "stream",
     "text": [
      "[863]\tvalidation_0-merror:0.518322\n"
     ]
    },
    {
     "name": "stdout",
     "output_type": "stream",
     "text": [
      "[864]\tvalidation_0-merror:0.518313\n"
     ]
    },
    {
     "name": "stdout",
     "output_type": "stream",
     "text": [
      "[865]\tvalidation_0-merror:0.518265\n"
     ]
    },
    {
     "name": "stdout",
     "output_type": "stream",
     "text": [
      "[866]\tvalidation_0-merror:0.518175\n"
     ]
    },
    {
     "name": "stdout",
     "output_type": "stream",
     "text": [
      "[867]\tvalidation_0-merror:0.518115\n"
     ]
    },
    {
     "name": "stdout",
     "output_type": "stream",
     "text": [
      "[868]\tvalidation_0-merror:0.518002\n"
     ]
    },
    {
     "name": "stdout",
     "output_type": "stream",
     "text": [
      "[869]\tvalidation_0-merror:0.518025\n"
     ]
    },
    {
     "name": "stdout",
     "output_type": "stream",
     "text": [
      "[870]\tvalidation_0-merror:0.517962\n"
     ]
    },
    {
     "name": "stdout",
     "output_type": "stream",
     "text": [
      "[871]\tvalidation_0-merror:0.517958\n"
     ]
    },
    {
     "name": "stdout",
     "output_type": "stream",
     "text": [
      "[872]\tvalidation_0-merror:0.517904\n"
     ]
    },
    {
     "name": "stdout",
     "output_type": "stream",
     "text": [
      "[873]\tvalidation_0-merror:0.517856\n"
     ]
    },
    {
     "name": "stdout",
     "output_type": "stream",
     "text": [
      "[874]\tvalidation_0-merror:0.517858\n"
     ]
    },
    {
     "name": "stdout",
     "output_type": "stream",
     "text": [
      "[875]\tvalidation_0-merror:0.51786\n"
     ]
    },
    {
     "name": "stdout",
     "output_type": "stream",
     "text": [
      "[876]\tvalidation_0-merror:0.517841\n"
     ]
    },
    {
     "name": "stdout",
     "output_type": "stream",
     "text": [
      "[877]\tvalidation_0-merror:0.517795\n"
     ]
    },
    {
     "name": "stdout",
     "output_type": "stream",
     "text": [
      "[878]\tvalidation_0-merror:0.517807\n"
     ]
    },
    {
     "name": "stdout",
     "output_type": "stream",
     "text": [
      "[879]\tvalidation_0-merror:0.517837\n"
     ]
    },
    {
     "name": "stdout",
     "output_type": "stream",
     "text": [
      "[880]\tvalidation_0-merror:0.517826\n"
     ]
    },
    {
     "name": "stdout",
     "output_type": "stream",
     "text": [
      "[881]\tvalidation_0-merror:0.517793\n"
     ]
    },
    {
     "name": "stdout",
     "output_type": "stream",
     "text": [
      "[882]\tvalidation_0-merror:0.517824\n"
     ]
    },
    {
     "name": "stdout",
     "output_type": "stream",
     "text": [
      "[883]\tvalidation_0-merror:0.517858\n"
     ]
    },
    {
     "name": "stdout",
     "output_type": "stream",
     "text": [
      "[884]\tvalidation_0-merror:0.517924\n"
     ]
    },
    {
     "name": "stdout",
     "output_type": "stream",
     "text": [
      "[885]\tvalidation_0-merror:0.517935\n"
     ]
    },
    {
     "name": "stdout",
     "output_type": "stream",
     "text": [
      "[886]\tvalidation_0-merror:0.517876\n"
     ]
    },
    {
     "name": "stdout",
     "output_type": "stream",
     "text": [
      "[887]\tvalidation_0-merror:0.517837\n"
     ]
    },
    {
     "name": "stdout",
     "output_type": "stream",
     "text": [
      "[888]\tvalidation_0-merror:0.51777\n"
     ]
    },
    {
     "name": "stdout",
     "output_type": "stream",
     "text": [
      "[889]\tvalidation_0-merror:0.517743\n"
     ]
    },
    {
     "name": "stdout",
     "output_type": "stream",
     "text": [
      "[890]\tvalidation_0-merror:0.51773\n"
     ]
    },
    {
     "name": "stdout",
     "output_type": "stream",
     "text": [
      "[891]\tvalidation_0-merror:0.517671\n"
     ]
    },
    {
     "name": "stdout",
     "output_type": "stream",
     "text": [
      "[892]\tvalidation_0-merror:0.517575\n"
     ]
    },
    {
     "name": "stdout",
     "output_type": "stream",
     "text": [
      "[893]\tvalidation_0-merror:0.517557\n"
     ]
    },
    {
     "name": "stdout",
     "output_type": "stream",
     "text": [
      "[894]\tvalidation_0-merror:0.51758\n"
     ]
    },
    {
     "name": "stdout",
     "output_type": "stream",
     "text": [
      "[895]\tvalidation_0-merror:0.517613\n"
     ]
    },
    {
     "name": "stdout",
     "output_type": "stream",
     "text": [
      "[896]\tvalidation_0-merror:0.517561\n"
     ]
    },
    {
     "name": "stdout",
     "output_type": "stream",
     "text": [
      "[897]\tvalidation_0-merror:0.517531\n"
     ]
    },
    {
     "name": "stdout",
     "output_type": "stream",
     "text": [
      "[898]\tvalidation_0-merror:0.51755\n"
     ]
    },
    {
     "name": "stdout",
     "output_type": "stream",
     "text": [
      "[899]\tvalidation_0-merror:0.517571\n"
     ]
    },
    {
     "name": "stdout",
     "output_type": "stream",
     "text": [
      "[900]\tvalidation_0-merror:0.517557\n"
     ]
    },
    {
     "name": "stdout",
     "output_type": "stream",
     "text": [
      "[901]\tvalidation_0-merror:0.51749\n"
     ]
    },
    {
     "name": "stdout",
     "output_type": "stream",
     "text": [
      "[902]\tvalidation_0-merror:0.517473\n"
     ]
    },
    {
     "name": "stdout",
     "output_type": "stream",
     "text": [
      "[903]\tvalidation_0-merror:0.517479\n"
     ]
    },
    {
     "name": "stdout",
     "output_type": "stream",
     "text": [
      "[904]\tvalidation_0-merror:0.517444\n"
     ]
    },
    {
     "name": "stdout",
     "output_type": "stream",
     "text": [
      "[905]\tvalidation_0-merror:0.517481\n"
     ]
    },
    {
     "name": "stdout",
     "output_type": "stream",
     "text": [
      "[906]\tvalidation_0-merror:0.517536\n"
     ]
    },
    {
     "name": "stdout",
     "output_type": "stream",
     "text": [
      "[907]\tvalidation_0-merror:0.51751\n"
     ]
    },
    {
     "name": "stdout",
     "output_type": "stream",
     "text": [
      "[908]\tvalidation_0-merror:0.517531\n"
     ]
    },
    {
     "name": "stdout",
     "output_type": "stream",
     "text": [
      "[909]\tvalidation_0-merror:0.517531\n"
     ]
    },
    {
     "name": "stdout",
     "output_type": "stream",
     "text": [
      "[910]\tvalidation_0-merror:0.517481\n"
     ]
    },
    {
     "name": "stdout",
     "output_type": "stream",
     "text": [
      "[911]\tvalidation_0-merror:0.517391\n"
     ]
    },
    {
     "name": "stdout",
     "output_type": "stream",
     "text": [
      "[912]\tvalidation_0-merror:0.517322\n"
     ]
    },
    {
     "name": "stdout",
     "output_type": "stream",
     "text": [
      "[913]\tvalidation_0-merror:0.517266\n"
     ]
    },
    {
     "name": "stdout",
     "output_type": "stream",
     "text": [
      "[914]\tvalidation_0-merror:0.517226\n"
     ]
    },
    {
     "name": "stdout",
     "output_type": "stream",
     "text": [
      "[915]\tvalidation_0-merror:0.517301\n"
     ]
    },
    {
     "name": "stdout",
     "output_type": "stream",
     "text": [
      "[916]\tvalidation_0-merror:0.517343\n"
     ]
    },
    {
     "name": "stdout",
     "output_type": "stream",
     "text": [
      "[917]\tvalidation_0-merror:0.517352\n"
     ]
    },
    {
     "name": "stdout",
     "output_type": "stream",
     "text": [
      "[918]\tvalidation_0-merror:0.51736\n"
     ]
    },
    {
     "name": "stdout",
     "output_type": "stream",
     "text": [
      "[919]\tvalidation_0-merror:0.517324\n"
     ]
    },
    {
     "name": "stdout",
     "output_type": "stream",
     "text": [
      "[920]\tvalidation_0-merror:0.51731\n"
     ]
    },
    {
     "name": "stdout",
     "output_type": "stream",
     "text": [
      "[921]\tvalidation_0-merror:0.517258\n"
     ]
    },
    {
     "name": "stdout",
     "output_type": "stream",
     "text": [
      "[922]\tvalidation_0-merror:0.517233\n"
     ]
    },
    {
     "name": "stdout",
     "output_type": "stream",
     "text": [
      "[923]\tvalidation_0-merror:0.517201\n"
     ]
    },
    {
     "name": "stdout",
     "output_type": "stream",
     "text": [
      "[924]\tvalidation_0-merror:0.517099\n"
     ]
    },
    {
     "name": "stdout",
     "output_type": "stream",
     "text": [
      "[925]\tvalidation_0-merror:0.517111\n"
     ]
    },
    {
     "name": "stdout",
     "output_type": "stream",
     "text": [
      "[926]\tvalidation_0-merror:0.51708\n"
     ]
    },
    {
     "name": "stdout",
     "output_type": "stream",
     "text": [
      "[927]\tvalidation_0-merror:0.517076\n"
     ]
    },
    {
     "name": "stdout",
     "output_type": "stream",
     "text": [
      "[928]\tvalidation_0-merror:0.517099\n"
     ]
    },
    {
     "name": "stdout",
     "output_type": "stream",
     "text": [
      "[929]\tvalidation_0-merror:0.517074\n"
     ]
    },
    {
     "name": "stdout",
     "output_type": "stream",
     "text": [
      "[930]\tvalidation_0-merror:0.517111\n"
     ]
    },
    {
     "name": "stdout",
     "output_type": "stream",
     "text": [
      "[931]\tvalidation_0-merror:0.517099\n"
     ]
    },
    {
     "name": "stdout",
     "output_type": "stream",
     "text": [
      "[932]\tvalidation_0-merror:0.517048\n"
     ]
    },
    {
     "name": "stdout",
     "output_type": "stream",
     "text": [
      "[933]\tvalidation_0-merror:0.517103\n"
     ]
    },
    {
     "name": "stdout",
     "output_type": "stream",
     "text": [
      "[934]\tvalidation_0-merror:0.517107\n"
     ]
    },
    {
     "name": "stdout",
     "output_type": "stream",
     "text": [
      "[935]\tvalidation_0-merror:0.51714\n"
     ]
    },
    {
     "name": "stdout",
     "output_type": "stream",
     "text": [
      "[936]\tvalidation_0-merror:0.517076\n"
     ]
    },
    {
     "name": "stdout",
     "output_type": "stream",
     "text": [
      "[937]\tvalidation_0-merror:0.517007\n"
     ]
    },
    {
     "name": "stdout",
     "output_type": "stream",
     "text": [
      "[938]\tvalidation_0-merror:0.517009\n"
     ]
    },
    {
     "name": "stdout",
     "output_type": "stream",
     "text": [
      "[939]\tvalidation_0-merror:0.516958\n"
     ]
    },
    {
     "name": "stdout",
     "output_type": "stream",
     "text": [
      "[940]\tvalidation_0-merror:0.516982\n"
     ]
    },
    {
     "name": "stdout",
     "output_type": "stream",
     "text": [
      "[941]\tvalidation_0-merror:0.516967\n"
     ]
    },
    {
     "name": "stdout",
     "output_type": "stream",
     "text": [
      "[942]\tvalidation_0-merror:0.516977\n"
     ]
    },
    {
     "name": "stdout",
     "output_type": "stream",
     "text": [
      "[943]\tvalidation_0-merror:0.516908\n"
     ]
    },
    {
     "name": "stdout",
     "output_type": "stream",
     "text": [
      "[944]\tvalidation_0-merror:0.5169\n"
     ]
    },
    {
     "name": "stdout",
     "output_type": "stream",
     "text": [
      "[945]\tvalidation_0-merror:0.516948\n"
     ]
    },
    {
     "name": "stdout",
     "output_type": "stream",
     "text": [
      "[946]\tvalidation_0-merror:0.516959\n"
     ]
    },
    {
     "name": "stdout",
     "output_type": "stream",
     "text": [
      "[947]\tvalidation_0-merror:0.516981\n"
     ]
    },
    {
     "name": "stdout",
     "output_type": "stream",
     "text": [
      "[948]\tvalidation_0-merror:0.516984\n"
     ]
    },
    {
     "name": "stdout",
     "output_type": "stream",
     "text": [
      "[949]\tvalidation_0-merror:0.516925\n"
     ]
    },
    {
     "name": "stdout",
     "output_type": "stream",
     "text": [
      "[950]\tvalidation_0-merror:0.516885\n"
     ]
    },
    {
     "name": "stdout",
     "output_type": "stream",
     "text": [
      "[951]\tvalidation_0-merror:0.516846\n"
     ]
    },
    {
     "name": "stdout",
     "output_type": "stream",
     "text": [
      "[952]\tvalidation_0-merror:0.516871\n"
     ]
    },
    {
     "name": "stdout",
     "output_type": "stream",
     "text": [
      "[953]\tvalidation_0-merror:0.516862\n"
     ]
    },
    {
     "name": "stdout",
     "output_type": "stream",
     "text": [
      "[954]\tvalidation_0-merror:0.516881\n"
     ]
    },
    {
     "name": "stdout",
     "output_type": "stream",
     "text": [
      "[955]\tvalidation_0-merror:0.51681\n"
     ]
    },
    {
     "name": "stdout",
     "output_type": "stream",
     "text": [
      "[956]\tvalidation_0-merror:0.516812\n"
     ]
    },
    {
     "name": "stdout",
     "output_type": "stream",
     "text": [
      "[957]\tvalidation_0-merror:0.516839\n"
     ]
    },
    {
     "name": "stdout",
     "output_type": "stream",
     "text": [
      "[958]\tvalidation_0-merror:0.516831\n"
     ]
    },
    {
     "name": "stdout",
     "output_type": "stream",
     "text": [
      "[959]\tvalidation_0-merror:0.516795\n"
     ]
    },
    {
     "name": "stdout",
     "output_type": "stream",
     "text": [
      "[960]\tvalidation_0-merror:0.516781\n"
     ]
    },
    {
     "name": "stdout",
     "output_type": "stream",
     "text": [
      "[961]\tvalidation_0-merror:0.516789\n"
     ]
    },
    {
     "name": "stdout",
     "output_type": "stream",
     "text": [
      "[962]\tvalidation_0-merror:0.516718\n"
     ]
    },
    {
     "name": "stdout",
     "output_type": "stream",
     "text": [
      "[963]\tvalidation_0-merror:0.516749\n"
     ]
    },
    {
     "name": "stdout",
     "output_type": "stream",
     "text": [
      "[964]\tvalidation_0-merror:0.516664\n"
     ]
    },
    {
     "name": "stdout",
     "output_type": "stream",
     "text": [
      "[965]\tvalidation_0-merror:0.516628\n"
     ]
    },
    {
     "name": "stdout",
     "output_type": "stream",
     "text": [
      "[966]\tvalidation_0-merror:0.516603\n"
     ]
    },
    {
     "name": "stdout",
     "output_type": "stream",
     "text": [
      "[967]\tvalidation_0-merror:0.516561\n"
     ]
    },
    {
     "name": "stdout",
     "output_type": "stream",
     "text": [
      "[968]\tvalidation_0-merror:0.516576\n"
     ]
    },
    {
     "name": "stdout",
     "output_type": "stream",
     "text": [
      "[969]\tvalidation_0-merror:0.516616\n"
     ]
    },
    {
     "name": "stdout",
     "output_type": "stream",
     "text": [
      "[970]\tvalidation_0-merror:0.516622\n"
     ]
    },
    {
     "name": "stdout",
     "output_type": "stream",
     "text": [
      "[971]\tvalidation_0-merror:0.516601\n"
     ]
    },
    {
     "name": "stdout",
     "output_type": "stream",
     "text": [
      "[972]\tvalidation_0-merror:0.516639\n"
     ]
    },
    {
     "name": "stdout",
     "output_type": "stream",
     "text": [
      "[973]\tvalidation_0-merror:0.516651\n"
     ]
    },
    {
     "name": "stdout",
     "output_type": "stream",
     "text": [
      "[974]\tvalidation_0-merror:0.516643\n"
     ]
    },
    {
     "name": "stdout",
     "output_type": "stream",
     "text": [
      "[975]\tvalidation_0-merror:0.516626\n"
     ]
    },
    {
     "name": "stdout",
     "output_type": "stream",
     "text": [
      "[976]\tvalidation_0-merror:0.516549\n"
     ]
    },
    {
     "name": "stdout",
     "output_type": "stream",
     "text": [
      "[977]\tvalidation_0-merror:0.516526\n"
     ]
    },
    {
     "name": "stdout",
     "output_type": "stream",
     "text": [
      "[978]\tvalidation_0-merror:0.516482\n"
     ]
    },
    {
     "name": "stdout",
     "output_type": "stream",
     "text": [
      "[979]\tvalidation_0-merror:0.516444\n"
     ]
    },
    {
     "name": "stdout",
     "output_type": "stream",
     "text": [
      "[980]\tvalidation_0-merror:0.516457\n"
     ]
    },
    {
     "name": "stdout",
     "output_type": "stream",
     "text": [
      "[981]\tvalidation_0-merror:0.51648\n"
     ]
    },
    {
     "name": "stdout",
     "output_type": "stream",
     "text": [
      "[982]\tvalidation_0-merror:0.516457\n"
     ]
    },
    {
     "name": "stdout",
     "output_type": "stream",
     "text": [
      "[983]\tvalidation_0-merror:0.516335\n"
     ]
    },
    {
     "name": "stdout",
     "output_type": "stream",
     "text": [
      "[984]\tvalidation_0-merror:0.516361\n"
     ]
    },
    {
     "name": "stdout",
     "output_type": "stream",
     "text": [
      "[985]\tvalidation_0-merror:0.516344\n"
     ]
    },
    {
     "name": "stdout",
     "output_type": "stream",
     "text": [
      "[986]\tvalidation_0-merror:0.516296\n"
     ]
    },
    {
     "name": "stdout",
     "output_type": "stream",
     "text": [
      "[987]\tvalidation_0-merror:0.516298\n"
     ]
    },
    {
     "name": "stdout",
     "output_type": "stream",
     "text": [
      "[988]\tvalidation_0-merror:0.516271\n"
     ]
    },
    {
     "name": "stdout",
     "output_type": "stream",
     "text": [
      "[989]\tvalidation_0-merror:0.516313\n"
     ]
    },
    {
     "name": "stdout",
     "output_type": "stream",
     "text": [
      "[990]\tvalidation_0-merror:0.51634\n"
     ]
    },
    {
     "name": "stdout",
     "output_type": "stream",
     "text": [
      "[991]\tvalidation_0-merror:0.516377\n"
     ]
    },
    {
     "name": "stdout",
     "output_type": "stream",
     "text": [
      "[992]\tvalidation_0-merror:0.516392\n"
     ]
    },
    {
     "name": "stdout",
     "output_type": "stream",
     "text": [
      "[993]\tvalidation_0-merror:0.516359\n"
     ]
    },
    {
     "name": "stdout",
     "output_type": "stream",
     "text": [
      "[994]\tvalidation_0-merror:0.516358\n"
     ]
    },
    {
     "name": "stdout",
     "output_type": "stream",
     "text": [
      "[995]\tvalidation_0-merror:0.516367\n"
     ]
    },
    {
     "name": "stdout",
     "output_type": "stream",
     "text": [
      "[996]\tvalidation_0-merror:0.516315\n"
     ]
    },
    {
     "name": "stdout",
     "output_type": "stream",
     "text": [
      "[997]\tvalidation_0-merror:0.516275\n"
     ]
    },
    {
     "name": "stdout",
     "output_type": "stream",
     "text": [
      "[998]\tvalidation_0-merror:0.516262\n"
     ]
    },
    {
     "name": "stdout",
     "output_type": "stream",
     "text": [
      "[999]\tvalidation_0-merror:0.516202\n"
     ]
    },
    {
     "name": "stdout",
     "output_type": "stream",
     "text": [
      "[1000]\tvalidation_0-merror:0.516202\n"
     ]
    },
    {
     "name": "stdout",
     "output_type": "stream",
     "text": [
      "[1001]\tvalidation_0-merror:0.516105\n"
     ]
    },
    {
     "name": "stdout",
     "output_type": "stream",
     "text": [
      "[1002]\tvalidation_0-merror:0.516099\n"
     ]
    },
    {
     "name": "stdout",
     "output_type": "stream",
     "text": [
      "[1003]\tvalidation_0-merror:0.51607\n"
     ]
    },
    {
     "name": "stdout",
     "output_type": "stream",
     "text": [
      "[1004]\tvalidation_0-merror:0.516026\n"
     ]
    },
    {
     "name": "stdout",
     "output_type": "stream",
     "text": [
      "[1005]\tvalidation_0-merror:0.516005\n"
     ]
    },
    {
     "name": "stdout",
     "output_type": "stream",
     "text": [
      "[1006]\tvalidation_0-merror:0.515995\n"
     ]
    },
    {
     "name": "stdout",
     "output_type": "stream",
     "text": [
      "[1007]\tvalidation_0-merror:0.515963\n"
     ]
    },
    {
     "name": "stdout",
     "output_type": "stream",
     "text": [
      "[1008]\tvalidation_0-merror:0.51593\n"
     ]
    },
    {
     "name": "stdout",
     "output_type": "stream",
     "text": [
      "[1009]\tvalidation_0-merror:0.515921\n"
     ]
    },
    {
     "name": "stdout",
     "output_type": "stream",
     "text": [
      "[1010]\tvalidation_0-merror:0.515936\n"
     ]
    },
    {
     "name": "stdout",
     "output_type": "stream",
     "text": [
      "[1011]\tvalidation_0-merror:0.515944\n"
     ]
    },
    {
     "name": "stdout",
     "output_type": "stream",
     "text": [
      "[1012]\tvalidation_0-merror:0.515953\n"
     ]
    },
    {
     "name": "stdout",
     "output_type": "stream",
     "text": [
      "[1013]\tvalidation_0-merror:0.515913\n"
     ]
    },
    {
     "name": "stdout",
     "output_type": "stream",
     "text": [
      "[1014]\tvalidation_0-merror:0.515844\n"
     ]
    },
    {
     "name": "stdout",
     "output_type": "stream",
     "text": [
      "[1015]\tvalidation_0-merror:0.515829\n"
     ]
    },
    {
     "name": "stdout",
     "output_type": "stream",
     "text": [
      "[1016]\tvalidation_0-merror:0.515758\n"
     ]
    },
    {
     "name": "stdout",
     "output_type": "stream",
     "text": [
      "[1017]\tvalidation_0-merror:0.515746\n"
     ]
    },
    {
     "name": "stdout",
     "output_type": "stream",
     "text": [
      "[1018]\tvalidation_0-merror:0.51574\n"
     ]
    },
    {
     "name": "stdout",
     "output_type": "stream",
     "text": [
      "[1019]\tvalidation_0-merror:0.515737\n"
     ]
    },
    {
     "name": "stdout",
     "output_type": "stream",
     "text": [
      "[1020]\tvalidation_0-merror:0.515725\n"
     ]
    },
    {
     "name": "stdout",
     "output_type": "stream",
     "text": [
      "[1021]\tvalidation_0-merror:0.515679\n"
     ]
    },
    {
     "name": "stdout",
     "output_type": "stream",
     "text": [
      "[1022]\tvalidation_0-merror:0.515652\n"
     ]
    },
    {
     "name": "stdout",
     "output_type": "stream",
     "text": [
      "[1023]\tvalidation_0-merror:0.515696\n"
     ]
    },
    {
     "name": "stdout",
     "output_type": "stream",
     "text": [
      "[1024]\tvalidation_0-merror:0.515706\n"
     ]
    },
    {
     "name": "stdout",
     "output_type": "stream",
     "text": [
      "[1025]\tvalidation_0-merror:0.515658\n"
     ]
    },
    {
     "name": "stdout",
     "output_type": "stream",
     "text": [
      "[1026]\tvalidation_0-merror:0.515606\n"
     ]
    },
    {
     "name": "stdout",
     "output_type": "stream",
     "text": [
      "[1027]\tvalidation_0-merror:0.5156\n"
     ]
    },
    {
     "name": "stdout",
     "output_type": "stream",
     "text": [
      "[1028]\tvalidation_0-merror:0.515574\n"
     ]
    },
    {
     "name": "stdout",
     "output_type": "stream",
     "text": [
      "[1029]\tvalidation_0-merror:0.515622\n"
     ]
    },
    {
     "name": "stdout",
     "output_type": "stream",
     "text": [
      "[1030]\tvalidation_0-merror:0.515664\n"
     ]
    },
    {
     "name": "stdout",
     "output_type": "stream",
     "text": [
      "[1031]\tvalidation_0-merror:0.515702\n"
     ]
    },
    {
     "name": "stdout",
     "output_type": "stream",
     "text": [
      "[1032]\tvalidation_0-merror:0.515685\n"
     ]
    },
    {
     "name": "stdout",
     "output_type": "stream",
     "text": [
      "[1033]\tvalidation_0-merror:0.515671\n"
     ]
    },
    {
     "name": "stdout",
     "output_type": "stream",
     "text": [
      "[1034]\tvalidation_0-merror:0.5157\n"
     ]
    },
    {
     "name": "stdout",
     "output_type": "stream",
     "text": [
      "[1035]\tvalidation_0-merror:0.515662\n"
     ]
    },
    {
     "name": "stdout",
     "output_type": "stream",
     "text": [
      "[1036]\tvalidation_0-merror:0.515643\n"
     ]
    },
    {
     "name": "stdout",
     "output_type": "stream",
     "text": [
      "[1037]\tvalidation_0-merror:0.515623\n"
     ]
    },
    {
     "name": "stdout",
     "output_type": "stream",
     "text": [
      "[1038]\tvalidation_0-merror:0.515564\n"
     ]
    },
    {
     "name": "stdout",
     "output_type": "stream",
     "text": [
      "[1039]\tvalidation_0-merror:0.515558\n"
     ]
    },
    {
     "name": "stdout",
     "output_type": "stream",
     "text": [
      "[1040]\tvalidation_0-merror:0.515618\n"
     ]
    },
    {
     "name": "stdout",
     "output_type": "stream",
     "text": [
      "[1041]\tvalidation_0-merror:0.515618\n"
     ]
    },
    {
     "name": "stdout",
     "output_type": "stream",
     "text": [
      "[1042]\tvalidation_0-merror:0.515574\n"
     ]
    },
    {
     "name": "stdout",
     "output_type": "stream",
     "text": [
      "[1043]\tvalidation_0-merror:0.515566\n"
     ]
    },
    {
     "name": "stdout",
     "output_type": "stream",
     "text": [
      "[1044]\tvalidation_0-merror:0.515549\n"
     ]
    },
    {
     "name": "stdout",
     "output_type": "stream",
     "text": [
      "[1045]\tvalidation_0-merror:0.515505\n"
     ]
    },
    {
     "name": "stdout",
     "output_type": "stream",
     "text": [
      "[1046]\tvalidation_0-merror:0.515495\n"
     ]
    },
    {
     "name": "stdout",
     "output_type": "stream",
     "text": [
      "[1047]\tvalidation_0-merror:0.51548\n"
     ]
    },
    {
     "name": "stdout",
     "output_type": "stream",
     "text": [
      "[1048]\tvalidation_0-merror:0.515459\n"
     ]
    },
    {
     "name": "stdout",
     "output_type": "stream",
     "text": [
      "[1049]\tvalidation_0-merror:0.515462\n"
     ]
    },
    {
     "name": "stdout",
     "output_type": "stream",
     "text": [
      "[1050]\tvalidation_0-merror:0.515478\n"
     ]
    },
    {
     "name": "stdout",
     "output_type": "stream",
     "text": [
      "[1051]\tvalidation_0-merror:0.515382\n"
     ]
    },
    {
     "name": "stdout",
     "output_type": "stream",
     "text": [
      "[1052]\tvalidation_0-merror:0.515298\n"
     ]
    },
    {
     "name": "stdout",
     "output_type": "stream",
     "text": [
      "[1053]\tvalidation_0-merror:0.515305\n"
     ]
    },
    {
     "name": "stdout",
     "output_type": "stream",
     "text": [
      "[1054]\tvalidation_0-merror:0.515311\n"
     ]
    },
    {
     "name": "stdout",
     "output_type": "stream",
     "text": [
      "[1055]\tvalidation_0-merror:0.515317\n"
     ]
    },
    {
     "name": "stdout",
     "output_type": "stream",
     "text": [
      "[1056]\tvalidation_0-merror:0.515275\n"
     ]
    },
    {
     "name": "stdout",
     "output_type": "stream",
     "text": [
      "[1057]\tvalidation_0-merror:0.515273\n"
     ]
    },
    {
     "name": "stdout",
     "output_type": "stream",
     "text": [
      "[1058]\tvalidation_0-merror:0.51528\n"
     ]
    },
    {
     "name": "stdout",
     "output_type": "stream",
     "text": [
      "[1059]\tvalidation_0-merror:0.515307\n"
     ]
    },
    {
     "name": "stdout",
     "output_type": "stream",
     "text": [
      "[1060]\tvalidation_0-merror:0.515294\n"
     ]
    },
    {
     "name": "stdout",
     "output_type": "stream",
     "text": [
      "[1061]\tvalidation_0-merror:0.515271\n"
     ]
    },
    {
     "name": "stdout",
     "output_type": "stream",
     "text": [
      "[1062]\tvalidation_0-merror:0.51525\n"
     ]
    },
    {
     "name": "stdout",
     "output_type": "stream",
     "text": [
      "[1063]\tvalidation_0-merror:0.515217\n"
     ]
    },
    {
     "name": "stdout",
     "output_type": "stream",
     "text": [
      "[1064]\tvalidation_0-merror:0.515175\n"
     ]
    },
    {
     "name": "stdout",
     "output_type": "stream",
     "text": [
      "[1065]\tvalidation_0-merror:0.515169\n"
     ]
    },
    {
     "name": "stdout",
     "output_type": "stream",
     "text": [
      "[1066]\tvalidation_0-merror:0.515181\n"
     ]
    },
    {
     "name": "stdout",
     "output_type": "stream",
     "text": [
      "[1067]\tvalidation_0-merror:0.515192\n"
     ]
    },
    {
     "name": "stdout",
     "output_type": "stream",
     "text": [
      "[1068]\tvalidation_0-merror:0.515119\n"
     ]
    },
    {
     "name": "stdout",
     "output_type": "stream",
     "text": [
      "[1069]\tvalidation_0-merror:0.51511\n"
     ]
    },
    {
     "name": "stdout",
     "output_type": "stream",
     "text": [
      "[1070]\tvalidation_0-merror:0.515089\n"
     ]
    },
    {
     "name": "stdout",
     "output_type": "stream",
     "text": [
      "[1071]\tvalidation_0-merror:0.515133\n"
     ]
    },
    {
     "name": "stdout",
     "output_type": "stream",
     "text": [
      "[1072]\tvalidation_0-merror:0.515127\n"
     ]
    },
    {
     "name": "stdout",
     "output_type": "stream",
     "text": [
      "[1073]\tvalidation_0-merror:0.515033\n"
     ]
    },
    {
     "name": "stdout",
     "output_type": "stream",
     "text": [
      "[1074]\tvalidation_0-merror:0.515035\n"
     ]
    },
    {
     "name": "stdout",
     "output_type": "stream",
     "text": [
      "[1075]\tvalidation_0-merror:0.514974\n"
     ]
    },
    {
     "name": "stdout",
     "output_type": "stream",
     "text": [
      "[1076]\tvalidation_0-merror:0.514976\n"
     ]
    },
    {
     "name": "stdout",
     "output_type": "stream",
     "text": [
      "[1077]\tvalidation_0-merror:0.514953\n"
     ]
    },
    {
     "name": "stdout",
     "output_type": "stream",
     "text": [
      "[1078]\tvalidation_0-merror:0.51492\n"
     ]
    },
    {
     "name": "stdout",
     "output_type": "stream",
     "text": [
      "[1079]\tvalidation_0-merror:0.514876\n"
     ]
    },
    {
     "name": "stdout",
     "output_type": "stream",
     "text": [
      "[1080]\tvalidation_0-merror:0.514847\n"
     ]
    },
    {
     "name": "stdout",
     "output_type": "stream",
     "text": [
      "[1081]\tvalidation_0-merror:0.514799\n"
     ]
    },
    {
     "name": "stdout",
     "output_type": "stream",
     "text": [
      "[1082]\tvalidation_0-merror:0.514726\n"
     ]
    },
    {
     "name": "stdout",
     "output_type": "stream",
     "text": [
      "[1083]\tvalidation_0-merror:0.51468\n"
     ]
    },
    {
     "name": "stdout",
     "output_type": "stream",
     "text": [
      "[1084]\tvalidation_0-merror:0.514565\n"
     ]
    },
    {
     "name": "stdout",
     "output_type": "stream",
     "text": [
      "[1085]\tvalidation_0-merror:0.514494\n"
     ]
    },
    {
     "name": "stdout",
     "output_type": "stream",
     "text": [
      "[1086]\tvalidation_0-merror:0.514454\n"
     ]
    },
    {
     "name": "stdout",
     "output_type": "stream",
     "text": [
      "[1087]\tvalidation_0-merror:0.514475\n"
     ]
    },
    {
     "name": "stdout",
     "output_type": "stream",
     "text": [
      "[1088]\tvalidation_0-merror:0.514393\n"
     ]
    },
    {
     "name": "stdout",
     "output_type": "stream",
     "text": [
      "[1089]\tvalidation_0-merror:0.514328\n"
     ]
    },
    {
     "name": "stdout",
     "output_type": "stream",
     "text": [
      "[1090]\tvalidation_0-merror:0.514314\n"
     ]
    },
    {
     "name": "stdout",
     "output_type": "stream",
     "text": [
      "[1091]\tvalidation_0-merror:0.51424\n"
     ]
    },
    {
     "name": "stdout",
     "output_type": "stream",
     "text": [
      "[1092]\tvalidation_0-merror:0.514241\n"
     ]
    },
    {
     "name": "stdout",
     "output_type": "stream",
     "text": [
      "[1093]\tvalidation_0-merror:0.514261\n"
     ]
    },
    {
     "name": "stdout",
     "output_type": "stream",
     "text": [
      "[1094]\tvalidation_0-merror:0.514226\n"
     ]
    },
    {
     "name": "stdout",
     "output_type": "stream",
     "text": [
      "[1095]\tvalidation_0-merror:0.514203\n"
     ]
    },
    {
     "name": "stdout",
     "output_type": "stream",
     "text": [
      "[1096]\tvalidation_0-merror:0.514182\n"
     ]
    },
    {
     "name": "stdout",
     "output_type": "stream",
     "text": [
      "[1097]\tvalidation_0-merror:0.514149\n"
     ]
    },
    {
     "name": "stdout",
     "output_type": "stream",
     "text": [
      "[1098]\tvalidation_0-merror:0.514153\n"
     ]
    },
    {
     "name": "stdout",
     "output_type": "stream",
     "text": [
      "[1099]\tvalidation_0-merror:0.514128\n"
     ]
    },
    {
     "name": "stdout",
     "output_type": "stream",
     "text": [
      "[1100]\tvalidation_0-merror:0.513969\n"
     ]
    },
    {
     "name": "stdout",
     "output_type": "stream",
     "text": [
      "[1101]\tvalidation_0-merror:0.514017\n"
     ]
    },
    {
     "name": "stdout",
     "output_type": "stream",
     "text": [
      "[1102]\tvalidation_0-merror:0.514034\n"
     ]
    },
    {
     "name": "stdout",
     "output_type": "stream",
     "text": [
      "[1103]\tvalidation_0-merror:0.513971\n"
     ]
    },
    {
     "name": "stdout",
     "output_type": "stream",
     "text": [
      "[1104]\tvalidation_0-merror:0.513967\n"
     ]
    },
    {
     "name": "stdout",
     "output_type": "stream",
     "text": [
      "[1105]\tvalidation_0-merror:0.514019\n"
     ]
    },
    {
     "name": "stdout",
     "output_type": "stream",
     "text": [
      "[1106]\tvalidation_0-merror:0.514042\n"
     ]
    },
    {
     "name": "stdout",
     "output_type": "stream",
     "text": [
      "[1107]\tvalidation_0-merror:0.514052\n"
     ]
    },
    {
     "name": "stdout",
     "output_type": "stream",
     "text": [
      "[1108]\tvalidation_0-merror:0.513971\n"
     ]
    },
    {
     "name": "stdout",
     "output_type": "stream",
     "text": [
      "[1109]\tvalidation_0-merror:0.51401\n"
     ]
    },
    {
     "name": "stdout",
     "output_type": "stream",
     "text": [
      "[1110]\tvalidation_0-merror:0.514023\n"
     ]
    },
    {
     "name": "stdout",
     "output_type": "stream",
     "text": [
      "[1111]\tvalidation_0-merror:0.514008\n"
     ]
    },
    {
     "name": "stdout",
     "output_type": "stream",
     "text": [
      "[1112]\tvalidation_0-merror:0.513977\n"
     ]
    },
    {
     "name": "stdout",
     "output_type": "stream",
     "text": [
      "[1113]\tvalidation_0-merror:0.513944\n"
     ]
    },
    {
     "name": "stdout",
     "output_type": "stream",
     "text": [
      "[1114]\tvalidation_0-merror:0.513872\n"
     ]
    },
    {
     "name": "stdout",
     "output_type": "stream",
     "text": [
      "[1115]\tvalidation_0-merror:0.513912\n"
     ]
    },
    {
     "name": "stdout",
     "output_type": "stream",
     "text": [
      "[1116]\tvalidation_0-merror:0.513944\n"
     ]
    },
    {
     "name": "stdout",
     "output_type": "stream",
     "text": [
      "[1117]\tvalidation_0-merror:0.513919\n"
     ]
    },
    {
     "name": "stdout",
     "output_type": "stream",
     "text": [
      "[1118]\tvalidation_0-merror:0.513896\n"
     ]
    },
    {
     "name": "stdout",
     "output_type": "stream",
     "text": [
      "[1119]\tvalidation_0-merror:0.513879\n"
     ]
    },
    {
     "name": "stdout",
     "output_type": "stream",
     "text": [
      "[1120]\tvalidation_0-merror:0.513904\n"
     ]
    },
    {
     "name": "stdout",
     "output_type": "stream",
     "text": [
      "[1121]\tvalidation_0-merror:0.513875\n"
     ]
    },
    {
     "name": "stdout",
     "output_type": "stream",
     "text": [
      "[1122]\tvalidation_0-merror:0.513864\n"
     ]
    },
    {
     "name": "stdout",
     "output_type": "stream",
     "text": [
      "[1123]\tvalidation_0-merror:0.513916\n"
     ]
    },
    {
     "name": "stdout",
     "output_type": "stream",
     "text": [
      "[1124]\tvalidation_0-merror:0.513923\n"
     ]
    },
    {
     "name": "stdout",
     "output_type": "stream",
     "text": [
      "[1125]\tvalidation_0-merror:0.513864\n"
     ]
    },
    {
     "name": "stdout",
     "output_type": "stream",
     "text": [
      "[1126]\tvalidation_0-merror:0.513864\n"
     ]
    },
    {
     "name": "stdout",
     "output_type": "stream",
     "text": [
      "[1127]\tvalidation_0-merror:0.513785\n"
     ]
    },
    {
     "name": "stdout",
     "output_type": "stream",
     "text": [
      "[1128]\tvalidation_0-merror:0.513849\n"
     ]
    },
    {
     "name": "stdout",
     "output_type": "stream",
     "text": [
      "[1129]\tvalidation_0-merror:0.513787\n"
     ]
    },
    {
     "name": "stdout",
     "output_type": "stream",
     "text": [
      "[1130]\tvalidation_0-merror:0.513787\n"
     ]
    },
    {
     "name": "stdout",
     "output_type": "stream",
     "text": [
      "[1131]\tvalidation_0-merror:0.513797\n"
     ]
    },
    {
     "name": "stdout",
     "output_type": "stream",
     "text": [
      "[1132]\tvalidation_0-merror:0.513758\n"
     ]
    },
    {
     "name": "stdout",
     "output_type": "stream",
     "text": [
      "[1133]\tvalidation_0-merror:0.513705\n"
     ]
    },
    {
     "name": "stdout",
     "output_type": "stream",
     "text": [
      "[1134]\tvalidation_0-merror:0.513709\n"
     ]
    },
    {
     "name": "stdout",
     "output_type": "stream",
     "text": [
      "[1135]\tvalidation_0-merror:0.513766\n"
     ]
    },
    {
     "name": "stdout",
     "output_type": "stream",
     "text": [
      "[1136]\tvalidation_0-merror:0.513714\n"
     ]
    },
    {
     "name": "stdout",
     "output_type": "stream",
     "text": [
      "[1137]\tvalidation_0-merror:0.513693\n"
     ]
    },
    {
     "name": "stdout",
     "output_type": "stream",
     "text": [
      "[1138]\tvalidation_0-merror:0.513684\n"
     ]
    },
    {
     "name": "stdout",
     "output_type": "stream",
     "text": [
      "[1139]\tvalidation_0-merror:0.51363\n"
     ]
    },
    {
     "name": "stdout",
     "output_type": "stream",
     "text": [
      "[1140]\tvalidation_0-merror:0.513634\n"
     ]
    },
    {
     "name": "stdout",
     "output_type": "stream",
     "text": [
      "[1141]\tvalidation_0-merror:0.513663\n"
     ]
    },
    {
     "name": "stdout",
     "output_type": "stream",
     "text": [
      "[1142]\tvalidation_0-merror:0.513632\n"
     ]
    },
    {
     "name": "stdout",
     "output_type": "stream",
     "text": [
      "[1143]\tvalidation_0-merror:0.513624\n"
     ]
    },
    {
     "name": "stdout",
     "output_type": "stream",
     "text": [
      "[1144]\tvalidation_0-merror:0.513617\n"
     ]
    },
    {
     "name": "stdout",
     "output_type": "stream",
     "text": [
      "[1145]\tvalidation_0-merror:0.513569\n"
     ]
    },
    {
     "name": "stdout",
     "output_type": "stream",
     "text": [
      "[1146]\tvalidation_0-merror:0.513521\n"
     ]
    },
    {
     "name": "stdout",
     "output_type": "stream",
     "text": [
      "[1147]\tvalidation_0-merror:0.513482\n"
     ]
    },
    {
     "name": "stdout",
     "output_type": "stream",
     "text": [
      "[1148]\tvalidation_0-merror:0.513505\n"
     ]
    },
    {
     "name": "stdout",
     "output_type": "stream",
     "text": [
      "[1149]\tvalidation_0-merror:0.513507\n"
     ]
    },
    {
     "name": "stdout",
     "output_type": "stream",
     "text": [
      "[1150]\tvalidation_0-merror:0.513475\n"
     ]
    },
    {
     "name": "stdout",
     "output_type": "stream",
     "text": [
      "[1151]\tvalidation_0-merror:0.513494\n"
     ]
    },
    {
     "name": "stdout",
     "output_type": "stream",
     "text": [
      "[1152]\tvalidation_0-merror:0.513538\n"
     ]
    },
    {
     "name": "stdout",
     "output_type": "stream",
     "text": [
      "[1153]\tvalidation_0-merror:0.51353\n"
     ]
    },
    {
     "name": "stdout",
     "output_type": "stream",
     "text": [
      "[1154]\tvalidation_0-merror:0.513488\n"
     ]
    },
    {
     "name": "stdout",
     "output_type": "stream",
     "text": [
      "[1155]\tvalidation_0-merror:0.51345\n"
     ]
    },
    {
     "name": "stdout",
     "output_type": "stream",
     "text": [
      "[1156]\tvalidation_0-merror:0.513433\n"
     ]
    },
    {
     "name": "stdout",
     "output_type": "stream",
     "text": [
      "[1157]\tvalidation_0-merror:0.513402\n"
     ]
    },
    {
     "name": "stdout",
     "output_type": "stream",
     "text": [
      "[1158]\tvalidation_0-merror:0.513392\n"
     ]
    },
    {
     "name": "stdout",
     "output_type": "stream",
     "text": [
      "[1159]\tvalidation_0-merror:0.513367\n"
     ]
    },
    {
     "name": "stdout",
     "output_type": "stream",
     "text": [
      "[1160]\tvalidation_0-merror:0.513352\n"
     ]
    },
    {
     "name": "stdout",
     "output_type": "stream",
     "text": [
      "[1161]\tvalidation_0-merror:0.513367\n"
     ]
    },
    {
     "name": "stdout",
     "output_type": "stream",
     "text": [
      "[1162]\tvalidation_0-merror:0.513385\n"
     ]
    },
    {
     "name": "stdout",
     "output_type": "stream",
     "text": [
      "[1163]\tvalidation_0-merror:0.513413\n"
     ]
    },
    {
     "name": "stdout",
     "output_type": "stream",
     "text": [
      "[1164]\tvalidation_0-merror:0.513433\n"
     ]
    },
    {
     "name": "stdout",
     "output_type": "stream",
     "text": [
      "[1165]\tvalidation_0-merror:0.513373\n"
     ]
    },
    {
     "name": "stdout",
     "output_type": "stream",
     "text": [
      "[1166]\tvalidation_0-merror:0.51339\n"
     ]
    },
    {
     "name": "stdout",
     "output_type": "stream",
     "text": [
      "[1167]\tvalidation_0-merror:0.513425\n"
     ]
    },
    {
     "name": "stdout",
     "output_type": "stream",
     "text": [
      "[1168]\tvalidation_0-merror:0.51345\n"
     ]
    },
    {
     "name": "stdout",
     "output_type": "stream",
     "text": [
      "[1169]\tvalidation_0-merror:0.513421\n"
     ]
    },
    {
     "name": "stdout",
     "output_type": "stream",
     "text": [
      "[1170]\tvalidation_0-merror:0.513427\n"
     ]
    },
    {
     "name": "stdout",
     "output_type": "stream",
     "text": [
      "[1171]\tvalidation_0-merror:0.513406\n"
     ]
    },
    {
     "name": "stdout",
     "output_type": "stream",
     "text": [
      "[1172]\tvalidation_0-merror:0.513408\n"
     ]
    },
    {
     "name": "stdout",
     "output_type": "stream",
     "text": [
      "[1173]\tvalidation_0-merror:0.513329\n"
     ]
    },
    {
     "name": "stdout",
     "output_type": "stream",
     "text": [
      "[1174]\tvalidation_0-merror:0.513316\n"
     ]
    },
    {
     "name": "stdout",
     "output_type": "stream",
     "text": [
      "[1175]\tvalidation_0-merror:0.513302\n"
     ]
    },
    {
     "name": "stdout",
     "output_type": "stream",
     "text": [
      "[1176]\tvalidation_0-merror:0.513289\n"
     ]
    },
    {
     "name": "stdout",
     "output_type": "stream",
     "text": [
      "[1177]\tvalidation_0-merror:0.51327\n"
     ]
    },
    {
     "name": "stdout",
     "output_type": "stream",
     "text": [
      "[1178]\tvalidation_0-merror:0.513285\n"
     ]
    },
    {
     "name": "stdout",
     "output_type": "stream",
     "text": [
      "[1179]\tvalidation_0-merror:0.513272\n"
     ]
    },
    {
     "name": "stdout",
     "output_type": "stream",
     "text": [
      "[1180]\tvalidation_0-merror:0.513258\n"
     ]
    },
    {
     "name": "stdout",
     "output_type": "stream",
     "text": [
      "[1181]\tvalidation_0-merror:0.513264\n"
     ]
    },
    {
     "name": "stdout",
     "output_type": "stream",
     "text": [
      "[1182]\tvalidation_0-merror:0.513256\n"
     ]
    },
    {
     "name": "stdout",
     "output_type": "stream",
     "text": [
      "[1183]\tvalidation_0-merror:0.513222\n"
     ]
    },
    {
     "name": "stdout",
     "output_type": "stream",
     "text": [
      "[1184]\tvalidation_0-merror:0.513245\n"
     ]
    },
    {
     "name": "stdout",
     "output_type": "stream",
     "text": [
      "[1185]\tvalidation_0-merror:0.513251\n"
     ]
    },
    {
     "name": "stdout",
     "output_type": "stream",
     "text": [
      "[1186]\tvalidation_0-merror:0.513214\n"
     ]
    },
    {
     "name": "stdout",
     "output_type": "stream",
     "text": [
      "[1187]\tvalidation_0-merror:0.513222\n"
     ]
    },
    {
     "name": "stdout",
     "output_type": "stream",
     "text": [
      "[1188]\tvalidation_0-merror:0.513233\n"
     ]
    },
    {
     "name": "stdout",
     "output_type": "stream",
     "text": [
      "[1189]\tvalidation_0-merror:0.513214\n"
     ]
    },
    {
     "name": "stdout",
     "output_type": "stream",
     "text": [
      "[1190]\tvalidation_0-merror:0.513224\n"
     ]
    },
    {
     "name": "stdout",
     "output_type": "stream",
     "text": [
      "[1191]\tvalidation_0-merror:0.513233\n"
     ]
    },
    {
     "name": "stdout",
     "output_type": "stream",
     "text": [
      "[1192]\tvalidation_0-merror:0.51321\n"
     ]
    },
    {
     "name": "stdout",
     "output_type": "stream",
     "text": [
      "[1193]\tvalidation_0-merror:0.513224\n"
     ]
    },
    {
     "name": "stdout",
     "output_type": "stream",
     "text": [
      "[1194]\tvalidation_0-merror:0.513205\n"
     ]
    },
    {
     "name": "stdout",
     "output_type": "stream",
     "text": [
      "[1195]\tvalidation_0-merror:0.513239\n"
     ]
    },
    {
     "name": "stdout",
     "output_type": "stream",
     "text": [
      "[1196]\tvalidation_0-merror:0.513262\n"
     ]
    },
    {
     "name": "stdout",
     "output_type": "stream",
     "text": [
      "[1197]\tvalidation_0-merror:0.513279\n"
     ]
    },
    {
     "name": "stdout",
     "output_type": "stream",
     "text": [
      "[1198]\tvalidation_0-merror:0.513214\n"
     ]
    },
    {
     "name": "stdout",
     "output_type": "stream",
     "text": [
      "[1199]\tvalidation_0-merror:0.513247\n"
     ]
    },
    {
     "name": "stdout",
     "output_type": "stream",
     "text": [
      "[1200]\tvalidation_0-merror:0.513189\n"
     ]
    },
    {
     "name": "stdout",
     "output_type": "stream",
     "text": [
      "[1201]\tvalidation_0-merror:0.513159\n"
     ]
    },
    {
     "name": "stdout",
     "output_type": "stream",
     "text": [
      "[1202]\tvalidation_0-merror:0.513114\n"
     ]
    },
    {
     "name": "stdout",
     "output_type": "stream",
     "text": [
      "[1203]\tvalidation_0-merror:0.513103\n"
     ]
    },
    {
     "name": "stdout",
     "output_type": "stream",
     "text": [
      "[1204]\tvalidation_0-merror:0.513088\n"
     ]
    },
    {
     "name": "stdout",
     "output_type": "stream",
     "text": [
      "[1205]\tvalidation_0-merror:0.513091\n"
     ]
    },
    {
     "name": "stdout",
     "output_type": "stream",
     "text": [
      "[1206]\tvalidation_0-merror:0.513047\n"
     ]
    },
    {
     "name": "stdout",
     "output_type": "stream",
     "text": [
      "[1207]\tvalidation_0-merror:0.513005\n"
     ]
    },
    {
     "name": "stdout",
     "output_type": "stream",
     "text": [
      "[1208]\tvalidation_0-merror:0.513045\n"
     ]
    },
    {
     "name": "stdout",
     "output_type": "stream",
     "text": [
      "[1209]\tvalidation_0-merror:0.513047\n"
     ]
    },
    {
     "name": "stdout",
     "output_type": "stream",
     "text": [
      "[1210]\tvalidation_0-merror:0.513009\n"
     ]
    },
    {
     "name": "stdout",
     "output_type": "stream",
     "text": [
      "[1211]\tvalidation_0-merror:0.513028\n"
     ]
    },
    {
     "name": "stdout",
     "output_type": "stream",
     "text": [
      "[1212]\tvalidation_0-merror:0.51299\n"
     ]
    },
    {
     "name": "stdout",
     "output_type": "stream",
     "text": [
      "[1213]\tvalidation_0-merror:0.513044\n"
     ]
    },
    {
     "name": "stdout",
     "output_type": "stream",
     "text": [
      "[1214]\tvalidation_0-merror:0.513055\n"
     ]
    },
    {
     "name": "stdout",
     "output_type": "stream",
     "text": [
      "[1215]\tvalidation_0-merror:0.513049\n"
     ]
    },
    {
     "name": "stdout",
     "output_type": "stream",
     "text": [
      "[1216]\tvalidation_0-merror:0.513034\n"
     ]
    },
    {
     "name": "stdout",
     "output_type": "stream",
     "text": [
      "[1217]\tvalidation_0-merror:0.513061\n"
     ]
    },
    {
     "name": "stdout",
     "output_type": "stream",
     "text": [
      "[1218]\tvalidation_0-merror:0.513053\n"
     ]
    },
    {
     "name": "stdout",
     "output_type": "stream",
     "text": [
      "[1219]\tvalidation_0-merror:0.513091\n"
     ]
    },
    {
     "name": "stdout",
     "output_type": "stream",
     "text": [
      "[1220]\tvalidation_0-merror:0.513003\n"
     ]
    },
    {
     "name": "stdout",
     "output_type": "stream",
     "text": [
      "[1221]\tvalidation_0-merror:0.512996\n"
     ]
    },
    {
     "name": "stdout",
     "output_type": "stream",
     "text": [
      "[1222]\tvalidation_0-merror:0.512969\n"
     ]
    },
    {
     "name": "stdout",
     "output_type": "stream",
     "text": [
      "[1223]\tvalidation_0-merror:0.512992\n"
     ]
    },
    {
     "name": "stdout",
     "output_type": "stream",
     "text": [
      "[1224]\tvalidation_0-merror:0.512996\n"
     ]
    },
    {
     "name": "stdout",
     "output_type": "stream",
     "text": [
      "[1225]\tvalidation_0-merror:0.513007\n"
     ]
    },
    {
     "name": "stdout",
     "output_type": "stream",
     "text": [
      "[1226]\tvalidation_0-merror:0.512904\n"
     ]
    },
    {
     "name": "stdout",
     "output_type": "stream",
     "text": [
      "[1227]\tvalidation_0-merror:0.512928\n"
     ]
    },
    {
     "name": "stdout",
     "output_type": "stream",
     "text": [
      "[1228]\tvalidation_0-merror:0.512915\n"
     ]
    },
    {
     "name": "stdout",
     "output_type": "stream",
     "text": [
      "[1229]\tvalidation_0-merror:0.512946\n"
     ]
    },
    {
     "name": "stdout",
     "output_type": "stream",
     "text": [
      "[1230]\tvalidation_0-merror:0.512976\n"
     ]
    },
    {
     "name": "stdout",
     "output_type": "stream",
     "text": [
      "[1231]\tvalidation_0-merror:0.512953\n"
     ]
    },
    {
     "name": "stdout",
     "output_type": "stream",
     "text": [
      "[1232]\tvalidation_0-merror:0.512898\n"
     ]
    },
    {
     "name": "stdout",
     "output_type": "stream",
     "text": [
      "[1233]\tvalidation_0-merror:0.512932\n"
     ]
    },
    {
     "name": "stdout",
     "output_type": "stream",
     "text": [
      "[1234]\tvalidation_0-merror:0.512946\n"
     ]
    },
    {
     "name": "stdout",
     "output_type": "stream",
     "text": [
      "[1235]\tvalidation_0-merror:0.512975\n"
     ]
    },
    {
     "name": "stdout",
     "output_type": "stream",
     "text": [
      "[1236]\tvalidation_0-merror:0.512919\n"
     ]
    },
    {
     "name": "stdout",
     "output_type": "stream",
     "text": [
      "[1237]\tvalidation_0-merror:0.5129\n"
     ]
    },
    {
     "name": "stdout",
     "output_type": "stream",
     "text": [
      "[1238]\tvalidation_0-merror:0.512873\n"
     ]
    },
    {
     "name": "stdout",
     "output_type": "stream",
     "text": [
      "[1239]\tvalidation_0-merror:0.512827\n"
     ]
    },
    {
     "name": "stdout",
     "output_type": "stream",
     "text": [
      "[1240]\tvalidation_0-merror:0.51284\n"
     ]
    },
    {
     "name": "stdout",
     "output_type": "stream",
     "text": [
      "[1241]\tvalidation_0-merror:0.512812\n"
     ]
    },
    {
     "name": "stdout",
     "output_type": "stream",
     "text": [
      "[1242]\tvalidation_0-merror:0.512823\n"
     ]
    },
    {
     "name": "stdout",
     "output_type": "stream",
     "text": [
      "[1243]\tvalidation_0-merror:0.512798\n"
     ]
    },
    {
     "name": "stdout",
     "output_type": "stream",
     "text": [
      "[1244]\tvalidation_0-merror:0.512817\n"
     ]
    },
    {
     "name": "stdout",
     "output_type": "stream",
     "text": [
      "[1245]\tvalidation_0-merror:0.512812\n"
     ]
    },
    {
     "name": "stdout",
     "output_type": "stream",
     "text": [
      "[1246]\tvalidation_0-merror:0.512836\n"
     ]
    },
    {
     "name": "stdout",
     "output_type": "stream",
     "text": [
      "[1247]\tvalidation_0-merror:0.512821\n"
     ]
    },
    {
     "name": "stdout",
     "output_type": "stream",
     "text": [
      "[1248]\tvalidation_0-merror:0.512846\n"
     ]
    },
    {
     "name": "stdout",
     "output_type": "stream",
     "text": [
      "[1249]\tvalidation_0-merror:0.512836\n"
     ]
    },
    {
     "name": "stdout",
     "output_type": "stream",
     "text": [
      "[1250]\tvalidation_0-merror:0.512844\n"
     ]
    },
    {
     "name": "stdout",
     "output_type": "stream",
     "text": [
      "[1251]\tvalidation_0-merror:0.51289\n"
     ]
    },
    {
     "name": "stdout",
     "output_type": "stream",
     "text": [
      "[1252]\tvalidation_0-merror:0.512829\n"
     ]
    },
    {
     "name": "stdout",
     "output_type": "stream",
     "text": [
      "[1253]\tvalidation_0-merror:0.512785\n"
     ]
    },
    {
     "name": "stdout",
     "output_type": "stream",
     "text": [
      "[1254]\tvalidation_0-merror:0.512781\n"
     ]
    },
    {
     "name": "stdout",
     "output_type": "stream",
     "text": [
      "[1255]\tvalidation_0-merror:0.512785\n"
     ]
    },
    {
     "name": "stdout",
     "output_type": "stream",
     "text": [
      "[1256]\tvalidation_0-merror:0.512775\n"
     ]
    },
    {
     "name": "stdout",
     "output_type": "stream",
     "text": [
      "[1257]\tvalidation_0-merror:0.512697\n"
     ]
    },
    {
     "name": "stdout",
     "output_type": "stream",
     "text": [
      "[1258]\tvalidation_0-merror:0.512624\n"
     ]
    },
    {
     "name": "stdout",
     "output_type": "stream",
     "text": [
      "[1259]\tvalidation_0-merror:0.512589\n"
     ]
    },
    {
     "name": "stdout",
     "output_type": "stream",
     "text": [
      "[1260]\tvalidation_0-merror:0.512587\n"
     ]
    },
    {
     "name": "stdout",
     "output_type": "stream",
     "text": [
      "[1261]\tvalidation_0-merror:0.51256\n"
     ]
    },
    {
     "name": "stdout",
     "output_type": "stream",
     "text": [
      "[1262]\tvalidation_0-merror:0.512532\n"
     ]
    },
    {
     "name": "stdout",
     "output_type": "stream",
     "text": [
      "[1263]\tvalidation_0-merror:0.512499\n"
     ]
    },
    {
     "name": "stdout",
     "output_type": "stream",
     "text": [
      "[1264]\tvalidation_0-merror:0.512465\n"
     ]
    },
    {
     "name": "stdout",
     "output_type": "stream",
     "text": [
      "[1265]\tvalidation_0-merror:0.512457\n"
     ]
    },
    {
     "name": "stdout",
     "output_type": "stream",
     "text": [
      "[1266]\tvalidation_0-merror:0.512336\n"
     ]
    },
    {
     "name": "stdout",
     "output_type": "stream",
     "text": [
      "[1267]\tvalidation_0-merror:0.512298\n"
     ]
    },
    {
     "name": "stdout",
     "output_type": "stream",
     "text": [
      "[1268]\tvalidation_0-merror:0.512302\n"
     ]
    },
    {
     "name": "stdout",
     "output_type": "stream",
     "text": [
      "[1269]\tvalidation_0-merror:0.512336\n"
     ]
    },
    {
     "name": "stdout",
     "output_type": "stream",
     "text": [
      "[1270]\tvalidation_0-merror:0.512304\n"
     ]
    },
    {
     "name": "stdout",
     "output_type": "stream",
     "text": [
      "[1271]\tvalidation_0-merror:0.512306\n"
     ]
    },
    {
     "name": "stdout",
     "output_type": "stream",
     "text": [
      "[1272]\tvalidation_0-merror:0.512315\n"
     ]
    },
    {
     "name": "stdout",
     "output_type": "stream",
     "text": [
      "[1273]\tvalidation_0-merror:0.512309\n"
     ]
    },
    {
     "name": "stdout",
     "output_type": "stream",
     "text": [
      "[1274]\tvalidation_0-merror:0.512361\n"
     ]
    },
    {
     "name": "stdout",
     "output_type": "stream",
     "text": [
      "[1275]\tvalidation_0-merror:0.512296\n"
     ]
    },
    {
     "name": "stdout",
     "output_type": "stream",
     "text": [
      "[1276]\tvalidation_0-merror:0.512281\n"
     ]
    },
    {
     "name": "stdout",
     "output_type": "stream",
     "text": [
      "[1277]\tvalidation_0-merror:0.512231\n"
     ]
    },
    {
     "name": "stdout",
     "output_type": "stream",
     "text": [
      "[1278]\tvalidation_0-merror:0.512246\n"
     ]
    },
    {
     "name": "stdout",
     "output_type": "stream",
     "text": [
      "[1279]\tvalidation_0-merror:0.512223\n"
     ]
    },
    {
     "name": "stdout",
     "output_type": "stream",
     "text": [
      "[1280]\tvalidation_0-merror:0.51216\n"
     ]
    },
    {
     "name": "stdout",
     "output_type": "stream",
     "text": [
      "[1281]\tvalidation_0-merror:0.512177\n"
     ]
    },
    {
     "name": "stdout",
     "output_type": "stream",
     "text": [
      "[1282]\tvalidation_0-merror:0.512169\n"
     ]
    },
    {
     "name": "stdout",
     "output_type": "stream",
     "text": [
      "[1283]\tvalidation_0-merror:0.512192\n"
     ]
    },
    {
     "name": "stdout",
     "output_type": "stream",
     "text": [
      "[1284]\tvalidation_0-merror:0.512208\n"
     ]
    },
    {
     "name": "stdout",
     "output_type": "stream",
     "text": [
      "[1285]\tvalidation_0-merror:0.512162\n"
     ]
    },
    {
     "name": "stdout",
     "output_type": "stream",
     "text": [
      "[1286]\tvalidation_0-merror:0.512108\n"
     ]
    },
    {
     "name": "stdout",
     "output_type": "stream",
     "text": [
      "[1287]\tvalidation_0-merror:0.512097\n"
     ]
    },
    {
     "name": "stdout",
     "output_type": "stream",
     "text": [
      "[1288]\tvalidation_0-merror:0.512068\n"
     ]
    },
    {
     "name": "stdout",
     "output_type": "stream",
     "text": [
      "[1289]\tvalidation_0-merror:0.512033\n"
     ]
    },
    {
     "name": "stdout",
     "output_type": "stream",
     "text": [
      "[1290]\tvalidation_0-merror:0.512018\n"
     ]
    },
    {
     "name": "stdout",
     "output_type": "stream",
     "text": [
      "[1291]\tvalidation_0-merror:0.511997\n"
     ]
    },
    {
     "name": "stdout",
     "output_type": "stream",
     "text": [
      "[1292]\tvalidation_0-merror:0.511972\n"
     ]
    },
    {
     "name": "stdout",
     "output_type": "stream",
     "text": [
      "[1293]\tvalidation_0-merror:0.511913\n"
     ]
    },
    {
     "name": "stdout",
     "output_type": "stream",
     "text": [
      "[1294]\tvalidation_0-merror:0.511936\n"
     ]
    },
    {
     "name": "stdout",
     "output_type": "stream",
     "text": [
      "[1295]\tvalidation_0-merror:0.511867\n"
     ]
    },
    {
     "name": "stdout",
     "output_type": "stream",
     "text": [
      "[1296]\tvalidation_0-merror:0.511824\n"
     ]
    },
    {
     "name": "stdout",
     "output_type": "stream",
     "text": [
      "[1297]\tvalidation_0-merror:0.511842\n"
     ]
    },
    {
     "name": "stdout",
     "output_type": "stream",
     "text": [
      "[1298]\tvalidation_0-merror:0.511803\n"
     ]
    },
    {
     "name": "stdout",
     "output_type": "stream",
     "text": [
      "[1299]\tvalidation_0-merror:0.511817\n"
     ]
    },
    {
     "name": "stdout",
     "output_type": "stream",
     "text": [
      "[1300]\tvalidation_0-merror:0.511688\n"
     ]
    },
    {
     "name": "stdout",
     "output_type": "stream",
     "text": [
      "[1301]\tvalidation_0-merror:0.511642\n"
     ]
    },
    {
     "name": "stdout",
     "output_type": "stream",
     "text": [
      "[1302]\tvalidation_0-merror:0.511593\n"
     ]
    },
    {
     "name": "stdout",
     "output_type": "stream",
     "text": [
      "[1303]\tvalidation_0-merror:0.511585\n"
     ]
    },
    {
     "name": "stdout",
     "output_type": "stream",
     "text": [
      "[1304]\tvalidation_0-merror:0.511571\n"
     ]
    },
    {
     "name": "stdout",
     "output_type": "stream",
     "text": [
      "[1305]\tvalidation_0-merror:0.511606\n"
     ]
    },
    {
     "name": "stdout",
     "output_type": "stream",
     "text": [
      "[1306]\tvalidation_0-merror:0.511621\n"
     ]
    },
    {
     "name": "stdout",
     "output_type": "stream",
     "text": [
      "[1307]\tvalidation_0-merror:0.511558\n"
     ]
    },
    {
     "name": "stdout",
     "output_type": "stream",
     "text": [
      "[1308]\tvalidation_0-merror:0.511497\n"
     ]
    },
    {
     "name": "stdout",
     "output_type": "stream",
     "text": [
      "[1309]\tvalidation_0-merror:0.511512\n"
     ]
    },
    {
     "name": "stdout",
     "output_type": "stream",
     "text": [
      "[1310]\tvalidation_0-merror:0.511531\n"
     ]
    },
    {
     "name": "stdout",
     "output_type": "stream",
     "text": [
      "[1311]\tvalidation_0-merror:0.511491\n"
     ]
    },
    {
     "name": "stdout",
     "output_type": "stream",
     "text": [
      "[1312]\tvalidation_0-merror:0.511458\n"
     ]
    },
    {
     "name": "stdout",
     "output_type": "stream",
     "text": [
      "[1313]\tvalidation_0-merror:0.51146\n"
     ]
    },
    {
     "name": "stdout",
     "output_type": "stream",
     "text": [
      "[1314]\tvalidation_0-merror:0.511439\n"
     ]
    },
    {
     "name": "stdout",
     "output_type": "stream",
     "text": [
      "[1315]\tvalidation_0-merror:0.511487\n"
     ]
    },
    {
     "name": "stdout",
     "output_type": "stream",
     "text": [
      "[1316]\tvalidation_0-merror:0.51151\n"
     ]
    },
    {
     "name": "stdout",
     "output_type": "stream",
     "text": [
      "[1317]\tvalidation_0-merror:0.511516\n"
     ]
    },
    {
     "name": "stdout",
     "output_type": "stream",
     "text": [
      "[1318]\tvalidation_0-merror:0.511508\n"
     ]
    },
    {
     "name": "stdout",
     "output_type": "stream",
     "text": [
      "[1319]\tvalidation_0-merror:0.511529\n"
     ]
    },
    {
     "name": "stdout",
     "output_type": "stream",
     "text": [
      "[1320]\tvalidation_0-merror:0.511508\n"
     ]
    },
    {
     "name": "stdout",
     "output_type": "stream",
     "text": [
      "[1321]\tvalidation_0-merror:0.511497\n"
     ]
    },
    {
     "name": "stdout",
     "output_type": "stream",
     "text": [
      "[1322]\tvalidation_0-merror:0.511468\n"
     ]
    },
    {
     "name": "stdout",
     "output_type": "stream",
     "text": [
      "[1323]\tvalidation_0-merror:0.51146\n"
     ]
    },
    {
     "name": "stdout",
     "output_type": "stream",
     "text": [
      "[1324]\tvalidation_0-merror:0.511462\n"
     ]
    },
    {
     "name": "stdout",
     "output_type": "stream",
     "text": [
      "[1325]\tvalidation_0-merror:0.511495\n"
     ]
    },
    {
     "name": "stdout",
     "output_type": "stream",
     "text": [
      "[1326]\tvalidation_0-merror:0.511441\n"
     ]
    },
    {
     "name": "stdout",
     "output_type": "stream",
     "text": [
      "[1327]\tvalidation_0-merror:0.511422\n"
     ]
    },
    {
     "name": "stdout",
     "output_type": "stream",
     "text": [
      "[1328]\tvalidation_0-merror:0.511395\n"
     ]
    },
    {
     "name": "stdout",
     "output_type": "stream",
     "text": [
      "[1329]\tvalidation_0-merror:0.511364\n"
     ]
    },
    {
     "name": "stdout",
     "output_type": "stream",
     "text": [
      "[1330]\tvalidation_0-merror:0.511313\n"
     ]
    },
    {
     "name": "stdout",
     "output_type": "stream",
     "text": [
      "[1331]\tvalidation_0-merror:0.511349\n"
     ]
    },
    {
     "name": "stdout",
     "output_type": "stream",
     "text": [
      "[1332]\tvalidation_0-merror:0.511345\n"
     ]
    },
    {
     "name": "stdout",
     "output_type": "stream",
     "text": [
      "[1333]\tvalidation_0-merror:0.511359\n"
     ]
    },
    {
     "name": "stdout",
     "output_type": "stream",
     "text": [
      "[1334]\tvalidation_0-merror:0.511334\n"
     ]
    },
    {
     "name": "stdout",
     "output_type": "stream",
     "text": [
      "[1335]\tvalidation_0-merror:0.511288\n"
     ]
    },
    {
     "name": "stdout",
     "output_type": "stream",
     "text": [
      "[1336]\tvalidation_0-merror:0.511301\n"
     ]
    },
    {
     "name": "stdout",
     "output_type": "stream",
     "text": [
      "[1337]\tvalidation_0-merror:0.51124\n"
     ]
    },
    {
     "name": "stdout",
     "output_type": "stream",
     "text": [
      "[1338]\tvalidation_0-merror:0.51123\n"
     ]
    },
    {
     "name": "stdout",
     "output_type": "stream",
     "text": [
      "[1339]\tvalidation_0-merror:0.511165\n"
     ]
    },
    {
     "name": "stdout",
     "output_type": "stream",
     "text": [
      "[1340]\tvalidation_0-merror:0.511121\n"
     ]
    },
    {
     "name": "stdout",
     "output_type": "stream",
     "text": [
      "[1341]\tvalidation_0-merror:0.511109\n"
     ]
    },
    {
     "name": "stdout",
     "output_type": "stream",
     "text": [
      "[1342]\tvalidation_0-merror:0.511058\n"
     ]
    },
    {
     "name": "stdout",
     "output_type": "stream",
     "text": [
      "[1343]\tvalidation_0-merror:0.510996\n"
     ]
    },
    {
     "name": "stdout",
     "output_type": "stream",
     "text": [
      "[1344]\tvalidation_0-merror:0.510971\n"
     ]
    },
    {
     "name": "stdout",
     "output_type": "stream",
     "text": [
      "[1345]\tvalidation_0-merror:0.510947\n"
     ]
    },
    {
     "name": "stdout",
     "output_type": "stream",
     "text": [
      "[1346]\tvalidation_0-merror:0.511006\n"
     ]
    },
    {
     "name": "stdout",
     "output_type": "stream",
     "text": [
      "[1347]\tvalidation_0-merror:0.510993\n"
     ]
    },
    {
     "name": "stdout",
     "output_type": "stream",
     "text": [
      "[1348]\tvalidation_0-merror:0.510981\n"
     ]
    },
    {
     "name": "stdout",
     "output_type": "stream",
     "text": [
      "[1349]\tvalidation_0-merror:0.510983\n"
     ]
    },
    {
     "name": "stdout",
     "output_type": "stream",
     "text": [
      "[1350]\tvalidation_0-merror:0.511018\n"
     ]
    },
    {
     "name": "stdout",
     "output_type": "stream",
     "text": [
      "[1351]\tvalidation_0-merror:0.511048\n"
     ]
    },
    {
     "name": "stdout",
     "output_type": "stream",
     "text": [
      "[1352]\tvalidation_0-merror:0.511054\n"
     ]
    },
    {
     "name": "stdout",
     "output_type": "stream",
     "text": [
      "[1353]\tvalidation_0-merror:0.511064\n"
     ]
    },
    {
     "name": "stdout",
     "output_type": "stream",
     "text": [
      "[1354]\tvalidation_0-merror:0.511056\n"
     ]
    },
    {
     "name": "stdout",
     "output_type": "stream",
     "text": [
      "[1355]\tvalidation_0-merror:0.511037\n"
     ]
    },
    {
     "name": "stdout",
     "output_type": "stream",
     "text": [
      "[1356]\tvalidation_0-merror:0.511041\n"
     ]
    },
    {
     "name": "stdout",
     "output_type": "stream",
     "text": [
      "[1357]\tvalidation_0-merror:0.51109\n"
     ]
    },
    {
     "name": "stdout",
     "output_type": "stream",
     "text": [
      "[1358]\tvalidation_0-merror:0.511064\n"
     ]
    },
    {
     "name": "stdout",
     "output_type": "stream",
     "text": [
      "[1359]\tvalidation_0-merror:0.511064\n"
     ]
    },
    {
     "name": "stdout",
     "output_type": "stream",
     "text": [
      "[1360]\tvalidation_0-merror:0.511039\n"
     ]
    },
    {
     "name": "stdout",
     "output_type": "stream",
     "text": [
      "[1361]\tvalidation_0-merror:0.511021\n"
     ]
    },
    {
     "name": "stdout",
     "output_type": "stream",
     "text": [
      "[1362]\tvalidation_0-merror:0.510973\n"
     ]
    },
    {
     "name": "stdout",
     "output_type": "stream",
     "text": [
      "[1363]\tvalidation_0-merror:0.510983\n"
     ]
    },
    {
     "name": "stdout",
     "output_type": "stream",
     "text": [
      "[1364]\tvalidation_0-merror:0.510979\n"
     ]
    },
    {
     "name": "stdout",
     "output_type": "stream",
     "text": [
      "[1365]\tvalidation_0-merror:0.511\n"
     ]
    },
    {
     "name": "stdout",
     "output_type": "stream",
     "text": [
      "[1366]\tvalidation_0-merror:0.510977\n"
     ]
    },
    {
     "name": "stdout",
     "output_type": "stream",
     "text": [
      "[1367]\tvalidation_0-merror:0.511025\n"
     ]
    },
    {
     "name": "stdout",
     "output_type": "stream",
     "text": [
      "[1368]\tvalidation_0-merror:0.51105\n"
     ]
    },
    {
     "name": "stdout",
     "output_type": "stream",
     "text": [
      "[1369]\tvalidation_0-merror:0.511079\n"
     ]
    },
    {
     "name": "stdout",
     "output_type": "stream",
     "text": [
      "[1370]\tvalidation_0-merror:0.511125\n"
     ]
    },
    {
     "name": "stdout",
     "output_type": "stream",
     "text": [
      "[1371]\tvalidation_0-merror:0.511121\n"
     ]
    },
    {
     "name": "stdout",
     "output_type": "stream",
     "text": [
      "[1372]\tvalidation_0-merror:0.511085\n"
     ]
    },
    {
     "name": "stdout",
     "output_type": "stream",
     "text": [
      "[1373]\tvalidation_0-merror:0.510989\n"
     ]
    },
    {
     "name": "stdout",
     "output_type": "stream",
     "text": [
      "[1374]\tvalidation_0-merror:0.510962\n"
     ]
    },
    {
     "name": "stdout",
     "output_type": "stream",
     "text": [
      "[1375]\tvalidation_0-merror:0.510947\n"
     ]
    },
    {
     "name": "stdout",
     "output_type": "stream",
     "text": [
      "[1376]\tvalidation_0-merror:0.51095\n"
     ]
    },
    {
     "name": "stdout",
     "output_type": "stream",
     "text": [
      "[1377]\tvalidation_0-merror:0.510947\n"
     ]
    },
    {
     "name": "stdout",
     "output_type": "stream",
     "text": [
      "[1378]\tvalidation_0-merror:0.510918\n"
     ]
    },
    {
     "name": "stdout",
     "output_type": "stream",
     "text": [
      "[1379]\tvalidation_0-merror:0.510895\n"
     ]
    },
    {
     "name": "stdout",
     "output_type": "stream",
     "text": [
      "[1380]\tvalidation_0-merror:0.510901\n"
     ]
    },
    {
     "name": "stdout",
     "output_type": "stream",
     "text": [
      "[1381]\tvalidation_0-merror:0.510925\n"
     ]
    },
    {
     "name": "stdout",
     "output_type": "stream",
     "text": [
      "[1382]\tvalidation_0-merror:0.510876\n"
     ]
    },
    {
     "name": "stdout",
     "output_type": "stream",
     "text": [
      "[1383]\tvalidation_0-merror:0.510868\n"
     ]
    },
    {
     "name": "stdout",
     "output_type": "stream",
     "text": [
      "[1384]\tvalidation_0-merror:0.510864\n"
     ]
    },
    {
     "name": "stdout",
     "output_type": "stream",
     "text": [
      "[1385]\tvalidation_0-merror:0.510778\n"
     ]
    },
    {
     "name": "stdout",
     "output_type": "stream",
     "text": [
      "[1386]\tvalidation_0-merror:0.510734\n"
     ]
    },
    {
     "name": "stdout",
     "output_type": "stream",
     "text": [
      "[1387]\tvalidation_0-merror:0.510709\n"
     ]
    },
    {
     "name": "stdout",
     "output_type": "stream",
     "text": [
      "[1388]\tvalidation_0-merror:0.510699\n"
     ]
    },
    {
     "name": "stdout",
     "output_type": "stream",
     "text": [
      "[1389]\tvalidation_0-merror:0.51069\n"
     ]
    },
    {
     "name": "stdout",
     "output_type": "stream",
     "text": [
      "[1390]\tvalidation_0-merror:0.510663\n"
     ]
    },
    {
     "name": "stdout",
     "output_type": "stream",
     "text": [
      "[1391]\tvalidation_0-merror:0.510718\n"
     ]
    },
    {
     "name": "stdout",
     "output_type": "stream",
     "text": [
      "[1392]\tvalidation_0-merror:0.510703\n"
     ]
    },
    {
     "name": "stdout",
     "output_type": "stream",
     "text": [
      "[1393]\tvalidation_0-merror:0.510661\n"
     ]
    },
    {
     "name": "stdout",
     "output_type": "stream",
     "text": [
      "[1394]\tvalidation_0-merror:0.510646\n"
     ]
    },
    {
     "name": "stdout",
     "output_type": "stream",
     "text": [
      "[1395]\tvalidation_0-merror:0.510648\n"
     ]
    },
    {
     "name": "stdout",
     "output_type": "stream",
     "text": [
      "[1396]\tvalidation_0-merror:0.510625\n"
     ]
    },
    {
     "name": "stdout",
     "output_type": "stream",
     "text": [
      "[1397]\tvalidation_0-merror:0.51063\n"
     ]
    },
    {
     "name": "stdout",
     "output_type": "stream",
     "text": [
      "[1398]\tvalidation_0-merror:0.510657\n"
     ]
    },
    {
     "name": "stdout",
     "output_type": "stream",
     "text": [
      "[1399]\tvalidation_0-merror:0.510669\n"
     ]
    },
    {
     "name": "stdout",
     "output_type": "stream",
     "text": [
      "[1400]\tvalidation_0-merror:0.510715\n"
     ]
    },
    {
     "name": "stdout",
     "output_type": "stream",
     "text": [
      "[1401]\tvalidation_0-merror:0.510713\n"
     ]
    },
    {
     "name": "stdout",
     "output_type": "stream",
     "text": [
      "[1402]\tvalidation_0-merror:0.510713\n"
     ]
    },
    {
     "name": "stdout",
     "output_type": "stream",
     "text": [
      "[1403]\tvalidation_0-merror:0.510709\n"
     ]
    },
    {
     "name": "stdout",
     "output_type": "stream",
     "text": [
      "[1404]\tvalidation_0-merror:0.510738\n"
     ]
    },
    {
     "name": "stdout",
     "output_type": "stream",
     "text": [
      "[1405]\tvalidation_0-merror:0.510705\n"
     ]
    },
    {
     "name": "stdout",
     "output_type": "stream",
     "text": [
      "[1406]\tvalidation_0-merror:0.510738\n"
     ]
    },
    {
     "name": "stdout",
     "output_type": "stream",
     "text": [
      "[1407]\tvalidation_0-merror:0.510711\n"
     ]
    },
    {
     "name": "stdout",
     "output_type": "stream",
     "text": [
      "[1408]\tvalidation_0-merror:0.510697\n"
     ]
    },
    {
     "name": "stdout",
     "output_type": "stream",
     "text": [
      "[1409]\tvalidation_0-merror:0.510667\n"
     ]
    },
    {
     "name": "stdout",
     "output_type": "stream",
     "text": [
      "[1410]\tvalidation_0-merror:0.510672\n"
     ]
    },
    {
     "name": "stdout",
     "output_type": "stream",
     "text": [
      "[1411]\tvalidation_0-merror:0.510663\n"
     ]
    },
    {
     "name": "stdout",
     "output_type": "stream",
     "text": [
      "[1412]\tvalidation_0-merror:0.510709\n"
     ]
    },
    {
     "name": "stdout",
     "output_type": "stream",
     "text": [
      "[1413]\tvalidation_0-merror:0.510699\n"
     ]
    },
    {
     "name": "stdout",
     "output_type": "stream",
     "text": [
      "[1414]\tvalidation_0-merror:0.510653\n"
     ]
    },
    {
     "name": "stdout",
     "output_type": "stream",
     "text": [
      "[1415]\tvalidation_0-merror:0.510611\n"
     ]
    },
    {
     "name": "stdout",
     "output_type": "stream",
     "text": [
      "[1416]\tvalidation_0-merror:0.510665\n"
     ]
    },
    {
     "name": "stdout",
     "output_type": "stream",
     "text": [
      "[1417]\tvalidation_0-merror:0.51069\n"
     ]
    },
    {
     "name": "stdout",
     "output_type": "stream",
     "text": [
      "[1418]\tvalidation_0-merror:0.510682\n"
     ]
    },
    {
     "name": "stdout",
     "output_type": "stream",
     "text": [
      "[1419]\tvalidation_0-merror:0.510636\n"
     ]
    },
    {
     "name": "stdout",
     "output_type": "stream",
     "text": [
      "[1420]\tvalidation_0-merror:0.510607\n"
     ]
    },
    {
     "name": "stdout",
     "output_type": "stream",
     "text": [
      "[1421]\tvalidation_0-merror:0.510573\n"
     ]
    },
    {
     "name": "stdout",
     "output_type": "stream",
     "text": [
      "[1422]\tvalidation_0-merror:0.510534\n"
     ]
    },
    {
     "name": "stdout",
     "output_type": "stream",
     "text": [
      "[1423]\tvalidation_0-merror:0.510498\n"
     ]
    },
    {
     "name": "stdout",
     "output_type": "stream",
     "text": [
      "[1424]\tvalidation_0-merror:0.510452\n"
     ]
    },
    {
     "name": "stdout",
     "output_type": "stream",
     "text": [
      "[1425]\tvalidation_0-merror:0.510487\n"
     ]
    },
    {
     "name": "stdout",
     "output_type": "stream",
     "text": [
      "[1426]\tvalidation_0-merror:0.510452\n"
     ]
    },
    {
     "name": "stdout",
     "output_type": "stream",
     "text": [
      "[1427]\tvalidation_0-merror:0.510423\n"
     ]
    },
    {
     "name": "stdout",
     "output_type": "stream",
     "text": [
      "[1428]\tvalidation_0-merror:0.510402\n"
     ]
    },
    {
     "name": "stdout",
     "output_type": "stream",
     "text": [
      "[1429]\tvalidation_0-merror:0.510406\n"
     ]
    },
    {
     "name": "stdout",
     "output_type": "stream",
     "text": [
      "[1430]\tvalidation_0-merror:0.510362\n"
     ]
    },
    {
     "name": "stdout",
     "output_type": "stream",
     "text": [
      "[1431]\tvalidation_0-merror:0.510373\n"
     ]
    },
    {
     "name": "stdout",
     "output_type": "stream",
     "text": [
      "[1432]\tvalidation_0-merror:0.510381\n"
     ]
    },
    {
     "name": "stdout",
     "output_type": "stream",
     "text": [
      "[1433]\tvalidation_0-merror:0.510366\n"
     ]
    },
    {
     "name": "stdout",
     "output_type": "stream",
     "text": [
      "[1434]\tvalidation_0-merror:0.510312\n"
     ]
    },
    {
     "name": "stdout",
     "output_type": "stream",
     "text": [
      "[1435]\tvalidation_0-merror:0.510333\n"
     ]
    },
    {
     "name": "stdout",
     "output_type": "stream",
     "text": [
      "[1436]\tvalidation_0-merror:0.510306\n"
     ]
    },
    {
     "name": "stdout",
     "output_type": "stream",
     "text": [
      "[1437]\tvalidation_0-merror:0.510314\n"
     ]
    },
    {
     "name": "stdout",
     "output_type": "stream",
     "text": [
      "[1438]\tvalidation_0-merror:0.510304\n"
     ]
    },
    {
     "name": "stdout",
     "output_type": "stream",
     "text": [
      "[1439]\tvalidation_0-merror:0.510295\n"
     ]
    },
    {
     "name": "stdout",
     "output_type": "stream",
     "text": [
      "[1440]\tvalidation_0-merror:0.510343\n"
     ]
    },
    {
     "name": "stdout",
     "output_type": "stream",
     "text": [
      "[1441]\tvalidation_0-merror:0.510358\n"
     ]
    },
    {
     "name": "stdout",
     "output_type": "stream",
     "text": [
      "[1442]\tvalidation_0-merror:0.510322\n"
     ]
    },
    {
     "name": "stdout",
     "output_type": "stream",
     "text": [
      "[1443]\tvalidation_0-merror:0.510297\n"
     ]
    },
    {
     "name": "stdout",
     "output_type": "stream",
     "text": [
      "[1444]\tvalidation_0-merror:0.510293\n"
     ]
    },
    {
     "name": "stdout",
     "output_type": "stream",
     "text": [
      "[1445]\tvalidation_0-merror:0.510224\n"
     ]
    },
    {
     "name": "stdout",
     "output_type": "stream",
     "text": [
      "[1446]\tvalidation_0-merror:0.510247\n"
     ]
    },
    {
     "name": "stdout",
     "output_type": "stream",
     "text": [
      "[1447]\tvalidation_0-merror:0.510212\n"
     ]
    },
    {
     "name": "stdout",
     "output_type": "stream",
     "text": [
      "[1448]\tvalidation_0-merror:0.510237\n"
     ]
    },
    {
     "name": "stdout",
     "output_type": "stream",
     "text": [
      "[1449]\tvalidation_0-merror:0.510155\n"
     ]
    },
    {
     "name": "stdout",
     "output_type": "stream",
     "text": [
      "[1450]\tvalidation_0-merror:0.510143\n"
     ]
    },
    {
     "name": "stdout",
     "output_type": "stream",
     "text": [
      "[1451]\tvalidation_0-merror:0.510111\n"
     ]
    },
    {
     "name": "stdout",
     "output_type": "stream",
     "text": [
      "[1452]\tvalidation_0-merror:0.51014\n"
     ]
    },
    {
     "name": "stdout",
     "output_type": "stream",
     "text": [
      "[1453]\tvalidation_0-merror:0.510107\n"
     ]
    },
    {
     "name": "stdout",
     "output_type": "stream",
     "text": [
      "[1454]\tvalidation_0-merror:0.510027\n"
     ]
    },
    {
     "name": "stdout",
     "output_type": "stream",
     "text": [
      "[1455]\tvalidation_0-merror:0.510004\n"
     ]
    },
    {
     "name": "stdout",
     "output_type": "stream",
     "text": [
      "[1456]\tvalidation_0-merror:0.510007\n"
     ]
    },
    {
     "name": "stdout",
     "output_type": "stream",
     "text": [
      "[1457]\tvalidation_0-merror:0.510007\n"
     ]
    },
    {
     "name": "stdout",
     "output_type": "stream",
     "text": [
      "[1458]\tvalidation_0-merror:0.510059\n"
     ]
    },
    {
     "name": "stdout",
     "output_type": "stream",
     "text": [
      "[1459]\tvalidation_0-merror:0.510067\n"
     ]
    },
    {
     "name": "stdout",
     "output_type": "stream",
     "text": [
      "[1460]\tvalidation_0-merror:0.51005\n"
     ]
    },
    {
     "name": "stdout",
     "output_type": "stream",
     "text": [
      "[1461]\tvalidation_0-merror:0.510069\n"
     ]
    },
    {
     "name": "stdout",
     "output_type": "stream",
     "text": [
      "[1462]\tvalidation_0-merror:0.51005\n"
     ]
    },
    {
     "name": "stdout",
     "output_type": "stream",
     "text": [
      "[1463]\tvalidation_0-merror:0.510059\n"
     ]
    },
    {
     "name": "stdout",
     "output_type": "stream",
     "text": [
      "[1464]\tvalidation_0-merror:0.51008\n"
     ]
    },
    {
     "name": "stdout",
     "output_type": "stream",
     "text": [
      "[1465]\tvalidation_0-merror:0.510094\n"
     ]
    },
    {
     "name": "stdout",
     "output_type": "stream",
     "text": [
      "[1466]\tvalidation_0-merror:0.510126\n"
     ]
    },
    {
     "name": "stdout",
     "output_type": "stream",
     "text": [
      "[1467]\tvalidation_0-merror:0.510126\n"
     ]
    },
    {
     "name": "stdout",
     "output_type": "stream",
     "text": [
      "[1468]\tvalidation_0-merror:0.510099\n"
     ]
    },
    {
     "name": "stdout",
     "output_type": "stream",
     "text": [
      "[1469]\tvalidation_0-merror:0.510071\n"
     ]
    },
    {
     "name": "stdout",
     "output_type": "stream",
     "text": [
      "[1470]\tvalidation_0-merror:0.510109\n"
     ]
    },
    {
     "name": "stdout",
     "output_type": "stream",
     "text": [
      "[1471]\tvalidation_0-merror:0.510097\n"
     ]
    },
    {
     "name": "stdout",
     "output_type": "stream",
     "text": [
      "[1472]\tvalidation_0-merror:0.510067\n"
     ]
    },
    {
     "name": "stdout",
     "output_type": "stream",
     "text": [
      "[1473]\tvalidation_0-merror:0.510034\n"
     ]
    },
    {
     "name": "stdout",
     "output_type": "stream",
     "text": [
      "[1474]\tvalidation_0-merror:0.51004\n"
     ]
    },
    {
     "name": "stdout",
     "output_type": "stream",
     "text": [
      "[1475]\tvalidation_0-merror:0.510009\n"
     ]
    },
    {
     "name": "stdout",
     "output_type": "stream",
     "text": [
      "[1476]\tvalidation_0-merror:0.50998\n"
     ]
    },
    {
     "name": "stdout",
     "output_type": "stream",
     "text": [
      "[1477]\tvalidation_0-merror:0.509969\n"
     ]
    },
    {
     "name": "stdout",
     "output_type": "stream",
     "text": [
      "[1478]\tvalidation_0-merror:0.509971\n"
     ]
    },
    {
     "name": "stdout",
     "output_type": "stream",
     "text": [
      "[1479]\tvalidation_0-merror:0.509946\n"
     ]
    },
    {
     "name": "stdout",
     "output_type": "stream",
     "text": [
      "[1480]\tvalidation_0-merror:0.509912\n"
     ]
    },
    {
     "name": "stdout",
     "output_type": "stream",
     "text": [
      "[1481]\tvalidation_0-merror:0.509908\n"
     ]
    },
    {
     "name": "stdout",
     "output_type": "stream",
     "text": [
      "[1482]\tvalidation_0-merror:0.509898\n"
     ]
    },
    {
     "name": "stdout",
     "output_type": "stream",
     "text": [
      "[1483]\tvalidation_0-merror:0.509869\n"
     ]
    },
    {
     "name": "stdout",
     "output_type": "stream",
     "text": [
      "[1484]\tvalidation_0-merror:0.509883\n"
     ]
    },
    {
     "name": "stdout",
     "output_type": "stream",
     "text": [
      "[1485]\tvalidation_0-merror:0.509877\n"
     ]
    },
    {
     "name": "stdout",
     "output_type": "stream",
     "text": [
      "[1486]\tvalidation_0-merror:0.509883\n"
     ]
    },
    {
     "name": "stdout",
     "output_type": "stream",
     "text": [
      "[1487]\tvalidation_0-merror:0.509856\n"
     ]
    },
    {
     "name": "stdout",
     "output_type": "stream",
     "text": [
      "[1488]\tvalidation_0-merror:0.509854\n"
     ]
    },
    {
     "name": "stdout",
     "output_type": "stream",
     "text": [
      "[1489]\tvalidation_0-merror:0.509837\n"
     ]
    },
    {
     "name": "stdout",
     "output_type": "stream",
     "text": [
      "[1490]\tvalidation_0-merror:0.509933\n"
     ]
    },
    {
     "name": "stdout",
     "output_type": "stream",
     "text": [
      "[1491]\tvalidation_0-merror:0.509946\n"
     ]
    },
    {
     "name": "stdout",
     "output_type": "stream",
     "text": [
      "[1492]\tvalidation_0-merror:0.509967\n"
     ]
    },
    {
     "name": "stdout",
     "output_type": "stream",
     "text": [
      "[1493]\tvalidation_0-merror:0.509917\n"
     ]
    },
    {
     "name": "stdout",
     "output_type": "stream",
     "text": [
      "[1494]\tvalidation_0-merror:0.509894\n"
     ]
    },
    {
     "name": "stdout",
     "output_type": "stream",
     "text": [
      "[1495]\tvalidation_0-merror:0.509818\n"
     ]
    },
    {
     "name": "stdout",
     "output_type": "stream",
     "text": [
      "[1496]\tvalidation_0-merror:0.509852\n"
     ]
    },
    {
     "name": "stdout",
     "output_type": "stream",
     "text": [
      "[1497]\tvalidation_0-merror:0.509852\n"
     ]
    },
    {
     "name": "stdout",
     "output_type": "stream",
     "text": [
      "[1498]\tvalidation_0-merror:0.509996\n"
     ]
    },
    {
     "name": "stdout",
     "output_type": "stream",
     "text": [
      "[1499]\tvalidation_0-merror:0.509929\n"
     ]
    },
    {
     "name": "stdout",
     "output_type": "stream",
     "text": [
      "[1500]\tvalidation_0-merror:0.50986\n"
     ]
    },
    {
     "name": "stdout",
     "output_type": "stream",
     "text": [
      "[1501]\tvalidation_0-merror:0.509936\n"
     ]
    },
    {
     "name": "stdout",
     "output_type": "stream",
     "text": [
      "[1502]\tvalidation_0-merror:0.509963\n"
     ]
    },
    {
     "name": "stdout",
     "output_type": "stream",
     "text": [
      "[1503]\tvalidation_0-merror:0.509931\n"
     ]
    },
    {
     "name": "stdout",
     "output_type": "stream",
     "text": [
      "[1504]\tvalidation_0-merror:0.509823\n"
     ]
    },
    {
     "name": "stdout",
     "output_type": "stream",
     "text": [
      "[1505]\tvalidation_0-merror:0.509841\n"
     ]
    },
    {
     "name": "stdout",
     "output_type": "stream",
     "text": [
      "[1506]\tvalidation_0-merror:0.509841\n"
     ]
    },
    {
     "name": "stdout",
     "output_type": "stream",
     "text": [
      "[1507]\tvalidation_0-merror:0.50986\n"
     ]
    },
    {
     "name": "stdout",
     "output_type": "stream",
     "text": [
      "[1508]\tvalidation_0-merror:0.509804\n"
     ]
    },
    {
     "name": "stdout",
     "output_type": "stream",
     "text": [
      "[1509]\tvalidation_0-merror:0.509797\n"
     ]
    },
    {
     "name": "stdout",
     "output_type": "stream",
     "text": [
      "[1510]\tvalidation_0-merror:0.509839\n"
     ]
    },
    {
     "name": "stdout",
     "output_type": "stream",
     "text": [
      "[1511]\tvalidation_0-merror:0.509758\n"
     ]
    },
    {
     "name": "stdout",
     "output_type": "stream",
     "text": [
      "[1512]\tvalidation_0-merror:0.50971\n"
     ]
    },
    {
     "name": "stdout",
     "output_type": "stream",
     "text": [
      "[1513]\tvalidation_0-merror:0.509659\n"
     ]
    },
    {
     "name": "stdout",
     "output_type": "stream",
     "text": [
      "[1514]\tvalidation_0-merror:0.509664\n"
     ]
    },
    {
     "name": "stdout",
     "output_type": "stream",
     "text": [
      "[1515]\tvalidation_0-merror:0.509641\n"
     ]
    },
    {
     "name": "stdout",
     "output_type": "stream",
     "text": [
      "[1516]\tvalidation_0-merror:0.509603\n"
     ]
    },
    {
     "name": "stdout",
     "output_type": "stream",
     "text": [
      "[1517]\tvalidation_0-merror:0.509616\n"
     ]
    },
    {
     "name": "stdout",
     "output_type": "stream",
     "text": [
      "[1518]\tvalidation_0-merror:0.509645\n"
     ]
    },
    {
     "name": "stdout",
     "output_type": "stream",
     "text": [
      "[1519]\tvalidation_0-merror:0.509659\n"
     ]
    },
    {
     "name": "stdout",
     "output_type": "stream",
     "text": [
      "[1520]\tvalidation_0-merror:0.509597\n"
     ]
    },
    {
     "name": "stdout",
     "output_type": "stream",
     "text": [
      "[1521]\tvalidation_0-merror:0.509628\n"
     ]
    },
    {
     "name": "stdout",
     "output_type": "stream",
     "text": [
      "[1522]\tvalidation_0-merror:0.509674\n"
     ]
    },
    {
     "name": "stdout",
     "output_type": "stream",
     "text": [
      "[1523]\tvalidation_0-merror:0.509618\n"
     ]
    },
    {
     "name": "stdout",
     "output_type": "stream",
     "text": [
      "[1524]\tvalidation_0-merror:0.509618\n"
     ]
    },
    {
     "name": "stdout",
     "output_type": "stream",
     "text": [
      "[1525]\tvalidation_0-merror:0.509603\n"
     ]
    },
    {
     "name": "stdout",
     "output_type": "stream",
     "text": [
      "[1526]\tvalidation_0-merror:0.509637\n"
     ]
    },
    {
     "name": "stdout",
     "output_type": "stream",
     "text": [
      "[1527]\tvalidation_0-merror:0.509614\n"
     ]
    },
    {
     "name": "stdout",
     "output_type": "stream",
     "text": [
      "[1528]\tvalidation_0-merror:0.509618\n"
     ]
    },
    {
     "name": "stdout",
     "output_type": "stream",
     "text": [
      "[1529]\tvalidation_0-merror:0.509566\n"
     ]
    },
    {
     "name": "stdout",
     "output_type": "stream",
     "text": [
      "[1530]\tvalidation_0-merror:0.509559\n"
     ]
    },
    {
     "name": "stdout",
     "output_type": "stream",
     "text": [
      "[1531]\tvalidation_0-merror:0.509589\n"
     ]
    },
    {
     "name": "stdout",
     "output_type": "stream",
     "text": [
      "[1532]\tvalidation_0-merror:0.509628\n"
     ]
    },
    {
     "name": "stdout",
     "output_type": "stream",
     "text": [
      "[1533]\tvalidation_0-merror:0.509676\n"
     ]
    },
    {
     "name": "stdout",
     "output_type": "stream",
     "text": [
      "[1534]\tvalidation_0-merror:0.509655\n"
     ]
    },
    {
     "name": "stdout",
     "output_type": "stream",
     "text": [
      "[1535]\tvalidation_0-merror:0.509662\n"
     ]
    },
    {
     "name": "stdout",
     "output_type": "stream",
     "text": [
      "[1536]\tvalidation_0-merror:0.509676\n"
     ]
    },
    {
     "name": "stdout",
     "output_type": "stream",
     "text": [
      "[1537]\tvalidation_0-merror:0.509678\n"
     ]
    },
    {
     "name": "stdout",
     "output_type": "stream",
     "text": [
      "[1538]\tvalidation_0-merror:0.509613\n"
     ]
    },
    {
     "name": "stdout",
     "output_type": "stream",
     "text": [
      "[1539]\tvalidation_0-merror:0.509622\n"
     ]
    },
    {
     "name": "stdout",
     "output_type": "stream",
     "text": [
      "[1540]\tvalidation_0-merror:0.509603\n"
     ]
    },
    {
     "name": "stdout",
     "output_type": "stream",
     "text": [
      "[1541]\tvalidation_0-merror:0.509553\n"
     ]
    },
    {
     "name": "stdout",
     "output_type": "stream",
     "text": [
      "[1542]\tvalidation_0-merror:0.509528\n"
     ]
    },
    {
     "name": "stdout",
     "output_type": "stream",
     "text": [
      "[1543]\tvalidation_0-merror:0.509538\n"
     ]
    },
    {
     "name": "stdout",
     "output_type": "stream",
     "text": [
      "[1544]\tvalidation_0-merror:0.509534\n"
     ]
    },
    {
     "name": "stdout",
     "output_type": "stream",
     "text": [
      "[1545]\tvalidation_0-merror:0.509434\n"
     ]
    },
    {
     "name": "stdout",
     "output_type": "stream",
     "text": [
      "[1546]\tvalidation_0-merror:0.509402\n"
     ]
    },
    {
     "name": "stdout",
     "output_type": "stream",
     "text": [
      "[1547]\tvalidation_0-merror:0.509369\n"
     ]
    },
    {
     "name": "stdout",
     "output_type": "stream",
     "text": [
      "[1548]\tvalidation_0-merror:0.509394\n"
     ]
    },
    {
     "name": "stdout",
     "output_type": "stream",
     "text": [
      "[1549]\tvalidation_0-merror:0.509354\n"
     ]
    },
    {
     "name": "stdout",
     "output_type": "stream",
     "text": [
      "[1550]\tvalidation_0-merror:0.509392\n"
     ]
    },
    {
     "name": "stdout",
     "output_type": "stream",
     "text": [
      "[1551]\tvalidation_0-merror:0.509438\n"
     ]
    },
    {
     "name": "stdout",
     "output_type": "stream",
     "text": [
      "[1552]\tvalidation_0-merror:0.509444\n"
     ]
    },
    {
     "name": "stdout",
     "output_type": "stream",
     "text": [
      "[1553]\tvalidation_0-merror:0.509469\n"
     ]
    },
    {
     "name": "stdout",
     "output_type": "stream",
     "text": [
      "[1554]\tvalidation_0-merror:0.509436\n"
     ]
    },
    {
     "name": "stdout",
     "output_type": "stream",
     "text": [
      "[1555]\tvalidation_0-merror:0.509425\n"
     ]
    },
    {
     "name": "stdout",
     "output_type": "stream",
     "text": [
      "[1556]\tvalidation_0-merror:0.509409\n"
     ]
    },
    {
     "name": "stdout",
     "output_type": "stream",
     "text": [
      "[1557]\tvalidation_0-merror:0.509371\n"
     ]
    },
    {
     "name": "stdout",
     "output_type": "stream",
     "text": [
      "[1558]\tvalidation_0-merror:0.5093\n"
     ]
    },
    {
     "name": "stdout",
     "output_type": "stream",
     "text": [
      "[1559]\tvalidation_0-merror:0.509335\n"
     ]
    },
    {
     "name": "stdout",
     "output_type": "stream",
     "text": [
      "[1560]\tvalidation_0-merror:0.509317\n"
     ]
    },
    {
     "name": "stdout",
     "output_type": "stream",
     "text": [
      "[1561]\tvalidation_0-merror:0.509279\n"
     ]
    },
    {
     "name": "stdout",
     "output_type": "stream",
     "text": [
      "[1562]\tvalidation_0-merror:0.509306\n"
     ]
    },
    {
     "name": "stdout",
     "output_type": "stream",
     "text": [
      "[1563]\tvalidation_0-merror:0.509323\n"
     ]
    },
    {
     "name": "stdout",
     "output_type": "stream",
     "text": [
      "[1564]\tvalidation_0-merror:0.509333\n"
     ]
    },
    {
     "name": "stdout",
     "output_type": "stream",
     "text": [
      "[1565]\tvalidation_0-merror:0.509271\n"
     ]
    },
    {
     "name": "stdout",
     "output_type": "stream",
     "text": [
      "[1566]\tvalidation_0-merror:0.509271\n"
     ]
    },
    {
     "name": "stdout",
     "output_type": "stream",
     "text": [
      "[1567]\tvalidation_0-merror:0.509281\n"
     ]
    },
    {
     "name": "stdout",
     "output_type": "stream",
     "text": [
      "[1568]\tvalidation_0-merror:0.509306\n"
     ]
    },
    {
     "name": "stdout",
     "output_type": "stream",
     "text": [
      "[1569]\tvalidation_0-merror:0.509296\n"
     ]
    },
    {
     "name": "stdout",
     "output_type": "stream",
     "text": [
      "[1570]\tvalidation_0-merror:0.509317\n"
     ]
    },
    {
     "name": "stdout",
     "output_type": "stream",
     "text": [
      "[1571]\tvalidation_0-merror:0.509292\n"
     ]
    },
    {
     "name": "stdout",
     "output_type": "stream",
     "text": [
      "[1572]\tvalidation_0-merror:0.509254\n"
     ]
    },
    {
     "name": "stdout",
     "output_type": "stream",
     "text": [
      "[1573]\tvalidation_0-merror:0.509258\n"
     ]
    },
    {
     "name": "stdout",
     "output_type": "stream",
     "text": [
      "[1574]\tvalidation_0-merror:0.509266\n"
     ]
    },
    {
     "name": "stdout",
     "output_type": "stream",
     "text": [
      "[1575]\tvalidation_0-merror:0.509243\n"
     ]
    },
    {
     "name": "stdout",
     "output_type": "stream",
     "text": [
      "[1576]\tvalidation_0-merror:0.509256\n"
     ]
    },
    {
     "name": "stdout",
     "output_type": "stream",
     "text": [
      "[1577]\tvalidation_0-merror:0.509231\n"
     ]
    },
    {
     "name": "stdout",
     "output_type": "stream",
     "text": [
      "[1578]\tvalidation_0-merror:0.509271\n"
     ]
    },
    {
     "name": "stdout",
     "output_type": "stream",
     "text": [
      "[1579]\tvalidation_0-merror:0.509235\n"
     ]
    },
    {
     "name": "stdout",
     "output_type": "stream",
     "text": [
      "[1580]\tvalidation_0-merror:0.509229\n"
     ]
    },
    {
     "name": "stdout",
     "output_type": "stream",
     "text": [
      "[1581]\tvalidation_0-merror:0.509239\n"
     ]
    },
    {
     "name": "stdout",
     "output_type": "stream",
     "text": [
      "[1582]\tvalidation_0-merror:0.509245\n"
     ]
    },
    {
     "name": "stdout",
     "output_type": "stream",
     "text": [
      "[1583]\tvalidation_0-merror:0.509245\n"
     ]
    },
    {
     "name": "stdout",
     "output_type": "stream",
     "text": [
      "[1584]\tvalidation_0-merror:0.509133\n"
     ]
    },
    {
     "name": "stdout",
     "output_type": "stream",
     "text": [
      "[1585]\tvalidation_0-merror:0.509164\n"
     ]
    },
    {
     "name": "stdout",
     "output_type": "stream",
     "text": [
      "[1586]\tvalidation_0-merror:0.509164\n"
     ]
    },
    {
     "name": "stdout",
     "output_type": "stream",
     "text": [
      "[1587]\tvalidation_0-merror:0.509177\n"
     ]
    },
    {
     "name": "stdout",
     "output_type": "stream",
     "text": [
      "[1588]\tvalidation_0-merror:0.509204\n"
     ]
    },
    {
     "name": "stdout",
     "output_type": "stream",
     "text": [
      "[1589]\tvalidation_0-merror:0.509175\n"
     ]
    },
    {
     "name": "stdout",
     "output_type": "stream",
     "text": [
      "[1590]\tvalidation_0-merror:0.50922\n"
     ]
    },
    {
     "name": "stdout",
     "output_type": "stream",
     "text": [
      "[1591]\tvalidation_0-merror:0.509221\n"
     ]
    },
    {
     "name": "stdout",
     "output_type": "stream",
     "text": [
      "[1592]\tvalidation_0-merror:0.509223\n"
     ]
    },
    {
     "name": "stdout",
     "output_type": "stream",
     "text": [
      "[1593]\tvalidation_0-merror:0.509218\n"
     ]
    },
    {
     "name": "stdout",
     "output_type": "stream",
     "text": [
      "[1594]\tvalidation_0-merror:0.509225\n"
     ]
    },
    {
     "name": "stdout",
     "output_type": "stream",
     "text": [
      "[1595]\tvalidation_0-merror:0.509181\n"
     ]
    },
    {
     "name": "stdout",
     "output_type": "stream",
     "text": [
      "[1596]\tvalidation_0-merror:0.509158\n"
     ]
    },
    {
     "name": "stdout",
     "output_type": "stream",
     "text": [
      "[1597]\tvalidation_0-merror:0.509202\n"
     ]
    },
    {
     "name": "stdout",
     "output_type": "stream",
     "text": [
      "[1598]\tvalidation_0-merror:0.50921\n"
     ]
    },
    {
     "name": "stdout",
     "output_type": "stream",
     "text": [
      "[1599]\tvalidation_0-merror:0.509206\n"
     ]
    },
    {
     "name": "stdout",
     "output_type": "stream",
     "text": [
      "[1600]\tvalidation_0-merror:0.509177\n"
     ]
    },
    {
     "name": "stdout",
     "output_type": "stream",
     "text": [
      "[1601]\tvalidation_0-merror:0.509193\n"
     ]
    },
    {
     "name": "stdout",
     "output_type": "stream",
     "text": [
      "[1602]\tvalidation_0-merror:0.509129\n"
     ]
    },
    {
     "name": "stdout",
     "output_type": "stream",
     "text": [
      "[1603]\tvalidation_0-merror:0.509195\n"
     ]
    },
    {
     "name": "stdout",
     "output_type": "stream",
     "text": [
      "[1604]\tvalidation_0-merror:0.509195\n"
     ]
    },
    {
     "name": "stdout",
     "output_type": "stream",
     "text": [
      "[1605]\tvalidation_0-merror:0.509235\n"
     ]
    },
    {
     "name": "stdout",
     "output_type": "stream",
     "text": [
      "[1606]\tvalidation_0-merror:0.509283\n"
     ]
    },
    {
     "name": "stdout",
     "output_type": "stream",
     "text": [
      "[1607]\tvalidation_0-merror:0.509269\n"
     ]
    },
    {
     "name": "stdout",
     "output_type": "stream",
     "text": [
      "[1608]\tvalidation_0-merror:0.509266\n"
     ]
    },
    {
     "name": "stdout",
     "output_type": "stream",
     "text": [
      "[1609]\tvalidation_0-merror:0.509248\n"
     ]
    },
    {
     "name": "stdout",
     "output_type": "stream",
     "text": [
      "[1610]\tvalidation_0-merror:0.509212\n"
     ]
    },
    {
     "name": "stdout",
     "output_type": "stream",
     "text": [
      "[1611]\tvalidation_0-merror:0.509162\n"
     ]
    },
    {
     "name": "stdout",
     "output_type": "stream",
     "text": [
      "[1612]\tvalidation_0-merror:0.509126\n"
     ]
    },
    {
     "name": "stdout",
     "output_type": "stream",
     "text": [
      "[1613]\tvalidation_0-merror:0.509149\n"
     ]
    },
    {
     "name": "stdout",
     "output_type": "stream",
     "text": [
      "[1614]\tvalidation_0-merror:0.509177\n"
     ]
    },
    {
     "name": "stdout",
     "output_type": "stream",
     "text": [
      "[1615]\tvalidation_0-merror:0.509246\n"
     ]
    },
    {
     "name": "stdout",
     "output_type": "stream",
     "text": [
      "[1616]\tvalidation_0-merror:0.509208\n"
     ]
    },
    {
     "name": "stdout",
     "output_type": "stream",
     "text": [
      "[1617]\tvalidation_0-merror:0.509189\n"
     ]
    },
    {
     "name": "stdout",
     "output_type": "stream",
     "text": [
      "[1618]\tvalidation_0-merror:0.509223\n"
     ]
    },
    {
     "name": "stdout",
     "output_type": "stream",
     "text": [
      "[1619]\tvalidation_0-merror:0.509195\n"
     ]
    },
    {
     "name": "stdout",
     "output_type": "stream",
     "text": [
      "[1620]\tvalidation_0-merror:0.509245\n"
     ]
    },
    {
     "name": "stdout",
     "output_type": "stream",
     "text": [
      "[1621]\tvalidation_0-merror:0.509246\n"
     ]
    },
    {
     "name": "stdout",
     "output_type": "stream",
     "text": [
      "[1622]\tvalidation_0-merror:0.509266\n"
     ]
    },
    {
     "name": "stdout",
     "output_type": "stream",
     "text": [
      "[1623]\tvalidation_0-merror:0.509283\n"
     ]
    },
    {
     "name": "stdout",
     "output_type": "stream",
     "text": [
      "[1624]\tvalidation_0-merror:0.509298\n"
     ]
    },
    {
     "name": "stdout",
     "output_type": "stream",
     "text": [
      "[1625]\tvalidation_0-merror:0.509302\n"
     ]
    },
    {
     "name": "stdout",
     "output_type": "stream",
     "text": [
      "[1626]\tvalidation_0-merror:0.509287\n"
     ]
    },
    {
     "name": "stdout",
     "output_type": "stream",
     "text": [
      "[1627]\tvalidation_0-merror:0.509275\n"
     ]
    },
    {
     "name": "stdout",
     "output_type": "stream",
     "text": [
      "[1628]\tvalidation_0-merror:0.509246\n"
     ]
    },
    {
     "name": "stdout",
     "output_type": "stream",
     "text": [
      "[1629]\tvalidation_0-merror:0.509243\n"
     ]
    },
    {
     "name": "stdout",
     "output_type": "stream",
     "text": [
      "[1630]\tvalidation_0-merror:0.509258\n"
     ]
    },
    {
     "name": "stdout",
     "output_type": "stream",
     "text": [
      "[1631]\tvalidation_0-merror:0.509177\n"
     ]
    },
    {
     "name": "stdout",
     "output_type": "stream",
     "text": [
      "[1632]\tvalidation_0-merror:0.509162\n"
     ]
    },
    {
     "name": "stdout",
     "output_type": "stream",
     "text": [
      "[1633]\tvalidation_0-merror:0.509128\n"
     ]
    },
    {
     "name": "stdout",
     "output_type": "stream",
     "text": [
      "[1634]\tvalidation_0-merror:0.509129\n"
     ]
    },
    {
     "name": "stdout",
     "output_type": "stream",
     "text": [
      "[1635]\tvalidation_0-merror:0.509116\n"
     ]
    },
    {
     "name": "stdout",
     "output_type": "stream",
     "text": [
      "[1636]\tvalidation_0-merror:0.509101\n"
     ]
    },
    {
     "name": "stdout",
     "output_type": "stream",
     "text": [
      "[1637]\tvalidation_0-merror:0.509156\n"
     ]
    },
    {
     "name": "stdout",
     "output_type": "stream",
     "text": [
      "[1638]\tvalidation_0-merror:0.509177\n"
     ]
    },
    {
     "name": "stdout",
     "output_type": "stream",
     "text": [
      "[1639]\tvalidation_0-merror:0.509231\n"
     ]
    },
    {
     "name": "stdout",
     "output_type": "stream",
     "text": [
      "[1640]\tvalidation_0-merror:0.509204\n"
     ]
    },
    {
     "name": "stdout",
     "output_type": "stream",
     "text": [
      "[1641]\tvalidation_0-merror:0.50917\n"
     ]
    },
    {
     "name": "stdout",
     "output_type": "stream",
     "text": [
      "[1642]\tvalidation_0-merror:0.50916\n"
     ]
    },
    {
     "name": "stdout",
     "output_type": "stream",
     "text": [
      "[1643]\tvalidation_0-merror:0.509164\n"
     ]
    },
    {
     "name": "stdout",
     "output_type": "stream",
     "text": [
      "[1644]\tvalidation_0-merror:0.509164\n"
     ]
    },
    {
     "name": "stdout",
     "output_type": "stream",
     "text": [
      "[1645]\tvalidation_0-merror:0.50912\n"
     ]
    },
    {
     "name": "stdout",
     "output_type": "stream",
     "text": [
      "[1646]\tvalidation_0-merror:0.50903\n"
     ]
    },
    {
     "name": "stdout",
     "output_type": "stream",
     "text": [
      "[1647]\tvalidation_0-merror:0.509022\n"
     ]
    },
    {
     "name": "stdout",
     "output_type": "stream",
     "text": [
      "[1648]\tvalidation_0-merror:0.509064\n"
     ]
    },
    {
     "name": "stdout",
     "output_type": "stream",
     "text": [
      "[1649]\tvalidation_0-merror:0.509072\n"
     ]
    },
    {
     "name": "stdout",
     "output_type": "stream",
     "text": [
      "[1650]\tvalidation_0-merror:0.509084\n"
     ]
    },
    {
     "name": "stdout",
     "output_type": "stream",
     "text": [
      "[1651]\tvalidation_0-merror:0.509037\n"
     ]
    },
    {
     "name": "stdout",
     "output_type": "stream",
     "text": [
      "[1652]\tvalidation_0-merror:0.509055\n"
     ]
    },
    {
     "name": "stdout",
     "output_type": "stream",
     "text": [
      "[1653]\tvalidation_0-merror:0.509005\n"
     ]
    },
    {
     "name": "stdout",
     "output_type": "stream",
     "text": [
      "[1654]\tvalidation_0-merror:0.508993\n"
     ]
    },
    {
     "name": "stdout",
     "output_type": "stream",
     "text": [
      "[1655]\tvalidation_0-merror:0.509091\n"
     ]
    },
    {
     "name": "stdout",
     "output_type": "stream",
     "text": [
      "[1656]\tvalidation_0-merror:0.509057\n"
     ]
    },
    {
     "name": "stdout",
     "output_type": "stream",
     "text": [
      "[1657]\tvalidation_0-merror:0.509018\n"
     ]
    },
    {
     "name": "stdout",
     "output_type": "stream",
     "text": [
      "[1658]\tvalidation_0-merror:0.509001\n"
     ]
    },
    {
     "name": "stdout",
     "output_type": "stream",
     "text": [
      "[1659]\tvalidation_0-merror:0.508961\n"
     ]
    },
    {
     "name": "stdout",
     "output_type": "stream",
     "text": [
      "[1660]\tvalidation_0-merror:0.50894\n"
     ]
    },
    {
     "name": "stdout",
     "output_type": "stream",
     "text": [
      "[1661]\tvalidation_0-merror:0.508936\n"
     ]
    },
    {
     "name": "stdout",
     "output_type": "stream",
     "text": [
      "[1662]\tvalidation_0-merror:0.508919\n"
     ]
    },
    {
     "name": "stdout",
     "output_type": "stream",
     "text": [
      "[1663]\tvalidation_0-merror:0.508917\n"
     ]
    },
    {
     "name": "stdout",
     "output_type": "stream",
     "text": [
      "[1664]\tvalidation_0-merror:0.509014\n"
     ]
    },
    {
     "name": "stdout",
     "output_type": "stream",
     "text": [
      "[1665]\tvalidation_0-merror:0.509005\n"
     ]
    },
    {
     "name": "stdout",
     "output_type": "stream",
     "text": [
      "[1666]\tvalidation_0-merror:0.508984\n"
     ]
    },
    {
     "name": "stdout",
     "output_type": "stream",
     "text": [
      "[1667]\tvalidation_0-merror:0.50899\n"
     ]
    },
    {
     "name": "stdout",
     "output_type": "stream",
     "text": [
      "[1668]\tvalidation_0-merror:0.50897\n"
     ]
    },
    {
     "name": "stdout",
     "output_type": "stream",
     "text": [
      "[1669]\tvalidation_0-merror:0.508936\n"
     ]
    },
    {
     "name": "stdout",
     "output_type": "stream",
     "text": [
      "[1670]\tvalidation_0-merror:0.508942\n"
     ]
    },
    {
     "name": "stdout",
     "output_type": "stream",
     "text": [
      "[1671]\tvalidation_0-merror:0.508968\n"
     ]
    },
    {
     "name": "stdout",
     "output_type": "stream",
     "text": [
      "[1672]\tvalidation_0-merror:0.508961\n"
     ]
    },
    {
     "name": "stdout",
     "output_type": "stream",
     "text": [
      "[1673]\tvalidation_0-merror:0.508961\n"
     ]
    },
    {
     "name": "stdout",
     "output_type": "stream",
     "text": [
      "[1674]\tvalidation_0-merror:0.509005\n"
     ]
    },
    {
     "name": "stdout",
     "output_type": "stream",
     "text": [
      "[1675]\tvalidation_0-merror:0.509059\n"
     ]
    },
    {
     "name": "stdout",
     "output_type": "stream",
     "text": [
      "[1676]\tvalidation_0-merror:0.50903\n"
     ]
    },
    {
     "name": "stdout",
     "output_type": "stream",
     "text": [
      "[1677]\tvalidation_0-merror:0.508955\n"
     ]
    },
    {
     "name": "stdout",
     "output_type": "stream",
     "text": [
      "[1678]\tvalidation_0-merror:0.508972\n"
     ]
    },
    {
     "name": "stdout",
     "output_type": "stream",
     "text": [
      "[1679]\tvalidation_0-merror:0.508944\n"
     ]
    },
    {
     "name": "stdout",
     "output_type": "stream",
     "text": [
      "[1680]\tvalidation_0-merror:0.508903\n"
     ]
    },
    {
     "name": "stdout",
     "output_type": "stream",
     "text": [
      "[1681]\tvalidation_0-merror:0.508907\n"
     ]
    },
    {
     "name": "stdout",
     "output_type": "stream",
     "text": [
      "[1682]\tvalidation_0-merror:0.508894\n"
     ]
    },
    {
     "name": "stdout",
     "output_type": "stream",
     "text": [
      "[1683]\tvalidation_0-merror:0.508863\n"
     ]
    },
    {
     "name": "stdout",
     "output_type": "stream",
     "text": [
      "[1684]\tvalidation_0-merror:0.508813\n"
     ]
    },
    {
     "name": "stdout",
     "output_type": "stream",
     "text": [
      "[1685]\tvalidation_0-merror:0.508809\n"
     ]
    },
    {
     "name": "stdout",
     "output_type": "stream",
     "text": [
      "[1686]\tvalidation_0-merror:0.508788\n"
     ]
    },
    {
     "name": "stdout",
     "output_type": "stream",
     "text": [
      "[1687]\tvalidation_0-merror:0.508863\n"
     ]
    },
    {
     "name": "stdout",
     "output_type": "stream",
     "text": [
      "[1688]\tvalidation_0-merror:0.508867\n"
     ]
    },
    {
     "name": "stdout",
     "output_type": "stream",
     "text": [
      "[1689]\tvalidation_0-merror:0.50889\n"
     ]
    },
    {
     "name": "stdout",
     "output_type": "stream",
     "text": [
      "[1690]\tvalidation_0-merror:0.508878\n"
     ]
    },
    {
     "name": "stdout",
     "output_type": "stream",
     "text": [
      "[1691]\tvalidation_0-merror:0.508886\n"
     ]
    },
    {
     "name": "stdout",
     "output_type": "stream",
     "text": [
      "[1692]\tvalidation_0-merror:0.50889\n"
     ]
    },
    {
     "name": "stdout",
     "output_type": "stream",
     "text": [
      "[1693]\tvalidation_0-merror:0.508844\n"
     ]
    },
    {
     "name": "stdout",
     "output_type": "stream",
     "text": [
      "[1694]\tvalidation_0-merror:0.50883\n"
     ]
    },
    {
     "name": "stdout",
     "output_type": "stream",
     "text": [
      "[1695]\tvalidation_0-merror:0.508855\n"
     ]
    },
    {
     "name": "stdout",
     "output_type": "stream",
     "text": [
      "[1696]\tvalidation_0-merror:0.508853\n"
     ]
    },
    {
     "name": "stdout",
     "output_type": "stream",
     "text": [
      "[1697]\tvalidation_0-merror:0.508884\n"
     ]
    },
    {
     "name": "stdout",
     "output_type": "stream",
     "text": [
      "[1698]\tvalidation_0-merror:0.508886\n"
     ]
    },
    {
     "name": "stdout",
     "output_type": "stream",
     "text": [
      "[1699]\tvalidation_0-merror:0.508848\n"
     ]
    },
    {
     "name": "stdout",
     "output_type": "stream",
     "text": [
      "[1700]\tvalidation_0-merror:0.508846\n"
     ]
    },
    {
     "name": "stdout",
     "output_type": "stream",
     "text": [
      "[1701]\tvalidation_0-merror:0.508911\n"
     ]
    },
    {
     "name": "stdout",
     "output_type": "stream",
     "text": [
      "[1702]\tvalidation_0-merror:0.508915\n"
     ]
    },
    {
     "name": "stdout",
     "output_type": "stream",
     "text": [
      "[1703]\tvalidation_0-merror:0.508942\n"
     ]
    },
    {
     "name": "stdout",
     "output_type": "stream",
     "text": [
      "[1704]\tvalidation_0-merror:0.508944\n"
     ]
    },
    {
     "name": "stdout",
     "output_type": "stream",
     "text": [
      "[1705]\tvalidation_0-merror:0.508974\n"
     ]
    },
    {
     "name": "stdout",
     "output_type": "stream",
     "text": [
      "[1706]\tvalidation_0-merror:0.508974\n"
     ]
    },
    {
     "name": "stdout",
     "output_type": "stream",
     "text": [
      "[1707]\tvalidation_0-merror:0.508942\n"
     ]
    },
    {
     "name": "stdout",
     "output_type": "stream",
     "text": [
      "[1708]\tvalidation_0-merror:0.508901\n"
     ]
    },
    {
     "name": "stdout",
     "output_type": "stream",
     "text": [
      "[1709]\tvalidation_0-merror:0.508877\n"
     ]
    },
    {
     "name": "stdout",
     "output_type": "stream",
     "text": [
      "[1710]\tvalidation_0-merror:0.508825\n"
     ]
    },
    {
     "name": "stdout",
     "output_type": "stream",
     "text": [
      "[1711]\tvalidation_0-merror:0.508756\n"
     ]
    },
    {
     "name": "stdout",
     "output_type": "stream",
     "text": [
      "[1712]\tvalidation_0-merror:0.508769\n"
     ]
    },
    {
     "name": "stdout",
     "output_type": "stream",
     "text": [
      "[1713]\tvalidation_0-merror:0.508719\n"
     ]
    },
    {
     "name": "stdout",
     "output_type": "stream",
     "text": [
      "[1714]\tvalidation_0-merror:0.508698\n"
     ]
    },
    {
     "name": "stdout",
     "output_type": "stream",
     "text": [
      "[1715]\tvalidation_0-merror:0.508671\n"
     ]
    },
    {
     "name": "stdout",
     "output_type": "stream",
     "text": [
      "[1716]\tvalidation_0-merror:0.508652\n"
     ]
    },
    {
     "name": "stdout",
     "output_type": "stream",
     "text": [
      "[1717]\tvalidation_0-merror:0.508623\n"
     ]
    },
    {
     "name": "stdout",
     "output_type": "stream",
     "text": [
      "[1718]\tvalidation_0-merror:0.508622\n"
     ]
    },
    {
     "name": "stdout",
     "output_type": "stream",
     "text": [
      "[1719]\tvalidation_0-merror:0.50857\n"
     ]
    },
    {
     "name": "stdout",
     "output_type": "stream",
     "text": [
      "[1720]\tvalidation_0-merror:0.50862\n"
     ]
    },
    {
     "name": "stdout",
     "output_type": "stream",
     "text": [
      "[1721]\tvalidation_0-merror:0.50862\n"
     ]
    },
    {
     "name": "stdout",
     "output_type": "stream",
     "text": [
      "[1722]\tvalidation_0-merror:0.508587\n"
     ]
    },
    {
     "name": "stdout",
     "output_type": "stream",
     "text": [
      "[1723]\tvalidation_0-merror:0.50853\n"
     ]
    },
    {
     "name": "stdout",
     "output_type": "stream",
     "text": [
      "[1724]\tvalidation_0-merror:0.508531\n"
     ]
    },
    {
     "name": "stdout",
     "output_type": "stream",
     "text": [
      "[1725]\tvalidation_0-merror:0.508434\n"
     ]
    },
    {
     "name": "stdout",
     "output_type": "stream",
     "text": [
      "[1726]\tvalidation_0-merror:0.508415\n"
     ]
    },
    {
     "name": "stdout",
     "output_type": "stream",
     "text": [
      "[1727]\tvalidation_0-merror:0.508384\n"
     ]
    },
    {
     "name": "stdout",
     "output_type": "stream",
     "text": [
      "[1728]\tvalidation_0-merror:0.508361\n"
     ]
    },
    {
     "name": "stdout",
     "output_type": "stream",
     "text": [
      "[1729]\tvalidation_0-merror:0.508374\n"
     ]
    },
    {
     "name": "stdout",
     "output_type": "stream",
     "text": [
      "[1730]\tvalidation_0-merror:0.508413\n"
     ]
    },
    {
     "name": "stdout",
     "output_type": "stream",
     "text": [
      "[1731]\tvalidation_0-merror:0.508347\n"
     ]
    },
    {
     "name": "stdout",
     "output_type": "stream",
     "text": [
      "[1732]\tvalidation_0-merror:0.508307\n"
     ]
    },
    {
     "name": "stdout",
     "output_type": "stream",
     "text": [
      "[1733]\tvalidation_0-merror:0.508317\n"
     ]
    },
    {
     "name": "stdout",
     "output_type": "stream",
     "text": [
      "[1734]\tvalidation_0-merror:0.508313\n"
     ]
    },
    {
     "name": "stdout",
     "output_type": "stream",
     "text": [
      "[1735]\tvalidation_0-merror:0.508294\n"
     ]
    },
    {
     "name": "stdout",
     "output_type": "stream",
     "text": [
      "[1736]\tvalidation_0-merror:0.508336\n"
     ]
    },
    {
     "name": "stdout",
     "output_type": "stream",
     "text": [
      "[1737]\tvalidation_0-merror:0.508286\n"
     ]
    },
    {
     "name": "stdout",
     "output_type": "stream",
     "text": [
      "[1738]\tvalidation_0-merror:0.508292\n"
     ]
    },
    {
     "name": "stdout",
     "output_type": "stream",
     "text": [
      "[1739]\tvalidation_0-merror:0.508267\n"
     ]
    },
    {
     "name": "stdout",
     "output_type": "stream",
     "text": [
      "[1740]\tvalidation_0-merror:0.508294\n"
     ]
    },
    {
     "name": "stdout",
     "output_type": "stream",
     "text": [
      "[1741]\tvalidation_0-merror:0.508307\n"
     ]
    },
    {
     "name": "stdout",
     "output_type": "stream",
     "text": [
      "[1742]\tvalidation_0-merror:0.508307\n"
     ]
    },
    {
     "name": "stdout",
     "output_type": "stream",
     "text": [
      "[1743]\tvalidation_0-merror:0.508313\n"
     ]
    },
    {
     "name": "stdout",
     "output_type": "stream",
     "text": [
      "[1744]\tvalidation_0-merror:0.508334\n"
     ]
    },
    {
     "name": "stdout",
     "output_type": "stream",
     "text": [
      "[1745]\tvalidation_0-merror:0.508367\n"
     ]
    },
    {
     "name": "stdout",
     "output_type": "stream",
     "text": [
      "[1746]\tvalidation_0-merror:0.508367\n"
     ]
    },
    {
     "name": "stdout",
     "output_type": "stream",
     "text": [
      "[1747]\tvalidation_0-merror:0.508418\n"
     ]
    },
    {
     "name": "stdout",
     "output_type": "stream",
     "text": [
      "[1748]\tvalidation_0-merror:0.508441\n"
     ]
    },
    {
     "name": "stdout",
     "output_type": "stream",
     "text": [
      "[1749]\tvalidation_0-merror:0.508462\n"
     ]
    },
    {
     "name": "stdout",
     "output_type": "stream",
     "text": [
      "[1750]\tvalidation_0-merror:0.508503\n"
     ]
    },
    {
     "name": "stdout",
     "output_type": "stream",
     "text": [
      "[1751]\tvalidation_0-merror:0.508478\n"
     ]
    },
    {
     "name": "stdout",
     "output_type": "stream",
     "text": [
      "[1752]\tvalidation_0-merror:0.508436\n"
     ]
    },
    {
     "name": "stdout",
     "output_type": "stream",
     "text": [
      "[1753]\tvalidation_0-merror:0.508451\n"
     ]
    },
    {
     "name": "stdout",
     "output_type": "stream",
     "text": [
      "[1754]\tvalidation_0-merror:0.508407\n"
     ]
    },
    {
     "name": "stdout",
     "output_type": "stream",
     "text": [
      "[1755]\tvalidation_0-merror:0.508378\n"
     ]
    },
    {
     "name": "stdout",
     "output_type": "stream",
     "text": [
      "[1756]\tvalidation_0-merror:0.508384\n"
     ]
    },
    {
     "name": "stdout",
     "output_type": "stream",
     "text": [
      "[1757]\tvalidation_0-merror:0.508384\n"
     ]
    },
    {
     "name": "stdout",
     "output_type": "stream",
     "text": [
      "[1758]\tvalidation_0-merror:0.508445\n"
     ]
    },
    {
     "name": "stdout",
     "output_type": "stream",
     "text": [
      "[1759]\tvalidation_0-merror:0.508372\n"
     ]
    },
    {
     "name": "stdout",
     "output_type": "stream",
     "text": [
      "[1760]\tvalidation_0-merror:0.508351\n"
     ]
    },
    {
     "name": "stdout",
     "output_type": "stream",
     "text": [
      "[1761]\tvalidation_0-merror:0.508361\n"
     ]
    },
    {
     "name": "stdout",
     "output_type": "stream",
     "text": [
      "[1762]\tvalidation_0-merror:0.508372\n"
     ]
    },
    {
     "name": "stdout",
     "output_type": "stream",
     "text": [
      "[1763]\tvalidation_0-merror:0.508388\n"
     ]
    },
    {
     "name": "stdout",
     "output_type": "stream",
     "text": [
      "[1764]\tvalidation_0-merror:0.508416\n"
     ]
    },
    {
     "name": "stdout",
     "output_type": "stream",
     "text": [
      "[1765]\tvalidation_0-merror:0.50839\n"
     ]
    },
    {
     "name": "stdout",
     "output_type": "stream",
     "text": [
      "[1766]\tvalidation_0-merror:0.508369\n"
     ]
    },
    {
     "name": "stdout",
     "output_type": "stream",
     "text": [
      "[1767]\tvalidation_0-merror:0.508436\n"
     ]
    },
    {
     "name": "stdout",
     "output_type": "stream",
     "text": [
      "[1768]\tvalidation_0-merror:0.508399\n"
     ]
    },
    {
     "name": "stdout",
     "output_type": "stream",
     "text": [
      "[1769]\tvalidation_0-merror:0.50839\n"
     ]
    },
    {
     "name": "stdout",
     "output_type": "stream",
     "text": [
      "[1770]\tvalidation_0-merror:0.50839\n"
     ]
    },
    {
     "name": "stdout",
     "output_type": "stream",
     "text": [
      "[1771]\tvalidation_0-merror:0.508355\n"
     ]
    },
    {
     "name": "stdout",
     "output_type": "stream",
     "text": [
      "[1772]\tvalidation_0-merror:0.508319\n"
     ]
    },
    {
     "name": "stdout",
     "output_type": "stream",
     "text": [
      "[1773]\tvalidation_0-merror:0.508338\n"
     ]
    },
    {
     "name": "stdout",
     "output_type": "stream",
     "text": [
      "[1774]\tvalidation_0-merror:0.508317\n"
     ]
    },
    {
     "name": "stdout",
     "output_type": "stream",
     "text": [
      "[1775]\tvalidation_0-merror:0.508292\n"
     ]
    },
    {
     "name": "stdout",
     "output_type": "stream",
     "text": [
      "[1776]\tvalidation_0-merror:0.5083\n"
     ]
    },
    {
     "name": "stdout",
     "output_type": "stream",
     "text": [
      "[1777]\tvalidation_0-merror:0.508307\n"
     ]
    },
    {
     "name": "stdout",
     "output_type": "stream",
     "text": [
      "[1778]\tvalidation_0-merror:0.508282\n"
     ]
    },
    {
     "name": "stdout",
     "output_type": "stream",
     "text": [
      "[1779]\tvalidation_0-merror:0.508307\n"
     ]
    },
    {
     "name": "stdout",
     "output_type": "stream",
     "text": [
      "[1780]\tvalidation_0-merror:0.508328\n"
     ]
    },
    {
     "name": "stdout",
     "output_type": "stream",
     "text": [
      "[1781]\tvalidation_0-merror:0.50829\n"
     ]
    },
    {
     "name": "stdout",
     "output_type": "stream",
     "text": [
      "[1782]\tvalidation_0-merror:0.508292\n"
     ]
    },
    {
     "name": "stdout",
     "output_type": "stream",
     "text": [
      "[1783]\tvalidation_0-merror:0.508334\n"
     ]
    },
    {
     "name": "stdout",
     "output_type": "stream",
     "text": [
      "[1784]\tvalidation_0-merror:0.508319\n"
     ]
    },
    {
     "name": "stdout",
     "output_type": "stream",
     "text": [
      "[1785]\tvalidation_0-merror:0.50834\n"
     ]
    },
    {
     "name": "stdout",
     "output_type": "stream",
     "text": [
      "[1786]\tvalidation_0-merror:0.508317\n"
     ]
    },
    {
     "name": "stdout",
     "output_type": "stream",
     "text": [
      "[1787]\tvalidation_0-merror:0.508349\n"
     ]
    },
    {
     "name": "stdout",
     "output_type": "stream",
     "text": [
      "[1788]\tvalidation_0-merror:0.508357\n"
     ]
    },
    {
     "name": "stdout",
     "output_type": "stream",
     "text": [
      "[1789]\tvalidation_0-merror:0.50837\n"
     ]
    },
    {
     "name": "stdout",
     "output_type": "stream",
     "text": [
      "[1790]\tvalidation_0-merror:0.508351\n"
     ]
    },
    {
     "name": "stdout",
     "output_type": "stream",
     "text": [
      "[1791]\tvalidation_0-merror:0.508323\n"
     ]
    },
    {
     "name": "stdout",
     "output_type": "stream",
     "text": [
      "[1792]\tvalidation_0-merror:0.508367\n"
     ]
    },
    {
     "name": "stdout",
     "output_type": "stream",
     "text": [
      "[1793]\tvalidation_0-merror:0.508355\n"
     ]
    },
    {
     "name": "stdout",
     "output_type": "stream",
     "text": [
      "[1794]\tvalidation_0-merror:0.508321\n"
     ]
    },
    {
     "name": "stdout",
     "output_type": "stream",
     "text": [
      "[1795]\tvalidation_0-merror:0.508338\n"
     ]
    },
    {
     "name": "stdout",
     "output_type": "stream",
     "text": [
      "[1796]\tvalidation_0-merror:0.508309\n"
     ]
    },
    {
     "name": "stdout",
     "output_type": "stream",
     "text": [
      "[1797]\tvalidation_0-merror:0.508292\n"
     ]
    },
    {
     "name": "stdout",
     "output_type": "stream",
     "text": [
      "[1798]\tvalidation_0-merror:0.508211\n"
     ]
    },
    {
     "name": "stdout",
     "output_type": "stream",
     "text": [
      "[1799]\tvalidation_0-merror:0.508204\n"
     ]
    },
    {
     "name": "stdout",
     "output_type": "stream",
     "text": [
      "[1800]\tvalidation_0-merror:0.508236\n"
     ]
    },
    {
     "name": "stdout",
     "output_type": "stream",
     "text": [
      "[1801]\tvalidation_0-merror:0.508196\n"
     ]
    },
    {
     "name": "stdout",
     "output_type": "stream",
     "text": [
      "[1802]\tvalidation_0-merror:0.508158\n"
     ]
    },
    {
     "name": "stdout",
     "output_type": "stream",
     "text": [
      "[1803]\tvalidation_0-merror:0.508144\n"
     ]
    },
    {
     "name": "stdout",
     "output_type": "stream",
     "text": [
      "[1804]\tvalidation_0-merror:0.508139\n"
     ]
    },
    {
     "name": "stdout",
     "output_type": "stream",
     "text": [
      "[1805]\tvalidation_0-merror:0.508171\n"
     ]
    },
    {
     "name": "stdout",
     "output_type": "stream",
     "text": [
      "[1806]\tvalidation_0-merror:0.508139\n"
     ]
    },
    {
     "name": "stdout",
     "output_type": "stream",
     "text": [
      "[1807]\tvalidation_0-merror:0.508123\n"
     ]
    },
    {
     "name": "stdout",
     "output_type": "stream",
     "text": [
      "[1808]\tvalidation_0-merror:0.508154\n"
     ]
    },
    {
     "name": "stdout",
     "output_type": "stream",
     "text": [
      "[1809]\tvalidation_0-merror:0.508198\n"
     ]
    },
    {
     "name": "stdout",
     "output_type": "stream",
     "text": [
      "[1810]\tvalidation_0-merror:0.508165\n"
     ]
    },
    {
     "name": "stdout",
     "output_type": "stream",
     "text": [
      "[1811]\tvalidation_0-merror:0.508119\n"
     ]
    },
    {
     "name": "stdout",
     "output_type": "stream",
     "text": [
      "[1812]\tvalidation_0-merror:0.508129\n"
     ]
    },
    {
     "name": "stdout",
     "output_type": "stream",
     "text": [
      "[1813]\tvalidation_0-merror:0.508071\n"
     ]
    },
    {
     "name": "stdout",
     "output_type": "stream",
     "text": [
      "[1814]\tvalidation_0-merror:0.508058\n"
     ]
    },
    {
     "name": "stdout",
     "output_type": "stream",
     "text": [
      "[1815]\tvalidation_0-merror:0.508077\n"
     ]
    },
    {
     "name": "stdout",
     "output_type": "stream",
     "text": [
      "[1816]\tvalidation_0-merror:0.508025\n"
     ]
    },
    {
     "name": "stdout",
     "output_type": "stream",
     "text": [
      "[1817]\tvalidation_0-merror:0.508027\n"
     ]
    },
    {
     "name": "stdout",
     "output_type": "stream",
     "text": [
      "[1818]\tvalidation_0-merror:0.508062\n"
     ]
    },
    {
     "name": "stdout",
     "output_type": "stream",
     "text": [
      "[1819]\tvalidation_0-merror:0.508104\n"
     ]
    },
    {
     "name": "stdout",
     "output_type": "stream",
     "text": [
      "[1820]\tvalidation_0-merror:0.508094\n"
     ]
    },
    {
     "name": "stdout",
     "output_type": "stream",
     "text": [
      "[1821]\tvalidation_0-merror:0.508096\n"
     ]
    },
    {
     "name": "stdout",
     "output_type": "stream",
     "text": [
      "[1822]\tvalidation_0-merror:0.508066\n"
     ]
    },
    {
     "name": "stdout",
     "output_type": "stream",
     "text": [
      "[1823]\tvalidation_0-merror:0.508027\n"
     ]
    },
    {
     "name": "stdout",
     "output_type": "stream",
     "text": [
      "[1824]\tvalidation_0-merror:0.508058\n"
     ]
    },
    {
     "name": "stdout",
     "output_type": "stream",
     "text": [
      "[1825]\tvalidation_0-merror:0.508008\n"
     ]
    },
    {
     "name": "stdout",
     "output_type": "stream",
     "text": [
      "[1826]\tvalidation_0-merror:0.507966\n"
     ]
    },
    {
     "name": "stdout",
     "output_type": "stream",
     "text": [
      "[1827]\tvalidation_0-merror:0.507907\n"
     ]
    },
    {
     "name": "stdout",
     "output_type": "stream",
     "text": [
      "[1828]\tvalidation_0-merror:0.507932\n"
     ]
    },
    {
     "name": "stdout",
     "output_type": "stream",
     "text": [
      "[1829]\tvalidation_0-merror:0.507887\n"
     ]
    },
    {
     "name": "stdout",
     "output_type": "stream",
     "text": [
      "[1830]\tvalidation_0-merror:0.50784\n"
     ]
    },
    {
     "name": "stdout",
     "output_type": "stream",
     "text": [
      "[1831]\tvalidation_0-merror:0.507805\n"
     ]
    },
    {
     "name": "stdout",
     "output_type": "stream",
     "text": [
      "[1832]\tvalidation_0-merror:0.507807\n"
     ]
    },
    {
     "name": "stdout",
     "output_type": "stream",
     "text": [
      "[1833]\tvalidation_0-merror:0.507809\n"
     ]
    },
    {
     "name": "stdout",
     "output_type": "stream",
     "text": [
      "[1834]\tvalidation_0-merror:0.507849\n"
     ]
    },
    {
     "name": "stdout",
     "output_type": "stream",
     "text": [
      "[1835]\tvalidation_0-merror:0.507828\n"
     ]
    },
    {
     "name": "stdout",
     "output_type": "stream",
     "text": [
      "[1836]\tvalidation_0-merror:0.507857\n"
     ]
    },
    {
     "name": "stdout",
     "output_type": "stream",
     "text": [
      "[1837]\tvalidation_0-merror:0.507815\n"
     ]
    },
    {
     "name": "stdout",
     "output_type": "stream",
     "text": [
      "[1838]\tvalidation_0-merror:0.507786\n"
     ]
    },
    {
     "name": "stdout",
     "output_type": "stream",
     "text": [
      "[1839]\tvalidation_0-merror:0.507801\n"
     ]
    },
    {
     "name": "stdout",
     "output_type": "stream",
     "text": [
      "[1840]\tvalidation_0-merror:0.507853\n"
     ]
    },
    {
     "name": "stdout",
     "output_type": "stream",
     "text": [
      "[1841]\tvalidation_0-merror:0.507889\n"
     ]
    },
    {
     "name": "stdout",
     "output_type": "stream",
     "text": [
      "[1842]\tvalidation_0-merror:0.507889\n"
     ]
    },
    {
     "name": "stdout",
     "output_type": "stream",
     "text": [
      "[1843]\tvalidation_0-merror:0.507857\n"
     ]
    },
    {
     "name": "stdout",
     "output_type": "stream",
     "text": [
      "[1844]\tvalidation_0-merror:0.507822\n"
     ]
    },
    {
     "name": "stdout",
     "output_type": "stream",
     "text": [
      "[1845]\tvalidation_0-merror:0.507801\n"
     ]
    },
    {
     "name": "stdout",
     "output_type": "stream",
     "text": [
      "[1846]\tvalidation_0-merror:0.507834\n"
     ]
    },
    {
     "name": "stdout",
     "output_type": "stream",
     "text": [
      "[1847]\tvalidation_0-merror:0.507826\n"
     ]
    },
    {
     "name": "stdout",
     "output_type": "stream",
     "text": [
      "[1848]\tvalidation_0-merror:0.507813\n"
     ]
    },
    {
     "name": "stdout",
     "output_type": "stream",
     "text": [
      "[1849]\tvalidation_0-merror:0.507771\n"
     ]
    },
    {
     "name": "stdout",
     "output_type": "stream",
     "text": [
      "[1850]\tvalidation_0-merror:0.507763\n"
     ]
    },
    {
     "name": "stdout",
     "output_type": "stream",
     "text": [
      "[1851]\tvalidation_0-merror:0.507793\n"
     ]
    },
    {
     "name": "stdout",
     "output_type": "stream",
     "text": [
      "[1852]\tvalidation_0-merror:0.507774\n"
     ]
    },
    {
     "name": "stdout",
     "output_type": "stream",
     "text": [
      "[1853]\tvalidation_0-merror:0.507732\n"
     ]
    },
    {
     "name": "stdout",
     "output_type": "stream",
     "text": [
      "[1854]\tvalidation_0-merror:0.507751\n"
     ]
    },
    {
     "name": "stdout",
     "output_type": "stream",
     "text": [
      "[1855]\tvalidation_0-merror:0.507757\n"
     ]
    },
    {
     "name": "stdout",
     "output_type": "stream",
     "text": [
      "[1856]\tvalidation_0-merror:0.507749\n"
     ]
    },
    {
     "name": "stdout",
     "output_type": "stream",
     "text": [
      "[1857]\tvalidation_0-merror:0.507755\n"
     ]
    },
    {
     "name": "stdout",
     "output_type": "stream",
     "text": [
      "[1858]\tvalidation_0-merror:0.507772\n"
     ]
    },
    {
     "name": "stdout",
     "output_type": "stream",
     "text": [
      "[1859]\tvalidation_0-merror:0.507757\n"
     ]
    },
    {
     "name": "stdout",
     "output_type": "stream",
     "text": [
      "[1860]\tvalidation_0-merror:0.507744\n"
     ]
    },
    {
     "name": "stdout",
     "output_type": "stream",
     "text": [
      "[1861]\tvalidation_0-merror:0.507694\n"
     ]
    },
    {
     "name": "stdout",
     "output_type": "stream",
     "text": [
      "[1862]\tvalidation_0-merror:0.50768\n"
     ]
    },
    {
     "name": "stdout",
     "output_type": "stream",
     "text": [
      "[1863]\tvalidation_0-merror:0.507665\n"
     ]
    },
    {
     "name": "stdout",
     "output_type": "stream",
     "text": [
      "[1864]\tvalidation_0-merror:0.507686\n"
     ]
    },
    {
     "name": "stdout",
     "output_type": "stream",
     "text": [
      "[1865]\tvalidation_0-merror:0.507705\n"
     ]
    },
    {
     "name": "stdout",
     "output_type": "stream",
     "text": [
      "[1866]\tvalidation_0-merror:0.507702\n"
     ]
    },
    {
     "name": "stdout",
     "output_type": "stream",
     "text": [
      "[1867]\tvalidation_0-merror:0.507652\n"
     ]
    },
    {
     "name": "stdout",
     "output_type": "stream",
     "text": [
      "[1868]\tvalidation_0-merror:0.50764\n"
     ]
    },
    {
     "name": "stdout",
     "output_type": "stream",
     "text": [
      "[1869]\tvalidation_0-merror:0.5076\n"
     ]
    },
    {
     "name": "stdout",
     "output_type": "stream",
     "text": [
      "[1870]\tvalidation_0-merror:0.507665\n"
     ]
    },
    {
     "name": "stdout",
     "output_type": "stream",
     "text": [
      "[1871]\tvalidation_0-merror:0.507677\n"
     ]
    },
    {
     "name": "stdout",
     "output_type": "stream",
     "text": [
      "[1872]\tvalidation_0-merror:0.507673\n"
     ]
    },
    {
     "name": "stdout",
     "output_type": "stream",
     "text": [
      "[1873]\tvalidation_0-merror:0.507671\n"
     ]
    },
    {
     "name": "stdout",
     "output_type": "stream",
     "text": [
      "[1874]\tvalidation_0-merror:0.507686\n"
     ]
    },
    {
     "name": "stdout",
     "output_type": "stream",
     "text": [
      "[1875]\tvalidation_0-merror:0.507698\n"
     ]
    },
    {
     "name": "stdout",
     "output_type": "stream",
     "text": [
      "[1876]\tvalidation_0-merror:0.507686\n"
     ]
    },
    {
     "name": "stdout",
     "output_type": "stream",
     "text": [
      "[1877]\tvalidation_0-merror:0.507669\n"
     ]
    },
    {
     "name": "stdout",
     "output_type": "stream",
     "text": [
      "[1878]\tvalidation_0-merror:0.507663\n"
     ]
    },
    {
     "name": "stdout",
     "output_type": "stream",
     "text": [
      "[1879]\tvalidation_0-merror:0.507617\n"
     ]
    },
    {
     "name": "stdout",
     "output_type": "stream",
     "text": [
      "[1880]\tvalidation_0-merror:0.507604\n"
     ]
    },
    {
     "name": "stdout",
     "output_type": "stream",
     "text": [
      "[1881]\tvalidation_0-merror:0.507629\n"
     ]
    },
    {
     "name": "stdout",
     "output_type": "stream",
     "text": [
      "[1882]\tvalidation_0-merror:0.507619\n"
     ]
    },
    {
     "name": "stdout",
     "output_type": "stream",
     "text": [
      "[1883]\tvalidation_0-merror:0.507565\n"
     ]
    },
    {
     "name": "stdout",
     "output_type": "stream",
     "text": [
      "[1884]\tvalidation_0-merror:0.507619\n"
     ]
    },
    {
     "name": "stdout",
     "output_type": "stream",
     "text": [
      "[1885]\tvalidation_0-merror:0.507642\n"
     ]
    },
    {
     "name": "stdout",
     "output_type": "stream",
     "text": [
      "[1886]\tvalidation_0-merror:0.507602\n"
     ]
    },
    {
     "name": "stdout",
     "output_type": "stream",
     "text": [
      "[1887]\tvalidation_0-merror:0.507552\n"
     ]
    },
    {
     "name": "stdout",
     "output_type": "stream",
     "text": [
      "[1888]\tvalidation_0-merror:0.507472\n"
     ]
    },
    {
     "name": "stdout",
     "output_type": "stream",
     "text": [
      "[1889]\tvalidation_0-merror:0.507456\n"
     ]
    },
    {
     "name": "stdout",
     "output_type": "stream",
     "text": [
      "[1890]\tvalidation_0-merror:0.507412\n"
     ]
    },
    {
     "name": "stdout",
     "output_type": "stream",
     "text": [
      "[1891]\tvalidation_0-merror:0.507368\n"
     ]
    },
    {
     "name": "stdout",
     "output_type": "stream",
     "text": [
      "[1892]\tvalidation_0-merror:0.507383\n"
     ]
    },
    {
     "name": "stdout",
     "output_type": "stream",
     "text": [
      "[1893]\tvalidation_0-merror:0.507379\n"
     ]
    },
    {
     "name": "stdout",
     "output_type": "stream",
     "text": [
      "[1894]\tvalidation_0-merror:0.507379\n"
     ]
    },
    {
     "name": "stdout",
     "output_type": "stream",
     "text": [
      "[1895]\tvalidation_0-merror:0.50736\n"
     ]
    },
    {
     "name": "stdout",
     "output_type": "stream",
     "text": [
      "[1896]\tvalidation_0-merror:0.507374\n"
     ]
    },
    {
     "name": "stdout",
     "output_type": "stream",
     "text": [
      "[1897]\tvalidation_0-merror:0.507334\n"
     ]
    },
    {
     "name": "stdout",
     "output_type": "stream",
     "text": [
      "[1898]\tvalidation_0-merror:0.507391\n"
     ]
    },
    {
     "name": "stdout",
     "output_type": "stream",
     "text": [
      "[1899]\tvalidation_0-merror:0.507349\n"
     ]
    },
    {
     "name": "stdout",
     "output_type": "stream",
     "text": [
      "[1900]\tvalidation_0-merror:0.507326\n"
     ]
    },
    {
     "name": "stdout",
     "output_type": "stream",
     "text": [
      "[1901]\tvalidation_0-merror:0.507379\n"
     ]
    },
    {
     "name": "stdout",
     "output_type": "stream",
     "text": [
      "[1902]\tvalidation_0-merror:0.507385\n"
     ]
    },
    {
     "name": "stdout",
     "output_type": "stream",
     "text": [
      "[1903]\tvalidation_0-merror:0.507397\n"
     ]
    },
    {
     "name": "stdout",
     "output_type": "stream",
     "text": [
      "[1904]\tvalidation_0-merror:0.507402\n"
     ]
    },
    {
     "name": "stdout",
     "output_type": "stream",
     "text": [
      "[1905]\tvalidation_0-merror:0.507383\n"
     ]
    },
    {
     "name": "stdout",
     "output_type": "stream",
     "text": [
      "[1906]\tvalidation_0-merror:0.507378\n"
     ]
    },
    {
     "name": "stdout",
     "output_type": "stream",
     "text": [
      "[1907]\tvalidation_0-merror:0.50733\n"
     ]
    },
    {
     "name": "stdout",
     "output_type": "stream",
     "text": [
      "[1908]\tvalidation_0-merror:0.50737\n"
     ]
    },
    {
     "name": "stdout",
     "output_type": "stream",
     "text": [
      "[1909]\tvalidation_0-merror:0.507355\n"
     ]
    },
    {
     "name": "stdout",
     "output_type": "stream",
     "text": [
      "[1910]\tvalidation_0-merror:0.507345\n"
     ]
    },
    {
     "name": "stdout",
     "output_type": "stream",
     "text": [
      "[1911]\tvalidation_0-merror:0.507312\n"
     ]
    },
    {
     "name": "stdout",
     "output_type": "stream",
     "text": [
      "[1912]\tvalidation_0-merror:0.50737\n"
     ]
    },
    {
     "name": "stdout",
     "output_type": "stream",
     "text": [
      "[1913]\tvalidation_0-merror:0.507372\n"
     ]
    },
    {
     "name": "stdout",
     "output_type": "stream",
     "text": [
      "[1914]\tvalidation_0-merror:0.507391\n"
     ]
    },
    {
     "name": "stdout",
     "output_type": "stream",
     "text": [
      "[1915]\tvalidation_0-merror:0.507339\n"
     ]
    },
    {
     "name": "stdout",
     "output_type": "stream",
     "text": [
      "[1916]\tvalidation_0-merror:0.507353\n"
     ]
    },
    {
     "name": "stdout",
     "output_type": "stream",
     "text": [
      "[1917]\tvalidation_0-merror:0.507416\n"
     ]
    },
    {
     "name": "stdout",
     "output_type": "stream",
     "text": [
      "[1918]\tvalidation_0-merror:0.507368\n"
     ]
    },
    {
     "name": "stdout",
     "output_type": "stream",
     "text": [
      "[1919]\tvalidation_0-merror:0.50741\n"
     ]
    },
    {
     "name": "stdout",
     "output_type": "stream",
     "text": [
      "[1920]\tvalidation_0-merror:0.507431\n"
     ]
    },
    {
     "name": "stdout",
     "output_type": "stream",
     "text": [
      "[1921]\tvalidation_0-merror:0.50736\n"
     ]
    },
    {
     "name": "stdout",
     "output_type": "stream",
     "text": [
      "[1922]\tvalidation_0-merror:0.50737\n"
     ]
    },
    {
     "name": "stdout",
     "output_type": "stream",
     "text": [
      "[1923]\tvalidation_0-merror:0.507383\n"
     ]
    },
    {
     "name": "stdout",
     "output_type": "stream",
     "text": [
      "[1924]\tvalidation_0-merror:0.507422\n"
     ]
    },
    {
     "name": "stdout",
     "output_type": "stream",
     "text": [
      "[1925]\tvalidation_0-merror:0.507437\n"
     ]
    },
    {
     "name": "stdout",
     "output_type": "stream",
     "text": [
      "[1926]\tvalidation_0-merror:0.507435\n"
     ]
    },
    {
     "name": "stdout",
     "output_type": "stream",
     "text": [
      "[1927]\tvalidation_0-merror:0.50741\n"
     ]
    },
    {
     "name": "stdout",
     "output_type": "stream",
     "text": [
      "[1928]\tvalidation_0-merror:0.507334\n"
     ]
    },
    {
     "name": "stdout",
     "output_type": "stream",
     "text": [
      "[1929]\tvalidation_0-merror:0.507358\n"
     ]
    },
    {
     "name": "stdout",
     "output_type": "stream",
     "text": [
      "[1930]\tvalidation_0-merror:0.507378\n"
     ]
    },
    {
     "name": "stdout",
     "output_type": "stream",
     "text": [
      "[1931]\tvalidation_0-merror:0.507343\n"
     ]
    },
    {
     "name": "stdout",
     "output_type": "stream",
     "text": [
      "[1932]\tvalidation_0-merror:0.507381\n"
     ]
    },
    {
     "name": "stdout",
     "output_type": "stream",
     "text": [
      "[1933]\tvalidation_0-merror:0.507335\n"
     ]
    },
    {
     "name": "stdout",
     "output_type": "stream",
     "text": [
      "[1934]\tvalidation_0-merror:0.507343\n"
     ]
    },
    {
     "name": "stdout",
     "output_type": "stream",
     "text": [
      "[1935]\tvalidation_0-merror:0.507312\n"
     ]
    },
    {
     "name": "stdout",
     "output_type": "stream",
     "text": [
      "[1936]\tvalidation_0-merror:0.507295\n"
     ]
    },
    {
     "name": "stdout",
     "output_type": "stream",
     "text": [
      "[1937]\tvalidation_0-merror:0.50732\n"
     ]
    },
    {
     "name": "stdout",
     "output_type": "stream",
     "text": [
      "[1938]\tvalidation_0-merror:0.507291\n"
     ]
    },
    {
     "name": "stdout",
     "output_type": "stream",
     "text": [
      "[1939]\tvalidation_0-merror:0.507314\n"
     ]
    },
    {
     "name": "stdout",
     "output_type": "stream",
     "text": [
      "[1940]\tvalidation_0-merror:0.507332\n"
     ]
    },
    {
     "name": "stdout",
     "output_type": "stream",
     "text": [
      "[1941]\tvalidation_0-merror:0.507324\n"
     ]
    },
    {
     "name": "stdout",
     "output_type": "stream",
     "text": [
      "[1942]\tvalidation_0-merror:0.507272\n"
     ]
    },
    {
     "name": "stdout",
     "output_type": "stream",
     "text": [
      "[1943]\tvalidation_0-merror:0.507305\n"
     ]
    },
    {
     "name": "stdout",
     "output_type": "stream",
     "text": [
      "[1944]\tvalidation_0-merror:0.507278\n"
     ]
    },
    {
     "name": "stdout",
     "output_type": "stream",
     "text": [
      "[1945]\tvalidation_0-merror:0.507324\n"
     ]
    },
    {
     "name": "stdout",
     "output_type": "stream",
     "text": [
      "[1946]\tvalidation_0-merror:0.507274\n"
     ]
    },
    {
     "name": "stdout",
     "output_type": "stream",
     "text": [
      "[1947]\tvalidation_0-merror:0.507293\n"
     ]
    },
    {
     "name": "stdout",
     "output_type": "stream",
     "text": [
      "[1948]\tvalidation_0-merror:0.507293\n"
     ]
    },
    {
     "name": "stdout",
     "output_type": "stream",
     "text": [
      "[1949]\tvalidation_0-merror:0.507337\n"
     ]
    },
    {
     "name": "stdout",
     "output_type": "stream",
     "text": [
      "[1950]\tvalidation_0-merror:0.507272\n"
     ]
    },
    {
     "name": "stdout",
     "output_type": "stream",
     "text": [
      "[1951]\tvalidation_0-merror:0.507247\n"
     ]
    },
    {
     "name": "stdout",
     "output_type": "stream",
     "text": [
      "[1952]\tvalidation_0-merror:0.507249\n"
     ]
    },
    {
     "name": "stdout",
     "output_type": "stream",
     "text": [
      "[1953]\tvalidation_0-merror:0.507241\n"
     ]
    },
    {
     "name": "stdout",
     "output_type": "stream",
     "text": [
      "[1954]\tvalidation_0-merror:0.50722\n"
     ]
    },
    {
     "name": "stdout",
     "output_type": "stream",
     "text": [
      "[1955]\tvalidation_0-merror:0.507295\n"
     ]
    },
    {
     "name": "stdout",
     "output_type": "stream",
     "text": [
      "[1956]\tvalidation_0-merror:0.507261\n"
     ]
    },
    {
     "name": "stdout",
     "output_type": "stream",
     "text": [
      "[1957]\tvalidation_0-merror:0.507274\n"
     ]
    },
    {
     "name": "stdout",
     "output_type": "stream",
     "text": [
      "[1958]\tvalidation_0-merror:0.50727\n"
     ]
    },
    {
     "name": "stdout",
     "output_type": "stream",
     "text": [
      "[1959]\tvalidation_0-merror:0.507297\n"
     ]
    },
    {
     "name": "stdout",
     "output_type": "stream",
     "text": [
      "[1960]\tvalidation_0-merror:0.507284\n"
     ]
    },
    {
     "name": "stdout",
     "output_type": "stream",
     "text": [
      "[1961]\tvalidation_0-merror:0.507253\n"
     ]
    },
    {
     "name": "stdout",
     "output_type": "stream",
     "text": [
      "[1962]\tvalidation_0-merror:0.507295\n"
     ]
    },
    {
     "name": "stdout",
     "output_type": "stream",
     "text": [
      "[1963]\tvalidation_0-merror:0.507261\n"
     ]
    },
    {
     "name": "stdout",
     "output_type": "stream",
     "text": [
      "[1964]\tvalidation_0-merror:0.507241\n"
     ]
    },
    {
     "name": "stdout",
     "output_type": "stream",
     "text": [
      "[1965]\tvalidation_0-merror:0.507211\n"
     ]
    },
    {
     "name": "stdout",
     "output_type": "stream",
     "text": [
      "[1966]\tvalidation_0-merror:0.507234\n"
     ]
    },
    {
     "name": "stdout",
     "output_type": "stream",
     "text": [
      "[1967]\tvalidation_0-merror:0.50727\n"
     ]
    },
    {
     "name": "stdout",
     "output_type": "stream",
     "text": [
      "[1968]\tvalidation_0-merror:0.507207\n"
     ]
    },
    {
     "name": "stdout",
     "output_type": "stream",
     "text": [
      "[1969]\tvalidation_0-merror:0.507195\n"
     ]
    },
    {
     "name": "stdout",
     "output_type": "stream",
     "text": [
      "[1970]\tvalidation_0-merror:0.507312\n"
     ]
    },
    {
     "name": "stdout",
     "output_type": "stream",
     "text": [
      "[1971]\tvalidation_0-merror:0.507276\n"
     ]
    },
    {
     "name": "stdout",
     "output_type": "stream",
     "text": [
      "[1972]\tvalidation_0-merror:0.507288\n"
     ]
    },
    {
     "name": "stdout",
     "output_type": "stream",
     "text": [
      "[1973]\tvalidation_0-merror:0.507282\n"
     ]
    },
    {
     "name": "stdout",
     "output_type": "stream",
     "text": [
      "[1974]\tvalidation_0-merror:0.507291\n"
     ]
    },
    {
     "name": "stdout",
     "output_type": "stream",
     "text": [
      "[1975]\tvalidation_0-merror:0.507251\n"
     ]
    },
    {
     "name": "stdout",
     "output_type": "stream",
     "text": [
      "[1976]\tvalidation_0-merror:0.507266\n"
     ]
    },
    {
     "name": "stdout",
     "output_type": "stream",
     "text": [
      "[1977]\tvalidation_0-merror:0.507228\n"
     ]
    },
    {
     "name": "stdout",
     "output_type": "stream",
     "text": [
      "[1978]\tvalidation_0-merror:0.507236\n"
     ]
    },
    {
     "name": "stdout",
     "output_type": "stream",
     "text": [
      "[1979]\tvalidation_0-merror:0.50724\n"
     ]
    },
    {
     "name": "stdout",
     "output_type": "stream",
     "text": [
      "[1980]\tvalidation_0-merror:0.507217\n"
     ]
    },
    {
     "name": "stdout",
     "output_type": "stream",
     "text": [
      "[1981]\tvalidation_0-merror:0.507243\n"
     ]
    },
    {
     "name": "stdout",
     "output_type": "stream",
     "text": [
      "[1982]\tvalidation_0-merror:0.507215\n"
     ]
    },
    {
     "name": "stdout",
     "output_type": "stream",
     "text": [
      "[1983]\tvalidation_0-merror:0.507209\n"
     ]
    },
    {
     "name": "stdout",
     "output_type": "stream",
     "text": [
      "[1984]\tvalidation_0-merror:0.507222\n"
     ]
    },
    {
     "name": "stdout",
     "output_type": "stream",
     "text": [
      "[1985]\tvalidation_0-merror:0.507217\n"
     ]
    },
    {
     "name": "stdout",
     "output_type": "stream",
     "text": [
      "[1986]\tvalidation_0-merror:0.507247\n"
     ]
    },
    {
     "name": "stdout",
     "output_type": "stream",
     "text": [
      "[1987]\tvalidation_0-merror:0.507151\n"
     ]
    },
    {
     "name": "stdout",
     "output_type": "stream",
     "text": [
      "[1988]\tvalidation_0-merror:0.507174\n"
     ]
    },
    {
     "name": "stdout",
     "output_type": "stream",
     "text": [
      "[1989]\tvalidation_0-merror:0.507148\n"
     ]
    },
    {
     "name": "stdout",
     "output_type": "stream",
     "text": [
      "[1990]\tvalidation_0-merror:0.507127\n"
     ]
    },
    {
     "name": "stdout",
     "output_type": "stream",
     "text": [
      "[1991]\tvalidation_0-merror:0.507155\n"
     ]
    },
    {
     "name": "stdout",
     "output_type": "stream",
     "text": [
      "[1992]\tvalidation_0-merror:0.507203\n"
     ]
    },
    {
     "name": "stdout",
     "output_type": "stream",
     "text": [
      "[1993]\tvalidation_0-merror:0.507249\n"
     ]
    },
    {
     "name": "stdout",
     "output_type": "stream",
     "text": [
      "[1994]\tvalidation_0-merror:0.507224\n"
     ]
    },
    {
     "name": "stdout",
     "output_type": "stream",
     "text": [
      "[1995]\tvalidation_0-merror:0.507247\n"
     ]
    },
    {
     "name": "stdout",
     "output_type": "stream",
     "text": [
      "[1996]\tvalidation_0-merror:0.507205\n"
     ]
    },
    {
     "name": "stdout",
     "output_type": "stream",
     "text": [
      "[1997]\tvalidation_0-merror:0.507199\n"
     ]
    },
    {
     "name": "stdout",
     "output_type": "stream",
     "text": [
      "[1998]\tvalidation_0-merror:0.507251\n"
     ]
    },
    {
     "name": "stdout",
     "output_type": "stream",
     "text": [
      "[1999]\tvalidation_0-merror:0.507197\n"
     ]
    },
    {
     "name": "stdout",
     "output_type": "stream",
     "text": [
      "Optimal number of trees: 1991\n"
     ]
    }
   ],
   "source": [
    "XGB = XGBClassifier(tree_method='gpu_hist',\n",
    "                                max_bin=64,\n",
    "                                max_depth=7,\n",
    "                                n_estimators=2000)\n",
    "\n",
    "trained = XGB.fit(X_train,\n",
    "                  y_train,\n",
    "                  eval_set=[(X_test, y_test)],\n",
    "                  early_stopping_rounds=200,\n",
    "                  verbose=True)\n",
    "\n",
    "optimal_n_trees = trained.best_ntree_limit\n",
    "print('Optimal number of trees: %d' % (optimal_n_trees))\n",
    "XGB.set_params(n_estimators=optimal_n_trees)\n",
    "XGB.fit(X_train, y_train)\n",
    "y_hat = XGB.predict(X_test)\n",
    "print('Accuracy of score: %.4f' % (accuracy_score(y_test, y_hat)))\n",
    "print(classification_report(y_test, y_hat, \n",
    "                            target_names = ['None', '1 or 2', '3 to 8', '9 or more']))\n",
    "\n"
   ]
  },
  {
   "cell_type": "markdown",
   "metadata": {
    "ein.tags": "worksheet-0",
    "slideshow": {
     "slide_type": "-"
    }
   },
   "source": [
    "This increased the accuracy of XGB up to 44%. Now that we have a decently performing classifier, why don't we try to train it on the full set:"
   ]
  },
  {
   "cell_type": "markdown",
   "metadata": {
    "ein.tags": "worksheet-0",
    "slideshow": {
     "slide_type": "-"
    }
   },
   "source": [
    "Let's make use of the feature importance functionality and see what features had the greatest weight (were present in most trees) and had the highest gain ()"
   ]
  },
  {
   "cell_type": "code",
   "execution_count": 1,
   "metadata": {
    "autoscroll": false,
    "collapsed": false,
    "ein.hycell": false,
    "ein.tags": "worksheet-0",
    "slideshow": {
     "slide_type": "-"
    }
   },
   "outputs": [
    {
     "ename": "NameError",
     "evalue": "name 'pd' is not defined",
     "output_type": "error",
     "traceback": [
      "\u001b[0;31m---------------------------------------------------------------------------\u001b[0m",
      "\u001b[0;31mNameError\u001b[0m                                 Traceback (most recent call last)",
      "\u001b[0;32m<ipython-input-1-df08aa80428c>\u001b[0m in \u001b[0;36m<module>\u001b[0;34m()\u001b[0m\n\u001b[0;32m----> 1\u001b[0;31m df_features = pd.DataFrame({'Weight': XGB.get_booster().get_score(importance_type='weight'),\n\u001b[0m\u001b[1;32m      2\u001b[0m                             \u001b[0;34m'Gain'\u001b[0m\u001b[0;34m:\u001b[0m \u001b[0mXGB\u001b[0m\u001b[0;34m.\u001b[0m\u001b[0mget_booster\u001b[0m\u001b[0;34m(\u001b[0m\u001b[0;34m)\u001b[0m\u001b[0;34m.\u001b[0m\u001b[0mget_score\u001b[0m\u001b[0;34m(\u001b[0m\u001b[0mimportance_type\u001b[0m\u001b[0;34m=\u001b[0m\u001b[0;34m'gain'\u001b[0m\u001b[0;34m)\u001b[0m\u001b[0;34m,\u001b[0m\u001b[0;34m\u001b[0m\u001b[0m\n\u001b[1;32m      3\u001b[0m                             'Cover': XGB.get_booster().get_score(importance_type='cover')},\n\u001b[1;32m      4\u001b[0m                            index=X_train.columns)\n\u001b[1;32m      5\u001b[0m \u001b[0mdf_features\u001b[0m\u001b[0;34m.\u001b[0m\u001b[0mto_pickle\u001b[0m\u001b[0;34m(\u001b[0m\u001b[0;34m'./Data/Feature_importance_full.pkl'\u001b[0m\u001b[0;34m)\u001b[0m\u001b[0;34m\u001b[0m\u001b[0m\n",
      "\u001b[0;31mNameError\u001b[0m: name 'pd' is not defined"
     ]
    }
   ],
   "source": [
    "df_features = pd.DataFrame({'Weight': XGB.get_booster().get_score(importance_type='weight'),\n",
    "                            'Gain': XGB.get_booster().get_score(importance_type='gain'),\n",
    "                            'Cover': XGB.get_booster().get_score(importance_type='cover')},\n",
    "                           index=X_train.columns)\n",
    "df_features.to_pickle('./Data/Feature_importance_full.pkl')"
   ]
  },
  {
   "cell_type": "code",
   "execution_count": 11,
   "metadata": {
    "autoscroll": false,
    "collapsed": false,
    "ein.hycell": false,
    "ein.tags": "worksheet-0",
    "slideshow": {
     "slide_type": "-"
    }
   },
   "outputs": [
    {
     "data": {
      "text/plain": [
       "                                               Weight        Gain  \\\nKeyword:\"\"                                      497.0  682.196571   \ndepth                                          3042.0  412.020744   \neditorsSelection_1                              716.0  341.794156   \nauthor_By THE LEARNING NETWORK                  430.0  112.460529   \ntrusted                                        1154.0   66.849172   \ntypeOfMaterial_News                            2553.0   57.146109   \nauthor_By DEB AMLEN                             626.0   56.199554   \nauthor_By GAIL COLLINS                          500.0   44.423127   \nKeyword:\"syria\"                                 661.0   34.882420   \nsectionName_Family                              428.0   32.341839   \nauthor_By DAVID BROOKS                          683.0   31.381635   \napproveHour_3AM                                 603.0   27.642708   \napproveDay_Sunday                              1440.0   25.434009   \napproveHour_6AM                                 302.0   25.242134   \nhoursAfterArticle                             28067.0   24.095876   \nauthor_By ROSS DOUTHAT                          581.0   24.012026   \nKeyword:\"global warming\"                        633.0   23.019341   \nKeyword:\"school shootings and armed attacks\"    505.0   22.711046   \nKeyword:\"gun control\"                           615.0   21.969879   \napproveHour_5AM                                 434.0   21.439328   \n\n                                                      Cover  \nKeyword:\"\"                                    151838.109084  \ndepth                                         136746.635392  \neditorsSelection_1                            316714.079275  \nauthor_By THE LEARNING NETWORK                224883.973088  \ntrusted                                        84256.032967  \ntypeOfMaterial_News                            38005.193426  \nauthor_By DEB AMLEN                           185494.032612  \nauthor_By GAIL COLLINS                        112118.262682  \nKeyword:\"syria\"                               134829.897287  \nsectionName_Family                            212454.863198  \nauthor_By DAVID BROOKS                        224897.240937  \napproveHour_3AM                               108925.055124  \napproveDay_Sunday                              39614.574964  \napproveHour_6AM                               234501.792347  \nhoursAfterArticle                              29920.784922  \nauthor_By ROSS DOUTHAT                        212154.869081  \nKeyword:\"global warming\"                      177123.471271  \nKeyword:\"school shootings and armed attacks\"  119801.236389  \nKeyword:\"gun control\"                          80282.095568  \napproveHour_5AM                               155686.510859  "
      ]
     },
     "execution_count": 11,
     "metadata": {},
     "output_type": "execute_result"
    }
   ],
   "source": [
    "df_features.sort_values('Gain', ascending=False).head(20)"
   ]
  },
  {
   "cell_type": "code",
   "execution_count": 12,
   "metadata": {
    "autoscroll": false,
    "collapsed": false,
    "ein.hycell": false,
    "ein.tags": "worksheet-0",
    "slideshow": {
     "slide_type": "-"
    }
   },
   "outputs": [
    {
     "data": {
      "text/plain": [
       "                     Weight       Gain         Cover\nhoursAfterArticle   28067.0  24.095876  29920.784922\narticleWordCount    20748.0  11.753552  27152.405073\nprintPage           12070.0  15.045092  30600.598564\nreply                9793.0   9.457217  20839.824937\ncommentPolarity      8195.0   3.459197  11807.220214\nmeanWordLength       8133.0   3.358576  13323.139771\nNNP_Percent          8077.0   4.153441  10649.774066\nNN_Percent           7708.0   3.348625  14371.441559\nDT_Percent           7424.0   3.384502   9474.644469\nRB_Percent           7282.0   3.402155  11412.144736\ncommentObjectivity   7256.0   3.363130  11736.138772\nIN_Percent           7185.0   3.382322  13826.117528\nIdf3Percent          7053.0   3.340505   9648.121062\nJJ_Percent           7042.0   3.338519  10733.782276\nMeanIdf              6835.0   3.544444   9056.971679\nIdf4Percent          6774.0   3.270182   7689.664120\nmaxSentLength        6728.0   3.975159  16023.769561\nPRP_Percent          6636.0   4.143711  25704.084771\nNNS_Percent          6531.0   3.475850  11027.535167\nCC_Percent           6466.0   3.423282   8732.754822"
      ]
     },
     "execution_count": 12,
     "metadata": {},
     "output_type": "execute_result"
    }
   ],
   "source": [
    "df_features.sort_values('Weight', ascending=False).head(20)"
   ]
  },
  {
   "cell_type": "markdown",
   "metadata": {
    "ein.tags": "worksheet-0",
    "slideshow": {
     "slide_type": "-"
    }
   },
   "source": [
    "#### Takeaways <a name='tldr'></a>\n",
    "So what are the most important factors in predicting why some comments are upvoted and others are not? Let's start with the most surprising finding:\n",
    "\n",
    "**Time is of the essence!** Commenting on an article within a few hours after it is published is the most important factor in predicting popularity. Early comments have a much greater chance of snowballing in upvotes and the window of opportunity closes rather quickly with every passing hour. This is the solution to the puzzle posed in the intro: comment A appeared within an hour following the publication of the article, while comment B clocked in at 24 hours. If you wish for your comment to go the distance, better post early! \n",
    "Here is a visual of the percentage breakdown of the four categories across hours after article split in 20 equal-sized (meaning equal number of comments in each) bins:"
   ]
  },
  {
   "cell_type": "code",
   "execution_count": null,
   "metadata": {
    "autoscroll": false,
    "collapsed": false,
    "ein.hycell": false,
    "ein.tags": "worksheet-0",
    "slideshow": {
     "slide_type": "-"
    }
   },
   "outputs": [],
   "source": [
    "# function to plot the categories across a quantized X variable\n",
    "def stacked_bar_plotter(x, y='recs', q=20, df=X):\n",
    "    '''Create a percent-stacked-bars plot of y over the quantized x variable'''\n",
    "    plt.style.use('seaborn-white')\n",
    "    df_s = df[[x, y]]\n",
    "    label = x + ' split in ' + str(q) + ' quantiles'\n",
    "    df_s[label] = pd.qcut(df[x], q, duplicates='drop')\n",
    "    # prepare percent categories for each bar\n",
    "    grouped = df_s.groupby(label).recs.value_counts(normalize=True)\n",
    "    df_s = grouped.unstack()\n",
    "    catlabels = ['None', '1 or 2', '3 - 8', '9 or more']\n",
    "    df_s.columns = catlabels\n",
    "    df_s['labels'] = df_s.index\n",
    "    df_s['xticks'] = df_s.labels.cat.codes\n",
    "    fig = plt.figure()\n",
    "    ax = plt.subplot(111)\n",
    "    for i in range(4):\n",
    "        bot = df_s.iloc[:, 0:i].sum(axis=1)\n",
    "        ax.bar(df_s.xticks, df_s.iloc[:, i], bottom=bot)\n",
    "    box = ax.get_position()\n",
    "    ax.set_position([box.x0, box.y0 + box.height * .1,\n",
    "                     box.width, box.height * .9])\n",
    "    plt.xticks(df_s.xticks, df_s.labels, rotation=30)\n",
    "    plt.yticks(np.linspace(0, 1, 11),\n",
    "               [str(x) + '%' for x in range(0, 101, 10)])\n",
    "    plt.xlabel(label)\n",
    "    plt.ylabel('Percent of cases')\n",
    "    ax.legend(loc='upper center', bbox_to_anchor=(0.5, 1.1),\n",
    "              labels=catlabels, ncol=4, fontsize='large',\n",
    "              markerscale=1.5)\n",
    "\n",
    "stacked_bar_plotter('hoursAfterArticle')"
   ]
  },
  {
   "cell_type": "markdown",
   "metadata": {
    "ein.tags": "worksheet-0",
    "slideshow": {
     "slide_type": "-"
    }
   },
   "source": [
    "More than half the comments submitted in the first two hours ended up in the highest category with 9 or more upvotes! This is in contrast to less than a quarter for the ones submitted after just 15 hours. Here are the means for the original variable, **recommendations** as well:"
   ]
  },
  {
   "cell_type": "code",
   "execution_count": null,
   "metadata": {
    "autoscroll": false,
    "collapsed": false,
    "ein.hycell": false,
    "ein.tags": "worksheet-0",
    "slideshow": {
     "slide_type": "-"
    }
   },
   "outputs": [],
   "source": [
    "# bring in the original unmodified recommendations variable\n",
    "recommendations = df.loc[dev_set_index, 'recommendations']\n",
    "X['recommendations'] = recommendations.reset_index(drop=True)\n",
    "# quantile plotter \n",
    "def quantile_plotter(x, y='recs', q=20, df=X):\n",
    "    '''Create a pointplot of y over the quantized x variable'''\n",
    "    df_small = df[[x, y]]\n",
    "    label = x + ' split in ' + str(q) + ' quantiles'\n",
    "    df_small[label] = pd.qcut(df[x], q, duplicates='drop')\n",
    "    sns.pointplot(x=label,\n",
    "                  y=y,\n",
    "                  data=df_small,\n",
    "                  join=False)\n",
    "    plt.xticks(rotation=30)\n",
    "    \n"
   ]
  },
  {
   "cell_type": "code",
   "execution_count": null,
   "metadata": {
    "autoscroll": false,
    "collapsed": false,
    "ein.hycell": false,
    "ein.tags": "worksheet-0",
    "slideshow": {
     "slide_type": "-"
    }
   },
   "outputs": [],
   "source": [
    "quantile_plotter('hoursAfterArticle', y='recommendations')"
   ]
  },
  {
   "cell_type": "markdown",
   "metadata": {
    "ein.tags": "worksheet-0",
    "slideshow": {
     "slide_type": "-"
    }
   },
   "source": [
    "It depicts the average category (with error bars) per unit of time after the publication of an article. Each unit of time here is based on 5% of the original observations of hours after the article was published before the comment appeared. The trend is clear - the sooner, the better. \n",
    "The highest average category (ie highest number of upvotes) happens within the first two hours and then total upvotes gradually decline. There is an uptick around X hours - this is due to the fact that most articles appear online slightly before midnight US Eastern Time, while most people wake up and read articles about 9-11am, so it simply reflects peak readership volume, occuring 9-10 hours later. There is not much point in posting comments roughly two days after the publication of an article."
   ]
  },
  {
   "cell_type": "markdown",
   "metadata": {
    "ein.tags": "worksheet-0",
    "slideshow": {
     "slide_type": "-"
    }
   },
   "source": [
    "**Commenting on comments doesn't bring in the upvotes**\n",
    "The next one is about replying to other users' comments and it also surprised me. Unlike Reddit, where replying to the top comment is often the only way to be noticed, at the Times reply comments rarely attract many upvotes. The feature  replying that we used, **depth** ('1' is original comment, '2' is a response to a comment, '3' is a response to a response and so on) is the strongest predictor of a comment's popularity category. We even tried a feature based on the number of upvotes of the original comment, guessing that replying to popular comments should result in more upvotes, but it didn't really make any difference. A simple mean conditional on the level of depth speaks volumes here:"
   ]
  },
  {
   "cell_type": "code",
   "execution_count": null,
   "metadata": {
    "autoscroll": false,
    "collapsed": false,
    "ein.hycell": false,
    "ein.tags": "worksheet-0",
    "slideshow": {
     "slide_type": "-"
    }
   },
   "outputs": [],
   "source": [
    "X.groupby('depth').recommendations.mean()"
   ]
  },
  {
   "cell_type": "markdown",
   "metadata": {
    "ein.tags": "worksheet-0",
    "slideshow": {
     "slide_type": "-"
    }
   },
   "source": [
    "And a simple linear correlation between the number of upvotes of the original comment and the reply comment shows us there's nothing there:"
   ]
  },
  {
   "cell_type": "code",
   "execution_count": null,
   "metadata": {
    "autoscroll": false,
    "collapsed": false,
    "ein.hycell": false,
    "ein.tags": "worksheet-0",
    "slideshow": {
     "slide_type": "-"
    }
   },
   "outputs": [],
   "source": [
    "X.reply.corr(X.recommendations).round(2)"
   ]
  },
  {
   "cell_type": "markdown",
   "metadata": {
    "ein.tags": "worksheet-0",
    "slideshow": {
     "slide_type": "-"
    }
   },
   "source": [
    "\n"
   ]
  },
  {
   "cell_type": "markdown",
   "metadata": {
    "ein.tags": "worksheet-0",
    "slideshow": {
     "slide_type": "-"
    }
   },
   "source": [
    "**Longer articles bring in more comments.** \n",
    "Apparently commening on a longer article is associated with more upvotes on comments. There are several interpretations here. One is that readers who read longer articles tend to be more likely to comment and respond to comments. Another is that there are articles which are simply too short to be worthy of much of a response - and beyond a certain article length, it seems there isn't much of an effect. Finally, it is possible that longer articles simply attract more readers which translates into higher overall upvote counts. The plot below gives indications that perhaps all three of these are at play. Clearly articles below 600 words are just too short. On the opposite end of the spectrum, comments made to articles over 2000 words rake in higher counts on average."
   ]
  },
  {
   "cell_type": "code",
   "execution_count": null,
   "metadata": {
    "autoscroll": false,
    "collapsed": false,
    "ein.hycell": false,
    "ein.tags": "worksheet-0",
    "slideshow": {
     "slide_type": "-"
    }
   },
   "outputs": [],
   "source": [
    "quantile_plotter('articleWordCount', 'recommendations')"
   ]
  },
  {
   "cell_type": "code",
   "execution_count": null,
   "metadata": {
    "autoscroll": false,
    "collapsed": false,
    "ein.hycell": false,
    "ein.tags": "worksheet-0",
    "slideshow": {
     "slide_type": "-"
    }
   },
   "outputs": [],
   "source": [
    "stacked_bar_plotter('articleWordCount', y='recs')"
   ]
  },
  {
   "cell_type": "markdown",
   "metadata": {
    "ein.tags": "worksheet-0",
    "slideshow": {
     "slide_type": "-"
    }
   },
   "source": [
    "And a joinplot to show the histogram of each. The darker the color inside the plot, the more cases that occur there. The outside plots simply show the histogram of each of the variables.  There is a set length of many of the article at about 9000 words, which is why we see the spike (dark vertical column) in the hex plot. "
   ]
  },
  {
   "cell_type": "code",
   "execution_count": null,
   "metadata": {
    "autoscroll": false,
    "collapsed": false,
    "ein.hycell": false,
    "ein.tags": "worksheet-0",
    "slideshow": {
     "slide_type": "-"
    }
   },
   "outputs": [],
   "source": [
    "X_plot = X[X.recommendations < 20]\n",
    "sns.jointplot(x='articleWordCount',\n",
    "              y='recommendations',\n",
    "              xlim=(0, 2500),\n",
    "              ylim=(-1, 20),\n",
    "              kind=\"hex\",\n",
    "              data=X_plot,\n",
    "              extent=[0, 2500, 0, 20],\n",
    "              stat_func=None)\n"
   ]
  },
  {
   "cell_type": "markdown",
   "metadata": {
    "ein.tags": "worksheet-0",
    "slideshow": {
     "slide_type": "-"
    }
   },
   "source": [
    "**Print page - more important articles tend to attract more readers and more comments.** Generally, more important articles appear in the first few pages on the paper version of the newspaper, so naturally we expect upvotes to go down with every page. For the most part this is the case, though the very first few pages are a mixed bag and there is a peak around pages 19-25 perhaps because of the editorials and columnist sections. Still, the vast majority of comments are to articles on the front and first few pages."
   ]
  },
  {
   "cell_type": "code",
   "execution_count": null,
   "metadata": {
    "autoscroll": false,
    "collapsed": false,
    "ein.hycell": false,
    "ein.tags": "worksheet-0",
    "slideshow": {
     "slide_type": "-"
    }
   },
   "outputs": [],
   "source": [
    "quantile_plotter('printPage', 'recommendations')"
   ]
  },
  {
   "cell_type": "code",
   "execution_count": null,
   "metadata": {
    "autoscroll": false,
    "collapsed": false,
    "ein.hycell": false,
    "ein.tags": "worksheet-0",
    "slideshow": {
     "slide_type": "-"
    }
   },
   "outputs": [],
   "source": [
    "stacked_bar_plotter('printPage', 'recs')"
   ]
  },
  {
   "cell_type": "markdown",
   "metadata": {
    "ein.tags": "worksheet-0",
    "slideshow": {
     "slide_type": "-"
    }
   },
   "source": []
  },
  {
   "cell_type": "markdown",
   "metadata": {
    "ein.tags": "worksheet-0",
    "slideshow": {
     "slide_type": "-"
    }
   },
   "source": [
    "Some feature engineering can helps us improve our predictions and learn more about the data generation process - what affects\n",
    "If we train on the full dataset, "
   ]
  },
  {
   "cell_type": "code",
   "execution_count": null,
   "metadata": {
    "autoscroll": false,
    "collapsed": false,
    "ein.hycell": false,
    "ein.tags": "worksheet-0",
    "slideshow": {
     "slide_type": "-"
    }
   },
   "outputs": [],
   "source": [
    "# stacked_bar_plotter('approveDay', 'recs', df=df)"
   ]
  },
  {
   "cell_type": "code",
   "execution_count": null,
   "metadata": {
    "autoscroll": false,
    "collapsed": false,
    "ein.hycell": false,
    "ein.tags": "worksheet-0",
    "slideshow": {
     "slide_type": "-"
    }
   },
   "outputs": [],
   "source": [
    "stacked_bar_plotter('approveHour', 'recs', df=df)"
   ]
  },
  {
   "cell_type": "markdown",
   "metadata": {
    "ein.tags": "worksheet-0",
    "slideshow": {
     "slide_type": "-"
    }
   },
   "source": [
    "see if most articles are published on a certain time of day! this would explain the hump in the **hoursAfterArticle** plot.\n",
    "write a function to create a percent stacked bar against quantized feature! Run it on the full dataset for day of the week and hour of the day\n"
   ]
  },
  {
   "cell_type": "code",
   "execution_count": null,
   "metadata": {
    "autoscroll": false,
    "collapsed": false,
    "ein.hycell": false,
    "ein.tags": "worksheet-0",
    "slideshow": {
     "slide_type": "-"
    }
   },
   "outputs": [],
   "source": [
    "quantile_plotter('reply', 'recommendations')"
   ]
  },
  {
   "cell_type": "code",
   "execution_count": null,
   "metadata": {
    "autoscroll": false,
    "collapsed": false,
    "ein.hycell": false,
    "ein.tags": "worksheet-0",
    "slideshow": {
     "slide_type": "-"
    }
   },
   "outputs": [],
   "source": [
    "quantile_plotter('commentObjectivity')\n",
    "# drop in the middle (.5) is because there are many overly short comments there"
   ]
  },
  {
   "cell_type": "code",
   "execution_count": null,
   "metadata": {
    "autoscroll": false,
    "collapsed": false,
    "ein.hycell": false,
    "ein.tags": "worksheet-0",
    "slideshow": {
     "slide_type": "-"
    }
   },
   "outputs": [],
   "source": [
    "quantile_plotter('commentPolarity')"
   ]
  },
  {
   "cell_type": "code",
   "execution_count": null,
   "metadata": {
    "autoscroll": false,
    "collapsed": false,
    "ein.hycell": false,
    "ein.tags": "worksheet-0",
    "slideshow": {
     "slide_type": "-"
    }
   },
   "outputs": [],
   "source": [
    "quantile_plotter('stdDevWordLength')\n",
    "\n"
   ]
  },
  {
   "cell_type": "code",
   "execution_count": null,
   "metadata": {
    "autoscroll": false,
    "collapsed": false,
    "ein.hycell": false,
    "ein.tags": "worksheet-0",
    "slideshow": {
     "slide_type": "-"
    }
   },
   "outputs": [],
   "source": [
    "quantile_plotter('NN_Percent')"
   ]
  },
  {
   "cell_type": "code",
   "execution_count": null,
   "metadata": {
    "autoscroll": false,
    "collapsed": false,
    "ein.hycell": false,
    "ein.tags": "worksheet-0",
    "slideshow": {
     "slide_type": "-"
    }
   },
   "outputs": [],
   "source": [
    "quantile_plotter('meanWordLength')"
   ]
  },
  {
   "cell_type": "code",
   "execution_count": null,
   "metadata": {
    "autoscroll": false,
    "collapsed": false,
    "ein.hycell": false,
    "ein.tags": "worksheet-0",
    "slideshow": {
     "slide_type": "-"
    }
   },
   "outputs": [],
   "source": [
    "quantile_plotter('MeanIdf')"
   ]
  },
  {
   "cell_type": "code",
   "execution_count": null,
   "metadata": {
    "autoscroll": false,
    "collapsed": false,
    "ein.hycell": false,
    "ein.tags": "worksheet-0",
    "slideshow": {
     "slide_type": "-"
    }
   },
   "outputs": [],
   "source": [
    "quantile_plotter('commentSpellErrorsPercent')\n"
   ]
  },
  {
   "cell_type": "code",
   "execution_count": null,
   "metadata": {
    "autoscroll": false,
    "collapsed": false,
    "ein.hycell": false,
    "ein.tags": "worksheet-0",
    "slideshow": {
     "slide_type": "-"
    }
   },
   "outputs": [],
   "source": []
  },
  {
   "cell_type": "code",
   "execution_count": null,
   "metadata": {
    "autoscroll": false,
    "collapsed": false,
    "ein.hycell": false,
    "ein.tags": "worksheet-0",
    "slideshow": {
     "slide_type": "-"
    }
   },
   "outputs": [],
   "source": [
    "quantile_plotter('commentObjectivity')\n",
    "# drop in the middle (.5) is because there are many overly short comments there"
   ]
  },
  {
   "cell_type": "code",
   "execution_count": null,
   "metadata": {
    "autoscroll": false,
    "collapsed": false,
    "ein.hycell": false,
    "ein.tags": "worksheet-0",
    "slideshow": {
     "slide_type": "-"
    }
   },
   "outputs": [],
   "source": [
    "quantile_plotter('commentPolarity')"
   ]
  }
 ],
 "metadata": {
  "kernelspec": {
   "display_name": "Python 3",
   "name": "python3"
  },
  "language_info": {
   "codemirror_mode": {
    "name": "ipython",
    "version": 3
   },
   "file_extension": ".py",
   "mimetype": "text/x-python",
   "name": "python",
   "nbconvert_exporter": "python",
   "pygments_lexer": "ipython3",
   "version": "3.6.2"
  },
  "name": "FULL.ipynb"
 },
 "nbformat": 4,
 "nbformat_minor": 2
}
